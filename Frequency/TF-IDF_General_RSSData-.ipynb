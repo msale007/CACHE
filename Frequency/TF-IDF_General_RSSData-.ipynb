{
 "cells": [
  {
   "cell_type": "code",
   "execution_count": 2,
   "id": "2e53733b",
   "metadata": {},
   "outputs": [],
   "source": [
    "import pandas as pd\n",
    "import numpy as np\n",
    "import os, json\n",
    "import spacy\n",
    "nlp = spacy.load('en_core_web_sm')"
   ]
  },
  {
   "cell_type": "markdown",
   "id": "a80b524f",
   "metadata": {},
   "source": [
    "## Read rssData "
   ]
  },
  {
   "cell_type": "code",
   "execution_count": 3,
   "id": "1b69dc5d",
   "metadata": {},
   "outputs": [
    {
     "name": "stdout",
     "output_type": "stream",
     "text": [
      "Object `print(json_files)` not found.\n"
     ]
    }
   ],
   "source": [
    "path_to_json = 'rssData/'\n",
    "json_files = [pos_json for pos_json in os.listdir(path_to_json) if pos_json.endswith('.json')]\n",
    "?print(json_files)"
   ]
  },
  {
   "cell_type": "code",
   "execution_count": 4,
   "id": "bff60475",
   "metadata": {},
   "outputs": [],
   "source": [
    "data_list = []\n",
    "for root, dirs, files in os.walk('rssData/'):\n",
    "     for file in files:\n",
    "        with open(os.path.join(root, file), \"r\") as auto:\n",
    "            json_data = auto.read()\n",
    "            #print(json_data)\n",
    "            data_list.append(json_data)"
   ]
  },
  {
   "cell_type": "code",
   "execution_count": 5,
   "id": "1ceef551",
   "metadata": {},
   "outputs": [],
   "source": [
    "from ast import literal_eval\n",
    "tup = literal_eval(data_list[0])\n",
    "\n",
    "header_title = []\n",
    "text = []\n",
    "\n",
    "for i in range(len(data_list)):\n",
    "    tup = literal_eval(data_list[i])\n",
    "    header_title.append(tup['header_title'])\n",
    "    text.append(tup['text'])\n",
    "\n",
    "df = pd.DataFrame()\n",
    "df['header_title'] = header_title\n",
    "df['text'] = text"
   ]
  },
  {
   "cell_type": "markdown",
   "id": "de2c57a2",
   "metadata": {},
   "source": [
    "## Cleaning"
   ]
  },
  {
   "cell_type": "code",
   "execution_count": 6,
   "id": "efb52897",
   "metadata": {},
   "outputs": [],
   "source": [
    "# Remove Empty Text Values\n",
    "\n",
    "df['text'].replace('', np.nan, inplace=True)\n",
    "df.dropna(subset=['text'], inplace=True)\n",
    "df = df.reset_index()\n",
    "\n",
    "# Remove text if lenght is less than 200\n",
    "df = df.loc[df.text.str.len() > 200].reset_index(drop=True)\n",
    "\n",
    "# function to clean data\n",
    "\n",
    "#lower case\n",
    "#remove stop words\n",
    "#lemmatization\n",
    "\n",
    "def cleanData(doc):\n",
    "    doc = doc.lower()\n",
    "    doc = nlp(doc)\n",
    "    tokens = [tokens.lower_ for tokens in doc]\n",
    "    tokens = [tokens for tokens in doc if (tokens.is_stop == False)]\n",
    "    tokens = [tokens for tokens in tokens if (tokens.is_punct == False)]\n",
    "    final_token = [token.lemma_ for token in tokens]\n",
    "    \n",
    "    return \" \".join(final_token)"
   ]
  },
  {
   "cell_type": "code",
   "execution_count": 7,
   "id": "96102ce8",
   "metadata": {},
   "outputs": [],
   "source": [
    "df['clean'] = df.apply(lambda row:cleanData (row['text']),axis=1)"
   ]
  },
  {
   "cell_type": "markdown",
   "id": "a6d7fc09",
   "metadata": {},
   "source": [
    "## Implement NLP techniques"
   ]
  },
  {
   "cell_type": "markdown",
   "id": "0fb540f8",
   "metadata": {},
   "source": [
    "https://kavita-ganesan.com/tfidftransformer-tfidfvectorizer-usage-differences/#.Y-Zq4XbMI2w"
   ]
  },
  {
   "cell_type": "markdown",
   "id": "57bf0972",
   "metadata": {},
   "source": [
    "### TF-IDF Model for doc # i"
   ]
  },
  {
   "cell_type": "code",
   "execution_count": 8,
   "id": "80b37afa",
   "metadata": {},
   "outputs": [],
   "source": [
    "### Calculate TF-IDF for doc_number #i\n",
    "\n",
    "i=500\n",
    "from sklearn.feature_extraction.text import TfidfTransformer \n",
    "from sklearn.feature_extraction.text import CountVectorizer\n",
    "\n",
    "# CountVectorizer() \n",
    "cv=CountVectorizer() \n",
    "# this steps generates word counts for the words in all docs \n",
    "word_count_vector=cv.fit_transform(df['clean'])\n",
    "# Compute idf weights\n",
    "tfidf_transformer=TfidfTransformer(smooth_idf=True,use_idf=True) \n",
    "all_text_df_tfidf = tfidf_transformer.fit_transform(word_count_vector)\n",
    "\n",
    "### Calculate TF-IDF\n",
    "\n",
    "# count matrix \n",
    "count_vector=cv.transform(df['clean']) \n",
    "# tf-idf scores \n",
    "tf_idf_vector=tfidf_transformer.transform(count_vector)\n",
    "\n",
    "feature_names = cv.get_feature_names_out() \n",
    "#get tfidf vector for first document \n",
    "N_document_vector=tf_idf_vector[i] \n",
    "#print the scores \n",
    "df_TFIDF = pd.DataFrame(N_document_vector.T.todense(), index=feature_names, columns=[\"tfidf\"]) \n",
    "df_TFIDF=df_TFIDF.sort_values(by=[\"tfidf\"],ascending=False)"
   ]
  },
  {
   "cell_type": "markdown",
   "id": "47afc12e",
   "metadata": {},
   "source": [
    "<font color=green>the more unique a word is to our first document, the higher the score"
   ]
  },
  {
   "cell_type": "markdown",
   "id": "8050f106",
   "metadata": {},
   "source": [
    "### POS Tagging"
   ]
  },
  {
   "cell_type": "code",
   "execution_count": 9,
   "id": "d1835f87",
   "metadata": {},
   "outputs": [],
   "source": [
    "def POS(clean):\n",
    "    clean = nlp(clean)\n",
    "    for token in clean:\n",
    "        return(token.pos_) "
   ]
  },
  {
   "cell_type": "markdown",
   "id": "fa9a8c75",
   "metadata": {},
   "source": [
    "# Word Extraction Based on TF-IDF for Words Longer than K and POS_tag"
   ]
  },
  {
   "cell_type": "code",
   "execution_count": 10,
   "id": "431a28de",
   "metadata": {},
   "outputs": [
    {
     "name": "stdout",
     "output_type": "stream",
     "text": [
      "Title is: Securing Cloud is Everyone’s Responsibility\n",
      "\n",
      "\n",
      "Most frequent words based on VERB\n"
     ]
    },
    {
     "data": {
      "text/html": [
       "<div>\n",
       "<style scoped>\n",
       "    .dataframe tbody tr th:only-of-type {\n",
       "        vertical-align: middle;\n",
       "    }\n",
       "\n",
       "    .dataframe tbody tr th {\n",
       "        vertical-align: top;\n",
       "    }\n",
       "\n",
       "    .dataframe thead th {\n",
       "        text-align: right;\n",
       "    }\n",
       "</style>\n",
       "<table border=\"1\" class=\"dataframe\">\n",
       "  <thead>\n",
       "    <tr style=\"text-align: right;\">\n",
       "      <th></th>\n",
       "      <th>word</th>\n",
       "      <th>tfidf</th>\n",
       "    </tr>\n",
       "  </thead>\n",
       "  <tbody>\n",
       "    <tr>\n",
       "      <th>0</th>\n",
       "      <td>shared</td>\n",
       "      <td>0.130733</td>\n",
       "    </tr>\n",
       "    <tr>\n",
       "      <th>1</th>\n",
       "      <td>provider</td>\n",
       "      <td>0.122412</td>\n",
       "    </tr>\n",
       "    <tr>\n",
       "      <th>2</th>\n",
       "      <td>understand</td>\n",
       "      <td>0.073463</td>\n",
       "    </tr>\n",
       "    <tr>\n",
       "      <th>3</th>\n",
       "      <td>rhymes</td>\n",
       "      <td>0.069484</td>\n",
       "    </tr>\n",
       "    <tr>\n",
       "      <th>4</th>\n",
       "      <td>twain</td>\n",
       "      <td>0.065367</td>\n",
       "    </tr>\n",
       "    <tr>\n",
       "      <th>5</th>\n",
       "      <td>securing</td>\n",
       "      <td>0.062445</td>\n",
       "    </tr>\n",
       "    <tr>\n",
       "      <th>6</th>\n",
       "      <td>everyoneâ</td>\n",
       "      <td>0.058327</td>\n",
       "    </tr>\n",
       "    <tr>\n",
       "      <th>7</th>\n",
       "      <td>reinvent</td>\n",
       "      <td>0.058327</td>\n",
       "    </tr>\n",
       "    <tr>\n",
       "      <th>8</th>\n",
       "      <td>hear</td>\n",
       "      <td>0.057575</td>\n",
       "    </tr>\n",
       "    <tr>\n",
       "      <th>9</th>\n",
       "      <td>implement</td>\n",
       "      <td>0.057210</td>\n",
       "    </tr>\n",
       "  </tbody>\n",
       "</table>\n",
       "</div>"
      ],
      "text/plain": [
       "         word     tfidf\n",
       "0      shared  0.130733\n",
       "1    provider  0.122412\n",
       "2  understand  0.073463\n",
       "3      rhymes  0.069484\n",
       "4       twain  0.065367\n",
       "5    securing  0.062445\n",
       "6   everyoneâ  0.058327\n",
       "7    reinvent  0.058327\n",
       "8        hear  0.057575\n",
       "9   implement  0.057210"
      ]
     },
     "execution_count": 10,
     "metadata": {},
     "output_type": "execute_result"
    }
   ],
   "source": [
    "# Title\n",
    "print('Title is:',df['header_title'][i])\n",
    "print('\\n')\n",
    "\n",
    "# Most frequent words\n",
    "df_TFIDF = df_TFIDF.reset_index(names=['word', 'tfidf'])\n",
    "df_TFIDF['pos'] = df_TFIDF.apply(lambda row:POS (row['word']),axis=1)\n",
    "\n",
    "# Words lenght longer than k\n",
    "k=3\n",
    "df_TFIDF_1 = df_TFIDF[(df_TFIDF['word'].str.len()) > k]\n",
    "\n",
    "# POS_part : NOUN, VERB\n",
    "\n",
    "POS_tag = 'VERB'\n",
    "print('Most frequent words based on', POS_tag)\n",
    "df_TFIDF_1[df_TFIDF_1['pos']==POS_tag].head(10)[['word','tfidf']].reset_index(drop=True)\n",
    "\n",
    "#10 Most frequent words\n",
    "# print('Most Frequent Words Based on TF-IDF:')\n",
    "# df_TFIDF_1.head(10)"
   ]
  },
  {
   "cell_type": "markdown",
   "id": "31fe61e3",
   "metadata": {},
   "source": [
    "## TF-IDF for POS_tag"
   ]
  },
  {
   "cell_type": "code",
   "execution_count": 40,
   "id": "83bc9be9",
   "metadata": {},
   "outputs": [
    {
     "name": "stdout",
     "output_type": "stream",
     "text": [
      "Most frequent words based on NOUN and VERB\n"
     ]
    },
    {
     "data": {
      "text/html": [
       "<div>\n",
       "<style scoped>\n",
       "    .dataframe tbody tr th:only-of-type {\n",
       "        vertical-align: middle;\n",
       "    }\n",
       "\n",
       "    .dataframe tbody tr th {\n",
       "        vertical-align: top;\n",
       "    }\n",
       "\n",
       "    .dataframe thead th {\n",
       "        text-align: right;\n",
       "    }\n",
       "</style>\n",
       "<table border=\"1\" class=\"dataframe\">\n",
       "  <thead>\n",
       "    <tr style=\"text-align: right;\">\n",
       "      <th></th>\n",
       "      <th>word</th>\n",
       "      <th>tfidf</th>\n",
       "    </tr>\n",
       "  </thead>\n",
       "  <tbody>\n",
       "    <tr>\n",
       "      <th>3</th>\n",
       "      <td>turla</td>\n",
       "      <td>0.180677</td>\n",
       "    </tr>\n",
       "    <tr>\n",
       "      <th>6</th>\n",
       "      <td>certify</td>\n",
       "      <td>0.163476</td>\n",
       "    </tr>\n",
       "    <tr>\n",
       "      <th>8</th>\n",
       "      <td>website</td>\n",
       "      <td>0.139387</td>\n",
       "    </tr>\n",
       "    <tr>\n",
       "      <th>9</th>\n",
       "      <td>security</td>\n",
       "      <td>0.135657</td>\n",
       "    </tr>\n",
       "    <tr>\n",
       "      <th>10</th>\n",
       "      <td>protection</td>\n",
       "      <td>0.135477</td>\n",
       "    </tr>\n",
       "    <tr>\n",
       "      <th>11</th>\n",
       "      <td>attack</td>\n",
       "      <td>0.135477</td>\n",
       "    </tr>\n",
       "    <tr>\n",
       "      <th>12</th>\n",
       "      <td>researcher</td>\n",
       "      <td>0.134107</td>\n",
       "    </tr>\n",
       "    <tr>\n",
       "      <th>13</th>\n",
       "      <td>group</td>\n",
       "      <td>0.134107</td>\n",
       "    </tr>\n",
       "    <tr>\n",
       "      <th>14</th>\n",
       "      <td>ukraine</td>\n",
       "      <td>0.125853</td>\n",
       "    </tr>\n",
       "    <tr>\n",
       "      <th>16</th>\n",
       "      <td>bitdefender</td>\n",
       "      <td>0.125853</td>\n",
       "    </tr>\n",
       "  </tbody>\n",
       "</table>\n",
       "</div>"
      ],
      "text/plain": [
       "           word     tfidf\n",
       "3         turla  0.180677\n",
       "6       certify  0.163476\n",
       "8       website  0.139387\n",
       "9      security  0.135657\n",
       "10   protection  0.135477\n",
       "11       attack  0.135477\n",
       "12   researcher  0.134107\n",
       "13        group  0.134107\n",
       "14      ukraine  0.125853\n",
       "16  bitdefender  0.125853"
      ]
     },
     "execution_count": 40,
     "metadata": {},
     "output_type": "execute_result"
    }
   ],
   "source": [
    "print('Most frequent words based on NOUN and VERB')\n",
    "df_TFIDF_1[(df_TFIDF_1['pos'] == 'NOUN') | (df_TFIDF_1['pos'] == 'VERB')].head(10)[['word','tfidf']]"
   ]
  }
 ],
 "metadata": {
  "kernelspec": {
   "display_name": "Python 3 (ipykernel)",
   "language": "python",
   "name": "python3"
  },
  "language_info": {
   "codemirror_mode": {
    "name": "ipython",
    "version": 3
   },
   "file_extension": ".py",
   "mimetype": "text/x-python",
   "name": "python",
   "nbconvert_exporter": "python",
   "pygments_lexer": "ipython3",
   "version": "3.9.9"
  }
 },
 "nbformat": 4,
 "nbformat_minor": 5
}
