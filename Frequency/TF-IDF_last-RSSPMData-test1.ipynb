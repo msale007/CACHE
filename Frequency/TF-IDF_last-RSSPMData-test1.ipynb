{
 "cells": [
  {
   "cell_type": "code",
   "execution_count": 1,
   "id": "2e53733b",
   "metadata": {},
   "outputs": [],
   "source": [
    "import pandas as pd\n",
    "import numpy as np\n",
    "\n",
    "import os, json"
   ]
  },
  {
   "cell_type": "code",
   "execution_count": 2,
   "id": "f5cdcb7f",
   "metadata": {},
   "outputs": [
    {
     "name": "stderr",
     "output_type": "stream",
     "text": [
      "C:\\Users\\msalehi\\AppData\\Roaming\\Python\\Python39\\site-packages\\tqdm\\auto.py:22: TqdmWarning: IProgress not found. Please update jupyter and ipywidgets. See https://ipywidgets.readthedocs.io/en/stable/user_install.html\n",
      "  from .autonotebook import tqdm as notebook_tqdm\n"
     ]
    }
   ],
   "source": [
    "import spacy\n",
    "nlp = spacy.load('en_core_web_sm')"
   ]
  },
  {
   "cell_type": "markdown",
   "id": "a80b524f",
   "metadata": {},
   "source": [
    "## Read rssPMData "
   ]
  },
  {
   "cell_type": "code",
   "execution_count": 51,
   "id": "1b69dc5d",
   "metadata": {},
   "outputs": [
    {
     "name": "stdout",
     "output_type": "stream",
     "text": [
      "[]\n"
     ]
    }
   ],
   "source": [
    "path_to_json = 'rssPMData'\n",
    "json_files = [pos_json for pos_json in os.listdir(path_to_json) if pos_json.endswith('.json')]\n",
    "print(json_files)"
   ]
  },
  {
   "cell_type": "code",
   "execution_count": 106,
   "id": "bff60475",
   "metadata": {},
   "outputs": [],
   "source": [
    "data_list = []\n",
    "for root, dirs, files in os.walk('rssPMData'):\n",
    "     for file in files:\n",
    "        with open(os.path.join(root, file), \"r\") as auto:\n",
    "            json_data = auto.read()\n",
    "            #print(json_data)\n",
    "            data_list.append(json_data)"
   ]
  },
  {
   "cell_type": "code",
   "execution_count": 107,
   "id": "fca08a65",
   "metadata": {},
   "outputs": [
    {
     "data": {
      "text/plain": [
       "195"
      ]
     },
     "execution_count": 107,
     "metadata": {},
     "output_type": "execute_result"
    }
   ],
   "source": [
    "len(data_list)"
   ]
  },
  {
   "cell_type": "code",
   "execution_count": 108,
   "id": "b0359c08",
   "metadata": {},
   "outputs": [
    {
     "data": {
      "text/plain": [
       "list"
      ]
     },
     "execution_count": 108,
     "metadata": {},
     "output_type": "execute_result"
    }
   ],
   "source": [
    "type(data_list)"
   ]
  },
  {
   "cell_type": "code",
   "execution_count": 216,
   "id": "1d8cd9d9",
   "metadata": {},
   "outputs": [],
   "source": [
    "# data_list[0]"
   ]
  },
  {
   "cell_type": "code",
   "execution_count": 137,
   "id": "f8c5284a",
   "metadata": {},
   "outputs": [],
   "source": [
    "from ast import literal_eval\n",
    "tup = literal_eval(data_list[0])"
   ]
  },
  {
   "cell_type": "code",
   "execution_count": 139,
   "id": "d256b1e9",
   "metadata": {},
   "outputs": [
    {
     "data": {
      "text/plain": [
       "'5 Major Software Architecture Patterns'"
      ]
     },
     "execution_count": 139,
     "metadata": {},
     "output_type": "execute_result"
    }
   ],
   "source": [
    "tup['header_title']"
   ]
  },
  {
   "cell_type": "code",
   "execution_count": 215,
   "id": "14321deb",
   "metadata": {},
   "outputs": [
    {
     "data": {
      "text/plain": [
       "'Agile development methodologies are leading the way for creating the highest grade of output in the shortest amount of time within a set budget. Countless enterprises and companies regardless of their field of interest, are implementing these methodologies to reap the benefits of Agile. To help manage and visualize their work in real time, these companies use an agile project management tool. From the phase of planning till deployment, these agile tools assist in all phases of the development of the product.There are a handful of popular agile tools available.'"
      ]
     },
     "execution_count": 215,
     "metadata": {},
     "output_type": "execute_result"
    }
   ],
   "source": [
    "tup['text'][:566]"
   ]
  },
  {
   "cell_type": "code",
   "execution_count": 165,
   "id": "1ceef551",
   "metadata": {},
   "outputs": [],
   "source": [
    "header_title = []\n",
    "text = []\n",
    "\n",
    "for i in range(len(data_list)):\n",
    "    tup = literal_eval(data_list[i])\n",
    "    header_title.append(tup['header_title'])\n",
    "    text.append(tup['text'])"
   ]
  },
  {
   "cell_type": "code",
   "execution_count": 166,
   "id": "63157070",
   "metadata": {},
   "outputs": [
    {
     "data": {
      "text/plain": [
       "195"
      ]
     },
     "execution_count": 166,
     "metadata": {},
     "output_type": "execute_result"
    }
   ],
   "source": [
    "len(header_title)"
   ]
  },
  {
   "cell_type": "code",
   "execution_count": 167,
   "id": "beecc973",
   "metadata": {},
   "outputs": [],
   "source": [
    "df = pd.DataFrame()\n",
    "df['header_title'] = header_title\n",
    "df['text'] = text"
   ]
  },
  {
   "cell_type": "code",
   "execution_count": 169,
   "id": "52c24f43",
   "metadata": {},
   "outputs": [
    {
     "data": {
      "text/plain": [
       "(195, 2)"
      ]
     },
     "execution_count": 169,
     "metadata": {},
     "output_type": "execute_result"
    }
   ],
   "source": [
    "df.shape"
   ]
  },
  {
   "cell_type": "code",
   "execution_count": 177,
   "id": "cf38b593",
   "metadata": {},
   "outputs": [
    {
     "data": {
      "text/plain": [
       "header_title    0\n",
       "text            0\n",
       "clean           0\n",
       "dtype: int64"
      ]
     },
     "execution_count": 177,
     "metadata": {},
     "output_type": "execute_result"
    }
   ],
   "source": [
    "df.isnull().sum()"
   ]
  },
  {
   "cell_type": "markdown",
   "id": "de2c57a2",
   "metadata": {},
   "source": [
    "## Cleaning"
   ]
  },
  {
   "cell_type": "code",
   "execution_count": 170,
   "id": "efb52897",
   "metadata": {},
   "outputs": [],
   "source": [
    "# function to clean data\n",
    "#lower case\n",
    "#remove stop words\n",
    "#lemmatization\n",
    "\n",
    "def cleanData(doc):\n",
    "    doc = doc.lower()\n",
    "    doc = nlp(doc)\n",
    "    tokens = [tokens.lower_ for tokens in doc]\n",
    "    tokens = [tokens for tokens in doc if (tokens.is_stop == False)]\n",
    "    tokens = [tokens for tokens in tokens if (tokens.is_punct == False)]\n",
    "    final_token = [token.lemma_ for token in tokens]\n",
    "    \n",
    "    return \" \".join(final_token)"
   ]
  },
  {
   "cell_type": "code",
   "execution_count": 171,
   "id": "96102ce8",
   "metadata": {},
   "outputs": [],
   "source": [
    "df['clean'] = df.apply(lambda row:cleanData (row['text']),axis=1)"
   ]
  },
  {
   "cell_type": "code",
   "execution_count": 172,
   "id": "4ff86e7d",
   "metadata": {},
   "outputs": [
    {
     "data": {
      "text/html": [
       "<div>\n",
       "<style scoped>\n",
       "    .dataframe tbody tr th:only-of-type {\n",
       "        vertical-align: middle;\n",
       "    }\n",
       "\n",
       "    .dataframe tbody tr th {\n",
       "        vertical-align: top;\n",
       "    }\n",
       "\n",
       "    .dataframe thead th {\n",
       "        text-align: right;\n",
       "    }\n",
       "</style>\n",
       "<table border=\"1\" class=\"dataframe\">\n",
       "  <thead>\n",
       "    <tr style=\"text-align: right;\">\n",
       "      <th></th>\n",
       "      <th>header_title</th>\n",
       "      <th>text</th>\n",
       "      <th>clean</th>\n",
       "    </tr>\n",
       "  </thead>\n",
       "  <tbody>\n",
       "    <tr>\n",
       "      <th>0</th>\n",
       "      <td>5 Major Software Architecture Patterns</td>\n",
       "      <td>Share This PostTable of ContentsIn the Global ...</td>\n",
       "      <td>share posttable contentsin global software arc...</td>\n",
       "    </tr>\n",
       "    <tr>\n",
       "      <th>1</th>\n",
       "      <td>Apiumhub as Partner of the Data Innovation Sum...</td>\n",
       "      <td>Share This PostTable of ContentsWe are excited...</td>\n",
       "      <td>share posttable contentswe excited announce se...</td>\n",
       "    </tr>\n",
       "    <tr>\n",
       "      <th>2</th>\n",
       "      <td>Apiumhub becomes a partner of the Global Summi...</td>\n",
       "      <td>Share This PostTable of ContentsGeekle’s onlin...</td>\n",
       "      <td>share posttable contentsgeekle online conferen...</td>\n",
       "    </tr>\n",
       "    <tr>\n",
       "      <th>3</th>\n",
       "      <td>DevSecOps: Future for DevOps?</td>\n",
       "      <td>Share This PostTable of ContentsDigital foster...</td>\n",
       "      <td>share posttable contentsdigital foster culture...</td>\n",
       "    </tr>\n",
       "    <tr>\n",
       "      <th>4</th>\n",
       "      <td>GSAS Workshop: Become a Software Design Company</td>\n",
       "      <td>Share This PostTable of ContentsOn October 3rd...</td>\n",
       "      <td>share posttable contentson october 3rd 4th 202...</td>\n",
       "    </tr>\n",
       "  </tbody>\n",
       "</table>\n",
       "</div>"
      ],
      "text/plain": [
       "                                        header_title  \\\n",
       "0             5 Major Software Architecture Patterns   \n",
       "1  Apiumhub as Partner of the Data Innovation Sum...   \n",
       "2  Apiumhub becomes a partner of the Global Summi...   \n",
       "3                      DevSecOps: Future for DevOps?   \n",
       "4    GSAS Workshop: Become a Software Design Company   \n",
       "\n",
       "                                                text  \\\n",
       "0  Share This PostTable of ContentsIn the Global ...   \n",
       "1  Share This PostTable of ContentsWe are excited...   \n",
       "2  Share This PostTable of ContentsGeekle’s onlin...   \n",
       "3  Share This PostTable of ContentsDigital foster...   \n",
       "4  Share This PostTable of ContentsOn October 3rd...   \n",
       "\n",
       "                                               clean  \n",
       "0  share posttable contentsin global software arc...  \n",
       "1  share posttable contentswe excited announce se...  \n",
       "2  share posttable contentsgeekle online conferen...  \n",
       "3  share posttable contentsdigital foster culture...  \n",
       "4  share posttable contentson october 3rd 4th 202...  "
      ]
     },
     "execution_count": 172,
     "metadata": {},
     "output_type": "execute_result"
    }
   ],
   "source": [
    "df.head()"
   ]
  },
  {
   "cell_type": "markdown",
   "id": "a6d7fc09",
   "metadata": {},
   "source": [
    "## Implement NLP techniques"
   ]
  },
  {
   "cell_type": "markdown",
   "id": "0fb540f8",
   "metadata": {},
   "source": [
    "https://kavita-ganesan.com/tfidftransformer-tfidfvectorizer-usage-differences/#.Y-Zq4XbMI2w"
   ]
  },
  {
   "cell_type": "markdown",
   "id": "57bf0972",
   "metadata": {},
   "source": [
    "### Calculate IDF"
   ]
  },
  {
   "cell_type": "code",
   "execution_count": 173,
   "id": "b3908887",
   "metadata": {},
   "outputs": [],
   "source": [
    "import pandas as pd \n",
    "from sklearn.feature_extraction.text import TfidfTransformer \n",
    "from sklearn.feature_extraction.text import CountVectorizer"
   ]
  },
  {
   "cell_type": "code",
   "execution_count": 175,
   "id": "80b37afa",
   "metadata": {},
   "outputs": [],
   "source": [
    "# CountVectorizer() \n",
    "cv=CountVectorizer() \n",
    "# this steps generates word counts for the words in all docs \n",
    "word_count_vector=cv.fit_transform(df['clean'])"
   ]
  },
  {
   "cell_type": "code",
   "execution_count": 176,
   "id": "903493a6",
   "metadata": {},
   "outputs": [
    {
     "data": {
      "text/plain": [
       "(195, 8046)"
      ]
     },
     "execution_count": 176,
     "metadata": {},
     "output_type": "execute_result"
    }
   ],
   "source": [
    "word_count_vector.shape"
   ]
  },
  {
   "cell_type": "code",
   "execution_count": 178,
   "id": "82be6d6a",
   "metadata": {},
   "outputs": [
    {
     "data": {
      "text/plain": [
       "(195, 8046)"
      ]
     },
     "execution_count": 178,
     "metadata": {},
     "output_type": "execute_result"
    }
   ],
   "source": [
    "# Compute idf weights\n",
    "tfidf_transformer=TfidfTransformer(smooth_idf=True,use_idf=True) \n",
    "all_text_df_tfidf = tfidf_transformer.fit_transform(word_count_vector)\n",
    "all_text_df_tfidf.shape"
   ]
  },
  {
   "cell_type": "code",
   "execution_count": 179,
   "id": "3e956f03",
   "metadata": {},
   "outputs": [
    {
     "data": {
      "text/html": [
       "<div>\n",
       "<style scoped>\n",
       "    .dataframe tbody tr th:only-of-type {\n",
       "        vertical-align: middle;\n",
       "    }\n",
       "\n",
       "    .dataframe tbody tr th {\n",
       "        vertical-align: top;\n",
       "    }\n",
       "\n",
       "    .dataframe thead th {\n",
       "        text-align: right;\n",
       "    }\n",
       "</style>\n",
       "<table border=\"1\" class=\"dataframe\">\n",
       "  <thead>\n",
       "    <tr style=\"text-align: right;\">\n",
       "      <th></th>\n",
       "      <th>idf_weights</th>\n",
       "    </tr>\n",
       "  </thead>\n",
       "  <tbody>\n",
       "    <tr>\n",
       "      <th>00</th>\n",
       "      <td>5.584967</td>\n",
       "    </tr>\n",
       "    <tr>\n",
       "      <th>millennial</th>\n",
       "      <td>5.584967</td>\n",
       "    </tr>\n",
       "    <tr>\n",
       "      <th>mileage</th>\n",
       "      <td>5.584967</td>\n",
       "    </tr>\n",
       "    <tr>\n",
       "      <th>mile</th>\n",
       "      <td>5.584967</td>\n",
       "    </tr>\n",
       "    <tr>\n",
       "      <th>midweek</th>\n",
       "      <td>5.584967</td>\n",
       "    </tr>\n",
       "  </tbody>\n",
       "</table>\n",
       "</div>"
      ],
      "text/plain": [
       "            idf_weights\n",
       "00             5.584967\n",
       "millennial     5.584967\n",
       "mileage        5.584967\n",
       "mile           5.584967\n",
       "midweek        5.584967"
      ]
     },
     "execution_count": 179,
     "metadata": {},
     "output_type": "execute_result"
    }
   ],
   "source": [
    "# print idf values \n",
    "df_idf = pd.DataFrame(tfidf_transformer.idf_, index=cv.get_feature_names_out(),columns=[\"idf_weights\"]) \n",
    "# sort ascending \n",
    "df_idf.sort_values(by=['idf_weights'],ascending=False).head()"
   ]
  },
  {
   "cell_type": "markdown",
   "id": "9fcc4e1e",
   "metadata": {},
   "source": [
    "<font color=green> The higher idf_weights means most unique word in any particular doc</font>"
   ]
  },
  {
   "cell_type": "markdown",
   "id": "a8d251ac",
   "metadata": {},
   "source": [
    "### Calculate TF-IDF"
   ]
  },
  {
   "cell_type": "code",
   "execution_count": 181,
   "id": "42a08a0f",
   "metadata": {},
   "outputs": [],
   "source": [
    "# count matrix \n",
    "count_vector=cv.transform(df['clean']) \n",
    "# tf-idf scores \n",
    "tf_idf_vector=tfidf_transformer.transform(count_vector)"
   ]
  },
  {
   "cell_type": "code",
   "execution_count": 182,
   "id": "301b58c5",
   "metadata": {},
   "outputs": [],
   "source": [
    "feature_names = cv.get_feature_names_out() \n",
    "#get tfidf vector for first document \n",
    "first_document_vector=tf_idf_vector[0] \n",
    "#print the scores \n",
    "df_TFIDF = pd.DataFrame(first_document_vector.T.todense(), index=feature_names, columns=[\"tfidf\"]) \n",
    "df_TFIDF=df_TFIDF.sort_values(by=[\"tfidf\"],ascending=False)"
   ]
  },
  {
   "cell_type": "code",
   "execution_count": 184,
   "id": "a79bc012",
   "metadata": {},
   "outputs": [
    {
     "data": {
      "text/html": [
       "<div>\n",
       "<style scoped>\n",
       "    .dataframe tbody tr th:only-of-type {\n",
       "        vertical-align: middle;\n",
       "    }\n",
       "\n",
       "    .dataframe tbody tr th {\n",
       "        vertical-align: top;\n",
       "    }\n",
       "\n",
       "    .dataframe thead th {\n",
       "        text-align: right;\n",
       "    }\n",
       "</style>\n",
       "<table border=\"1\" class=\"dataframe\">\n",
       "  <thead>\n",
       "    <tr style=\"text-align: right;\">\n",
       "      <th></th>\n",
       "      <th>tfidf</th>\n",
       "    </tr>\n",
       "  </thead>\n",
       "  <tbody>\n",
       "    <tr>\n",
       "      <th>architecture</th>\n",
       "      <td>0.516620</td>\n",
       "    </tr>\n",
       "    <tr>\n",
       "      <th>pattern</th>\n",
       "      <td>0.463032</td>\n",
       "    </tr>\n",
       "    <tr>\n",
       "      <th>microkernel</th>\n",
       "      <td>0.221597</td>\n",
       "    </tr>\n",
       "    <tr>\n",
       "      <th>plug</th>\n",
       "      <td>0.189940</td>\n",
       "    </tr>\n",
       "    <tr>\n",
       "      <th>layer</th>\n",
       "      <td>0.176150</td>\n",
       "    </tr>\n",
       "    <tr>\n",
       "      <th>application</th>\n",
       "      <td>0.161439</td>\n",
       "    </tr>\n",
       "    <tr>\n",
       "      <th>layered</th>\n",
       "      <td>0.158283</td>\n",
       "    </tr>\n",
       "    <tr>\n",
       "      <th>microservice</th>\n",
       "      <td>0.146792</td>\n",
       "    </tr>\n",
       "    <tr>\n",
       "      <th>architectural</th>\n",
       "      <td>0.146792</td>\n",
       "    </tr>\n",
       "    <tr>\n",
       "      <th>software</th>\n",
       "      <td>0.136826</td>\n",
       "    </tr>\n",
       "  </tbody>\n",
       "</table>\n",
       "</div>"
      ],
      "text/plain": [
       "                  tfidf\n",
       "architecture   0.516620\n",
       "pattern        0.463032\n",
       "microkernel    0.221597\n",
       "plug           0.189940\n",
       "layer          0.176150\n",
       "application    0.161439\n",
       "layered        0.158283\n",
       "microservice   0.146792\n",
       "architectural  0.146792\n",
       "software       0.136826"
      ]
     },
     "execution_count": 184,
     "metadata": {},
     "output_type": "execute_result"
    }
   ],
   "source": [
    "df_TFIDF.head(10)"
   ]
  },
  {
   "cell_type": "markdown",
   "id": "47afc12e",
   "metadata": {},
   "source": [
    "<font color=green>the more unique a word is to our first document, the higher the score"
   ]
  },
  {
   "cell_type": "code",
   "execution_count": 185,
   "id": "d1835f87",
   "metadata": {},
   "outputs": [],
   "source": [
    "def POS(clean):\n",
    "    clean = nlp(clean)\n",
    "    for token in clean:\n",
    "        return(token.pos_) "
   ]
  },
  {
   "cell_type": "markdown",
   "id": "fa9a8c75",
   "metadata": {},
   "source": [
    "# Word Extraction Based on TF-IDF"
   ]
  },
  {
   "cell_type": "markdown",
   "id": "2145f171",
   "metadata": {},
   "source": [
    "###  doc #0"
   ]
  },
  {
   "cell_type": "markdown",
   "id": "3c6062fb",
   "metadata": {},
   "source": [
    "### Title : '5 Major Software Architecture Patterns"
   ]
  },
  {
   "cell_type": "code",
   "execution_count": 193,
   "id": "bed3b844",
   "metadata": {},
   "outputs": [],
   "source": [
    "# df['header_title'][0]"
   ]
  },
  {
   "cell_type": "code",
   "execution_count": 194,
   "id": "431a28de",
   "metadata": {},
   "outputs": [],
   "source": [
    "# Most frequent words\n",
    "df_TFIDF = df_TFIDF.reset_index(names=['word', 'tfidf'])\n",
    "df_TFIDF['pos'] = df_TFIDF.apply(lambda row:POS (row['word']),axis=1)"
   ]
  },
  {
   "cell_type": "code",
   "execution_count": 195,
   "id": "3d70e16b",
   "metadata": {},
   "outputs": [],
   "source": [
    "df_TFIDF_1 = df_TFIDF[(df_TFIDF['word'].str.len()) > 3]"
   ]
  },
  {
   "cell_type": "code",
   "execution_count": 196,
   "id": "dd63d6ef",
   "metadata": {},
   "outputs": [
    {
     "name": "stdout",
     "output_type": "stream",
     "text": [
      "Most Frequent Words Based on TF-IDF:\n"
     ]
    },
    {
     "data": {
      "text/html": [
       "<div>\n",
       "<style scoped>\n",
       "    .dataframe tbody tr th:only-of-type {\n",
       "        vertical-align: middle;\n",
       "    }\n",
       "\n",
       "    .dataframe tbody tr th {\n",
       "        vertical-align: top;\n",
       "    }\n",
       "\n",
       "    .dataframe thead th {\n",
       "        text-align: right;\n",
       "    }\n",
       "</style>\n",
       "<table border=\"1\" class=\"dataframe\">\n",
       "  <thead>\n",
       "    <tr style=\"text-align: right;\">\n",
       "      <th></th>\n",
       "      <th>word</th>\n",
       "      <th>tfidf</th>\n",
       "      <th>pos</th>\n",
       "    </tr>\n",
       "  </thead>\n",
       "  <tbody>\n",
       "    <tr>\n",
       "      <th>0</th>\n",
       "      <td>architecture</td>\n",
       "      <td>0.516620</td>\n",
       "      <td>NOUN</td>\n",
       "    </tr>\n",
       "    <tr>\n",
       "      <th>1</th>\n",
       "      <td>pattern</td>\n",
       "      <td>0.463032</td>\n",
       "      <td>NOUN</td>\n",
       "    </tr>\n",
       "    <tr>\n",
       "      <th>2</th>\n",
       "      <td>microkernel</td>\n",
       "      <td>0.221597</td>\n",
       "      <td>PROPN</td>\n",
       "    </tr>\n",
       "    <tr>\n",
       "      <th>3</th>\n",
       "      <td>plug</td>\n",
       "      <td>0.189940</td>\n",
       "      <td>VERB</td>\n",
       "    </tr>\n",
       "    <tr>\n",
       "      <th>4</th>\n",
       "      <td>layer</td>\n",
       "      <td>0.176150</td>\n",
       "      <td>NOUN</td>\n",
       "    </tr>\n",
       "    <tr>\n",
       "      <th>5</th>\n",
       "      <td>application</td>\n",
       "      <td>0.161439</td>\n",
       "      <td>NOUN</td>\n",
       "    </tr>\n",
       "    <tr>\n",
       "      <th>6</th>\n",
       "      <td>layered</td>\n",
       "      <td>0.158283</td>\n",
       "      <td>VERB</td>\n",
       "    </tr>\n",
       "    <tr>\n",
       "      <th>7</th>\n",
       "      <td>microservice</td>\n",
       "      <td>0.146792</td>\n",
       "      <td>VERB</td>\n",
       "    </tr>\n",
       "    <tr>\n",
       "      <th>8</th>\n",
       "      <td>architectural</td>\n",
       "      <td>0.146792</td>\n",
       "      <td>ADJ</td>\n",
       "    </tr>\n",
       "    <tr>\n",
       "      <th>9</th>\n",
       "      <td>software</td>\n",
       "      <td>0.136826</td>\n",
       "      <td>NOUN</td>\n",
       "    </tr>\n",
       "  </tbody>\n",
       "</table>\n",
       "</div>"
      ],
      "text/plain": [
       "            word     tfidf    pos\n",
       "0   architecture  0.516620   NOUN\n",
       "1        pattern  0.463032   NOUN\n",
       "2    microkernel  0.221597  PROPN\n",
       "3           plug  0.189940   VERB\n",
       "4          layer  0.176150   NOUN\n",
       "5    application  0.161439   NOUN\n",
       "6        layered  0.158283   VERB\n",
       "7   microservice  0.146792   VERB\n",
       "8  architectural  0.146792    ADJ\n",
       "9       software  0.136826   NOUN"
      ]
     },
     "execution_count": 196,
     "metadata": {},
     "output_type": "execute_result"
    }
   ],
   "source": [
    "print('Most Frequent Words Based on TF-IDF:')\n",
    "df_TFIDF_1.head(10)"
   ]
  },
  {
   "cell_type": "code",
   "execution_count": 204,
   "id": "83bc9be9",
   "metadata": {},
   "outputs": [
    {
     "name": "stdout",
     "output_type": "stream",
     "text": [
      "Most frequent words based on NOUN and VERB\n"
     ]
    },
    {
     "data": {
      "text/html": [
       "<div>\n",
       "<style scoped>\n",
       "    .dataframe tbody tr th:only-of-type {\n",
       "        vertical-align: middle;\n",
       "    }\n",
       "\n",
       "    .dataframe tbody tr th {\n",
       "        vertical-align: top;\n",
       "    }\n",
       "\n",
       "    .dataframe thead th {\n",
       "        text-align: right;\n",
       "    }\n",
       "</style>\n",
       "<table border=\"1\" class=\"dataframe\">\n",
       "  <thead>\n",
       "    <tr style=\"text-align: right;\">\n",
       "      <th></th>\n",
       "      <th>word</th>\n",
       "      <th>tfidf</th>\n",
       "    </tr>\n",
       "  </thead>\n",
       "  <tbody>\n",
       "    <tr>\n",
       "      <th>0</th>\n",
       "      <td>architecture</td>\n",
       "      <td>0.516620</td>\n",
       "    </tr>\n",
       "    <tr>\n",
       "      <th>1</th>\n",
       "      <td>pattern</td>\n",
       "      <td>0.463032</td>\n",
       "    </tr>\n",
       "    <tr>\n",
       "      <th>3</th>\n",
       "      <td>plug</td>\n",
       "      <td>0.189940</td>\n",
       "    </tr>\n",
       "    <tr>\n",
       "      <th>4</th>\n",
       "      <td>layer</td>\n",
       "      <td>0.176150</td>\n",
       "    </tr>\n",
       "    <tr>\n",
       "      <th>5</th>\n",
       "      <td>application</td>\n",
       "      <td>0.161439</td>\n",
       "    </tr>\n",
       "    <tr>\n",
       "      <th>6</th>\n",
       "      <td>layered</td>\n",
       "      <td>0.158283</td>\n",
       "    </tr>\n",
       "    <tr>\n",
       "      <th>7</th>\n",
       "      <td>microservice</td>\n",
       "      <td>0.146792</td>\n",
       "    </tr>\n",
       "    <tr>\n",
       "      <th>9</th>\n",
       "      <td>software</td>\n",
       "      <td>0.136826</td>\n",
       "    </tr>\n",
       "    <tr>\n",
       "      <th>10</th>\n",
       "      <td>component</td>\n",
       "      <td>0.123002</td>\n",
       "    </tr>\n",
       "    <tr>\n",
       "      <th>11</th>\n",
       "      <td>logic</td>\n",
       "      <td>0.105852</td>\n",
       "    </tr>\n",
       "  </tbody>\n",
       "</table>\n",
       "</div>"
      ],
      "text/plain": [
       "            word     tfidf\n",
       "0   architecture  0.516620\n",
       "1        pattern  0.463032\n",
       "3           plug  0.189940\n",
       "4          layer  0.176150\n",
       "5    application  0.161439\n",
       "6        layered  0.158283\n",
       "7   microservice  0.146792\n",
       "9       software  0.136826\n",
       "10     component  0.123002\n",
       "11         logic  0.105852"
      ]
     },
     "execution_count": 204,
     "metadata": {},
     "output_type": "execute_result"
    }
   ],
   "source": [
    "print('Most frequent words based on NOUN and VERB')\n",
    "df_TFIDF_1[(df_TFIDF_1['pos'] == 'NOUN') | (df_TFIDF_1['pos'] == 'VERB')].head(10)[['word','tfidf']]"
   ]
  },
  {
   "cell_type": "code",
   "execution_count": 205,
   "id": "fefffc53",
   "metadata": {},
   "outputs": [
    {
     "name": "stdout",
     "output_type": "stream",
     "text": [
      "Most frequent words Based on NOUN\n"
     ]
    },
    {
     "data": {
      "text/html": [
       "<div>\n",
       "<style scoped>\n",
       "    .dataframe tbody tr th:only-of-type {\n",
       "        vertical-align: middle;\n",
       "    }\n",
       "\n",
       "    .dataframe tbody tr th {\n",
       "        vertical-align: top;\n",
       "    }\n",
       "\n",
       "    .dataframe thead th {\n",
       "        text-align: right;\n",
       "    }\n",
       "</style>\n",
       "<table border=\"1\" class=\"dataframe\">\n",
       "  <thead>\n",
       "    <tr style=\"text-align: right;\">\n",
       "      <th></th>\n",
       "      <th>word</th>\n",
       "      <th>tfidf</th>\n",
       "    </tr>\n",
       "  </thead>\n",
       "  <tbody>\n",
       "    <tr>\n",
       "      <th>0</th>\n",
       "      <td>architecture</td>\n",
       "      <td>0.516620</td>\n",
       "    </tr>\n",
       "    <tr>\n",
       "      <th>1</th>\n",
       "      <td>pattern</td>\n",
       "      <td>0.463032</td>\n",
       "    </tr>\n",
       "    <tr>\n",
       "      <th>4</th>\n",
       "      <td>layer</td>\n",
       "      <td>0.176150</td>\n",
       "    </tr>\n",
       "    <tr>\n",
       "      <th>5</th>\n",
       "      <td>application</td>\n",
       "      <td>0.161439</td>\n",
       "    </tr>\n",
       "    <tr>\n",
       "      <th>9</th>\n",
       "      <td>software</td>\n",
       "      <td>0.136826</td>\n",
       "    </tr>\n",
       "    <tr>\n",
       "      <th>10</th>\n",
       "      <td>component</td>\n",
       "      <td>0.123002</td>\n",
       "    </tr>\n",
       "    <tr>\n",
       "      <th>11</th>\n",
       "      <td>logic</td>\n",
       "      <td>0.105852</td>\n",
       "    </tr>\n",
       "    <tr>\n",
       "      <th>12</th>\n",
       "      <td>core</td>\n",
       "      <td>0.103134</td>\n",
       "    </tr>\n",
       "    <tr>\n",
       "      <th>13</th>\n",
       "      <td>system</td>\n",
       "      <td>0.098275</td>\n",
       "    </tr>\n",
       "    <tr>\n",
       "      <th>16</th>\n",
       "      <td>advantage</td>\n",
       "      <td>0.079705</td>\n",
       "    </tr>\n",
       "  </tbody>\n",
       "</table>\n",
       "</div>"
      ],
      "text/plain": [
       "            word     tfidf\n",
       "0   architecture  0.516620\n",
       "1        pattern  0.463032\n",
       "4          layer  0.176150\n",
       "5    application  0.161439\n",
       "9       software  0.136826\n",
       "10     component  0.123002\n",
       "11         logic  0.105852\n",
       "12          core  0.103134\n",
       "13        system  0.098275\n",
       "16     advantage  0.079705"
      ]
     },
     "execution_count": 205,
     "metadata": {},
     "output_type": "execute_result"
    }
   ],
   "source": [
    "print('Most frequent words Based on NOUN')\n",
    "df_TFIDF_1[df_TFIDF_1['pos']=='NOUN'].head(10)[['word','tfidf']]"
   ]
  },
  {
   "cell_type": "code",
   "execution_count": 206,
   "id": "423adbad",
   "metadata": {},
   "outputs": [
    {
     "name": "stdout",
     "output_type": "stream",
     "text": [
      "Most frequent words Based on VERB\n"
     ]
    },
    {
     "data": {
      "text/html": [
       "<div>\n",
       "<style scoped>\n",
       "    .dataframe tbody tr th:only-of-type {\n",
       "        vertical-align: middle;\n",
       "    }\n",
       "\n",
       "    .dataframe tbody tr th {\n",
       "        vertical-align: top;\n",
       "    }\n",
       "\n",
       "    .dataframe thead th {\n",
       "        text-align: right;\n",
       "    }\n",
       "</style>\n",
       "<table border=\"1\" class=\"dataframe\">\n",
       "  <thead>\n",
       "    <tr style=\"text-align: right;\">\n",
       "      <th></th>\n",
       "      <th>word</th>\n",
       "      <th>tfidf</th>\n",
       "    </tr>\n",
       "  </thead>\n",
       "  <tbody>\n",
       "    <tr>\n",
       "      <th>3</th>\n",
       "      <td>plug</td>\n",
       "      <td>0.189940</td>\n",
       "    </tr>\n",
       "    <tr>\n",
       "      <th>6</th>\n",
       "      <td>layered</td>\n",
       "      <td>0.158283</td>\n",
       "    </tr>\n",
       "    <tr>\n",
       "      <th>7</th>\n",
       "      <td>microservice</td>\n",
       "      <td>0.146792</td>\n",
       "    </tr>\n",
       "    <tr>\n",
       "      <th>14</th>\n",
       "      <td>reuse</td>\n",
       "      <td>0.083183</td>\n",
       "    </tr>\n",
       "    <tr>\n",
       "      <th>15</th>\n",
       "      <td>architect</td>\n",
       "      <td>0.080943</td>\n",
       "    </tr>\n",
       "    <tr>\n",
       "      <th>17</th>\n",
       "      <td>processing</td>\n",
       "      <td>0.079389</td>\n",
       "    </tr>\n",
       "    <tr>\n",
       "      <th>20</th>\n",
       "      <td>design</td>\n",
       "      <td>0.065406</td>\n",
       "    </tr>\n",
       "    <tr>\n",
       "      <th>27</th>\n",
       "      <td>cite</td>\n",
       "      <td>0.063141</td>\n",
       "    </tr>\n",
       "    <tr>\n",
       "      <th>31</th>\n",
       "      <td>extended</td>\n",
       "      <td>0.052926</td>\n",
       "    </tr>\n",
       "    <tr>\n",
       "      <th>38</th>\n",
       "      <td>write</td>\n",
       "      <td>0.049893</td>\n",
       "    </tr>\n",
       "  </tbody>\n",
       "</table>\n",
       "</div>"
      ],
      "text/plain": [
       "            word     tfidf\n",
       "3           plug  0.189940\n",
       "6        layered  0.158283\n",
       "7   microservice  0.146792\n",
       "14         reuse  0.083183\n",
       "15     architect  0.080943\n",
       "17    processing  0.079389\n",
       "20        design  0.065406\n",
       "27          cite  0.063141\n",
       "31      extended  0.052926\n",
       "38         write  0.049893"
      ]
     },
     "execution_count": 206,
     "metadata": {},
     "output_type": "execute_result"
    }
   ],
   "source": [
    "print('Most frequent words Based on VERB')\n",
    "df_TFIDF_1[df_TFIDF_1['pos']=='VERB'].head(10)[['word','tfidf']]"
   ]
  },
  {
   "cell_type": "markdown",
   "id": "55557078",
   "metadata": {},
   "source": [
    "## Tweeter Tags"
   ]
  },
  {
   "cell_type": "markdown",
   "id": "d837fb00",
   "metadata": {},
   "source": [
    "### Unigram"
   ]
  },
  {
   "cell_type": "code",
   "execution_count": 251,
   "id": "1480da55",
   "metadata": {},
   "outputs": [],
   "source": [
    "#data = [[1,2,3],[4,5,6],[7,8,9],[10,11,12],[13,14,15]]\n",
    "data11 = [['sistemasd3xd','design','vintage'],['technology','interiordesign','handmade'],['dev','travel','sale'],['python','arquitectura','art'],['mobile','home','wooden']]\n",
    "Tweetr_11 = pd.DataFrame(data11, columns=[['Software','Architecture','Pattern']])"
   ]
  },
  {
   "cell_type": "code",
   "execution_count": 252,
   "id": "c52474b6",
   "metadata": {},
   "outputs": [
    {
     "data": {
      "text/html": [
       "<div>\n",
       "<style scoped>\n",
       "    .dataframe tbody tr th:only-of-type {\n",
       "        vertical-align: middle;\n",
       "    }\n",
       "\n",
       "    .dataframe tbody tr th {\n",
       "        vertical-align: top;\n",
       "    }\n",
       "\n",
       "    .dataframe thead tr th {\n",
       "        text-align: left;\n",
       "    }\n",
       "</style>\n",
       "<table border=\"1\" class=\"dataframe\">\n",
       "  <thead>\n",
       "    <tr>\n",
       "      <th></th>\n",
       "      <th>Software</th>\n",
       "      <th>Architecture</th>\n",
       "      <th>Pattern</th>\n",
       "    </tr>\n",
       "  </thead>\n",
       "  <tbody>\n",
       "    <tr>\n",
       "      <th>0</th>\n",
       "      <td>sistemasd3xd</td>\n",
       "      <td>design</td>\n",
       "      <td>vintage</td>\n",
       "    </tr>\n",
       "    <tr>\n",
       "      <th>1</th>\n",
       "      <td>technology</td>\n",
       "      <td>interiordesign</td>\n",
       "      <td>handmade</td>\n",
       "    </tr>\n",
       "    <tr>\n",
       "      <th>2</th>\n",
       "      <td>dev</td>\n",
       "      <td>travel</td>\n",
       "      <td>sale</td>\n",
       "    </tr>\n",
       "    <tr>\n",
       "      <th>3</th>\n",
       "      <td>python</td>\n",
       "      <td>arquitectura</td>\n",
       "      <td>art</td>\n",
       "    </tr>\n",
       "    <tr>\n",
       "      <th>4</th>\n",
       "      <td>mobile</td>\n",
       "      <td>home</td>\n",
       "      <td>wooden</td>\n",
       "    </tr>\n",
       "  </tbody>\n",
       "</table>\n",
       "</div>"
      ],
      "text/plain": [
       "       Software    Architecture   Pattern\n",
       "0  sistemasd3xd          design   vintage\n",
       "1    technology  interiordesign  handmade\n",
       "2           dev          travel      sale\n",
       "3        python    arquitectura       art\n",
       "4        mobile            home    wooden"
      ]
     },
     "execution_count": 252,
     "metadata": {},
     "output_type": "execute_result"
    }
   ],
   "source": [
    "# hashtags on 2/22/23\n",
    "Tweetr_11"
   ]
  },
  {
   "cell_type": "code",
   "execution_count": 250,
   "id": "530f05d5",
   "metadata": {},
   "outputs": [
    {
     "data": {
      "text/html": [
       "<div>\n",
       "<style scoped>\n",
       "    .dataframe tbody tr th:only-of-type {\n",
       "        vertical-align: middle;\n",
       "    }\n",
       "\n",
       "    .dataframe tbody tr th {\n",
       "        vertical-align: top;\n",
       "    }\n",
       "\n",
       "    .dataframe thead tr th {\n",
       "        text-align: left;\n",
       "    }\n",
       "</style>\n",
       "<table border=\"1\" class=\"dataframe\">\n",
       "  <thead>\n",
       "    <tr>\n",
       "      <th></th>\n",
       "      <th>Software</th>\n",
       "      <th>Architecture</th>\n",
       "      <th>Pattern</th>\n",
       "    </tr>\n",
       "  </thead>\n",
       "  <tbody>\n",
       "    <tr>\n",
       "      <th>0</th>\n",
       "      <td>technology</td>\n",
       "      <td>interiordesign</td>\n",
       "      <td>crochet</td>\n",
       "    </tr>\n",
       "    <tr>\n",
       "      <th>1</th>\n",
       "      <td>developer</td>\n",
       "      <td>home</td>\n",
       "      <td>vintage</td>\n",
       "    </tr>\n",
       "    <tr>\n",
       "      <th>2</th>\n",
       "      <td>programming</td>\n",
       "      <td>design</td>\n",
       "      <td>crochetwaistcoat</td>\n",
       "    </tr>\n",
       "    <tr>\n",
       "      <th>3</th>\n",
       "      <td>tech</td>\n",
       "      <td>artist</td>\n",
       "      <td>crochetpattern</td>\n",
       "    </tr>\n",
       "    <tr>\n",
       "      <th>4</th>\n",
       "      <td>javascript</td>\n",
       "      <td>construction</td>\n",
       "      <td>sale</td>\n",
       "    </tr>\n",
       "  </tbody>\n",
       "</table>\n",
       "</div>"
      ],
      "text/plain": [
       "      Software    Architecture           Pattern\n",
       "0   technology  interiordesign           crochet\n",
       "1    developer            home           vintage\n",
       "2  programming          design  crochetwaistcoat\n",
       "3         tech          artist    crochetpattern\n",
       "4   javascript    construction              sale"
      ]
     },
     "execution_count": 250,
     "metadata": {},
     "output_type": "execute_result"
    }
   ],
   "source": [
    "# data = [[1,2,3],[4,5,6],[7,8,9],[10,11,12],[13,14,15]]\n",
    "data_6pm = [['technology','interiordesign','crochet'],['developer','home','vintage'],['programming','design','crochetwaistcoat'],['tech','artist','crochetpattern'],['javascript','construction','sale']]\n",
    "\n",
    "Tweetr_6pm = pd.DataFrame(data_6pm, columns=[['Software','Architecture','Pattern']])\n",
    "Tweetr_6pm"
   ]
  },
  {
   "cell_type": "code",
   "execution_count": 260,
   "id": "1d32d975",
   "metadata": {},
   "outputs": [
    {
     "data": {
      "text/html": [
       "<div>\n",
       "<style scoped>\n",
       "    .dataframe tbody tr th:only-of-type {\n",
       "        vertical-align: middle;\n",
       "    }\n",
       "\n",
       "    .dataframe tbody tr th {\n",
       "        vertical-align: top;\n",
       "    }\n",
       "\n",
       "    .dataframe thead tr th {\n",
       "        text-align: left;\n",
       "    }\n",
       "</style>\n",
       "<table border=\"1\" class=\"dataframe\">\n",
       "  <thead>\n",
       "    <tr>\n",
       "      <th></th>\n",
       "      <th>Software</th>\n",
       "      <th>Architecture</th>\n",
       "      <th>Pattern</th>\n",
       "    </tr>\n",
       "  </thead>\n",
       "  <tbody>\n",
       "    <tr>\n",
       "      <th>0</th>\n",
       "      <td>tech</td>\n",
       "      <td>interiordesign</td>\n",
       "      <td>foodart</td>\n",
       "    </tr>\n",
       "    <tr>\n",
       "      <th>1</th>\n",
       "      <td>technology</td>\n",
       "      <td>design</td>\n",
       "      <td>redbubble</td>\n",
       "    </tr>\n",
       "    <tr>\n",
       "      <th>2</th>\n",
       "      <td>infosec</td>\n",
       "      <td>home</td>\n",
       "      <td>art</td>\n",
       "    </tr>\n",
       "    <tr>\n",
       "      <th>3</th>\n",
       "      <td>it</td>\n",
       "      <td>france</td>\n",
       "      <td>design</td>\n",
       "    </tr>\n",
       "    <tr>\n",
       "      <th>4</th>\n",
       "      <td>automation</td>\n",
       "      <td>interior</td>\n",
       "      <td>geometric</td>\n",
       "    </tr>\n",
       "  </tbody>\n",
       "</table>\n",
       "</div>"
      ],
      "text/plain": [
       "     Software    Architecture    Pattern\n",
       "0        tech  interiordesign    foodart\n",
       "1  technology          design  redbubble\n",
       "2     infosec            home        art\n",
       "3          it          france     design\n",
       "4  automation        interior  geometric"
      ]
     },
     "execution_count": 260,
     "metadata": {},
     "output_type": "execute_result"
    }
   ],
   "source": [
    "# One day later same time (11AM) on 2/23/23\n",
    "data_11am = [['tech','interiordesign','foodart'],['technology','design','redbubble'],['infosec','home','art'],['it','france','design'],['automation','interior','geometric']]\n",
    "\n",
    "Tweetr_11am = pd.DataFrame(data_11am, columns=[['Software','Architecture','Pattern']])\n",
    "Tweetr_11am"
   ]
  },
  {
   "cell_type": "code",
   "execution_count": 272,
   "id": "f6be3038",
   "metadata": {},
   "outputs": [],
   "source": [
    "###Top 5 Related Hashtags\n",
    "#incentivecompensation\n",
    "#ycombinator\n",
    "#commissions\n",
    "#payments\n",
    "#brightpay"
   ]
  },
  {
   "cell_type": "markdown",
   "id": "5671c2f5",
   "metadata": {},
   "source": [
    "### Bigram"
   ]
  },
  {
   "cell_type": "code",
   "execution_count": 269,
   "id": "b91fc1d8",
   "metadata": {},
   "outputs": [
    {
     "data": {
      "text/html": [
       "<div>\n",
       "<style scoped>\n",
       "    .dataframe tbody tr th:only-of-type {\n",
       "        vertical-align: middle;\n",
       "    }\n",
       "\n",
       "    .dataframe tbody tr th {\n",
       "        vertical-align: top;\n",
       "    }\n",
       "\n",
       "    .dataframe thead tr th {\n",
       "        text-align: left;\n",
       "    }\n",
       "</style>\n",
       "<table border=\"1\" class=\"dataframe\">\n",
       "  <thead>\n",
       "    <tr>\n",
       "      <th></th>\n",
       "      <th>Major Software</th>\n",
       "      <th>Architecture Pattern</th>\n",
       "    </tr>\n",
       "  </thead>\n",
       "  <tbody>\n",
       "    <tr>\n",
       "      <th>0</th>\n",
       "      <td>infogain</td>\n",
       "      <td>architecture</td>\n",
       "    </tr>\n",
       "    <tr>\n",
       "      <th>1</th>\n",
       "      <td>recognized</td>\n",
       "      <td>pattern</td>\n",
       "    </tr>\n",
       "    <tr>\n",
       "      <th>2</th>\n",
       "      <td>major</td>\n",
       "      <td>art</td>\n",
       "    </tr>\n",
       "    <tr>\n",
       "      <th>3</th>\n",
       "      <td>contender</td>\n",
       "      <td>design</td>\n",
       "    </tr>\n",
       "    <tr>\n",
       "      <th>4</th>\n",
       "      <td>engineering</td>\n",
       "      <td>interiordesign</td>\n",
       "    </tr>\n",
       "  </tbody>\n",
       "</table>\n",
       "</div>"
      ],
      "text/plain": [
       "  Major Software Architecture Pattern\n",
       "0       infogain         architecture\n",
       "1     recognized              pattern\n",
       "2          major                  art\n",
       "3      contender               design\n",
       "4    engineering       interiordesign"
      ]
     },
     "execution_count": 269,
     "metadata": {},
     "output_type": "execute_result"
    }
   ],
   "source": [
    "# 2/28/2023, 2pm\n",
    "# data = [[1,2],[3,4],[5,6],[7,8],[9,10]]\n",
    "data = [['infogain','architecture'],['recognized','pattern'],['major','art'],['contender','design'],['engineering','interiordesign']]\n",
    "Tweetr_2pm = pd.DataFrame(data, columns=[['Major Software','Architecture Pattern']])\n",
    "Tweetr_2pm"
   ]
  },
  {
   "cell_type": "code",
   "execution_count": 271,
   "id": "ed79ad82",
   "metadata": {},
   "outputs": [],
   "source": [
    "# Top 5 Related Hashtags By LinkedIn\n",
    "#reactjs\n",
    "#reactjsbestpattern\n",
    "#bestpractices\n",
    "#javascripts\n",
    "#hiring"
   ]
  },
  {
   "cell_type": "code",
   "execution_count": null,
   "id": "e2c0704c",
   "metadata": {},
   "outputs": [],
   "source": []
  },
  {
   "cell_type": "code",
   "execution_count": null,
   "id": "9b0dbb47",
   "metadata": {},
   "outputs": [],
   "source": []
  },
  {
   "cell_type": "markdown",
   "id": "50c1433e",
   "metadata": {},
   "source": [
    "### Named Entity Recognition (NER)"
   ]
  },
  {
   "cell_type": "code",
   "execution_count": 199,
   "id": "2d746fc5",
   "metadata": {},
   "outputs": [],
   "source": [
    "#function to NER \n",
    "# Iterate over the predicted entities\n",
    "def NER(clean):\n",
    "    clean = nlp(clean)\n",
    "    for ent in clean.ents:\n",
    "        return(ent.label_)   "
   ]
  },
  {
   "cell_type": "code",
   "execution_count": 200,
   "id": "c885c5de",
   "metadata": {},
   "outputs": [],
   "source": [
    "NER(df_TFIDF_1['word'][2])"
   ]
  },
  {
   "cell_type": "code",
   "execution_count": 202,
   "id": "d91ed18d",
   "metadata": {},
   "outputs": [
    {
     "name": "stderr",
     "output_type": "stream",
     "text": [
      "C:\\Users\\msalehi\\AppData\\Local\\Temp\\ipykernel_24076\\469005378.py:1: SettingWithCopyWarning: \n",
      "A value is trying to be set on a copy of a slice from a DataFrame.\n",
      "Try using .loc[row_indexer,col_indexer] = value instead\n",
      "\n",
      "See the caveats in the documentation: https://pandas.pydata.org/pandas-docs/stable/user_guide/indexing.html#returning-a-view-versus-a-copy\n",
      "  df_TFIDF_1['ner_tag'] = df_TFIDF_1.apply(lambda row:NER (row['word']),axis=1)\n"
     ]
    }
   ],
   "source": [
    "df_TFIDF_1['ner_tag'] = df_TFIDF_1.apply(lambda row:NER (row['word']),axis=1)"
   ]
  },
  {
   "cell_type": "code",
   "execution_count": 203,
   "id": "3aeba4f4",
   "metadata": {},
   "outputs": [
    {
     "data": {
      "text/html": [
       "<div>\n",
       "<style scoped>\n",
       "    .dataframe tbody tr th:only-of-type {\n",
       "        vertical-align: middle;\n",
       "    }\n",
       "\n",
       "    .dataframe tbody tr th {\n",
       "        vertical-align: top;\n",
       "    }\n",
       "\n",
       "    .dataframe thead th {\n",
       "        text-align: right;\n",
       "    }\n",
       "</style>\n",
       "<table border=\"1\" class=\"dataframe\">\n",
       "  <thead>\n",
       "    <tr style=\"text-align: right;\">\n",
       "      <th></th>\n",
       "      <th>word</th>\n",
       "      <th>tfidf</th>\n",
       "      <th>pos</th>\n",
       "      <th>ner_tag</th>\n",
       "    </tr>\n",
       "  </thead>\n",
       "  <tbody>\n",
       "    <tr>\n",
       "      <th>0</th>\n",
       "      <td>architecture</td>\n",
       "      <td>0.516620</td>\n",
       "      <td>NOUN</td>\n",
       "      <td>None</td>\n",
       "    </tr>\n",
       "    <tr>\n",
       "      <th>1</th>\n",
       "      <td>pattern</td>\n",
       "      <td>0.463032</td>\n",
       "      <td>NOUN</td>\n",
       "      <td>None</td>\n",
       "    </tr>\n",
       "    <tr>\n",
       "      <th>2</th>\n",
       "      <td>microkernel</td>\n",
       "      <td>0.221597</td>\n",
       "      <td>PROPN</td>\n",
       "      <td>None</td>\n",
       "    </tr>\n",
       "    <tr>\n",
       "      <th>3</th>\n",
       "      <td>plug</td>\n",
       "      <td>0.189940</td>\n",
       "      <td>VERB</td>\n",
       "      <td>None</td>\n",
       "    </tr>\n",
       "    <tr>\n",
       "      <th>4</th>\n",
       "      <td>layer</td>\n",
       "      <td>0.176150</td>\n",
       "      <td>NOUN</td>\n",
       "      <td>None</td>\n",
       "    </tr>\n",
       "    <tr>\n",
       "      <th>5</th>\n",
       "      <td>application</td>\n",
       "      <td>0.161439</td>\n",
       "      <td>NOUN</td>\n",
       "      <td>None</td>\n",
       "    </tr>\n",
       "    <tr>\n",
       "      <th>6</th>\n",
       "      <td>layered</td>\n",
       "      <td>0.158283</td>\n",
       "      <td>VERB</td>\n",
       "      <td>None</td>\n",
       "    </tr>\n",
       "    <tr>\n",
       "      <th>7</th>\n",
       "      <td>microservice</td>\n",
       "      <td>0.146792</td>\n",
       "      <td>VERB</td>\n",
       "      <td>None</td>\n",
       "    </tr>\n",
       "    <tr>\n",
       "      <th>8</th>\n",
       "      <td>architectural</td>\n",
       "      <td>0.146792</td>\n",
       "      <td>ADJ</td>\n",
       "      <td>None</td>\n",
       "    </tr>\n",
       "    <tr>\n",
       "      <th>9</th>\n",
       "      <td>software</td>\n",
       "      <td>0.136826</td>\n",
       "      <td>NOUN</td>\n",
       "      <td>None</td>\n",
       "    </tr>\n",
       "  </tbody>\n",
       "</table>\n",
       "</div>"
      ],
      "text/plain": [
       "            word     tfidf    pos ner_tag\n",
       "0   architecture  0.516620   NOUN    None\n",
       "1        pattern  0.463032   NOUN    None\n",
       "2    microkernel  0.221597  PROPN    None\n",
       "3           plug  0.189940   VERB    None\n",
       "4          layer  0.176150   NOUN    None\n",
       "5    application  0.161439   NOUN    None\n",
       "6        layered  0.158283   VERB    None\n",
       "7   microservice  0.146792   VERB    None\n",
       "8  architectural  0.146792    ADJ    None\n",
       "9       software  0.136826   NOUN    None"
      ]
     },
     "execution_count": 203,
     "metadata": {},
     "output_type": "execute_result"
    }
   ],
   "source": [
    "df_TFIDF_1.head(10)"
   ]
  },
  {
   "cell_type": "code",
   "execution_count": 189,
   "id": "2763905a",
   "metadata": {},
   "outputs": [
    {
     "ename": "NameError",
     "evalue": "name 'df1' is not defined",
     "output_type": "error",
     "traceback": [
      "\u001b[1;31m---------------------------------------------------------------------------\u001b[0m",
      "\u001b[1;31mNameError\u001b[0m                                 Traceback (most recent call last)",
      "Cell \u001b[1;32mIn[189], line 1\u001b[0m\n\u001b[1;32m----> 1\u001b[0m \u001b[43mdf1\u001b[49m[(df1[\u001b[38;5;124m'\u001b[39m\u001b[38;5;124mpos\u001b[39m\u001b[38;5;124m'\u001b[39m] \u001b[38;5;241m==\u001b[39m \u001b[38;5;124m'\u001b[39m\u001b[38;5;124mNOUN\u001b[39m\u001b[38;5;124m'\u001b[39m) \u001b[38;5;241m|\u001b[39m (df1[\u001b[38;5;124m'\u001b[39m\u001b[38;5;124mpos\u001b[39m\u001b[38;5;124m'\u001b[39m] \u001b[38;5;241m==\u001b[39m \u001b[38;5;124m'\u001b[39m\u001b[38;5;124mVERB\u001b[39m\u001b[38;5;124m'\u001b[39m)]\u001b[38;5;241m.\u001b[39mhead(\u001b[38;5;241m10\u001b[39m)[[\u001b[38;5;124m'\u001b[39m\u001b[38;5;124mword\u001b[39m\u001b[38;5;124m'\u001b[39m,\u001b[38;5;124m'\u001b[39m\u001b[38;5;124mtfidf\u001b[39m\u001b[38;5;124m'\u001b[39m,\u001b[38;5;124m'\u001b[39m\u001b[38;5;124mpos\u001b[39m\u001b[38;5;124m'\u001b[39m,\u001b[38;5;124m'\u001b[39m\u001b[38;5;124mner_tag\u001b[39m\u001b[38;5;124m'\u001b[39m]]\n",
      "\u001b[1;31mNameError\u001b[0m: name 'df1' is not defined"
     ]
    }
   ],
   "source": [
    "df_TFIDF_1[(df_TFIDF_1['pos'] == 'NOUN') | (df1['pos'] == 'VERB')].head(10)[['word','tfidf','pos','ner_tag']]"
   ]
  },
  {
   "cell_type": "code",
   "execution_count": null,
   "id": "4a004f1b",
   "metadata": {},
   "outputs": [],
   "source": []
  },
  {
   "cell_type": "code",
   "execution_count": null,
   "id": "cf502680",
   "metadata": {},
   "outputs": [],
   "source": []
  },
  {
   "cell_type": "code",
   "execution_count": null,
   "id": "0f8465dd",
   "metadata": {},
   "outputs": [],
   "source": []
  }
 ],
 "metadata": {
  "kernelspec": {
   "display_name": "Python 3 (ipykernel)",
   "language": "python",
   "name": "python3"
  },
  "language_info": {
   "codemirror_mode": {
    "name": "ipython",
    "version": 3
   },
   "file_extension": ".py",
   "mimetype": "text/x-python",
   "name": "python",
   "nbconvert_exporter": "python",
   "pygments_lexer": "ipython3",
   "version": "3.9.9"
  }
 },
 "nbformat": 4,
 "nbformat_minor": 5
}
