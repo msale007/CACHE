{
 "cells": [
  {
   "cell_type": "code",
   "execution_count": 1,
   "id": "2e53733b",
   "metadata": {},
   "outputs": [],
   "source": [
    "import pandas as pd\n",
    "import numpy as np\n",
    "\n",
    "import os, json"
   ]
  },
  {
   "cell_type": "code",
   "execution_count": 2,
   "id": "f5cdcb7f",
   "metadata": {},
   "outputs": [
    {
     "name": "stderr",
     "output_type": "stream",
     "text": [
      "C:\\Users\\msalehi\\AppData\\Roaming\\Python\\Python39\\site-packages\\tqdm\\auto.py:22: TqdmWarning: IProgress not found. Please update jupyter and ipywidgets. See https://ipywidgets.readthedocs.io/en/stable/user_install.html\n",
      "  from .autonotebook import tqdm as notebook_tqdm\n"
     ]
    }
   ],
   "source": [
    "import spacy\n",
    "nlp = spacy.load('en_core_web_sm')"
   ]
  },
  {
   "cell_type": "markdown",
   "id": "a80b524f",
   "metadata": {},
   "source": [
    "## Read rssPMData "
   ]
  },
  {
   "cell_type": "code",
   "execution_count": 3,
   "id": "ffa9baa0",
   "metadata": {},
   "outputs": [
    {
     "name": "stdout",
     "output_type": "stream",
     "text": [
      "[]\n"
     ]
    }
   ],
   "source": [
    "path_to_json = 'rssPMData'\n",
    "json_files = [pos_json for pos_json in os.listdir(path_to_json) if pos_json.endswith('.json')]\n",
    "print(json_files)"
   ]
  },
  {
   "cell_type": "code",
   "execution_count": 4,
   "id": "f89e12f1",
   "metadata": {},
   "outputs": [],
   "source": [
    "data_list = []\n",
    "for root, dirs, files in os.walk('rssPMData'):\n",
    "     for file in files:\n",
    "        with open(os.path.join(root, file), \"r\") as auto:\n",
    "            json_data = auto.read()\n",
    "            #print(json_data)\n",
    "            data_list.append(json_data)"
   ]
  },
  {
   "cell_type": "code",
   "execution_count": 5,
   "id": "5ba3ebc5",
   "metadata": {},
   "outputs": [
    {
     "data": {
      "text/plain": [
       "195"
      ]
     },
     "execution_count": 5,
     "metadata": {},
     "output_type": "execute_result"
    }
   ],
   "source": [
    "len(data_list)"
   ]
  },
  {
   "cell_type": "code",
   "execution_count": 6,
   "id": "b8fb9bcc",
   "metadata": {},
   "outputs": [
    {
     "data": {
      "text/plain": [
       "list"
      ]
     },
     "execution_count": 6,
     "metadata": {},
     "output_type": "execute_result"
    }
   ],
   "source": [
    "type(data_list)"
   ]
  },
  {
   "cell_type": "code",
   "execution_count": 7,
   "id": "dc44cb05",
   "metadata": {},
   "outputs": [
    {
     "data": {
      "text/plain": [
       "'{\"header_title\": \"5 Major Software Architecture Patterns\", \"date\": \"Tue, 02 Jun 2020 08:09:26 +0000\", \"text\": \"Share This PostTable of ContentsIn the Global Software Architecture Summit we were discussing software architecture patterns a lot and I decided to write an article about it, highlighting leading software architects insights.\\\\u00a0\\\\u00a0\\\\u00a0\\\\u00a0Architectural patterns are ways of capturing proven good design structures, so that they can be reused. Software architects have been looking for ways to capture and reuse the architectural knowledge that have proven successful in the past.\\\\u00a0More specifically, an architectural pattern is a package of design decisions that is found repeatedly in practice, has well defined properties that can be reused and describes a class of architectures.\\\\u00a0Developing an architecture can be seen as a process of selecting, tailoring, and combining patterns. The software architect must decide how to instantiate a pattern, how to make it fit with the specific context and the constraints of the problem. And later on we will discuss it more in details.\\\\u00a0Mark Richards wrote a book called \\\\u00e2\\\\u0080\\\\u009cSoftware Architecture Patterns\\\\u00e2\\\\u0080\\\\u009d\\\\u00a0 according to him, there are 5 major software architecture patterns:\\\\u00a0 microkernel, microservices, Layered architecture, event-based, and space-based. Btw, if you would like to meet Mark in person, he will give a hands-on workshop in Global Software Architecture Summit in Barcelona ( October, 1-2 ) or you can attend his more extended workshop in Apium Academy.\\\\u00a0\\\\u00a0\\\\u00a0The microkernel architectural pattern is also referred to as a plug-in architectural pattern. It is typically used when software teams create systems with interchangeable components.\\\\u00a0It applies to software systems that must be able to adapt to changing system requirements. It separates a minimal functional core from extended functionality and customer-specific parts. Itl also serves as a socket for plugging in these extensions and coordinating their collaboration.\\\\u00a0The microkernel architecture pattern is a natural pattern for implementing product-based applications. And a product-based application is one that is packaged and made available for download in versions as a typical third-party product. However, many companies also develop and release their internal business applications like software products, complete with versions, release notes, and pluggable features.The microkernel architecture pattern allows you to add additional application features as plug-ins to the core application, providing extensibility as well as feature separation and isolation.\\\\u00a0The microkernel architecture pattern consists of two types of architecture components: a core system and plug-in modules. Application logic is divided between independent plug-in modules and the basic core system, providing extensibility, flexibility, and isolation of application features and custom processing logic. And the core system of the microkernel architecture pattern traditionally contains only the minimal functionality required to make the system operational.\\\\u00a0\\\\u00a0Perhaps the best example of the microkernel architecture is the Eclipse IDE. Downloading the basic Eclipse product provides you little more than an editor. However, once you start adding plug-ins, it becomes a highly customizable and useful product.\\\\u00a0\\\\u00a0Advantages:\\\\u00a0\\\\u00a0Best for:\\\\u00a0When you write your application as a set of microservices, you\\\\u00e2\\\\u0080\\\\u0099re actually writing multiple applications that will work together. Each microservice has its own distinct responsibility and teams can develop them independently of other microservices. The only dependency between them is the communication. As microservices communicate with each other, you will have to make sure messages sent between them remain backwards-compatible.\\\\u00a0\\\\u00a0Advantages\\\\u00a0\\\\u00a0Best for:\\\\u00a0The most common architecture pattern is the layered architecture pattern. Layered architecture patterns are n-tiered patterns where the components are organized in horizontal layers. This is the traditional method for designing most software and is meant to be self-independent. This means that all the components are interconnected but do not depend on each other. Each layer of the layered architecture pattern has a specific role and responsibility within the application. For example, a presentation layer would be responsible for handling all user interface and browser communication logic, whereas a business layer would be responsible for executing specific business rules associated with the request.\\\\u00a0One of the powerful features of the layered architecture pattern is the separation of concerns among components. Components within a specific layer deal only with logic that pertains to that layer.\\\\u00a0\\\\u00a0Advantages\\\\u00a0\\\\u00a0Best for:\\\\u00a0This is the most common distributed asynchronous architecture used to develop highly scalable system. The architecture consists of single-purpose event processing components that listen on events and process them asynchronously. The event-driven architecture builds a central unit that accepts all data and then delegates it to the separate modules that handle the particular type.\\\\u00a0\\\\u00a0Advantages\\\\u00a0\\\\u00a0Best for:\\\\u00a0The space-based architecture pattern is specifically designed to address and solve scalability and concurrency issues. It is also a useful architecture pattern for applications that have variable and unpredictable concurrent user volumes.\\\\u00a0 High scalability is achieved by removing the central database constraint and using replicated in-memory data grids instead.\\\\u00a0The space-based architecture is designed to avoid functional collapse under high load by splitting up both the processing and the storage between multiple servers.\\\\u00a0\\\\u00a0Advantages\\\\u00a0\\\\u00a0Best for:\\\\u00a0I hope you found this article useful, if you believe there are other patterns that should be listed here, feel free to share them in the comments section below! And if you have any questions, send us a message, we would be happy to help, as this is our expertise!\\\\u00a0\\\\u00a0  View all posts  Your email address will not be published. Required fields are marked *You may use these HTML tags and attributes: <a href=\\\\\"\\\\\" title=\\\\\"\\\\\"> <abbr title=\\\\\"\\\\\"> <acronym title=\\\\\"\\\\\"> <b> <blockquote cite=\\\\\"\\\\\"> <cite> <code> <del datetime=\\\\\"\\\\\"> <em> <i> <q cite=\\\\\"\\\\\"> <s> <strike> <strong>  Save my name, email, and website in this browser for the next time I comment.   \\\\u0394Subscribe To Our NewsletterGet updates from our latest tech findings    Apiumhub brings together a community of software developers & architects to help you transform your idea into a powerful and scalable product. Our Tech Hub specialises in\\\\u00a0Software Architecture,\\\\u00a0Web Development\\\\u00a0&\\\\u00a0Mobile App Development. Here we share with you industry tips & best practices, based on our experience.Have a challenging project? We Can Work On It Together  DevSecOps: Future for DevOps?    Apiumhub as Partner of the Data Innovation Summit 2023\\\\u00a0    JSON in Kotlin: Comparing Options    The Data Leakage Nightmare in AI  Receive the latest tech industry news and events\\\\u00c2\\\\u00a9 2022 Apiumhub All rights reserved\", \"url\": \"https://apiumhub.com/tech-blog-barcelona/major-software-architecture-patterns/\"}'"
      ]
     },
     "execution_count": 7,
     "metadata": {},
     "output_type": "execute_result"
    }
   ],
   "source": [
    "data_list[0]"
   ]
  },
  {
   "cell_type": "code",
   "execution_count": 8,
   "id": "72beb9e9",
   "metadata": {},
   "outputs": [],
   "source": [
    "from ast import literal_eval\n",
    "tup = literal_eval(data_list[0])"
   ]
  },
  {
   "cell_type": "code",
   "execution_count": 9,
   "id": "548ee9ce",
   "metadata": {},
   "outputs": [
    {
     "data": {
      "text/plain": [
       "'5 Major Software Architecture Patterns'"
      ]
     },
     "execution_count": 9,
     "metadata": {},
     "output_type": "execute_result"
    }
   ],
   "source": [
    "tup['header_title']"
   ]
  },
  {
   "cell_type": "code",
   "execution_count": 10,
   "id": "ae8c8418",
   "metadata": {},
   "outputs": [],
   "source": [
    "# tup['text']"
   ]
  },
  {
   "cell_type": "code",
   "execution_count": 11,
   "id": "fe533221",
   "metadata": {},
   "outputs": [],
   "source": [
    "header_title = []\n",
    "text = []\n",
    "\n",
    "for i in range(len(data_list)):\n",
    "    tup = literal_eval(data_list[i])\n",
    "    header_title.append(tup['header_title'])\n",
    "    text.append(tup['text'])"
   ]
  },
  {
   "cell_type": "code",
   "execution_count": 12,
   "id": "e8aae6db",
   "metadata": {},
   "outputs": [
    {
     "data": {
      "text/plain": [
       "195"
      ]
     },
     "execution_count": 12,
     "metadata": {},
     "output_type": "execute_result"
    }
   ],
   "source": [
    "len(header_title)"
   ]
  },
  {
   "cell_type": "code",
   "execution_count": 13,
   "id": "1a5215a8",
   "metadata": {},
   "outputs": [],
   "source": [
    "df = pd.DataFrame()\n",
    "df['header_title'] = header_title\n",
    "df['text'] = text"
   ]
  },
  {
   "cell_type": "code",
   "execution_count": 14,
   "id": "800694c7",
   "metadata": {},
   "outputs": [
    {
     "data": {
      "text/plain": [
       "(195, 2)"
      ]
     },
     "execution_count": 14,
     "metadata": {},
     "output_type": "execute_result"
    }
   ],
   "source": [
    "df.shape"
   ]
  },
  {
   "cell_type": "code",
   "execution_count": 15,
   "id": "0fe924ca",
   "metadata": {},
   "outputs": [
    {
     "data": {
      "text/plain": [
       "header_title    0\n",
       "text            0\n",
       "dtype: int64"
      ]
     },
     "execution_count": 15,
     "metadata": {},
     "output_type": "execute_result"
    }
   ],
   "source": [
    "df.isnull().sum()"
   ]
  },
  {
   "cell_type": "markdown",
   "id": "480a1fb3",
   "metadata": {},
   "source": [
    "## Cleaning"
   ]
  },
  {
   "cell_type": "code",
   "execution_count": 16,
   "id": "efb52897",
   "metadata": {},
   "outputs": [],
   "source": [
    "# function to clean data\n",
    "#lower case\n",
    "#remove stop words\n",
    "#lemmatization\n",
    "\n",
    "def cleanData(doc):\n",
    "    doc = doc.lower()\n",
    "    doc = nlp(doc)\n",
    "    tokens = [tokens.lower_ for tokens in doc]\n",
    "    tokens = [tokens for tokens in doc if (tokens.is_stop == False)]\n",
    "    tokens = [tokens for tokens in tokens if (tokens.is_punct == False)]\n",
    "    final_token = [token.lemma_ for token in tokens]\n",
    "    \n",
    "    return \" \".join(final_token)"
   ]
  },
  {
   "cell_type": "code",
   "execution_count": 17,
   "id": "96102ce8",
   "metadata": {},
   "outputs": [],
   "source": [
    "df['clean'] = df.apply(lambda row:cleanData (row['text']),axis=1)"
   ]
  },
  {
   "cell_type": "code",
   "execution_count": 18,
   "id": "4ff86e7d",
   "metadata": {},
   "outputs": [
    {
     "data": {
      "text/html": [
       "<div>\n",
       "<style scoped>\n",
       "    .dataframe tbody tr th:only-of-type {\n",
       "        vertical-align: middle;\n",
       "    }\n",
       "\n",
       "    .dataframe tbody tr th {\n",
       "        vertical-align: top;\n",
       "    }\n",
       "\n",
       "    .dataframe thead th {\n",
       "        text-align: right;\n",
       "    }\n",
       "</style>\n",
       "<table border=\"1\" class=\"dataframe\">\n",
       "  <thead>\n",
       "    <tr style=\"text-align: right;\">\n",
       "      <th></th>\n",
       "      <th>header_title</th>\n",
       "      <th>text</th>\n",
       "      <th>clean</th>\n",
       "    </tr>\n",
       "  </thead>\n",
       "  <tbody>\n",
       "    <tr>\n",
       "      <th>0</th>\n",
       "      <td>5 Major Software Architecture Patterns</td>\n",
       "      <td>Share This PostTable of ContentsIn the Global ...</td>\n",
       "      <td>share posttable contentsin global software arc...</td>\n",
       "    </tr>\n",
       "    <tr>\n",
       "      <th>1</th>\n",
       "      <td>Apiumhub as Partner of the Data Innovation Sum...</td>\n",
       "      <td>Share This PostTable of ContentsWe are excited...</td>\n",
       "      <td>share posttable contentswe excited announce se...</td>\n",
       "    </tr>\n",
       "    <tr>\n",
       "      <th>2</th>\n",
       "      <td>Apiumhub becomes a partner of the Global Summi...</td>\n",
       "      <td>Share This PostTable of ContentsGeekle’s onlin...</td>\n",
       "      <td>share posttable contentsgeekle online conferen...</td>\n",
       "    </tr>\n",
       "    <tr>\n",
       "      <th>3</th>\n",
       "      <td>DevSecOps: Future for DevOps?</td>\n",
       "      <td>Share This PostTable of ContentsDigital foster...</td>\n",
       "      <td>share posttable contentsdigital foster culture...</td>\n",
       "    </tr>\n",
       "    <tr>\n",
       "      <th>4</th>\n",
       "      <td>GSAS Workshop: Become a Software Design Company</td>\n",
       "      <td>Share This PostTable of ContentsOn October 3rd...</td>\n",
       "      <td>share posttable contentson october 3rd 4th 202...</td>\n",
       "    </tr>\n",
       "  </tbody>\n",
       "</table>\n",
       "</div>"
      ],
      "text/plain": [
       "                                        header_title  \\\n",
       "0             5 Major Software Architecture Patterns   \n",
       "1  Apiumhub as Partner of the Data Innovation Sum...   \n",
       "2  Apiumhub becomes a partner of the Global Summi...   \n",
       "3                      DevSecOps: Future for DevOps?   \n",
       "4    GSAS Workshop: Become a Software Design Company   \n",
       "\n",
       "                                                text  \\\n",
       "0  Share This PostTable of ContentsIn the Global ...   \n",
       "1  Share This PostTable of ContentsWe are excited...   \n",
       "2  Share This PostTable of ContentsGeekle’s onlin...   \n",
       "3  Share This PostTable of ContentsDigital foster...   \n",
       "4  Share This PostTable of ContentsOn October 3rd...   \n",
       "\n",
       "                                               clean  \n",
       "0  share posttable contentsin global software arc...  \n",
       "1  share posttable contentswe excited announce se...  \n",
       "2  share posttable contentsgeekle online conferen...  \n",
       "3  share posttable contentsdigital foster culture...  \n",
       "4  share posttable contentson october 3rd 4th 202...  "
      ]
     },
     "execution_count": 18,
     "metadata": {},
     "output_type": "execute_result"
    }
   ],
   "source": [
    "df.head()"
   ]
  },
  {
   "cell_type": "markdown",
   "id": "a6d7fc09",
   "metadata": {},
   "source": [
    "## Implement NLP techniques"
   ]
  },
  {
   "cell_type": "markdown",
   "id": "0fb540f8",
   "metadata": {},
   "source": [
    "https://kavita-ganesan.com/tfidftransformer-tfidfvectorizer-usage-differences/#.Y-Zq4XbMI2w"
   ]
  },
  {
   "cell_type": "markdown",
   "id": "57bf0972",
   "metadata": {},
   "source": [
    "### Calculate IDF"
   ]
  },
  {
   "cell_type": "code",
   "execution_count": 19,
   "id": "b3908887",
   "metadata": {},
   "outputs": [],
   "source": [
    "import pandas as pd \n",
    "from sklearn.feature_extraction.text import TfidfTransformer \n",
    "from sklearn.feature_extraction.text import CountVectorizer"
   ]
  },
  {
   "cell_type": "code",
   "execution_count": 20,
   "id": "80b37afa",
   "metadata": {},
   "outputs": [],
   "source": [
    "# CountVectorizer() \n",
    "cv=CountVectorizer() \n",
    "# this steps generates word counts for the words in all docs \n",
    "word_count_vector=cv.fit_transform(df['clean'])"
   ]
  },
  {
   "cell_type": "code",
   "execution_count": 21,
   "id": "903493a6",
   "metadata": {},
   "outputs": [
    {
     "data": {
      "text/plain": [
       "(195, 8046)"
      ]
     },
     "execution_count": 21,
     "metadata": {},
     "output_type": "execute_result"
    }
   ],
   "source": [
    "word_count_vector.shape"
   ]
  },
  {
   "cell_type": "code",
   "execution_count": 22,
   "id": "82be6d6a",
   "metadata": {},
   "outputs": [
    {
     "data": {
      "text/plain": [
       "(195, 8046)"
      ]
     },
     "execution_count": 22,
     "metadata": {},
     "output_type": "execute_result"
    }
   ],
   "source": [
    "# Compute idf weights\n",
    "tfidf_transformer=TfidfTransformer(smooth_idf=True,use_idf=True) \n",
    "all_text_df_tfidf = tfidf_transformer.fit_transform(word_count_vector)\n",
    "all_text_df_tfidf.shape"
   ]
  },
  {
   "cell_type": "code",
   "execution_count": 23,
   "id": "3e956f03",
   "metadata": {},
   "outputs": [
    {
     "data": {
      "text/html": [
       "<div>\n",
       "<style scoped>\n",
       "    .dataframe tbody tr th:only-of-type {\n",
       "        vertical-align: middle;\n",
       "    }\n",
       "\n",
       "    .dataframe tbody tr th {\n",
       "        vertical-align: top;\n",
       "    }\n",
       "\n",
       "    .dataframe thead th {\n",
       "        text-align: right;\n",
       "    }\n",
       "</style>\n",
       "<table border=\"1\" class=\"dataframe\">\n",
       "  <thead>\n",
       "    <tr style=\"text-align: right;\">\n",
       "      <th></th>\n",
       "      <th>idf_weights</th>\n",
       "    </tr>\n",
       "  </thead>\n",
       "  <tbody>\n",
       "    <tr>\n",
       "      <th>00</th>\n",
       "      <td>5.584967</td>\n",
       "    </tr>\n",
       "    <tr>\n",
       "      <th>millennial</th>\n",
       "      <td>5.584967</td>\n",
       "    </tr>\n",
       "    <tr>\n",
       "      <th>mileage</th>\n",
       "      <td>5.584967</td>\n",
       "    </tr>\n",
       "    <tr>\n",
       "      <th>mile</th>\n",
       "      <td>5.584967</td>\n",
       "    </tr>\n",
       "    <tr>\n",
       "      <th>midweek</th>\n",
       "      <td>5.584967</td>\n",
       "    </tr>\n",
       "  </tbody>\n",
       "</table>\n",
       "</div>"
      ],
      "text/plain": [
       "            idf_weights\n",
       "00             5.584967\n",
       "millennial     5.584967\n",
       "mileage        5.584967\n",
       "mile           5.584967\n",
       "midweek        5.584967"
      ]
     },
     "execution_count": 23,
     "metadata": {},
     "output_type": "execute_result"
    }
   ],
   "source": [
    "# print idf values \n",
    "df_idf = pd.DataFrame(tfidf_transformer.idf_, index=cv.get_feature_names_out(),columns=[\"idf_weights\"]) \n",
    "# sort ascending \n",
    "df_idf.sort_values(by=['idf_weights'],ascending=False).head()"
   ]
  },
  {
   "cell_type": "markdown",
   "id": "9fcc4e1e",
   "metadata": {},
   "source": [
    "<font color=green> The higher idf_weights means most unique word in any particular doc</font>"
   ]
  },
  {
   "cell_type": "markdown",
   "id": "a8d251ac",
   "metadata": {},
   "source": [
    "### Calculate TF-IDF"
   ]
  },
  {
   "cell_type": "code",
   "execution_count": 24,
   "id": "42a08a0f",
   "metadata": {},
   "outputs": [],
   "source": [
    "# count matrix \n",
    "count_vector=cv.transform(df['clean']) \n",
    "# tf-idf scores \n",
    "tf_idf_vector=tfidf_transformer.transform(count_vector)"
   ]
  },
  {
   "cell_type": "code",
   "execution_count": 44,
   "id": "301b58c5",
   "metadata": {},
   "outputs": [],
   "source": [
    "feature_names = cv.get_feature_names_out() \n",
    "#get tfidf vector for first document \n",
    "first_document_vector=tf_idf_vector[10] \n",
    "#print the scores \n",
    "df_TFIDF = pd.DataFrame(first_document_vector.T.todense(), index=feature_names, columns=[\"tfidf\"]) \n",
    "df_TFIDF=df_TFIDF.sort_values(by=[\"tfidf\"],ascending=False)"
   ]
  },
  {
   "cell_type": "code",
   "execution_count": 45,
   "id": "a79bc012",
   "metadata": {},
   "outputs": [
    {
     "data": {
      "text/html": [
       "<div>\n",
       "<style scoped>\n",
       "    .dataframe tbody tr th:only-of-type {\n",
       "        vertical-align: middle;\n",
       "    }\n",
       "\n",
       "    .dataframe tbody tr th {\n",
       "        vertical-align: top;\n",
       "    }\n",
       "\n",
       "    .dataframe thead th {\n",
       "        text-align: right;\n",
       "    }\n",
       "</style>\n",
       "<table border=\"1\" class=\"dataframe\">\n",
       "  <thead>\n",
       "    <tr style=\"text-align: right;\">\n",
       "      <th></th>\n",
       "      <th>tfidf</th>\n",
       "    </tr>\n",
       "  </thead>\n",
       "  <tbody>\n",
       "    <tr>\n",
       "      <th>leakage</th>\n",
       "      <td>0.369051</td>\n",
       "    </tr>\n",
       "    <tr>\n",
       "      <th>datum</th>\n",
       "      <td>0.311054</td>\n",
       "    </tr>\n",
       "    <tr>\n",
       "      <th>model</th>\n",
       "      <td>0.247200</td>\n",
       "    </tr>\n",
       "    <tr>\n",
       "      <th>information</th>\n",
       "      <td>0.161332</td>\n",
       "    </tr>\n",
       "    <tr>\n",
       "      <th>production</th>\n",
       "      <td>0.154063</td>\n",
       "    </tr>\n",
       "    <tr>\n",
       "      <th>artificial</th>\n",
       "      <td>0.151754</td>\n",
       "    </tr>\n",
       "    <tr>\n",
       "      <th>machine</th>\n",
       "      <td>0.149458</td>\n",
       "    </tr>\n",
       "    <tr>\n",
       "      <th>ai</th>\n",
       "      <td>0.138922</td>\n",
       "    </tr>\n",
       "    <tr>\n",
       "      <th>cv</th>\n",
       "      <td>0.122725</td>\n",
       "    </tr>\n",
       "    <tr>\n",
       "      <th>base</th>\n",
       "      <td>0.117231</td>\n",
       "    </tr>\n",
       "  </tbody>\n",
       "</table>\n",
       "</div>"
      ],
      "text/plain": [
       "                tfidf\n",
       "leakage      0.369051\n",
       "datum        0.311054\n",
       "model        0.247200\n",
       "information  0.161332\n",
       "production   0.154063\n",
       "artificial   0.151754\n",
       "machine      0.149458\n",
       "ai           0.138922\n",
       "cv           0.122725\n",
       "base         0.117231"
      ]
     },
     "execution_count": 45,
     "metadata": {},
     "output_type": "execute_result"
    }
   ],
   "source": [
    "df_TFIDF.head(10)"
   ]
  },
  {
   "cell_type": "markdown",
   "id": "47afc12e",
   "metadata": {},
   "source": [
    "<font color=green>the more unique a word is to our first document, the higher the score"
   ]
  },
  {
   "cell_type": "code",
   "execution_count": 46,
   "id": "d1835f87",
   "metadata": {},
   "outputs": [],
   "source": [
    "def POS(clean):\n",
    "    clean = nlp(clean)\n",
    "    for token in clean:\n",
    "        return(token.pos_) "
   ]
  },
  {
   "cell_type": "markdown",
   "id": "fa9a8c75",
   "metadata": {},
   "source": [
    "# Word Extraction Based on TF-IDF"
   ]
  },
  {
   "cell_type": "markdown",
   "id": "2145f171",
   "metadata": {},
   "source": [
    "###  doc #10"
   ]
  },
  {
   "cell_type": "markdown",
   "id": "3c6062fb",
   "metadata": {},
   "source": [
    "### Title : ''The Data Leakage Nightmare in AI''"
   ]
  },
  {
   "cell_type": "code",
   "execution_count": 47,
   "id": "bed3b844",
   "metadata": {},
   "outputs": [],
   "source": [
    "# df['header_title'][10]"
   ]
  },
  {
   "cell_type": "code",
   "execution_count": 48,
   "id": "431a28de",
   "metadata": {},
   "outputs": [],
   "source": [
    "# Most frequent words\n",
    "df_TFIDF = df_TFIDF.reset_index(names=['word', 'tfidf'])\n",
    "df_TFIDF['pos'] = df_TFIDF.apply(lambda row:POS (row['word']),axis=1)"
   ]
  },
  {
   "cell_type": "code",
   "execution_count": 49,
   "id": "3d70e16b",
   "metadata": {},
   "outputs": [],
   "source": [
    "df_TFIDF_1 = df_TFIDF[(df_TFIDF['word'].str.len()) > 3]"
   ]
  },
  {
   "cell_type": "code",
   "execution_count": 50,
   "id": "dd63d6ef",
   "metadata": {},
   "outputs": [
    {
     "name": "stdout",
     "output_type": "stream",
     "text": [
      "Most Frequent Words Based on TF-IDF:\n"
     ]
    },
    {
     "data": {
      "text/html": [
       "<div>\n",
       "<style scoped>\n",
       "    .dataframe tbody tr th:only-of-type {\n",
       "        vertical-align: middle;\n",
       "    }\n",
       "\n",
       "    .dataframe tbody tr th {\n",
       "        vertical-align: top;\n",
       "    }\n",
       "\n",
       "    .dataframe thead th {\n",
       "        text-align: right;\n",
       "    }\n",
       "</style>\n",
       "<table border=\"1\" class=\"dataframe\">\n",
       "  <thead>\n",
       "    <tr style=\"text-align: right;\">\n",
       "      <th></th>\n",
       "      <th>word</th>\n",
       "      <th>tfidf</th>\n",
       "      <th>pos</th>\n",
       "    </tr>\n",
       "  </thead>\n",
       "  <tbody>\n",
       "    <tr>\n",
       "      <th>0</th>\n",
       "      <td>leakage</td>\n",
       "      <td>0.369051</td>\n",
       "      <td>NOUN</td>\n",
       "    </tr>\n",
       "    <tr>\n",
       "      <th>1</th>\n",
       "      <td>datum</td>\n",
       "      <td>0.311054</td>\n",
       "      <td>PROPN</td>\n",
       "    </tr>\n",
       "    <tr>\n",
       "      <th>2</th>\n",
       "      <td>model</td>\n",
       "      <td>0.247200</td>\n",
       "      <td>NOUN</td>\n",
       "    </tr>\n",
       "    <tr>\n",
       "      <th>3</th>\n",
       "      <td>information</td>\n",
       "      <td>0.161332</td>\n",
       "      <td>NOUN</td>\n",
       "    </tr>\n",
       "    <tr>\n",
       "      <th>4</th>\n",
       "      <td>production</td>\n",
       "      <td>0.154063</td>\n",
       "      <td>NOUN</td>\n",
       "    </tr>\n",
       "    <tr>\n",
       "      <th>5</th>\n",
       "      <td>artificial</td>\n",
       "      <td>0.151754</td>\n",
       "      <td>ADJ</td>\n",
       "    </tr>\n",
       "    <tr>\n",
       "      <th>6</th>\n",
       "      <td>machine</td>\n",
       "      <td>0.149458</td>\n",
       "      <td>NOUN</td>\n",
       "    </tr>\n",
       "    <tr>\n",
       "      <th>9</th>\n",
       "      <td>base</td>\n",
       "      <td>0.117231</td>\n",
       "      <td>NOUN</td>\n",
       "    </tr>\n",
       "    <tr>\n",
       "      <th>10</th>\n",
       "      <td>predict</td>\n",
       "      <td>0.116479</td>\n",
       "      <td>VERB</td>\n",
       "    </tr>\n",
       "    <tr>\n",
       "      <th>11</th>\n",
       "      <td>actor</td>\n",
       "      <td>0.113816</td>\n",
       "      <td>NOUN</td>\n",
       "    </tr>\n",
       "  </tbody>\n",
       "</table>\n",
       "</div>"
      ],
      "text/plain": [
       "           word     tfidf    pos\n",
       "0       leakage  0.369051   NOUN\n",
       "1         datum  0.311054  PROPN\n",
       "2         model  0.247200   NOUN\n",
       "3   information  0.161332   NOUN\n",
       "4    production  0.154063   NOUN\n",
       "5    artificial  0.151754    ADJ\n",
       "6       machine  0.149458   NOUN\n",
       "9          base  0.117231   NOUN\n",
       "10      predict  0.116479   VERB\n",
       "11        actor  0.113816   NOUN"
      ]
     },
     "execution_count": 50,
     "metadata": {},
     "output_type": "execute_result"
    }
   ],
   "source": [
    "print('Most Frequent Words Based on TF-IDF:')\n",
    "df_TFIDF_1.head(10)"
   ]
  },
  {
   "cell_type": "code",
   "execution_count": 51,
   "id": "83bc9be9",
   "metadata": {},
   "outputs": [
    {
     "name": "stdout",
     "output_type": "stream",
     "text": [
      "Most frequent words based on NOUN and VERB\n"
     ]
    },
    {
     "data": {
      "text/html": [
       "<div>\n",
       "<style scoped>\n",
       "    .dataframe tbody tr th:only-of-type {\n",
       "        vertical-align: middle;\n",
       "    }\n",
       "\n",
       "    .dataframe tbody tr th {\n",
       "        vertical-align: top;\n",
       "    }\n",
       "\n",
       "    .dataframe thead th {\n",
       "        text-align: right;\n",
       "    }\n",
       "</style>\n",
       "<table border=\"1\" class=\"dataframe\">\n",
       "  <thead>\n",
       "    <tr style=\"text-align: right;\">\n",
       "      <th></th>\n",
       "      <th>word</th>\n",
       "      <th>tfidf</th>\n",
       "    </tr>\n",
       "  </thead>\n",
       "  <tbody>\n",
       "    <tr>\n",
       "      <th>0</th>\n",
       "      <td>leakage</td>\n",
       "      <td>0.369051</td>\n",
       "    </tr>\n",
       "    <tr>\n",
       "      <th>2</th>\n",
       "      <td>model</td>\n",
       "      <td>0.247200</td>\n",
       "    </tr>\n",
       "    <tr>\n",
       "      <th>3</th>\n",
       "      <td>information</td>\n",
       "      <td>0.161332</td>\n",
       "    </tr>\n",
       "    <tr>\n",
       "      <th>4</th>\n",
       "      <td>production</td>\n",
       "      <td>0.154063</td>\n",
       "    </tr>\n",
       "    <tr>\n",
       "      <th>6</th>\n",
       "      <td>machine</td>\n",
       "      <td>0.149458</td>\n",
       "    </tr>\n",
       "    <tr>\n",
       "      <th>9</th>\n",
       "      <td>base</td>\n",
       "      <td>0.117231</td>\n",
       "    </tr>\n",
       "    <tr>\n",
       "      <th>10</th>\n",
       "      <td>predict</td>\n",
       "      <td>0.116479</td>\n",
       "    </tr>\n",
       "    <tr>\n",
       "      <th>11</th>\n",
       "      <td>actor</td>\n",
       "      <td>0.113816</td>\n",
       "    </tr>\n",
       "    <tr>\n",
       "      <th>12</th>\n",
       "      <td>application</td>\n",
       "      <td>0.113793</td>\n",
       "    </tr>\n",
       "    <tr>\n",
       "      <th>13</th>\n",
       "      <td>intelligence</td>\n",
       "      <td>0.113687</td>\n",
       "    </tr>\n",
       "  </tbody>\n",
       "</table>\n",
       "</div>"
      ],
      "text/plain": [
       "            word     tfidf\n",
       "0        leakage  0.369051\n",
       "2          model  0.247200\n",
       "3    information  0.161332\n",
       "4     production  0.154063\n",
       "6        machine  0.149458\n",
       "9           base  0.117231\n",
       "10       predict  0.116479\n",
       "11         actor  0.113816\n",
       "12   application  0.113793\n",
       "13  intelligence  0.113687"
      ]
     },
     "execution_count": 51,
     "metadata": {},
     "output_type": "execute_result"
    }
   ],
   "source": [
    "print('Most frequent words based on NOUN and VERB')\n",
    "df_TFIDF_1[(df_TFIDF_1['pos'] == 'NOUN') | (df_TFIDF_1['pos'] == 'VERB')].head(10)[['word','tfidf']]"
   ]
  },
  {
   "cell_type": "code",
   "execution_count": 52,
   "id": "fefffc53",
   "metadata": {},
   "outputs": [
    {
     "name": "stdout",
     "output_type": "stream",
     "text": [
      "Most frequent words Based on NOUN\n"
     ]
    },
    {
     "data": {
      "text/html": [
       "<div>\n",
       "<style scoped>\n",
       "    .dataframe tbody tr th:only-of-type {\n",
       "        vertical-align: middle;\n",
       "    }\n",
       "\n",
       "    .dataframe tbody tr th {\n",
       "        vertical-align: top;\n",
       "    }\n",
       "\n",
       "    .dataframe thead th {\n",
       "        text-align: right;\n",
       "    }\n",
       "</style>\n",
       "<table border=\"1\" class=\"dataframe\">\n",
       "  <thead>\n",
       "    <tr style=\"text-align: right;\">\n",
       "      <th></th>\n",
       "      <th>word</th>\n",
       "      <th>tfidf</th>\n",
       "    </tr>\n",
       "  </thead>\n",
       "  <tbody>\n",
       "    <tr>\n",
       "      <th>0</th>\n",
       "      <td>leakage</td>\n",
       "      <td>0.369051</td>\n",
       "    </tr>\n",
       "    <tr>\n",
       "      <th>2</th>\n",
       "      <td>model</td>\n",
       "      <td>0.247200</td>\n",
       "    </tr>\n",
       "    <tr>\n",
       "      <th>3</th>\n",
       "      <td>information</td>\n",
       "      <td>0.161332</td>\n",
       "    </tr>\n",
       "    <tr>\n",
       "      <th>4</th>\n",
       "      <td>production</td>\n",
       "      <td>0.154063</td>\n",
       "    </tr>\n",
       "    <tr>\n",
       "      <th>6</th>\n",
       "      <td>machine</td>\n",
       "      <td>0.149458</td>\n",
       "    </tr>\n",
       "    <tr>\n",
       "      <th>9</th>\n",
       "      <td>base</td>\n",
       "      <td>0.117231</td>\n",
       "    </tr>\n",
       "    <tr>\n",
       "      <th>11</th>\n",
       "      <td>actor</td>\n",
       "      <td>0.113816</td>\n",
       "    </tr>\n",
       "    <tr>\n",
       "      <th>12</th>\n",
       "      <td>application</td>\n",
       "      <td>0.113793</td>\n",
       "    </tr>\n",
       "    <tr>\n",
       "      <th>13</th>\n",
       "      <td>intelligence</td>\n",
       "      <td>0.113687</td>\n",
       "    </tr>\n",
       "    <tr>\n",
       "      <th>16</th>\n",
       "      <td>institution</td>\n",
       "      <td>0.107494</td>\n",
       "    </tr>\n",
       "  </tbody>\n",
       "</table>\n",
       "</div>"
      ],
      "text/plain": [
       "            word     tfidf\n",
       "0        leakage  0.369051\n",
       "2          model  0.247200\n",
       "3    information  0.161332\n",
       "4     production  0.154063\n",
       "6        machine  0.149458\n",
       "9           base  0.117231\n",
       "11         actor  0.113816\n",
       "12   application  0.113793\n",
       "13  intelligence  0.113687\n",
       "16   institution  0.107494"
      ]
     },
     "execution_count": 52,
     "metadata": {},
     "output_type": "execute_result"
    }
   ],
   "source": [
    "print('Most frequent words Based on NOUN')\n",
    "df_TFIDF_1[df_TFIDF_1['pos']=='NOUN'].head(10)[['word','tfidf']]"
   ]
  },
  {
   "cell_type": "code",
   "execution_count": 53,
   "id": "423adbad",
   "metadata": {},
   "outputs": [
    {
     "name": "stdout",
     "output_type": "stream",
     "text": [
      "Most frequent words Based on VERB\n"
     ]
    },
    {
     "data": {
      "text/html": [
       "<div>\n",
       "<style scoped>\n",
       "    .dataframe tbody tr th:only-of-type {\n",
       "        vertical-align: middle;\n",
       "    }\n",
       "\n",
       "    .dataframe tbody tr th {\n",
       "        vertical-align: top;\n",
       "    }\n",
       "\n",
       "    .dataframe thead th {\n",
       "        text-align: right;\n",
       "    }\n",
       "</style>\n",
       "<table border=\"1\" class=\"dataframe\">\n",
       "  <thead>\n",
       "    <tr style=\"text-align: right;\">\n",
       "      <th></th>\n",
       "      <th>word</th>\n",
       "      <th>tfidf</th>\n",
       "    </tr>\n",
       "  </thead>\n",
       "  <tbody>\n",
       "    <tr>\n",
       "      <th>10</th>\n",
       "      <td>predict</td>\n",
       "      <td>0.116479</td>\n",
       "    </tr>\n",
       "    <tr>\n",
       "      <th>14</th>\n",
       "      <td>occur</td>\n",
       "      <td>0.112041</td>\n",
       "    </tr>\n",
       "    <tr>\n",
       "      <th>15</th>\n",
       "      <td>training</td>\n",
       "      <td>0.108617</td>\n",
       "    </tr>\n",
       "    <tr>\n",
       "      <th>21</th>\n",
       "      <td>learning</td>\n",
       "      <td>0.096171</td>\n",
       "    </tr>\n",
       "    <tr>\n",
       "      <th>25</th>\n",
       "      <td>split</td>\n",
       "      <td>0.087359</td>\n",
       "    </tr>\n",
       "    <tr>\n",
       "      <th>28</th>\n",
       "      <td>underperform</td>\n",
       "      <td>0.081817</td>\n",
       "    </tr>\n",
       "    <tr>\n",
       "      <th>32</th>\n",
       "      <td>cite</td>\n",
       "      <td>0.081594</td>\n",
       "    </tr>\n",
       "    <tr>\n",
       "      <th>34</th>\n",
       "      <td>point</td>\n",
       "      <td>0.081219</td>\n",
       "    </tr>\n",
       "    <tr>\n",
       "      <th>36</th>\n",
       "      <td>train</td>\n",
       "      <td>0.078450</td>\n",
       "    </tr>\n",
       "    <tr>\n",
       "      <th>42</th>\n",
       "      <td>arise</td>\n",
       "      <td>0.070034</td>\n",
       "    </tr>\n",
       "  </tbody>\n",
       "</table>\n",
       "</div>"
      ],
      "text/plain": [
       "            word     tfidf\n",
       "10       predict  0.116479\n",
       "14         occur  0.112041\n",
       "15      training  0.108617\n",
       "21      learning  0.096171\n",
       "25         split  0.087359\n",
       "28  underperform  0.081817\n",
       "32          cite  0.081594\n",
       "34         point  0.081219\n",
       "36         train  0.078450\n",
       "42         arise  0.070034"
      ]
     },
     "execution_count": 53,
     "metadata": {},
     "output_type": "execute_result"
    }
   ],
   "source": [
    "print('Most frequent words Based on VERB')\n",
    "df_TFIDF_1[df_TFIDF_1['pos']=='VERB'].head(10)[['word','tfidf']]"
   ]
  },
  {
   "cell_type": "code",
   "execution_count": 64,
   "id": "73a692ac",
   "metadata": {},
   "outputs": [
    {
     "data": {
      "text/html": [
       "<div>\n",
       "<style scoped>\n",
       "    .dataframe tbody tr th:only-of-type {\n",
       "        vertical-align: middle;\n",
       "    }\n",
       "\n",
       "    .dataframe tbody tr th {\n",
       "        vertical-align: top;\n",
       "    }\n",
       "\n",
       "    .dataframe thead tr th {\n",
       "        text-align: left;\n",
       "    }\n",
       "</style>\n",
       "<table border=\"1\" class=\"dataframe\">\n",
       "  <thead>\n",
       "    <tr>\n",
       "      <th></th>\n",
       "      <th>Data</th>\n",
       "      <th>Leakage</th>\n",
       "      <th>AI</th>\n",
       "    </tr>\n",
       "  </thead>\n",
       "  <tbody>\n",
       "    <tr>\n",
       "      <th>0</th>\n",
       "      <td>ai</td>\n",
       "      <td>waterproofing</td>\n",
       "      <td>artificialintelligence</td>\n",
       "    </tr>\n",
       "    <tr>\n",
       "      <th>1</th>\n",
       "      <td>analytics</td>\n",
       "      <td>water</td>\n",
       "      <td>crypto</td>\n",
       "    </tr>\n",
       "    <tr>\n",
       "      <th>2</th>\n",
       "      <td>datascience</td>\n",
       "      <td>bathroom</td>\n",
       "      <td>pso2ngs</td>\n",
       "    </tr>\n",
       "    <tr>\n",
       "      <th>3</th>\n",
       "      <td>machinelearning</td>\n",
       "      <td>chemical</td>\n",
       "      <td>machinelearning</td>\n",
       "    </tr>\n",
       "    <tr>\n",
       "      <th>4</th>\n",
       "      <td>artificialintelligence</td>\n",
       "      <td>roof</td>\n",
       "      <td>bigdata</td>\n",
       "    </tr>\n",
       "  </tbody>\n",
       "</table>\n",
       "</div>"
      ],
      "text/plain": [
       "                     Data        Leakage                      AI\n",
       "0                      ai  waterproofing  artificialintelligence\n",
       "1               analytics          water                  crypto\n",
       "2             datascience       bathroom                 pso2ngs\n",
       "3         machinelearning       chemical         machinelearning\n",
       "4  artificialintelligence           roof                 bigdata"
      ]
     },
     "execution_count": 64,
     "metadata": {},
     "output_type": "execute_result"
    }
   ],
   "source": [
    "# data = [[1,2,3],[4,5,6],[7,8,9],[10,11,12],[13,14,15]]\n",
    "data = [['ai','waterproofing','artificialintelligence'],['analytics','water','crypto'],['datascience','bathroom','pso2ngs'],\n",
    "       ['machinelearning','chemical','machinelearning'],['artificialintelligence','roof','bigdata']]\n",
    "Tweetr = pd.DataFrame(data, columns=[['Data','Leakage','AI']])\n",
    "Tweetr"
   ]
  },
  {
   "cell_type": "code",
   "execution_count": 68,
   "id": "44c0921a",
   "metadata": {},
   "outputs": [
    {
     "data": {
      "text/html": [
       "<div>\n",
       "<style scoped>\n",
       "    .dataframe tbody tr th:only-of-type {\n",
       "        vertical-align: middle;\n",
       "    }\n",
       "\n",
       "    .dataframe tbody tr th {\n",
       "        vertical-align: top;\n",
       "    }\n",
       "\n",
       "    .dataframe thead tr th {\n",
       "        text-align: left;\n",
       "    }\n",
       "</style>\n",
       "<table border=\"1\" class=\"dataframe\">\n",
       "  <thead>\n",
       "    <tr>\n",
       "      <th></th>\n",
       "      <th>Data Leakage</th>\n",
       "      <th>Leakage Nightmare</th>\n",
       "    </tr>\n",
       "  </thead>\n",
       "  <tbody>\n",
       "    <tr>\n",
       "      <th>0</th>\n",
       "      <td>bugbountytips</td>\n",
       "      <td>2</td>\n",
       "    </tr>\n",
       "    <tr>\n",
       "      <th>1</th>\n",
       "      <td>bugbounty</td>\n",
       "      <td>4</td>\n",
       "    </tr>\n",
       "    <tr>\n",
       "      <th>2</th>\n",
       "      <td>infosec</td>\n",
       "      <td>6</td>\n",
       "    </tr>\n",
       "    <tr>\n",
       "      <th>3</th>\n",
       "      <td>ransomware</td>\n",
       "      <td>8</td>\n",
       "    </tr>\n",
       "    <tr>\n",
       "      <th>4</th>\n",
       "      <td>cybersecurity</td>\n",
       "      <td>10</td>\n",
       "    </tr>\n",
       "  </tbody>\n",
       "</table>\n",
       "</div>"
      ],
      "text/plain": [
       "    Data Leakage Leakage Nightmare\n",
       "0  bugbountytips                 2\n",
       "1      bugbounty                 4\n",
       "2        infosec                 6\n",
       "3     ransomware                 8\n",
       "4  cybersecurity                10"
      ]
     },
     "execution_count": 68,
     "metadata": {},
     "output_type": "execute_result"
    }
   ],
   "source": [
    "data = [['bugbountytips',2],['bugbounty',4],['infosec',6],['ransomware',8],['cybersecurity',10]]\n",
    "Tweetr = pd.DataFrame(data, columns=[['Data Leakage','Leakage Nightmare']])\n",
    "Tweetr"
   ]
  },
  {
   "cell_type": "markdown",
   "id": "1829770c",
   "metadata": {},
   "source": [
    "#### dose not show the results for Leakage Nightmare. Results for Nightmare AI seems very irrelevent"
   ]
  },
  {
   "cell_type": "code",
   "execution_count": null,
   "id": "81d4c06e",
   "metadata": {},
   "outputs": [],
   "source": []
  },
  {
   "cell_type": "code",
   "execution_count": null,
   "id": "7d209d01",
   "metadata": {},
   "outputs": [],
   "source": []
  },
  {
   "cell_type": "markdown",
   "id": "50c1433e",
   "metadata": {},
   "source": [
    "### Named Entity Recognition (NER)"
   ]
  },
  {
   "cell_type": "code",
   "execution_count": 199,
   "id": "2d746fc5",
   "metadata": {},
   "outputs": [],
   "source": [
    "#function to NER \n",
    "# Iterate over the predicted entities\n",
    "def NER(clean):\n",
    "    clean = nlp(clean)\n",
    "    for ent in clean.ents:\n",
    "        return(ent.label_)   "
   ]
  },
  {
   "cell_type": "code",
   "execution_count": 200,
   "id": "c885c5de",
   "metadata": {},
   "outputs": [],
   "source": [
    "NER(df_TFIDF_1['word'][2])"
   ]
  },
  {
   "cell_type": "code",
   "execution_count": 202,
   "id": "d91ed18d",
   "metadata": {},
   "outputs": [
    {
     "name": "stderr",
     "output_type": "stream",
     "text": [
      "C:\\Users\\msalehi\\AppData\\Local\\Temp\\ipykernel_24076\\469005378.py:1: SettingWithCopyWarning: \n",
      "A value is trying to be set on a copy of a slice from a DataFrame.\n",
      "Try using .loc[row_indexer,col_indexer] = value instead\n",
      "\n",
      "See the caveats in the documentation: https://pandas.pydata.org/pandas-docs/stable/user_guide/indexing.html#returning-a-view-versus-a-copy\n",
      "  df_TFIDF_1['ner_tag'] = df_TFIDF_1.apply(lambda row:NER (row['word']),axis=1)\n"
     ]
    }
   ],
   "source": [
    "df_TFIDF_1['ner_tag'] = df_TFIDF_1.apply(lambda row:NER (row['word']),axis=1)"
   ]
  },
  {
   "cell_type": "code",
   "execution_count": 203,
   "id": "3aeba4f4",
   "metadata": {},
   "outputs": [
    {
     "data": {
      "text/html": [
       "<div>\n",
       "<style scoped>\n",
       "    .dataframe tbody tr th:only-of-type {\n",
       "        vertical-align: middle;\n",
       "    }\n",
       "\n",
       "    .dataframe tbody tr th {\n",
       "        vertical-align: top;\n",
       "    }\n",
       "\n",
       "    .dataframe thead th {\n",
       "        text-align: right;\n",
       "    }\n",
       "</style>\n",
       "<table border=\"1\" class=\"dataframe\">\n",
       "  <thead>\n",
       "    <tr style=\"text-align: right;\">\n",
       "      <th></th>\n",
       "      <th>word</th>\n",
       "      <th>tfidf</th>\n",
       "      <th>pos</th>\n",
       "      <th>ner_tag</th>\n",
       "    </tr>\n",
       "  </thead>\n",
       "  <tbody>\n",
       "    <tr>\n",
       "      <th>0</th>\n",
       "      <td>architecture</td>\n",
       "      <td>0.516620</td>\n",
       "      <td>NOUN</td>\n",
       "      <td>None</td>\n",
       "    </tr>\n",
       "    <tr>\n",
       "      <th>1</th>\n",
       "      <td>pattern</td>\n",
       "      <td>0.463032</td>\n",
       "      <td>NOUN</td>\n",
       "      <td>None</td>\n",
       "    </tr>\n",
       "    <tr>\n",
       "      <th>2</th>\n",
       "      <td>microkernel</td>\n",
       "      <td>0.221597</td>\n",
       "      <td>PROPN</td>\n",
       "      <td>None</td>\n",
       "    </tr>\n",
       "    <tr>\n",
       "      <th>3</th>\n",
       "      <td>plug</td>\n",
       "      <td>0.189940</td>\n",
       "      <td>VERB</td>\n",
       "      <td>None</td>\n",
       "    </tr>\n",
       "    <tr>\n",
       "      <th>4</th>\n",
       "      <td>layer</td>\n",
       "      <td>0.176150</td>\n",
       "      <td>NOUN</td>\n",
       "      <td>None</td>\n",
       "    </tr>\n",
       "    <tr>\n",
       "      <th>5</th>\n",
       "      <td>application</td>\n",
       "      <td>0.161439</td>\n",
       "      <td>NOUN</td>\n",
       "      <td>None</td>\n",
       "    </tr>\n",
       "    <tr>\n",
       "      <th>6</th>\n",
       "      <td>layered</td>\n",
       "      <td>0.158283</td>\n",
       "      <td>VERB</td>\n",
       "      <td>None</td>\n",
       "    </tr>\n",
       "    <tr>\n",
       "      <th>7</th>\n",
       "      <td>microservice</td>\n",
       "      <td>0.146792</td>\n",
       "      <td>VERB</td>\n",
       "      <td>None</td>\n",
       "    </tr>\n",
       "    <tr>\n",
       "      <th>8</th>\n",
       "      <td>architectural</td>\n",
       "      <td>0.146792</td>\n",
       "      <td>ADJ</td>\n",
       "      <td>None</td>\n",
       "    </tr>\n",
       "    <tr>\n",
       "      <th>9</th>\n",
       "      <td>software</td>\n",
       "      <td>0.136826</td>\n",
       "      <td>NOUN</td>\n",
       "      <td>None</td>\n",
       "    </tr>\n",
       "  </tbody>\n",
       "</table>\n",
       "</div>"
      ],
      "text/plain": [
       "            word     tfidf    pos ner_tag\n",
       "0   architecture  0.516620   NOUN    None\n",
       "1        pattern  0.463032   NOUN    None\n",
       "2    microkernel  0.221597  PROPN    None\n",
       "3           plug  0.189940   VERB    None\n",
       "4          layer  0.176150   NOUN    None\n",
       "5    application  0.161439   NOUN    None\n",
       "6        layered  0.158283   VERB    None\n",
       "7   microservice  0.146792   VERB    None\n",
       "8  architectural  0.146792    ADJ    None\n",
       "9       software  0.136826   NOUN    None"
      ]
     },
     "execution_count": 203,
     "metadata": {},
     "output_type": "execute_result"
    }
   ],
   "source": [
    "df_TFIDF_1.head(10)"
   ]
  },
  {
   "cell_type": "code",
   "execution_count": 189,
   "id": "2763905a",
   "metadata": {},
   "outputs": [
    {
     "ename": "NameError",
     "evalue": "name 'df1' is not defined",
     "output_type": "error",
     "traceback": [
      "\u001b[1;31m---------------------------------------------------------------------------\u001b[0m",
      "\u001b[1;31mNameError\u001b[0m                                 Traceback (most recent call last)",
      "Cell \u001b[1;32mIn[189], line 1\u001b[0m\n\u001b[1;32m----> 1\u001b[0m \u001b[43mdf1\u001b[49m[(df1[\u001b[38;5;124m'\u001b[39m\u001b[38;5;124mpos\u001b[39m\u001b[38;5;124m'\u001b[39m] \u001b[38;5;241m==\u001b[39m \u001b[38;5;124m'\u001b[39m\u001b[38;5;124mNOUN\u001b[39m\u001b[38;5;124m'\u001b[39m) \u001b[38;5;241m|\u001b[39m (df1[\u001b[38;5;124m'\u001b[39m\u001b[38;5;124mpos\u001b[39m\u001b[38;5;124m'\u001b[39m] \u001b[38;5;241m==\u001b[39m \u001b[38;5;124m'\u001b[39m\u001b[38;5;124mVERB\u001b[39m\u001b[38;5;124m'\u001b[39m)]\u001b[38;5;241m.\u001b[39mhead(\u001b[38;5;241m10\u001b[39m)[[\u001b[38;5;124m'\u001b[39m\u001b[38;5;124mword\u001b[39m\u001b[38;5;124m'\u001b[39m,\u001b[38;5;124m'\u001b[39m\u001b[38;5;124mtfidf\u001b[39m\u001b[38;5;124m'\u001b[39m,\u001b[38;5;124m'\u001b[39m\u001b[38;5;124mpos\u001b[39m\u001b[38;5;124m'\u001b[39m,\u001b[38;5;124m'\u001b[39m\u001b[38;5;124mner_tag\u001b[39m\u001b[38;5;124m'\u001b[39m]]\n",
      "\u001b[1;31mNameError\u001b[0m: name 'df1' is not defined"
     ]
    }
   ],
   "source": [
    "df_TFIDF_1[(df_TFIDF_1['pos'] == 'NOUN') | (df1['pos'] == 'VERB')].head(10)[['word','tfidf','pos','ner_tag']]"
   ]
  },
  {
   "cell_type": "code",
   "execution_count": null,
   "id": "4a004f1b",
   "metadata": {},
   "outputs": [],
   "source": []
  },
  {
   "cell_type": "code",
   "execution_count": null,
   "id": "286bc637",
   "metadata": {},
   "outputs": [],
   "source": []
  },
  {
   "cell_type": "code",
   "execution_count": null,
   "id": "64963395",
   "metadata": {},
   "outputs": [],
   "source": []
  }
 ],
 "metadata": {
  "kernelspec": {
   "display_name": "Python 3 (ipykernel)",
   "language": "python",
   "name": "python3"
  },
  "language_info": {
   "codemirror_mode": {
    "name": "ipython",
    "version": 3
   },
   "file_extension": ".py",
   "mimetype": "text/x-python",
   "name": "python",
   "nbconvert_exporter": "python",
   "pygments_lexer": "ipython3",
   "version": "3.9.9"
  }
 },
 "nbformat": 4,
 "nbformat_minor": 5
}
