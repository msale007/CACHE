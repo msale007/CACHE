{
 "cells": [
  {
   "cell_type": "code",
   "execution_count": 298,
   "id": "2e53733b",
   "metadata": {},
   "outputs": [],
   "source": [
    "import pandas as pd\n",
    "import numpy as np\n",
    "\n",
    "import os, json"
   ]
  },
  {
   "cell_type": "code",
   "execution_count": 299,
   "id": "f5cdcb7f",
   "metadata": {},
   "outputs": [],
   "source": [
    "import spacy\n",
    "nlp = spacy.load('en_core_web_sm')"
   ]
  },
  {
   "cell_type": "markdown",
   "id": "a80b524f",
   "metadata": {},
   "source": [
    "## Read rss data"
   ]
  },
  {
   "cell_type": "code",
   "execution_count": 301,
   "id": "3d222477",
   "metadata": {},
   "outputs": [],
   "source": [
    "# Read Json files\n",
    "path_to_json = 'rssData'\n",
    "json_files = [pos_json for pos_json in os.listdir(path_to_json) if pos_json.endswith('.json')]\n",
    "#print(json_files)"
   ]
  },
  {
   "cell_type": "code",
   "execution_count": 252,
   "id": "47d60319",
   "metadata": {},
   "outputs": [],
   "source": [
    "# Go through Json files \n",
    "base_dir = 'rssData'\n",
    "\n",
    "#Get all files in the directory\n",
    "\n",
    "data_list = []\n",
    "for file in os.listdir(base_dir):\n",
    "\n",
    "    #If file is a json, construct it's full path and open it, append all json data to list\n",
    "    if 'json' in file:\n",
    "        json_path = os.path.join(base_dir, file)\n",
    "        json_data = pd.read_json(json_path, lines=True)\n",
    "        data_list.append(json_data)\n",
    "\n",
    "#print(data_list)"
   ]
  },
  {
   "cell_type": "code",
   "execution_count": 302,
   "id": "200c435f",
   "metadata": {},
   "outputs": [
    {
     "data": {
      "text/plain": [
       "198"
      ]
     },
     "execution_count": 302,
     "metadata": {},
     "output_type": "execute_result"
    }
   ],
   "source": [
    "len(data_list)"
   ]
  },
  {
   "cell_type": "code",
   "execution_count": 305,
   "id": "3fee992c",
   "metadata": {},
   "outputs": [
    {
     "data": {
      "text/plain": [
       "list"
      ]
     },
     "execution_count": 305,
     "metadata": {},
     "output_type": "execute_result"
    }
   ],
   "source": [
    "type(data_list)"
   ]
  },
  {
   "cell_type": "code",
   "execution_count": 306,
   "id": "a9c8cc7a",
   "metadata": {},
   "outputs": [
    {
     "data": {
      "text/plain": [
       "pandas.core.frame.DataFrame"
      ]
     },
     "execution_count": 306,
     "metadata": {},
     "output_type": "execute_result"
    }
   ],
   "source": [
    "type(data_list[0])"
   ]
  },
  {
   "cell_type": "code",
   "execution_count": 254,
   "id": "8d798d89",
   "metadata": {},
   "outputs": [
    {
     "data": {
      "text/plain": [
       "0    \n",
       "Name: text, dtype: object"
      ]
     },
     "execution_count": 254,
     "metadata": {},
     "output_type": "execute_result"
    }
   ],
   "source": [
    "data_list[0].text"
   ]
  },
  {
   "cell_type": "code",
   "execution_count": 255,
   "id": "a402fd51",
   "metadata": {},
   "outputs": [
    {
     "data": {
      "text/plain": [
       "array([''], dtype=object)"
      ]
     },
     "execution_count": 255,
     "metadata": {},
     "output_type": "execute_result"
    }
   ],
   "source": [
    "data_list[0].text.values"
   ]
  },
  {
   "cell_type": "code",
   "execution_count": 256,
   "id": "f2d0448d",
   "metadata": {},
   "outputs": [
    {
     "data": {
      "text/plain": [
       "array(['A Retrospective on the 2015 Ashley Madison Breach'], dtype=object)"
      ]
     },
     "execution_count": 256,
     "metadata": {},
     "output_type": "execute_result"
    }
   ],
   "source": [
    "data_list[7].header_title.values"
   ]
  },
  {
   "cell_type": "code",
   "execution_count": 257,
   "id": "8d5614bd",
   "metadata": {},
   "outputs": [
    {
     "data": {
      "text/plain": [
       "array(['911 Proxy Service Implodes After Disclosing Breach'], dtype=object)"
      ]
     },
     "execution_count": 257,
     "metadata": {},
     "output_type": "execute_result"
    }
   ],
   "source": [
    "data_list[2].header_title.values"
   ]
  },
  {
   "cell_type": "code",
   "execution_count": 258,
   "id": "ad16334d",
   "metadata": {},
   "outputs": [],
   "source": [
    "# Get text data and remove empty texts\n",
    "all_text=[]\n",
    "for i in range(len(data_list)):\n",
    "    if (data_list[i].text.values!=''):\n",
    "        text=list(data_list[i].text)\n",
    "#         print(type(text))\n",
    "        all_text.append(text)\n",
    "        #print(data_list[i].text)\n",
    "        #print(text)\n",
    "#print(all_text)"
   ]
  },
  {
   "cell_type": "code",
   "execution_count": 259,
   "id": "ba66ef1e",
   "metadata": {},
   "outputs": [
    {
     "data": {
      "text/plain": [
       "147"
      ]
     },
     "execution_count": 259,
     "metadata": {},
     "output_type": "execute_result"
    }
   ],
   "source": [
    "len(all_text)"
   ]
  },
  {
   "cell_type": "code",
   "execution_count": 260,
   "id": "8844e7a9",
   "metadata": {},
   "outputs": [
    {
     "data": {
      "text/html": [
       "<div>\n",
       "<style scoped>\n",
       "    .dataframe tbody tr th:only-of-type {\n",
       "        vertical-align: middle;\n",
       "    }\n",
       "\n",
       "    .dataframe tbody tr th {\n",
       "        vertical-align: top;\n",
       "    }\n",
       "\n",
       "    .dataframe thead th {\n",
       "        text-align: right;\n",
       "    }\n",
       "</style>\n",
       "<table border=\"1\" class=\"dataframe\">\n",
       "  <thead>\n",
       "    <tr style=\"text-align: right;\">\n",
       "      <th></th>\n",
       "      <th>text</th>\n",
       "    </tr>\n",
       "  </thead>\n",
       "  <tbody>\n",
       "    <tr>\n",
       "      <th>0</th>\n",
       "      <td>The 911 service as it existed until July 28, 2...</td>\n",
       "    </tr>\n",
       "    <tr>\n",
       "      <th>1</th>\n",
       "      <td>DanielMiessler Created/Updated: July 25, 2022 ...</td>\n",
       "    </tr>\n",
       "    <tr>\n",
       "      <th>2</th>\n",
       "      <td>The 911 service as it exists today.For the pas...</td>\n",
       "    </tr>\n",
       "    <tr>\n",
       "      <th>3</th>\n",
       "      <td>DanielMiesslerMy first thought on the whole di...</td>\n",
       "    </tr>\n",
       "    <tr>\n",
       "      <th>4</th>\n",
       "      <td>DanielMiesslerWell, our congressional heroes f...</td>\n",
       "    </tr>\n",
       "  </tbody>\n",
       "</table>\n",
       "</div>"
      ],
      "text/plain": [
       "                                                text\n",
       "0  The 911 service as it existed until July 28, 2...\n",
       "1  DanielMiessler Created/Updated: July 25, 2022 ...\n",
       "2  The 911 service as it exists today.For the pas...\n",
       "3  DanielMiesslerMy first thought on the whole di...\n",
       "4  DanielMiesslerWell, our congressional heroes f..."
      ]
     },
     "execution_count": 260,
     "metadata": {},
     "output_type": "execute_result"
    }
   ],
   "source": [
    "all_text_df= pd.DataFrame(all_text, columns=['text'])\n",
    "all_text_df.head()"
   ]
  },
  {
   "cell_type": "code",
   "execution_count": 297,
   "id": "f9f67a63",
   "metadata": {},
   "outputs": [
    {
     "data": {
      "text/plain": [
       "array(['It’s been seven years since the online cheating site AshleyMadison.com was hacked and highly sensitive data about its users posted online. The leak led to the public shaming and extortion of many Ashley Madison users, and to at least two suicides. To date, little is publicly known about the perpetrators or the true motivation for the attack. But a recent review of Ashley Madison mentions across Russian cybercrime forums and far-right websites in the months leading up to the hack revealed some previously unreported details that may deserve further scrutiny.As first reported by KrebsOnSecurity on July 19, 2015, a group calling itself the “Impact Team” released data sampled from millions of users, as well as maps of internal company servers, employee network account information, company bank details and salary information.The Impact Team said it decided to publish the information because ALM “profits on the pain of others,” and in response to a paid “full delete” service Ashley Madison parent firm Avid Life Media offered that allowed members to completely erase their profile information for a $19 fee.According to the hackers, although the delete feature promised “removal of site usage history and personally identifiable information from the site,” usersâ\\x80\\x99 purchase details â\\x80\\x94 including real name and address â\\x80\\x94 weren’t actually scrubbed.“Full Delete netted ALM $1.7mm in revenue in 2014. Itâ\\x80\\x99s also a complete lie,” the hacking group wrote. “Users almost always pay with credit card; their purchase details are not removed as promised, and include real name and address, which is of course the most important information the users want removed.”A snippet of the message left behind by the Impact Team.The Impact Team said ALM had one month to take Ashley Madison offline, along with a sister property called Established Men. The hackers promised that if a month passed and the company did not capitulate, it would release “all customer records, including profiles with all the customersâ\\x80\\x99 secret sexual fantasies and matching credit card transactions, real names and addresses, and employee documents and emails.”Exactly 30 days later, on Aug. 18, 2015, the Impact Team posted a “Time’s up!” message online, along with links to 60 gigabytes of Ashley Madison user data.One aspect of the Ashley Madison breach that’s always bothered me is how the perpetrators largely cast themselves as fighting a crooked company that broke their privacy promises, and how this narrative was sustained at least until the Impact Team decided to leak all of the stolen user account data in August 2015.Granted, ALM had a lot to answer for. For starters, after the breach it became clear that a great many of the female Ashley Madison profiles were either bots or created once and never used again. Experts combing through the leaked user data determined that fewer than one percent of the female profiles on Ashley Madison had been used on a regular basis, and the rest were used just once — on the day they were created. On top of that, researchers found 84 percent of the profiles were male.But the Impact Team had to know that ALM would never comply with their demands to dismantle Ashley Madison and Established Men. In 2014, ALM reported revenues of $115 million. There was little chance the company was going to shut down some of its biggest money machines.Hence, it appears the Impact Team’s goal all along was to create prodigious amounts of drama and tension by announcing the hack of a major cheating website, and then letting that drama play out over the next few months as millions of exposed Ashley Madison users freaked out and became the targets of extortion attacks and public shaming.Robert Graham, CEO of Errata Security, penned a blog post in 2015 concluding that the moral outrage professed by the Impact Team was pure posturing.“They appear to be motivated by the immorality of adultery, but in all probability, their motivation is that #1 it’s fun and #2 because they can,” Graham wrote.Per Thorsheim, a security researcher in Norway, told Wired at the time that he believed the Impact Team was motivated by an urge to destroy ALM with as much aggression as they could muster.“It’s not just for the fun and ‘because we can,’ nor is it just what I would call ‘moralistic fundamentalism,\\'” Thorsheim told Wired. “Given that the company had been moving toward an IPO right before the hack went public, the timing of the data leaks was likely no coincidence.”As the seventh anniversary of the Ashley Madison hack rolled around, KrebsOnSecurity went back and looked for any mentions of Ashley Madison or ALM on cybercrime forums in the months leading up to the Impact Team’s initial announcement of the breach on July 19, 2015. There wasn’t much, except a Russian guy offering to sell payment and contact information on 32 million AshleyMadison users, and a bunch of Nazis upset about a successful Jewish CEO promoting adultery.Cyber intelligence firm Intel 471 recorded a series of posts by a user with the handle “Brutium” on the Russian-language cybercrime forum Antichat between 2014 and 2016. Brutium routinely advertised the sale of large, hacked databases, and on Jan. 24, 2015, this user posted a thread offering to sell data on 32 million Ashley Madison users:“Data from July 2015\\nTotal ~32 Million contacts:\\nfull name; email; phone numbers; payment, etc.”It’s unclear whether the postdated “July 2015” statement was a typo, or if Brutium updated that sales thread at some point. There is also no indication whether anyone purchased the information. Brutium’s profile has since been removed from the Antichat forum.Flashpoint is a threat intelligence company in New York City that keeps tabs on hundreds of cybercrime forums, as well as extremist and hate websites. A search in Flashpoint for mentions of Ashley Madison or ALM prior to July 19, 2015 shows that in the six months leading up to the hack, Ashley Madison and its then-CEO Noel Biderman became a frequent subject of derision across multiple neo-Nazi websites.On Jan. 14, 2015, a member of the neo-Nazi forum Stormfront posted a lively thread about Ashley Madison in the general discussion area titled, “Jewish owned dating website promoting adultery.”On July 3, 2015, Andrew Anglin, the editor of the alt-right publication Daily Stormer, posted excerpts about Biderman from a story titled, “Jewish Hyper-Sexualization of Western Culture,” which referred to Biderman as the “Jewish King of Infidelity.”On July 10, a mocking montage of Biderman photos with racist captions was posted to the extremist website Vanguard News Network, as part of a thread called “Jews normalize sexual perversion.”“Biderman himself says he’s a happily married father of two and does not cheat,” reads the story posted by Anglin on the Daily Stormer. “In an interview with the ‘Current Affair’ program in Australia, he admitted that if he found out his own wife was accessing his cheater’s site, ‘I would be devastated.\\'”The leaked AshleyMadison data included more than three years’ worth of emails stolen from Biderman. The hackers told Motherboard in 2015 they had 300 GB worth of employee emails, but that they saw no need to dump the inboxes of other company employees.Several media outlets pounced on salacious exchanges in Biderman’s emails as proof he had carried on multiple affairs. Biderman resigned as CEO on Aug. 28, 2015. The last message in the archive of Biderman’s stolen emails was dated July 7, 2015 — almost two weeks before the Impact Team would announce their hack.Biderman told KrebsOnSecurity on July 19, 2015 that the company believed the hacker was some type of insider.“We’re on the doorstep of [confirming] who we believe is the culprit, and unfortunately that may have triggered this mass publication,” Biderman said. “Iâ\\x80\\x99ve got their profile right in front of me, all their work credentials. It was definitely a person here that was not an employee but certainly had touched our technical services.”Certain language in the Impact Team’s manifesto seemed to support this theory, such as the line: “For a company whose main promise is secrecy, it’s like you didn’t even try, like you thought you had never pissed anyone off.”But despite ALM offering a belated $500,000 reward for information leading to the arrest and conviction of those responsible, to this day no one has been charged in connection with the hack.\\r\\n         This entry was posted on Tuesday 26th of July 2022 09:04 PM \\r\\n         Youâ\\x80\\x99re the man Krebs. Keep up the great reporting.agreed.. Senor Krebs is the man next to the Man.\\n85% fake profiles, just like twitter responses, facedump aka metaturd.\\nHow many other social media websites have fake accounts and are bsI’m not seeing “85% of twitter is fake” except from Elong Musk’s titterbots…Still canâ\\x80\\x99t believe the number of real users that site had.. great reporting Brian, appreciate you.Not that I’m pro nazi, but what the hell does that have to do with anything? I don’t guess you found any evidence of communists being upset with AM? Probably because they are okay with all the perversion. You seem to enjoy working your political angles into this stuff more and more. Can’t say I’m surprised.Did you actually read the story before commenting, Jim? Not sure how you could come away with the conclusion that this story is somehow “political.”The funny thing is that people are waving the word “political” around like a weapon because the USA is so polarised. They blindly rage without making any distinctions.\\nIt is entirely possible for a hack to be politically motivated and a reporter like you to simply report what their investigation found. The article would be about the hack and why the hack happened NOT about driving a political agenda. Knee jerk reactions without proper comprehension is pathetic.“Knee jerk reactions without proper comprehension is pathetic.”He loads the irony and cocks it, begins to clean the bore…*Yawn*The mention of the DailyStormer seemed really out of left-field. You discussed a hack of the database and where it was leaked originally which makes sense. That was followed by seemingly unrelated hot-takes from a far-right site, it implies correlation between the two but rereading the article it’s not at all clear why.It’s not clear why? Brian mentioned multiple times that discussion of AM, ALM, and its CEO picked up substantially in both cybercrime spaces and far right–and specifically Neo Nazi–in the months leading up to the hack.  That is incredibly relevant, is it not? Perhaps you should stop getting your undies in a bunch because Nazis were mentioned in a negative light.â\\x80\\x9cNot that Iâ\\x80\\x99m pro nazi, BUTâ\\x80\\x9dLOL.Isn’t that a standard disclaimer for Steve Bannon and Alex Jones?Good boy!  Fight those Nazis from your mom’s basementIncels, white chauvinists, and grown men living in their mom’s basement… are the ones most likely to be Trump supporters.\\nFighting Nazis should be done first online to stop the spread of hate speech and to prevent them from recruiting other young people.  Shove them back into the shadows, back into the shameful corners of society, before they get too big and start goosestepping in the public square like they did in Charlottesville and the at the Capitol.Definitely an important thing to preface everything you say with, if you’re NOT a nazi.\\nxDJim Dewey has already shown he’s a Qanon believer on a previous article.  Nazi sympathizer isn’t a stretch.Imagine getting upset on behalf of nazis and then complaining someone else is being political. You sir, are the one being political here kek.Why is it that any time nazis, fascists, or white supremacists mentioned “totally not nazi” folks pop up with “what about the communists/antifa???”  It’s remarkable how you all don’t speak up about “making things political” by popping up in Breitbart and comments about BLM with “yeah but what about Atomwaffen?”If Brian was investigating a hack of a site and noted that a bunch of leftists had suddenly started discussing it a few months ago, would you be in here asking why he isn’t focusing on Nazis?I guess we’ll never know because Brian only mentions right wingers as antagonists in his articles. You sympathizers always step up to the plate for him like an army of bots. The old saw is true. Birds of a feather stick together.\\nMe? I’m just here to remind you not everyone is as naÃ¯ve as you are. Have a nice day…Must be hard to type with one hand while the other is either doing a Nazi salute, or giving your dear leader a reach around.Zee boots are very tight!Nazi involvement is relevant because back in WWII they murdered six million Jews and the CEO of Ashley Madison was Jewish. Correlation does not equal causation but the fact the politics have lined up in opposition before is part of the conversation.What other “crooked companies” did Impact Team exact vengeance on for their “broken privacy promises?” My public email addresses was used by ALM to create a fake account; I never received any restitution from Impact Team.“researchers found 84 percent of the profiles were male.”   That low?LOL – I was thinking the same thing – only 84% were males!  “….fewer than one percent of the female profiles on Ashley Madison had been used on a regular basis, and the rest were used just once â\\x80\\x94 on the day they were created..” Sounds like this ALM company was taking the proverbial piss out of men’s desires for sex to make alot of money.  Cannot say my heart goes out to any of them.Well….It is a bit perplexing as to the identity of the Impact Team, when some many other groups have been tipped off and/or their members have been identified.Somebody had a grudge, and in the end that could have been anyone from any particular nation. And there is no reason not to also consider this was a nation-state actor pulling this off as well. (Russian, Ukrainian, China, Iran, Israel, or the Five Eyes).There was no financial gain, other than putting someone else of having a financial gain. And who knows what else? Ashley Madison for all we know was also into espionage and blackmail, besides the adultery overtones.“.. nation state actor…” ð\\x9f\\x99\\x82\\nIf interested whodunit, just check this (Brian’s) blog.\\nOptionally, see comments on: ‘site:schneier.com squid found on sandbar’> a bunch of Nazis upset about a successful Jewish CEO promoting adultery.\\nPoor successful CEO targeted by those mean Nazis! That sleazeball deserves no sympathy. Imagine making money off breaking peopleâ\\x80\\x99s marriages. Who would come up with such an idea?Corporate America would with glee. Have you ever read “Bold Capital” by T. J. Dunning? Here is the pertinent excerpt (discussing profit):\\n“…; 100 per cent. will make it ready to trample on all human laws; 300 per cent., and there is not a crime at which it will scruple, nor a risk it will not run, even to the chance of its owner being hanged. If turbulence and strife will bring a profit, it will freely encourage both. Smuggling and the slave-trade have amply proved all that is here stated.”” Imagine making money off breaking peopleâ\\x80\\x99s marriages. Who would come up with such an idea?”Imagine you having an opinion without understanding marriage, divorce, court, litigation, any of it?\\nWhat you think they work for free?  Are you from a communist country or just unburdened by reality?So you could have left out the â\\x80\\x9cmean Nazisâ\\x80\\x9d part and I may have agreed with you. But when you preface it that way it kinda feels like you might be pro-Nazi. SMHNo need to virtue signal here, Dave. This isnâ\\x80\\x99t reddit.Ah, the good old days. It’s been a while since I thought of Ashley or Seeking Arrangement. The moral of this story is always beware that engineer whom you shafted that also has your passwords, LOL…Why does everyone hate the Jews?Why are you perpetuating that everyone does as if it’s true?I still wonder whether the Ashley Madison and OPM hacks were related.  Imagine a list of adulterers with security clearances.  Even if they’re not related, whoever has the OPM data could match it with the leaked Ashley Madison data.Maybe in this case, not justifying a Hack, the results might be good ones. I mean : lessons learned guys, all those female profiles are mutually fake and you are surrounded by a group of men. Iâ\\x80\\x98m really wondering about the amount of puppets / fake profiles around Twitterâ\\x80¦A bit on a tangent… but when companies/websites give you the option to delete/remove history, etc. – I’ve always wondered just how complete these “deletions” really are.  Like when I “delete” my Google search/web/etc. history — is the info truly removed from all Google data centers – or just hidden from my view??Any sentence that starts with “l’m not pro-N*zi” is right up there with “Some of my best friends are Jews”.Maybe people criticizing a genocidal fascist hellscape are the “real” bigots?\\nMaybe they just liked trains that run on time, leather boots and funny walks?\\nThought experiment, maybe Hitler was just really, really ironic yet inarticulate?\\nI mean, were any of us there?  Let’s try to keep an open mind about fascism.\\nEveryone’s so quick to jump to “Earth is round” conclusions about things… jeez.ohh mealy.. your so witty!!\\nxoXOHa! So funny and original, mealy.“Trusted Security Award.”  “SSL Secure Site.”  “100% Discreet Service.”  LOLI can’t believe Vanessa was a fembot.Brian’s retrospective was great and prompted me to see if Ashley Madison is still around.Apparently it is alive, although they go to great pains to say that they’ve dealt with the bot problem. Their explanation is carefully worded, especially since they created the bots / dummy accounts in the first place. Digging deeper, it seems that their business model is largely based on monetizing internal message traffic between members. Effectively you pay to have a conversation with someone, whether it leads anywhere or not. In some ways, it’s in the provider’s best interest that someone does not consummate the deal (so to speak), and continues messaging members for an extended period.I make no moral judgements about these users, but on these kind of sites, there really is leap of faith that the provider has very good security protections in place. This isn’t Equifax, so why someone would sign up or continue to give them their business is beyond me.Well, if they were reputable then they will have backups of course (going way back), and if they were really reputable then they would not use them for nefarious purposes.  The question is: given Google’s past, would you trust them?BTW, Google is not the only search engine on the planet (I use DuckDuckGo, as do my colleagues; no, we have no connection with them apart from a common interest in privacy).DuckDuckGo was criticized in May 2022 when researchers discovered that some Microsoft tracking scripts were found while using DuckDuckGo’s browsers. The presence of Microsoft trackers seems to fly in the face of the search engine’s privacy promise, and DuckDuckGo’s founder and CEO clarified on Reddit that the company is “currently contractually restricted by Microsoft” from stopping Microsoft scripts from completely loading because the company uses Microsoft’s Bing to power its search results. Don’t trust Google?  You trust Microsoft?  And their affiliates?\\nInternet Search Engines are free for users… which means we are the product they sell to others.That’s night and day different : DDG isn’t selling the data.  MS and Goog do so.   DDG isn’t profiting from it.\\nDDG doesn’t remove all internet tracking possible but it’s still better for it, and coupled with adblocking addons you can strip any residual trackers out.   Equivocating MS and Google with DDG is not realistic.Agreed.  They aren’t equivalent.  DDG is still far better than Bing, Google and others.\\nAnd yes, people should absolutely overlap privacy protections with browser addons from other reputable sources.  The EFF recommends a few.  Just didn’t want people thinking just using DDG is an easy solution to all privacy concerns.Of course I don’t trust M$ any more than I trust Google (there are many alternatives to both); my favourite OS is ABW i.e. “Anything But Windoze” (I’m currently using MacOS, FreeBSD, and Linux).  Wasn’t aware of the DDG issue, but see previous statement. I also run adblockers which are quite effective, and whenever I encounter a site that insists I disable them then I go elsewhere or forget about it.  I also watch ad-free (and free-to-air) TV.Yes, I suppose you could call me an anti-commerce hippie…So let’s see: of the AM userbase, there were some ~84% male profiles, 15% fake female profiles, and maybe 1% or less real female profiles.  So the “men” who signed up for affairs were really just joining a virtual sausage fest?I have no sympathy for the cheaters who signed up for this site and had their personal information leaked to the web.I never thought I could get scammed of my Bitcoin , I never new these investments were fake . I never knew I was getting lured into loosing my money , I was depressed and in anger but all thanks to Adam Wilson for the help and professional service offered to me in my time of need . Thanks to Kate for sending me this contact. Adamwilson. trading at consultant dot com\\n helped me recover my lost funds from Bitcoin investment . I couldnâ\\x80\\x99t believe it .Your email address will not be published. Required fields are marked *Comment * Name * Email * Website  \\n\\nΔdocument.getElementById( \"ak_js_1\" ).setAttribute( \"value\", ( new Date() ).getTime() );Mailing ListSearch KrebsOnSecurityRecent PostsSpam NationA New York Times Bestseller! Thinking of a Cybersecurity Career?Read this.All About Skimmers Click image for my skimmer series.Story CategoriesThe Value of a Hacked PCBadguy uses for your PCBadguy Uses for Your Email Your email account may be worth far more than you imagine.Most Popular PostsWhy So Many Top Hackers Hail from RussiaCategory: Web Fraud 2.0Innovations from the UndergroundID Protection Services ExaminedIs Antivirus Dead?The reasons for its declineThe Growing Tax Fraud MenaceFile \\'em Before the Bad Guys Can Inside a Carding ShopA crash course in carding. Beware Social Security FraudSign up, or Be Signed Up! How Was Your Card Stolen?Finding out is not so easy. Krebs’s 3 Rules…...For Online Safety. '],\n",
       "      dtype=object)"
      ]
     },
     "execution_count": 297,
     "metadata": {},
     "output_type": "execute_result"
    }
   ],
   "source": [
    "data_list[7].text.values"
   ]
  },
  {
   "cell_type": "code",
   "execution_count": 261,
   "id": "808b2fbb",
   "metadata": {},
   "outputs": [
    {
     "data": {
      "text/plain": [
       "'It’s been seven years since the online cheating site AshleyMadison.com was hacked and highly sensitive data about its users posted online. The leak led to the public shaming and extortion of many Ashley Madison users, and to at least two suicides. To date, little is publicly known about the perpetrators or the true motivation for the attack. But a recent review of Ashley Madison mentions across Russian cybercrime forums and far-right websites in the months leading up to the hack revealed some previously unreported details that may deserve further scrutiny.As first reported by KrebsOnSecurity on July 19, 2015, a group calling itself the “Impact Team” released data sampled from millions of users, as well as maps of internal company servers, employee network account information, company bank details and salary information.The Impact Team said it decided to publish the information because ALM “profits on the pain of others,” and in response to a paid “full delete” service Ashley Madison parent firm Avid Life Media offered that allowed members to completely erase their profile information for a $19 fee.According to the hackers, although the delete feature promised “removal of site usage history and personally identifiable information from the site,” usersâ\\x80\\x99 purchase details â\\x80\\x94 including real name and address â\\x80\\x94 weren’t actually scrubbed.“Full Delete netted ALM $1.7mm in revenue in 2014. Itâ\\x80\\x99s also a complete lie,” the hacking group wrote. “Users almost always pay with credit card; their purchase details are not removed as promised, and include real name and address, which is of course the most important information the users want removed.”A snippet of the message left behind by the Impact Team.The Impact Team said ALM had one month to take Ashley Madison offline, along with a sister property called Established Men. The hackers promised that if a month passed and the company did not capitulate, it would release “all customer records, including profiles with all the customersâ\\x80\\x99 secret sexual fantasies and matching credit card transactions, real names and addresses, and employee documents and emails.”Exactly 30 days later, on Aug. 18, 2015, the Impact Team posted a “Time’s up!” message online, along with links to 60 gigabytes of Ashley Madison user data.One aspect of the Ashley Madison breach that’s always bothered me is how the perpetrators largely cast themselves as fighting a crooked company that broke their privacy promises, and how this narrative was sustained at least until the Impact Team decided to leak all of the stolen user account data in August 2015.Granted, ALM had a lot to answer for. For starters, after the breach it became clear that a great many of the female Ashley Madison profiles were either bots or created once and never used again. Experts combing through the leaked user data determined that fewer than one percent of the female profiles on Ashley Madison had been used on a regular basis, and the rest were used just once — on the day they were created. On top of that, researchers found 84 percent of the profiles were male.But the Impact Team had to know that ALM would never comply with their demands to dismantle Ashley Madison and Established Men. In 2014, ALM reported revenues of $115 million. There was little chance the company was going to shut down some of its biggest money machines.Hence, it appears the Impact Team’s goal all along was to create prodigious amounts of drama and tension by announcing the hack of a major cheating website, and then letting that drama play out over the next few months as millions of exposed Ashley Madison users freaked out and became the targets of extortion attacks and public shaming.Robert Graham, CEO of Errata Security, penned a blog post in 2015 concluding that the moral outrage professed by the Impact Team was pure posturing.“They appear to be motivated by the immorality of adultery, but in all probability, their motivation is that #1 it’s fun and #2 because they can,” Graham wrote.Per Thorsheim, a security researcher in Norway, told Wired at the time that he believed the Impact Team was motivated by an urge to destroy ALM with as much aggression as they could muster.“It’s not just for the fun and ‘because we can,’ nor is it just what I would call ‘moralistic fundamentalism,\\'” Thorsheim told Wired. “Given that the company had been moving toward an IPO right before the hack went public, the timing of the data leaks was likely no coincidence.”As the seventh anniversary of the Ashley Madison hack rolled around, KrebsOnSecurity went back and looked for any mentions of Ashley Madison or ALM on cybercrime forums in the months leading up to the Impact Team’s initial announcement of the breach on July 19, 2015. There wasn’t much, except a Russian guy offering to sell payment and contact information on 32 million AshleyMadison users, and a bunch of Nazis upset about a successful Jewish CEO promoting adultery.Cyber intelligence firm Intel 471 recorded a series of posts by a user with the handle “Brutium” on the Russian-language cybercrime forum Antichat between 2014 and 2016. Brutium routinely advertised the sale of large, hacked databases, and on Jan. 24, 2015, this user posted a thread offering to sell data on 32 million Ashley Madison users:“Data from July 2015\\nTotal ~32 Million contacts:\\nfull name; email; phone numbers; payment, etc.”It’s unclear whether the postdated “July 2015” statement was a typo, or if Brutium updated that sales thread at some point. There is also no indication whether anyone purchased the information. Brutium’s profile has since been removed from the Antichat forum.Flashpoint is a threat intelligence company in New York City that keeps tabs on hundreds of cybercrime forums, as well as extremist and hate websites. A search in Flashpoint for mentions of Ashley Madison or ALM prior to July 19, 2015 shows that in the six months leading up to the hack, Ashley Madison and its then-CEO Noel Biderman became a frequent subject of derision across multiple neo-Nazi websites.On Jan. 14, 2015, a member of the neo-Nazi forum Stormfront posted a lively thread about Ashley Madison in the general discussion area titled, “Jewish owned dating website promoting adultery.”On July 3, 2015, Andrew Anglin, the editor of the alt-right publication Daily Stormer, posted excerpts about Biderman from a story titled, “Jewish Hyper-Sexualization of Western Culture,” which referred to Biderman as the “Jewish King of Infidelity.”On July 10, a mocking montage of Biderman photos with racist captions was posted to the extremist website Vanguard News Network, as part of a thread called “Jews normalize sexual perversion.”“Biderman himself says he’s a happily married father of two and does not cheat,” reads the story posted by Anglin on the Daily Stormer. “In an interview with the ‘Current Affair’ program in Australia, he admitted that if he found out his own wife was accessing his cheater’s site, ‘I would be devastated.\\'”The leaked AshleyMadison data included more than three years’ worth of emails stolen from Biderman. The hackers told Motherboard in 2015 they had 300 GB worth of employee emails, but that they saw no need to dump the inboxes of other company employees.Several media outlets pounced on salacious exchanges in Biderman’s emails as proof he had carried on multiple affairs. Biderman resigned as CEO on Aug. 28, 2015. The last message in the archive of Biderman’s stolen emails was dated July 7, 2015 — almost two weeks before the Impact Team would announce their hack.Biderman told KrebsOnSecurity on July 19, 2015 that the company believed the hacker was some type of insider.“We’re on the doorstep of [confirming] who we believe is the culprit, and unfortunately that may have triggered this mass publication,” Biderman said. “Iâ\\x80\\x99ve got their profile right in front of me, all their work credentials. It was definitely a person here that was not an employee but certainly had touched our technical services.”Certain language in the Impact Team’s manifesto seemed to support this theory, such as the line: “For a company whose main promise is secrecy, it’s like you didn’t even try, like you thought you had never pissed anyone off.”But despite ALM offering a belated $500,000 reward for information leading to the arrest and conviction of those responsible, to this day no one has been charged in connection with the hack.\\r\\n         This entry was posted on Tuesday 26th of July 2022 09:04 PM \\r\\n         Youâ\\x80\\x99re the man Krebs. Keep up the great reporting.agreed.. Senor Krebs is the man next to the Man.\\n85% fake profiles, just like twitter responses, facedump aka metaturd.\\nHow many other social media websites have fake accounts and are bsI’m not seeing “85% of twitter is fake” except from Elong Musk’s titterbots…Still canâ\\x80\\x99t believe the number of real users that site had.. great reporting Brian, appreciate you.Not that I’m pro nazi, but what the hell does that have to do with anything? I don’t guess you found any evidence of communists being upset with AM? Probably because they are okay with all the perversion. You seem to enjoy working your political angles into this stuff more and more. Can’t say I’m surprised.Did you actually read the story before commenting, Jim? Not sure how you could come away with the conclusion that this story is somehow “political.”The funny thing is that people are waving the word “political” around like a weapon because the USA is so polarised. They blindly rage without making any distinctions.\\nIt is entirely possible for a hack to be politically motivated and a reporter like you to simply report what their investigation found. The article would be about the hack and why the hack happened NOT about driving a political agenda. Knee jerk reactions without proper comprehension is pathetic.“Knee jerk reactions without proper comprehension is pathetic.”He loads the irony and cocks it, begins to clean the bore…*Yawn*The mention of the DailyStormer seemed really out of left-field. You discussed a hack of the database and where it was leaked originally which makes sense. That was followed by seemingly unrelated hot-takes from a far-right site, it implies correlation between the two but rereading the article it’s not at all clear why.It’s not clear why? Brian mentioned multiple times that discussion of AM, ALM, and its CEO picked up substantially in both cybercrime spaces and far right–and specifically Neo Nazi–in the months leading up to the hack.  That is incredibly relevant, is it not? Perhaps you should stop getting your undies in a bunch because Nazis were mentioned in a negative light.â\\x80\\x9cNot that Iâ\\x80\\x99m pro nazi, BUTâ\\x80\\x9dLOL.Isn’t that a standard disclaimer for Steve Bannon and Alex Jones?Good boy!  Fight those Nazis from your mom’s basementIncels, white chauvinists, and grown men living in their mom’s basement… are the ones most likely to be Trump supporters.\\nFighting Nazis should be done first online to stop the spread of hate speech and to prevent them from recruiting other young people.  Shove them back into the shadows, back into the shameful corners of society, before they get too big and start goosestepping in the public square like they did in Charlottesville and the at the Capitol.Definitely an important thing to preface everything you say with, if you’re NOT a nazi.\\nxDJim Dewey has already shown he’s a Qanon believer on a previous article.  Nazi sympathizer isn’t a stretch.Imagine getting upset on behalf of nazis and then complaining someone else is being political. You sir, are the one being political here kek.Why is it that any time nazis, fascists, or white supremacists mentioned “totally not nazi” folks pop up with “what about the communists/antifa???”  It’s remarkable how you all don’t speak up about “making things political” by popping up in Breitbart and comments about BLM with “yeah but what about Atomwaffen?”If Brian was investigating a hack of a site and noted that a bunch of leftists had suddenly started discussing it a few months ago, would you be in here asking why he isn’t focusing on Nazis?I guess we’ll never know because Brian only mentions right wingers as antagonists in his articles. You sympathizers always step up to the plate for him like an army of bots. The old saw is true. Birds of a feather stick together.\\nMe? I’m just here to remind you not everyone is as naÃ¯ve as you are. Have a nice day…Must be hard to type with one hand while the other is either doing a Nazi salute, or giving your dear leader a reach around.Zee boots are very tight!Nazi involvement is relevant because back in WWII they murdered six million Jews and the CEO of Ashley Madison was Jewish. Correlation does not equal causation but the fact the politics have lined up in opposition before is part of the conversation.What other “crooked companies” did Impact Team exact vengeance on for their “broken privacy promises?” My public email addresses was used by ALM to create a fake account; I never received any restitution from Impact Team.“researchers found 84 percent of the profiles were male.”   That low?LOL – I was thinking the same thing – only 84% were males!  “….fewer than one percent of the female profiles on Ashley Madison had been used on a regular basis, and the rest were used just once â\\x80\\x94 on the day they were created..” Sounds like this ALM company was taking the proverbial piss out of men’s desires for sex to make alot of money.  Cannot say my heart goes out to any of them.Well….It is a bit perplexing as to the identity of the Impact Team, when some many other groups have been tipped off and/or their members have been identified.Somebody had a grudge, and in the end that could have been anyone from any particular nation. And there is no reason not to also consider this was a nation-state actor pulling this off as well. (Russian, Ukrainian, China, Iran, Israel, or the Five Eyes).There was no financial gain, other than putting someone else of having a financial gain. And who knows what else? Ashley Madison for all we know was also into espionage and blackmail, besides the adultery overtones.“.. nation state actor…” ð\\x9f\\x99\\x82\\nIf interested whodunit, just check this (Brian’s) blog.\\nOptionally, see comments on: ‘site:schneier.com squid found on sandbar’> a bunch of Nazis upset about a successful Jewish CEO promoting adultery.\\nPoor successful CEO targeted by those mean Nazis! That sleazeball deserves no sympathy. Imagine making money off breaking peopleâ\\x80\\x99s marriages. Who would come up with such an idea?Corporate America would with glee. Have you ever read “Bold Capital” by T. J. Dunning? Here is the pertinent excerpt (discussing profit):\\n“…; 100 per cent. will make it ready to trample on all human laws; 300 per cent., and there is not a crime at which it will scruple, nor a risk it will not run, even to the chance of its owner being hanged. If turbulence and strife will bring a profit, it will freely encourage both. Smuggling and the slave-trade have amply proved all that is here stated.”” Imagine making money off breaking peopleâ\\x80\\x99s marriages. Who would come up with such an idea?”Imagine you having an opinion without understanding marriage, divorce, court, litigation, any of it?\\nWhat you think they work for free?  Are you from a communist country or just unburdened by reality?So you could have left out the â\\x80\\x9cmean Nazisâ\\x80\\x9d part and I may have agreed with you. But when you preface it that way it kinda feels like you might be pro-Nazi. SMHNo need to virtue signal here, Dave. This isnâ\\x80\\x99t reddit.Ah, the good old days. It’s been a while since I thought of Ashley or Seeking Arrangement. The moral of this story is always beware that engineer whom you shafted that also has your passwords, LOL…Why does everyone hate the Jews?Why are you perpetuating that everyone does as if it’s true?I still wonder whether the Ashley Madison and OPM hacks were related.  Imagine a list of adulterers with security clearances.  Even if they’re not related, whoever has the OPM data could match it with the leaked Ashley Madison data.Maybe in this case, not justifying a Hack, the results might be good ones. I mean : lessons learned guys, all those female profiles are mutually fake and you are surrounded by a group of men. Iâ\\x80\\x98m really wondering about the amount of puppets / fake profiles around Twitterâ\\x80¦A bit on a tangent… but when companies/websites give you the option to delete/remove history, etc. – I’ve always wondered just how complete these “deletions” really are.  Like when I “delete” my Google search/web/etc. history — is the info truly removed from all Google data centers – or just hidden from my view??Any sentence that starts with “l’m not pro-N*zi” is right up there with “Some of my best friends are Jews”.Maybe people criticizing a genocidal fascist hellscape are the “real” bigots?\\nMaybe they just liked trains that run on time, leather boots and funny walks?\\nThought experiment, maybe Hitler was just really, really ironic yet inarticulate?\\nI mean, were any of us there?  Let’s try to keep an open mind about fascism.\\nEveryone’s so quick to jump to “Earth is round” conclusions about things… jeez.ohh mealy.. your so witty!!\\nxoXOHa! So funny and original, mealy.“Trusted Security Award.”  “SSL Secure Site.”  “100% Discreet Service.”  LOLI can’t believe Vanessa was a fembot.Brian’s retrospective was great and prompted me to see if Ashley Madison is still around.Apparently it is alive, although they go to great pains to say that they’ve dealt with the bot problem. Their explanation is carefully worded, especially since they created the bots / dummy accounts in the first place. Digging deeper, it seems that their business model is largely based on monetizing internal message traffic between members. Effectively you pay to have a conversation with someone, whether it leads anywhere or not. In some ways, it’s in the provider’s best interest that someone does not consummate the deal (so to speak), and continues messaging members for an extended period.I make no moral judgements about these users, but on these kind of sites, there really is leap of faith that the provider has very good security protections in place. This isn’t Equifax, so why someone would sign up or continue to give them their business is beyond me.Well, if they were reputable then they will have backups of course (going way back), and if they were really reputable then they would not use them for nefarious purposes.  The question is: given Google’s past, would you trust them?BTW, Google is not the only search engine on the planet (I use DuckDuckGo, as do my colleagues; no, we have no connection with them apart from a common interest in privacy).DuckDuckGo was criticized in May 2022 when researchers discovered that some Microsoft tracking scripts were found while using DuckDuckGo’s browsers. The presence of Microsoft trackers seems to fly in the face of the search engine’s privacy promise, and DuckDuckGo’s founder and CEO clarified on Reddit that the company is “currently contractually restricted by Microsoft” from stopping Microsoft scripts from completely loading because the company uses Microsoft’s Bing to power its search results. Don’t trust Google?  You trust Microsoft?  And their affiliates?\\nInternet Search Engines are free for users… which means we are the product they sell to others.That’s night and day different : DDG isn’t selling the data.  MS and Goog do so.   DDG isn’t profiting from it.\\nDDG doesn’t remove all internet tracking possible but it’s still better for it, and coupled with adblocking addons you can strip any residual trackers out.   Equivocating MS and Google with DDG is not realistic.Agreed.  They aren’t equivalent.  DDG is still far better than Bing, Google and others.\\nAnd yes, people should absolutely overlap privacy protections with browser addons from other reputable sources.  The EFF recommends a few.  Just didn’t want people thinking just using DDG is an easy solution to all privacy concerns.Of course I don’t trust M$ any more than I trust Google (there are many alternatives to both); my favourite OS is ABW i.e. “Anything But Windoze” (I’m currently using MacOS, FreeBSD, and Linux).  Wasn’t aware of the DDG issue, but see previous statement. I also run adblockers which are quite effective, and whenever I encounter a site that insists I disable them then I go elsewhere or forget about it.  I also watch ad-free (and free-to-air) TV.Yes, I suppose you could call me an anti-commerce hippie…So let’s see: of the AM userbase, there were some ~84% male profiles, 15% fake female profiles, and maybe 1% or less real female profiles.  So the “men” who signed up for affairs were really just joining a virtual sausage fest?I have no sympathy for the cheaters who signed up for this site and had their personal information leaked to the web.I never thought I could get scammed of my Bitcoin , I never new these investments were fake . I never knew I was getting lured into loosing my money , I was depressed and in anger but all thanks to Adam Wilson for the help and professional service offered to me in my time of need . Thanks to Kate for sending me this contact. Adamwilson. trading at consultant dot com\\n helped me recover my lost funds from Bitcoin investment . I couldnâ\\x80\\x99t believe it .Your email address will not be published. Required fields are marked *Comment * Name * Email * Website  \\n\\nΔdocument.getElementById( \"ak_js_1\" ).setAttribute( \"value\", ( new Date() ).getTime() );Mailing ListSearch KrebsOnSecurityRecent PostsSpam NationA New York Times Bestseller! Thinking of a Cybersecurity Career?Read this.All About Skimmers Click image for my skimmer series.Story CategoriesThe Value of a Hacked PCBadguy uses for your PCBadguy Uses for Your Email Your email account may be worth far more than you imagine.Most Popular PostsWhy So Many Top Hackers Hail from RussiaCategory: Web Fraud 2.0Innovations from the UndergroundID Protection Services ExaminedIs Antivirus Dead?The reasons for its declineThe Growing Tax Fraud MenaceFile \\'em Before the Bad Guys Can Inside a Carding ShopA crash course in carding. Beware Social Security FraudSign up, or Be Signed Up! How Was Your Card Stolen?Finding out is not so easy. Krebs’s 3 Rules…...For Online Safety. '"
      ]
     },
     "execution_count": 261,
     "metadata": {},
     "output_type": "execute_result"
    }
   ],
   "source": [
    "all_text_df['text'][5]"
   ]
  },
  {
   "cell_type": "code",
   "execution_count": 262,
   "id": "efb52897",
   "metadata": {},
   "outputs": [],
   "source": [
    "# function to clean data\n",
    "#lower case\n",
    "#remove stop words\n",
    "#lemmatization\n",
    "\n",
    "def cleanData(doc):\n",
    "    doc = doc.lower()\n",
    "    doc = nlp(doc)\n",
    "    tokens = [tokens.lower_ for tokens in doc]\n",
    "    tokens = [tokens for tokens in doc if (tokens.is_stop == False)]\n",
    "    tokens = [tokens for tokens in tokens if (tokens.is_punct == False)]\n",
    "    final_token = [token.lemma_ for token in tokens]\n",
    "    \n",
    "    return \" \".join(final_token)"
   ]
  },
  {
   "cell_type": "code",
   "execution_count": 263,
   "id": "96102ce8",
   "metadata": {},
   "outputs": [],
   "source": [
    "all_text_df['clean'] = all_text_df.apply(lambda row:cleanData (row['text']),axis=1)"
   ]
  },
  {
   "cell_type": "code",
   "execution_count": 264,
   "id": "4ff86e7d",
   "metadata": {},
   "outputs": [
    {
     "data": {
      "text/html": [
       "<div>\n",
       "<style scoped>\n",
       "    .dataframe tbody tr th:only-of-type {\n",
       "        vertical-align: middle;\n",
       "    }\n",
       "\n",
       "    .dataframe tbody tr th {\n",
       "        vertical-align: top;\n",
       "    }\n",
       "\n",
       "    .dataframe thead th {\n",
       "        text-align: right;\n",
       "    }\n",
       "</style>\n",
       "<table border=\"1\" class=\"dataframe\">\n",
       "  <thead>\n",
       "    <tr style=\"text-align: right;\">\n",
       "      <th></th>\n",
       "      <th>text</th>\n",
       "      <th>clean</th>\n",
       "    </tr>\n",
       "  </thead>\n",
       "  <tbody>\n",
       "    <tr>\n",
       "      <th>0</th>\n",
       "      <td>The 911 service as it existed until July 28, 2...</td>\n",
       "      <td>911 service exist july 28 2022.911[.]re proxy ...</td>\n",
       "    </tr>\n",
       "    <tr>\n",
       "      <th>1</th>\n",
       "      <td>DanielMiessler Created/Updated: July 25, 2022 ...</td>\n",
       "      <td>danielmiessler create update july 25 2022 read...</td>\n",
       "    </tr>\n",
       "    <tr>\n",
       "      <th>2</th>\n",
       "      <td>The 911 service as it exists today.For the pas...</td>\n",
       "      <td>911 service exist today.for past seven year on...</td>\n",
       "    </tr>\n",
       "    <tr>\n",
       "      <th>3</th>\n",
       "      <td>DanielMiesslerMy first thought on the whole di...</td>\n",
       "      <td>danielmiesslermy think discussion sure musk ar...</td>\n",
       "    </tr>\n",
       "    <tr>\n",
       "      <th>4</th>\n",
       "      <td>DanielMiesslerWell, our congressional heroes f...</td>\n",
       "      <td>danielmiesslerwell congressional hero finally ...</td>\n",
       "    </tr>\n",
       "  </tbody>\n",
       "</table>\n",
       "</div>"
      ],
      "text/plain": [
       "                                                text  \\\n",
       "0  The 911 service as it existed until July 28, 2...   \n",
       "1  DanielMiessler Created/Updated: July 25, 2022 ...   \n",
       "2  The 911 service as it exists today.For the pas...   \n",
       "3  DanielMiesslerMy first thought on the whole di...   \n",
       "4  DanielMiesslerWell, our congressional heroes f...   \n",
       "\n",
       "                                               clean  \n",
       "0  911 service exist july 28 2022.911[.]re proxy ...  \n",
       "1  danielmiessler create update july 25 2022 read...  \n",
       "2  911 service exist today.for past seven year on...  \n",
       "3  danielmiesslermy think discussion sure musk ar...  \n",
       "4  danielmiesslerwell congressional hero finally ...  "
      ]
     },
     "execution_count": 264,
     "metadata": {},
     "output_type": "execute_result"
    }
   ],
   "source": [
    "all_text_df.head()"
   ]
  },
  {
   "cell_type": "markdown",
   "id": "a6d7fc09",
   "metadata": {},
   "source": [
    "## Implement NLP techniques"
   ]
  },
  {
   "cell_type": "markdown",
   "id": "0fb540f8",
   "metadata": {},
   "source": [
    "https://kavita-ganesan.com/tfidftransformer-tfidfvectorizer-usage-differences/#.Y-Zq4XbMI2w"
   ]
  },
  {
   "cell_type": "markdown",
   "id": "57bf0972",
   "metadata": {},
   "source": [
    "### Calculate IDF"
   ]
  },
  {
   "cell_type": "code",
   "execution_count": 265,
   "id": "b3908887",
   "metadata": {},
   "outputs": [],
   "source": [
    "import pandas as pd \n",
    "from sklearn.feature_extraction.text import TfidfTransformer \n",
    "from sklearn.feature_extraction.text import CountVectorizer"
   ]
  },
  {
   "cell_type": "code",
   "execution_count": 266,
   "id": "80b37afa",
   "metadata": {},
   "outputs": [],
   "source": [
    "# CountVectorizer() \n",
    "cv=CountVectorizer() \n",
    "# this steps generates word counts for the words in all docs \n",
    "word_count_vector=cv.fit_transform(all_text_df['clean'])"
   ]
  },
  {
   "cell_type": "code",
   "execution_count": 267,
   "id": "903493a6",
   "metadata": {},
   "outputs": [
    {
     "data": {
      "text/plain": [
       "(147, 8382)"
      ]
     },
     "execution_count": 267,
     "metadata": {},
     "output_type": "execute_result"
    }
   ],
   "source": [
    "word_count_vector.shape"
   ]
  },
  {
   "cell_type": "code",
   "execution_count": 268,
   "id": "82be6d6a",
   "metadata": {},
   "outputs": [
    {
     "data": {
      "text/plain": [
       "(147, 8382)"
      ]
     },
     "execution_count": 268,
     "metadata": {},
     "output_type": "execute_result"
    }
   ],
   "source": [
    "# Compute idf weights\n",
    "tfidf_transformer=TfidfTransformer(smooth_idf=True,use_idf=True) \n",
    "all_text_df_tfidf = tfidf_transformer.fit_transform(word_count_vector)\n",
    "all_text_df_tfidf.shape"
   ]
  },
  {
   "cell_type": "code",
   "execution_count": 269,
   "id": "3e956f03",
   "metadata": {},
   "outputs": [
    {
     "data": {
      "text/html": [
       "<div>\n",
       "<style scoped>\n",
       "    .dataframe tbody tr th:only-of-type {\n",
       "        vertical-align: middle;\n",
       "    }\n",
       "\n",
       "    .dataframe tbody tr th {\n",
       "        vertical-align: top;\n",
       "    }\n",
       "\n",
       "    .dataframe thead th {\n",
       "        text-align: right;\n",
       "    }\n",
       "</style>\n",
       "<table border=\"1\" class=\"dataframe\">\n",
       "  <thead>\n",
       "    <tr style=\"text-align: right;\">\n",
       "      <th></th>\n",
       "      <th>idf_weights</th>\n",
       "    </tr>\n",
       "  </thead>\n",
       "  <tbody>\n",
       "    <tr>\n",
       "      <th>earli</th>\n",
       "      <td>5.304065</td>\n",
       "    </tr>\n",
       "    <tr>\n",
       "      <th>resolved</th>\n",
       "      <td>5.304065</td>\n",
       "    </tr>\n",
       "    <tr>\n",
       "      <th>george</th>\n",
       "      <td>5.304065</td>\n",
       "    </tr>\n",
       "    <tr>\n",
       "      <th>geopolitical</th>\n",
       "      <td>5.304065</td>\n",
       "    </tr>\n",
       "    <tr>\n",
       "      <th>geometry</th>\n",
       "      <td>5.304065</td>\n",
       "    </tr>\n",
       "  </tbody>\n",
       "</table>\n",
       "</div>"
      ],
      "text/plain": [
       "              idf_weights\n",
       "earli            5.304065\n",
       "resolved         5.304065\n",
       "george           5.304065\n",
       "geopolitical     5.304065\n",
       "geometry         5.304065"
      ]
     },
     "execution_count": 269,
     "metadata": {},
     "output_type": "execute_result"
    }
   ],
   "source": [
    "# print idf values \n",
    "df_idf = pd.DataFrame(tfidf_transformer.idf_, index=cv.get_feature_names_out(),columns=[\"idf_weights\"]) \n",
    "# sort ascending \n",
    "df_idf.sort_values(by=['idf_weights'],ascending=False).head()"
   ]
  },
  {
   "cell_type": "markdown",
   "id": "9fcc4e1e",
   "metadata": {},
   "source": [
    "<font color=green> The higher idf_weights means most unique word in any particular doc</font>"
   ]
  },
  {
   "cell_type": "markdown",
   "id": "a8d251ac",
   "metadata": {},
   "source": [
    "### Calculate TF-IDF"
   ]
  },
  {
   "cell_type": "code",
   "execution_count": 270,
   "id": "42a08a0f",
   "metadata": {},
   "outputs": [],
   "source": [
    "# count matrix \n",
    "count_vector=cv.transform(all_text_df['clean']) \n",
    "# tf-idf scores \n",
    "tf_idf_vector=tfidf_transformer.transform(count_vector)"
   ]
  },
  {
   "cell_type": "code",
   "execution_count": 271,
   "id": "301b58c5",
   "metadata": {},
   "outputs": [],
   "source": [
    "feature_names = cv.get_feature_names_out() \n",
    "#get tfidf vector for first document \n",
    "first_document_vector=tf_idf_vector[5] \n",
    "#print the scores \n",
    "df = pd.DataFrame(first_document_vector.T.todense(), index=feature_names, columns=[\"tfidf\"]) \n",
    "df=df.sort_values(by=[\"tfidf\"],ascending=False)"
   ]
  },
  {
   "cell_type": "code",
   "execution_count": 272,
   "id": "a79bc012",
   "metadata": {},
   "outputs": [
    {
     "data": {
      "text/html": [
       "<div>\n",
       "<style scoped>\n",
       "    .dataframe tbody tr th:only-of-type {\n",
       "        vertical-align: middle;\n",
       "    }\n",
       "\n",
       "    .dataframe tbody tr th {\n",
       "        vertical-align: top;\n",
       "    }\n",
       "\n",
       "    .dataframe thead th {\n",
       "        text-align: right;\n",
       "    }\n",
       "</style>\n",
       "<table border=\"1\" class=\"dataframe\">\n",
       "  <thead>\n",
       "    <tr style=\"text-align: right;\">\n",
       "      <th></th>\n",
       "      <th>tfidf</th>\n",
       "    </tr>\n",
       "  </thead>\n",
       "  <tbody>\n",
       "    <tr>\n",
       "      <th>ashley</th>\n",
       "      <td>0.361024</td>\n",
       "    </tr>\n",
       "    <tr>\n",
       "      <th>madison</th>\n",
       "      <td>0.345327</td>\n",
       "    </tr>\n",
       "    <tr>\n",
       "      <th>nazi</th>\n",
       "      <td>0.275439</td>\n",
       "    </tr>\n",
       "    <tr>\n",
       "      <th>alm</th>\n",
       "      <td>0.204057</td>\n",
       "    </tr>\n",
       "    <tr>\n",
       "      <th>biderman</th>\n",
       "      <td>0.172664</td>\n",
       "    </tr>\n",
       "    <tr>\n",
       "      <th>hack</th>\n",
       "      <td>0.147875</td>\n",
       "    </tr>\n",
       "    <tr>\n",
       "      <th>profile</th>\n",
       "      <td>0.146008</td>\n",
       "    </tr>\n",
       "    <tr>\n",
       "      <th>team</th>\n",
       "      <td>0.122921</td>\n",
       "    </tr>\n",
       "    <tr>\n",
       "      <th>2015</th>\n",
       "      <td>0.119916</td>\n",
       "    </tr>\n",
       "    <tr>\n",
       "      <th>impact</th>\n",
       "      <td>0.116995</td>\n",
       "    </tr>\n",
       "  </tbody>\n",
       "</table>\n",
       "</div>"
      ],
      "text/plain": [
       "             tfidf\n",
       "ashley    0.361024\n",
       "madison   0.345327\n",
       "nazi      0.275439\n",
       "alm       0.204057\n",
       "biderman  0.172664\n",
       "hack      0.147875\n",
       "profile   0.146008\n",
       "team      0.122921\n",
       "2015      0.119916\n",
       "impact    0.116995"
      ]
     },
     "execution_count": 272,
     "metadata": {},
     "output_type": "execute_result"
    }
   ],
   "source": [
    "df.head(10)"
   ]
  },
  {
   "cell_type": "markdown",
   "id": "47afc12e",
   "metadata": {},
   "source": [
    "<font color=green>the more unique a word is to our first document, the higher the score"
   ]
  },
  {
   "cell_type": "code",
   "execution_count": 273,
   "id": "d1835f87",
   "metadata": {},
   "outputs": [],
   "source": [
    "def POS(clean):\n",
    "    clean = nlp(clean)\n",
    "    for token in clean:\n",
    "        return(token.pos_) "
   ]
  },
  {
   "cell_type": "markdown",
   "id": "fa9a8c75",
   "metadata": {},
   "source": [
    "# Word Extraction Based on TF-IDF"
   ]
  },
  {
   "cell_type": "markdown",
   "id": "93ac58da",
   "metadata": {},
   "source": [
    "###  doc #5"
   ]
  },
  {
   "cell_type": "markdown",
   "id": "468a8fba",
   "metadata": {},
   "source": [
    "### Title : 'A Retrospective on the 2015 Ashley Madison Breach'"
   ]
  },
  {
   "cell_type": "code",
   "execution_count": 274,
   "id": "04e27c34",
   "metadata": {},
   "outputs": [],
   "source": [
    "# data_list[7].header_title.values"
   ]
  },
  {
   "cell_type": "code",
   "execution_count": 275,
   "id": "431a28de",
   "metadata": {},
   "outputs": [],
   "source": [
    "# Most frequent words\n",
    "df = df.reset_index(names=['word', 'tfidf'])\n",
    "df['pos'] = df.apply(lambda row:POS (row['word']),axis=1)"
   ]
  },
  {
   "cell_type": "code",
   "execution_count": 276,
   "id": "af2b69ec",
   "metadata": {},
   "outputs": [],
   "source": [
    "df1 = df[(df['word'].str.len()) > 3]"
   ]
  },
  {
   "cell_type": "code",
   "execution_count": 277,
   "id": "c132b1ff",
   "metadata": {},
   "outputs": [
    {
     "name": "stdout",
     "output_type": "stream",
     "text": [
      "Most Frequent Words Based on TF-IDF:\n"
     ]
    },
    {
     "data": {
      "text/html": [
       "<div>\n",
       "<style scoped>\n",
       "    .dataframe tbody tr th:only-of-type {\n",
       "        vertical-align: middle;\n",
       "    }\n",
       "\n",
       "    .dataframe tbody tr th {\n",
       "        vertical-align: top;\n",
       "    }\n",
       "\n",
       "    .dataframe thead th {\n",
       "        text-align: right;\n",
       "    }\n",
       "</style>\n",
       "<table border=\"1\" class=\"dataframe\">\n",
       "  <thead>\n",
       "    <tr style=\"text-align: right;\">\n",
       "      <th></th>\n",
       "      <th>word</th>\n",
       "      <th>tfidf</th>\n",
       "      <th>pos</th>\n",
       "    </tr>\n",
       "  </thead>\n",
       "  <tbody>\n",
       "    <tr>\n",
       "      <th>0</th>\n",
       "      <td>ashley</td>\n",
       "      <td>0.361024</td>\n",
       "      <td>PROPN</td>\n",
       "    </tr>\n",
       "    <tr>\n",
       "      <th>1</th>\n",
       "      <td>madison</td>\n",
       "      <td>0.345327</td>\n",
       "      <td>PROPN</td>\n",
       "    </tr>\n",
       "    <tr>\n",
       "      <th>2</th>\n",
       "      <td>nazi</td>\n",
       "      <td>0.275439</td>\n",
       "      <td>ADV</td>\n",
       "    </tr>\n",
       "    <tr>\n",
       "      <th>4</th>\n",
       "      <td>biderman</td>\n",
       "      <td>0.172664</td>\n",
       "      <td>NOUN</td>\n",
       "    </tr>\n",
       "    <tr>\n",
       "      <th>5</th>\n",
       "      <td>hack</td>\n",
       "      <td>0.147875</td>\n",
       "      <td>VERB</td>\n",
       "    </tr>\n",
       "    <tr>\n",
       "      <th>6</th>\n",
       "      <td>profile</td>\n",
       "      <td>0.146008</td>\n",
       "      <td>NOUN</td>\n",
       "    </tr>\n",
       "    <tr>\n",
       "      <th>7</th>\n",
       "      <td>team</td>\n",
       "      <td>0.122921</td>\n",
       "      <td>NOUN</td>\n",
       "    </tr>\n",
       "    <tr>\n",
       "      <th>8</th>\n",
       "      <td>2015</td>\n",
       "      <td>0.119916</td>\n",
       "      <td>NUM</td>\n",
       "    </tr>\n",
       "    <tr>\n",
       "      <th>9</th>\n",
       "      <td>impact</td>\n",
       "      <td>0.116995</td>\n",
       "      <td>NOUN</td>\n",
       "    </tr>\n",
       "    <tr>\n",
       "      <th>11</th>\n",
       "      <td>user</td>\n",
       "      <td>0.103592</td>\n",
       "      <td>NOUN</td>\n",
       "    </tr>\n",
       "  </tbody>\n",
       "</table>\n",
       "</div>"
      ],
      "text/plain": [
       "        word     tfidf    pos\n",
       "0     ashley  0.361024  PROPN\n",
       "1    madison  0.345327  PROPN\n",
       "2       nazi  0.275439    ADV\n",
       "4   biderman  0.172664   NOUN\n",
       "5       hack  0.147875   VERB\n",
       "6    profile  0.146008   NOUN\n",
       "7       team  0.122921   NOUN\n",
       "8       2015  0.119916    NUM\n",
       "9     impact  0.116995   NOUN\n",
       "11      user  0.103592   NOUN"
      ]
     },
     "execution_count": 277,
     "metadata": {},
     "output_type": "execute_result"
    }
   ],
   "source": [
    "print('Most Frequent Words Based on TF-IDF:')\n",
    "df1.head(10)"
   ]
  },
  {
   "cell_type": "code",
   "execution_count": 278,
   "id": "e75d930d",
   "metadata": {},
   "outputs": [
    {
     "name": "stdout",
     "output_type": "stream",
     "text": [
      "Most frequent words based on NOUN and VERB\n"
     ]
    },
    {
     "data": {
      "text/html": [
       "<div>\n",
       "<style scoped>\n",
       "    .dataframe tbody tr th:only-of-type {\n",
       "        vertical-align: middle;\n",
       "    }\n",
       "\n",
       "    .dataframe tbody tr th {\n",
       "        vertical-align: top;\n",
       "    }\n",
       "\n",
       "    .dataframe thead th {\n",
       "        text-align: right;\n",
       "    }\n",
       "</style>\n",
       "<table border=\"1\" class=\"dataframe\">\n",
       "  <thead>\n",
       "    <tr style=\"text-align: right;\">\n",
       "      <th></th>\n",
       "      <th>word</th>\n",
       "      <th>tfidf</th>\n",
       "    </tr>\n",
       "  </thead>\n",
       "  <tbody>\n",
       "    <tr>\n",
       "      <th>4</th>\n",
       "      <td>biderman</td>\n",
       "      <td>0.172664</td>\n",
       "    </tr>\n",
       "    <tr>\n",
       "      <th>5</th>\n",
       "      <td>hack</td>\n",
       "      <td>0.147875</td>\n",
       "    </tr>\n",
       "    <tr>\n",
       "      <th>6</th>\n",
       "      <td>profile</td>\n",
       "      <td>0.146008</td>\n",
       "    </tr>\n",
       "    <tr>\n",
       "      <th>7</th>\n",
       "      <td>team</td>\n",
       "      <td>0.122921</td>\n",
       "    </tr>\n",
       "    <tr>\n",
       "      <th>9</th>\n",
       "      <td>impact</td>\n",
       "      <td>0.116995</td>\n",
       "    </tr>\n",
       "    <tr>\n",
       "      <th>11</th>\n",
       "      <td>user</td>\n",
       "      <td>0.103592</td>\n",
       "    </tr>\n",
       "    <tr>\n",
       "      <th>15</th>\n",
       "      <td>company</td>\n",
       "      <td>0.089976</td>\n",
       "    </tr>\n",
       "    <tr>\n",
       "      <th>16</th>\n",
       "      <td>leak</td>\n",
       "      <td>0.087470</td>\n",
       "    </tr>\n",
       "    <tr>\n",
       "      <th>17</th>\n",
       "      <td>promise</td>\n",
       "      <td>0.083925</td>\n",
       "    </tr>\n",
       "    <tr>\n",
       "      <th>20</th>\n",
       "      <td>adultery</td>\n",
       "      <td>0.078483</td>\n",
       "    </tr>\n",
       "  </tbody>\n",
       "</table>\n",
       "</div>"
      ],
      "text/plain": [
       "        word     tfidf\n",
       "4   biderman  0.172664\n",
       "5       hack  0.147875\n",
       "6    profile  0.146008\n",
       "7       team  0.122921\n",
       "9     impact  0.116995\n",
       "11      user  0.103592\n",
       "15   company  0.089976\n",
       "16      leak  0.087470\n",
       "17   promise  0.083925\n",
       "20  adultery  0.078483"
      ]
     },
     "execution_count": 278,
     "metadata": {},
     "output_type": "execute_result"
    }
   ],
   "source": [
    "print('Most frequent words based on NOUN and VERB')\n",
    "df1[(df1['pos'] == 'NOUN') | (df1['pos'] == 'VERB')].head(10)[['word','tfidf']]"
   ]
  },
  {
   "cell_type": "code",
   "execution_count": 279,
   "id": "fefffc53",
   "metadata": {},
   "outputs": [
    {
     "name": "stdout",
     "output_type": "stream",
     "text": [
      "Most frequent words Based on NOUN\n"
     ]
    },
    {
     "data": {
      "text/html": [
       "<div>\n",
       "<style scoped>\n",
       "    .dataframe tbody tr th:only-of-type {\n",
       "        vertical-align: middle;\n",
       "    }\n",
       "\n",
       "    .dataframe tbody tr th {\n",
       "        vertical-align: top;\n",
       "    }\n",
       "\n",
       "    .dataframe thead th {\n",
       "        text-align: right;\n",
       "    }\n",
       "</style>\n",
       "<table border=\"1\" class=\"dataframe\">\n",
       "  <thead>\n",
       "    <tr style=\"text-align: right;\">\n",
       "      <th></th>\n",
       "      <th>word</th>\n",
       "      <th>tfidf</th>\n",
       "    </tr>\n",
       "  </thead>\n",
       "  <tbody>\n",
       "    <tr>\n",
       "      <th>4</th>\n",
       "      <td>biderman</td>\n",
       "      <td>0.172664</td>\n",
       "    </tr>\n",
       "    <tr>\n",
       "      <th>6</th>\n",
       "      <td>profile</td>\n",
       "      <td>0.146008</td>\n",
       "    </tr>\n",
       "    <tr>\n",
       "      <th>7</th>\n",
       "      <td>team</td>\n",
       "      <td>0.122921</td>\n",
       "    </tr>\n",
       "    <tr>\n",
       "      <th>9</th>\n",
       "      <td>impact</td>\n",
       "      <td>0.116995</td>\n",
       "    </tr>\n",
       "    <tr>\n",
       "      <th>11</th>\n",
       "      <td>user</td>\n",
       "      <td>0.103592</td>\n",
       "    </tr>\n",
       "    <tr>\n",
       "      <th>15</th>\n",
       "      <td>company</td>\n",
       "      <td>0.089976</td>\n",
       "    </tr>\n",
       "    <tr>\n",
       "      <th>16</th>\n",
       "      <td>leak</td>\n",
       "      <td>0.087470</td>\n",
       "    </tr>\n",
       "    <tr>\n",
       "      <th>20</th>\n",
       "      <td>adultery</td>\n",
       "      <td>0.078483</td>\n",
       "    </tr>\n",
       "    <tr>\n",
       "      <th>21</th>\n",
       "      <td>female</td>\n",
       "      <td>0.074673</td>\n",
       "    </tr>\n",
       "    <tr>\n",
       "      <th>25</th>\n",
       "      <td>email</td>\n",
       "      <td>0.065374</td>\n",
       "    </tr>\n",
       "  </tbody>\n",
       "</table>\n",
       "</div>"
      ],
      "text/plain": [
       "        word     tfidf\n",
       "4   biderman  0.172664\n",
       "6    profile  0.146008\n",
       "7       team  0.122921\n",
       "9     impact  0.116995\n",
       "11      user  0.103592\n",
       "15   company  0.089976\n",
       "16      leak  0.087470\n",
       "20  adultery  0.078483\n",
       "21    female  0.074673\n",
       "25     email  0.065374"
      ]
     },
     "execution_count": 279,
     "metadata": {},
     "output_type": "execute_result"
    }
   ],
   "source": [
    "print('Most frequent words Based on NOUN')\n",
    "df1[df1['pos']=='NOUN'].head(10)[['word','tfidf']]"
   ]
  },
  {
   "cell_type": "code",
   "execution_count": 280,
   "id": "423adbad",
   "metadata": {},
   "outputs": [
    {
     "name": "stdout",
     "output_type": "stream",
     "text": [
      "Most frequent words Based on VERB\n"
     ]
    },
    {
     "data": {
      "text/html": [
       "<div>\n",
       "<style scoped>\n",
       "    .dataframe tbody tr th:only-of-type {\n",
       "        vertical-align: middle;\n",
       "    }\n",
       "\n",
       "    .dataframe tbody tr th {\n",
       "        vertical-align: top;\n",
       "    }\n",
       "\n",
       "    .dataframe thead th {\n",
       "        text-align: right;\n",
       "    }\n",
       "</style>\n",
       "<table border=\"1\" class=\"dataframe\">\n",
       "  <thead>\n",
       "    <tr style=\"text-align: right;\">\n",
       "      <th></th>\n",
       "      <th>word</th>\n",
       "      <th>tfidf</th>\n",
       "    </tr>\n",
       "  </thead>\n",
       "  <tbody>\n",
       "    <tr>\n",
       "      <th>5</th>\n",
       "      <td>hack</td>\n",
       "      <td>0.147875</td>\n",
       "    </tr>\n",
       "    <tr>\n",
       "      <th>17</th>\n",
       "      <td>promise</td>\n",
       "      <td>0.083925</td>\n",
       "    </tr>\n",
       "    <tr>\n",
       "      <th>22</th>\n",
       "      <td>mention</td>\n",
       "      <td>0.073554</td>\n",
       "    </tr>\n",
       "    <tr>\n",
       "      <th>29</th>\n",
       "      <td>duckduckgo</td>\n",
       "      <td>0.062787</td>\n",
       "    </tr>\n",
       "    <tr>\n",
       "      <th>40</th>\n",
       "      <td>delete</td>\n",
       "      <td>0.057971</td>\n",
       "    </tr>\n",
       "    <tr>\n",
       "      <th>41</th>\n",
       "      <td>lead</td>\n",
       "      <td>0.057555</td>\n",
       "    </tr>\n",
       "    <tr>\n",
       "      <th>45</th>\n",
       "      <td>believe</td>\n",
       "      <td>0.052429</td>\n",
       "    </tr>\n",
       "    <tr>\n",
       "      <th>49</th>\n",
       "      <td>imagine</td>\n",
       "      <td>0.048636</td>\n",
       "    </tr>\n",
       "    <tr>\n",
       "      <th>60</th>\n",
       "      <td>think</td>\n",
       "      <td>0.045050</td>\n",
       "    </tr>\n",
       "    <tr>\n",
       "      <th>61</th>\n",
       "      <td>remove</td>\n",
       "      <td>0.044949</td>\n",
       "    </tr>\n",
       "  </tbody>\n",
       "</table>\n",
       "</div>"
      ],
      "text/plain": [
       "          word     tfidf\n",
       "5         hack  0.147875\n",
       "17     promise  0.083925\n",
       "22     mention  0.073554\n",
       "29  duckduckgo  0.062787\n",
       "40      delete  0.057971\n",
       "41        lead  0.057555\n",
       "45     believe  0.052429\n",
       "49     imagine  0.048636\n",
       "60       think  0.045050\n",
       "61      remove  0.044949"
      ]
     },
     "execution_count": 280,
     "metadata": {},
     "output_type": "execute_result"
    }
   ],
   "source": [
    "print('Most frequent words Based on VERB')\n",
    "df1[df1['pos']=='VERB'].head(10)[['word','tfidf']]"
   ]
  },
  {
   "cell_type": "markdown",
   "id": "ad6c7f86",
   "metadata": {},
   "source": [
    "### Named Entity Recognition (NER)"
   ]
  },
  {
   "cell_type": "code",
   "execution_count": 216,
   "id": "218dad5f",
   "metadata": {},
   "outputs": [],
   "source": [
    "#function to NER \n",
    "# Iterate over the predicted entities\n",
    "def NER(clean):\n",
    "    clean = nlp(clean)\n",
    "    for ent in clean.ents:\n",
    "        return(ent.label_)   "
   ]
  },
  {
   "cell_type": "code",
   "execution_count": 217,
   "id": "7bb35006",
   "metadata": {},
   "outputs": [
    {
     "data": {
      "text/plain": [
       "'NORP'"
      ]
     },
     "execution_count": 217,
     "metadata": {},
     "output_type": "execute_result"
    }
   ],
   "source": [
    "NER(df1['word'][2])"
   ]
  },
  {
   "cell_type": "code",
   "execution_count": 218,
   "id": "d5074bc1",
   "metadata": {},
   "outputs": [
    {
     "name": "stderr",
     "output_type": "stream",
     "text": [
      "C:\\Users\\msalehi\\AppData\\Local\\Temp\\ipykernel_16396\\542725880.py:1: SettingWithCopyWarning: \n",
      "A value is trying to be set on a copy of a slice from a DataFrame.\n",
      "Try using .loc[row_indexer,col_indexer] = value instead\n",
      "\n",
      "See the caveats in the documentation: https://pandas.pydata.org/pandas-docs/stable/user_guide/indexing.html#returning-a-view-versus-a-copy\n",
      "  df1['ner_tag'] = df1.apply(lambda row:NER (row['word']),axis=1)\n"
     ]
    }
   ],
   "source": [
    "df1['ner_tag'] = df1.apply(lambda row:NER (row['word']),axis=1)"
   ]
  },
  {
   "cell_type": "code",
   "execution_count": 219,
   "id": "394e2ff6",
   "metadata": {},
   "outputs": [
    {
     "data": {
      "text/html": [
       "<div>\n",
       "<style scoped>\n",
       "    .dataframe tbody tr th:only-of-type {\n",
       "        vertical-align: middle;\n",
       "    }\n",
       "\n",
       "    .dataframe tbody tr th {\n",
       "        vertical-align: top;\n",
       "    }\n",
       "\n",
       "    .dataframe thead th {\n",
       "        text-align: right;\n",
       "    }\n",
       "</style>\n",
       "<table border=\"1\" class=\"dataframe\">\n",
       "  <thead>\n",
       "    <tr style=\"text-align: right;\">\n",
       "      <th></th>\n",
       "      <th>word</th>\n",
       "      <th>tfidf</th>\n",
       "      <th>pos</th>\n",
       "      <th>ner_tag</th>\n",
       "    </tr>\n",
       "  </thead>\n",
       "  <tbody>\n",
       "    <tr>\n",
       "      <th>0</th>\n",
       "      <td>ashley</td>\n",
       "      <td>0.361024</td>\n",
       "      <td>PROPN</td>\n",
       "      <td>None</td>\n",
       "    </tr>\n",
       "    <tr>\n",
       "      <th>1</th>\n",
       "      <td>madison</td>\n",
       "      <td>0.345327</td>\n",
       "      <td>PROPN</td>\n",
       "      <td>PERSON</td>\n",
       "    </tr>\n",
       "    <tr>\n",
       "      <th>2</th>\n",
       "      <td>nazi</td>\n",
       "      <td>0.275439</td>\n",
       "      <td>ADV</td>\n",
       "      <td>NORP</td>\n",
       "    </tr>\n",
       "    <tr>\n",
       "      <th>4</th>\n",
       "      <td>biderman</td>\n",
       "      <td>0.172664</td>\n",
       "      <td>NOUN</td>\n",
       "      <td>None</td>\n",
       "    </tr>\n",
       "    <tr>\n",
       "      <th>5</th>\n",
       "      <td>hack</td>\n",
       "      <td>0.147875</td>\n",
       "      <td>VERB</td>\n",
       "      <td>None</td>\n",
       "    </tr>\n",
       "    <tr>\n",
       "      <th>6</th>\n",
       "      <td>profile</td>\n",
       "      <td>0.146008</td>\n",
       "      <td>NOUN</td>\n",
       "      <td>None</td>\n",
       "    </tr>\n",
       "    <tr>\n",
       "      <th>7</th>\n",
       "      <td>team</td>\n",
       "      <td>0.122921</td>\n",
       "      <td>NOUN</td>\n",
       "      <td>None</td>\n",
       "    </tr>\n",
       "    <tr>\n",
       "      <th>8</th>\n",
       "      <td>2015</td>\n",
       "      <td>0.119916</td>\n",
       "      <td>NUM</td>\n",
       "      <td>DATE</td>\n",
       "    </tr>\n",
       "    <tr>\n",
       "      <th>9</th>\n",
       "      <td>impact</td>\n",
       "      <td>0.116995</td>\n",
       "      <td>NOUN</td>\n",
       "      <td>None</td>\n",
       "    </tr>\n",
       "    <tr>\n",
       "      <th>11</th>\n",
       "      <td>user</td>\n",
       "      <td>0.103592</td>\n",
       "      <td>NOUN</td>\n",
       "      <td>None</td>\n",
       "    </tr>\n",
       "  </tbody>\n",
       "</table>\n",
       "</div>"
      ],
      "text/plain": [
       "        word     tfidf    pos ner_tag\n",
       "0     ashley  0.361024  PROPN    None\n",
       "1    madison  0.345327  PROPN  PERSON\n",
       "2       nazi  0.275439    ADV    NORP\n",
       "4   biderman  0.172664   NOUN    None\n",
       "5       hack  0.147875   VERB    None\n",
       "6    profile  0.146008   NOUN    None\n",
       "7       team  0.122921   NOUN    None\n",
       "8       2015  0.119916    NUM    DATE\n",
       "9     impact  0.116995   NOUN    None\n",
       "11      user  0.103592   NOUN    None"
      ]
     },
     "execution_count": 219,
     "metadata": {},
     "output_type": "execute_result"
    }
   ],
   "source": [
    "df1.head(10)"
   ]
  },
  {
   "cell_type": "code",
   "execution_count": 220,
   "id": "73d9c31f",
   "metadata": {},
   "outputs": [
    {
     "data": {
      "text/html": [
       "<div>\n",
       "<style scoped>\n",
       "    .dataframe tbody tr th:only-of-type {\n",
       "        vertical-align: middle;\n",
       "    }\n",
       "\n",
       "    .dataframe tbody tr th {\n",
       "        vertical-align: top;\n",
       "    }\n",
       "\n",
       "    .dataframe thead th {\n",
       "        text-align: right;\n",
       "    }\n",
       "</style>\n",
       "<table border=\"1\" class=\"dataframe\">\n",
       "  <thead>\n",
       "    <tr style=\"text-align: right;\">\n",
       "      <th></th>\n",
       "      <th>word</th>\n",
       "      <th>tfidf</th>\n",
       "      <th>pos</th>\n",
       "      <th>ner_tag</th>\n",
       "    </tr>\n",
       "  </thead>\n",
       "  <tbody>\n",
       "    <tr>\n",
       "      <th>4</th>\n",
       "      <td>biderman</td>\n",
       "      <td>0.172664</td>\n",
       "      <td>NOUN</td>\n",
       "      <td>None</td>\n",
       "    </tr>\n",
       "    <tr>\n",
       "      <th>5</th>\n",
       "      <td>hack</td>\n",
       "      <td>0.147875</td>\n",
       "      <td>VERB</td>\n",
       "      <td>None</td>\n",
       "    </tr>\n",
       "    <tr>\n",
       "      <th>6</th>\n",
       "      <td>profile</td>\n",
       "      <td>0.146008</td>\n",
       "      <td>NOUN</td>\n",
       "      <td>None</td>\n",
       "    </tr>\n",
       "    <tr>\n",
       "      <th>7</th>\n",
       "      <td>team</td>\n",
       "      <td>0.122921</td>\n",
       "      <td>NOUN</td>\n",
       "      <td>None</td>\n",
       "    </tr>\n",
       "    <tr>\n",
       "      <th>9</th>\n",
       "      <td>impact</td>\n",
       "      <td>0.116995</td>\n",
       "      <td>NOUN</td>\n",
       "      <td>None</td>\n",
       "    </tr>\n",
       "    <tr>\n",
       "      <th>11</th>\n",
       "      <td>user</td>\n",
       "      <td>0.103592</td>\n",
       "      <td>NOUN</td>\n",
       "      <td>None</td>\n",
       "    </tr>\n",
       "    <tr>\n",
       "      <th>15</th>\n",
       "      <td>company</td>\n",
       "      <td>0.089976</td>\n",
       "      <td>NOUN</td>\n",
       "      <td>None</td>\n",
       "    </tr>\n",
       "    <tr>\n",
       "      <th>16</th>\n",
       "      <td>leak</td>\n",
       "      <td>0.087470</td>\n",
       "      <td>NOUN</td>\n",
       "      <td>None</td>\n",
       "    </tr>\n",
       "    <tr>\n",
       "      <th>17</th>\n",
       "      <td>promise</td>\n",
       "      <td>0.083925</td>\n",
       "      <td>VERB</td>\n",
       "      <td>None</td>\n",
       "    </tr>\n",
       "    <tr>\n",
       "      <th>20</th>\n",
       "      <td>adultery</td>\n",
       "      <td>0.078483</td>\n",
       "      <td>NOUN</td>\n",
       "      <td>None</td>\n",
       "    </tr>\n",
       "  </tbody>\n",
       "</table>\n",
       "</div>"
      ],
      "text/plain": [
       "        word     tfidf   pos ner_tag\n",
       "4   biderman  0.172664  NOUN    None\n",
       "5       hack  0.147875  VERB    None\n",
       "6    profile  0.146008  NOUN    None\n",
       "7       team  0.122921  NOUN    None\n",
       "9     impact  0.116995  NOUN    None\n",
       "11      user  0.103592  NOUN    None\n",
       "15   company  0.089976  NOUN    None\n",
       "16      leak  0.087470  NOUN    None\n",
       "17   promise  0.083925  VERB    None\n",
       "20  adultery  0.078483  NOUN    None"
      ]
     },
     "execution_count": 220,
     "metadata": {},
     "output_type": "execute_result"
    }
   ],
   "source": [
    "df1[(df1['pos'] == 'NOUN') | (df1['pos'] == 'VERB')].head(10)[['word','tfidf','pos','ner_tag']]"
   ]
  },
  {
   "cell_type": "code",
   "execution_count": null,
   "id": "9d53292f",
   "metadata": {},
   "outputs": [],
   "source": []
  }
 ],
 "metadata": {
  "kernelspec": {
   "display_name": "Python 3 (ipykernel)",
   "language": "python",
   "name": "python3"
  },
  "language_info": {
   "codemirror_mode": {
    "name": "ipython",
    "version": 3
   },
   "file_extension": ".py",
   "mimetype": "text/x-python",
   "name": "python",
   "nbconvert_exporter": "python",
   "pygments_lexer": "ipython3",
   "version": "3.9.9"
  }
 },
 "nbformat": 4,
 "nbformat_minor": 5
}
