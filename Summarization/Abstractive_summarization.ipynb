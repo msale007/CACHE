{
 "cells": [
  {
   "cell_type": "code",
   "execution_count": 1,
   "id": "eacfc1a1",
   "metadata": {},
   "outputs": [],
   "source": [
    "import os               # import os to walk file path\n",
    "import pandas as pd     # import pandas for dataframes\n",
    "import numpy as np      \n",
    "import json"
   ]
  },
  {
   "cell_type": "code",
   "execution_count": 2,
   "id": "95e8e8f5",
   "metadata": {},
   "outputs": [
    {
     "name": "stdout",
     "output_type": "stream",
     "text": [
      "5-web-design-trends-.json\n",
      "locate-empty-directo.json\n",
      "overview-of-spiral-s.json\n",
      "Files not read in:  0\n",
      "Files read in:  27\n",
      "                                     header_title  \\\n",
      "0   Convert Fahrenheit to Celsius with JavaScript   \n",
      "1     Create a Thumbnail From a Video with ffmpeg   \n",
      "2                      CSS ::file-selector-button   \n",
      "3                Customizing HTML Form Validation   \n",
      "4  Detect Browser Bars Visibility with JavaScript   \n",
      "\n",
      "                              date  \\\n",
      "0  Wed, 26 Oct 2022 10:19:49 +0000   \n",
      "1  Tue, 25 Oct 2022 09:28:58 +0000   \n",
      "2  Mon, 20 Feb 2023 09:50:57 +0000   \n",
      "3  Mon, 09 Jan 2023 10:57:00 +0000   \n",
      "4  Fri, 30 Dec 2022 01:36:35 +0000   \n",
      "\n",
      "                                                text  \\\n",
      "0  The United States is one of the last bodies th...   \n",
      "1  Creating a thumbnail to represent a video is a...   \n",
      "2  We all love beautifully styled form controls b...   \n",
      "3  Form validation has always been my least favor...   \n",
      "4  It's one thing to know about what's in the bro...   \n",
      "\n",
      "                                             summary  \\\n",
      "0  The article discusses the importance of provid...   \n",
      "1  The article discusses several topics related t...   \n",
      "2  This article discusses various web development...   \n",
      "3  The article discusses how to control native fo...   \n",
      "4  The article discusses how developers can gain ...   \n",
      "\n",
      "                                                 url  \n",
      "0  https://davidwalsh.name/fahrenheit-celsius-jav...  \n",
      "1    https://davidwalsh.name/create-thumbnail-ffmpeg  \n",
      "2   https://davidwalsh.name/css-file-selector-button  \n",
      "3           https://davidwalsh.name/html5-validation  \n",
      "4        https://davidwalsh.name/detect-browser-bars  \n"
     ]
    }
   ],
   "source": [
    "# Relative path\n",
    "path_to_data = 'rssDevData/'\n",
    "\n",
    "# Names of 5 blog categories to import \n",
    "blogs = ['DavidWalsh','DeveloperDotCom']\n",
    "\n",
    "# Identify key to blog text in JSON file\n",
    "key = 'text'\n",
    "\n",
    "# Initialize empty data frame\n",
    "text_data = pd.DataFrame()\n",
    "\n",
    "#Initialize counter to keep track of files that fail\n",
    "files_not_read = 0\n",
    "\n",
    "category_sizes = [] # To store number of blog articles by category\n",
    "labels = [] # To store \"true\" labels ->  [0, 1, 2, 3, 4]\n",
    "label = 0\n",
    "\n",
    "for blog in blogs :\n",
    "    current_blog_category_count = 0\n",
    "    \n",
    "    path_to_blogs = path_to_data + blog \n",
    "    \n",
    "    for root, dir, files in os.walk(path_to_blogs) :\n",
    "        # get list of only json files\n",
    "        json_files = [pos_json for pos_json in files if pos_json.endswith('.json')]\n",
    "\n",
    "        for j in json_files :\n",
    "            with open(root + '/' + j, 'r') as f:\n",
    "                try:\n",
    "                    data = json.load(f)\n",
    "                    if len(data[key]) > 200 :\n",
    "                        try : # fails when there is more than one json object in the file \n",
    "                            text_data = pd.concat([text_data, pd.DataFrame(data, index=[0])], ignore_index=True) \n",
    "                            current_blog_category_count += 1 \n",
    "                            labels.append(label) \n",
    "                        except : \n",
    "                            files_not_read += 1\n",
    "                except:\n",
    "                    print(j)\n",
    "print('Files not read in: ', str(files_not_read))\n",
    "print('Files read in: ', str(len(text_data)))\n",
    "print(text_data.head())"
   ]
  },
  {
   "cell_type": "code",
   "execution_count": 3,
   "id": "cee00553",
   "metadata": {},
   "outputs": [
    {
     "data": {
      "text/html": [
       "<div>\n",
       "<style scoped>\n",
       "    .dataframe tbody tr th:only-of-type {\n",
       "        vertical-align: middle;\n",
       "    }\n",
       "\n",
       "    .dataframe tbody tr th {\n",
       "        vertical-align: top;\n",
       "    }\n",
       "\n",
       "    .dataframe thead th {\n",
       "        text-align: right;\n",
       "    }\n",
       "</style>\n",
       "<table border=\"1\" class=\"dataframe\">\n",
       "  <thead>\n",
       "    <tr style=\"text-align: right;\">\n",
       "      <th></th>\n",
       "      <th>header_title</th>\n",
       "      <th>date</th>\n",
       "      <th>text</th>\n",
       "      <th>summary</th>\n",
       "      <th>url</th>\n",
       "    </tr>\n",
       "  </thead>\n",
       "  <tbody>\n",
       "    <tr>\n",
       "      <th>0</th>\n",
       "      <td>Convert Fahrenheit to Celsius with JavaScript</td>\n",
       "      <td>Wed, 26 Oct 2022 10:19:49 +0000</td>\n",
       "      <td>The United States is one of the last bodies th...</td>\n",
       "      <td>The article discusses the importance of provid...</td>\n",
       "      <td>https://davidwalsh.name/fahrenheit-celsius-jav...</td>\n",
       "    </tr>\n",
       "    <tr>\n",
       "      <th>1</th>\n",
       "      <td>Create a Thumbnail From a Video with ffmpeg</td>\n",
       "      <td>Tue, 25 Oct 2022 09:28:58 +0000</td>\n",
       "      <td>Creating a thumbnail to represent a video is a...</td>\n",
       "      <td>The article discusses several topics related t...</td>\n",
       "      <td>https://davidwalsh.name/create-thumbnail-ffmpeg</td>\n",
       "    </tr>\n",
       "    <tr>\n",
       "      <th>2</th>\n",
       "      <td>CSS ::file-selector-button</td>\n",
       "      <td>Mon, 20 Feb 2023 09:50:57 +0000</td>\n",
       "      <td>We all love beautifully styled form controls b...</td>\n",
       "      <td>This article discusses various web development...</td>\n",
       "      <td>https://davidwalsh.name/css-file-selector-button</td>\n",
       "    </tr>\n",
       "    <tr>\n",
       "      <th>3</th>\n",
       "      <td>Customizing HTML Form Validation</td>\n",
       "      <td>Mon, 09 Jan 2023 10:57:00 +0000</td>\n",
       "      <td>Form validation has always been my least favor...</td>\n",
       "      <td>The article discusses how to control native fo...</td>\n",
       "      <td>https://davidwalsh.name/html5-validation</td>\n",
       "    </tr>\n",
       "    <tr>\n",
       "      <th>4</th>\n",
       "      <td>Detect Browser Bars Visibility with JavaScript</td>\n",
       "      <td>Fri, 30 Dec 2022 01:36:35 +0000</td>\n",
       "      <td>It's one thing to know about what's in the bro...</td>\n",
       "      <td>The article discusses how developers can gain ...</td>\n",
       "      <td>https://davidwalsh.name/detect-browser-bars</td>\n",
       "    </tr>\n",
       "  </tbody>\n",
       "</table>\n",
       "</div>"
      ],
      "text/plain": [
       "                                     header_title  \\\n",
       "0   Convert Fahrenheit to Celsius with JavaScript   \n",
       "1     Create a Thumbnail From a Video with ffmpeg   \n",
       "2                      CSS ::file-selector-button   \n",
       "3                Customizing HTML Form Validation   \n",
       "4  Detect Browser Bars Visibility with JavaScript   \n",
       "\n",
       "                              date  \\\n",
       "0  Wed, 26 Oct 2022 10:19:49 +0000   \n",
       "1  Tue, 25 Oct 2022 09:28:58 +0000   \n",
       "2  Mon, 20 Feb 2023 09:50:57 +0000   \n",
       "3  Mon, 09 Jan 2023 10:57:00 +0000   \n",
       "4  Fri, 30 Dec 2022 01:36:35 +0000   \n",
       "\n",
       "                                                text  \\\n",
       "0  The United States is one of the last bodies th...   \n",
       "1  Creating a thumbnail to represent a video is a...   \n",
       "2  We all love beautifully styled form controls b...   \n",
       "3  Form validation has always been my least favor...   \n",
       "4  It's one thing to know about what's in the bro...   \n",
       "\n",
       "                                             summary  \\\n",
       "0  The article discusses the importance of provid...   \n",
       "1  The article discusses several topics related t...   \n",
       "2  This article discusses various web development...   \n",
       "3  The article discusses how to control native fo...   \n",
       "4  The article discusses how developers can gain ...   \n",
       "\n",
       "                                                 url  \n",
       "0  https://davidwalsh.name/fahrenheit-celsius-jav...  \n",
       "1    https://davidwalsh.name/create-thumbnail-ffmpeg  \n",
       "2   https://davidwalsh.name/css-file-selector-button  \n",
       "3           https://davidwalsh.name/html5-validation  \n",
       "4        https://davidwalsh.name/detect-browser-bars  "
      ]
     },
     "execution_count": 3,
     "metadata": {},
     "output_type": "execute_result"
    }
   ],
   "source": [
    "text_data.head()"
   ]
  },
  {
   "cell_type": "markdown",
   "id": "a82bb776",
   "metadata": {},
   "source": [
    "https://www.kaggle.com/code/thomaslazarus/summarization-comparison"
   ]
  },
  {
   "cell_type": "code",
   "execution_count": 4,
   "id": "34373094",
   "metadata": {},
   "outputs": [],
   "source": [
    "from transformers import AutoModelForSeq2SeqLM, AutoTokenizer, AutoModelWithLMHead\n",
    "import torch\n",
    "import time"
   ]
  },
  {
   "cell_type": "code",
   "execution_count": 5,
   "id": "cdd4659f",
   "metadata": {},
   "outputs": [
    {
     "name": "stdout",
     "output_type": "stream",
     "text": [
      "4.28.1\n"
     ]
    }
   ],
   "source": [
    "import transformers\n",
    "print(transformers.__version__)"
   ]
  },
  {
   "cell_type": "markdown",
   "id": "3f520296",
   "metadata": {},
   "source": [
    "# T5"
   ]
  },
  {
   "cell_type": "code",
   "execution_count": 6,
   "id": "73dcbd37",
   "metadata": {},
   "outputs": [],
   "source": [
    "model = AutoModelForSeq2SeqLM.from_pretrained('t5-base')"
   ]
  },
  {
   "cell_type": "code",
   "execution_count": 7,
   "id": "06abdcf2",
   "metadata": {},
   "outputs": [
    {
     "name": "stderr",
     "output_type": "stream",
     "text": [
      "C:\\Users\\msalehi\\AppData\\Roaming\\Python\\Python39\\site-packages\\transformers\\models\\t5\\tokenization_t5_fast.py:155: FutureWarning: This tokenizer was incorrectly instantiated with a model max length of 512 which will be corrected in Transformers v5.\n",
      "For now, this behavior is kept to avoid breaking backwards compatibility when padding/encoding with `truncation is True`.\n",
      "- Be aware that you SHOULD NOT rely on t5-base automatically truncating your input to 512 when padding/encoding.\n",
      "- If you want to encode/pad to sequences longer than 512 you can either instantiate this tokenizer with `model_max_length` or pass `max_length` when encoding/padding.\n",
      "- To avoid this warning, please instantiate this tokenizer with `model_max_length` set to your preferred value.\n",
      "  warnings.warn(\n"
     ]
    }
   ],
   "source": [
    "tokenizer = AutoTokenizer.from_pretrained(\"t5-base\")"
   ]
  },
  {
   "cell_type": "code",
   "execution_count": 8,
   "id": "ee7f63b7",
   "metadata": {},
   "outputs": [],
   "source": [
    "def T5(text):\n",
    "    start = time.time()\n",
    "    inputs = tokenizer.encode(\"summarize: \" + text, return_tensors=\"pt\", max_length=512)\n",
    "    outputs = model.generate(inputs, max_length=150, min_length=40, length_penalty=2.0, num_beams=4, early_stopping=True)\n",
    "    decoded_T5 = tokenizer.decode(outputs[0])\n",
    "    end = time.time()\n",
    "    t5_time = (end - start)\n",
    "#     print(t5_time)\n",
    "    return(t5_time, decoded_T5)"
   ]
  },
  {
   "cell_type": "code",
   "execution_count": 9,
   "id": "a5bb6bbc",
   "metadata": {},
   "outputs": [
    {
     "name": "stderr",
     "output_type": "stream",
     "text": [
      "Truncation was not explicitly activated but `max_length` is provided a specific value, please use `truncation=True` to explicitly truncate examples to max length. Defaulting to 'longest_first' truncation strategy. If you encode pairs of sequences (GLUE-style) with the tokenizer you can select this strategy more precisely by providing a specific strategy to `truncation`.\n"
     ]
    },
    {
     "data": {
      "text/plain": [
       "'<pad> machine vision has come a long way since the days of â<unk>how can a computer recognize this image as an apple?â<unk>. Optical character recognition (OCR) takes this a step further, by allowing developers to extract the text presented in an image. extracting the text would allow for the text to be indexable and searchable.</s>'"
      ]
     },
     "execution_count": 9,
     "metadata": {},
     "output_type": "execute_result"
    }
   ],
   "source": [
    "T5(text_data.iloc[20]['text'])[1]"
   ]
  },
  {
   "cell_type": "code",
   "execution_count": 10,
   "id": "2d5d2359",
   "metadata": {},
   "outputs": [],
   "source": [
    "text_data['T5']= text_data['text'].apply(lambda x:T5(x))"
   ]
  },
  {
   "cell_type": "code",
   "execution_count": 11,
   "id": "9006173d",
   "metadata": {},
   "outputs": [],
   "source": [
    "# text_data['T5'][20][1]"
   ]
  },
  {
   "cell_type": "markdown",
   "id": "510d384a",
   "metadata": {},
   "source": [
    "# BERT"
   ]
  },
  {
   "cell_type": "code",
   "execution_count": 12,
   "id": "8fbb59ce",
   "metadata": {},
   "outputs": [
    {
     "name": "stderr",
     "output_type": "stream",
     "text": [
      "C:\\Users\\msalehi\\AppData\\Roaming\\Python\\Python39\\site-packages\\transformers\\models\\auto\\modeling_auto.py:1322: FutureWarning: The class `AutoModelWithLMHead` is deprecated and will be removed in a future version. Please use `AutoModelForCausalLM` for causal language models, `AutoModelForMaskedLM` for masked language models and `AutoModelForSeq2SeqLM` for encoder-decoder models.\n",
      "  warnings.warn(\n",
      "Some weights of the model checkpoint at bert-base-cased were not used when initializing BertForMaskedLM: ['cls.seq_relationship.bias', 'cls.seq_relationship.weight']\n",
      "- This IS expected if you are initializing BertForMaskedLM from the checkpoint of a model trained on another task or with another architecture (e.g. initializing a BertForSequenceClassification model from a BertForPreTraining model).\n",
      "- This IS NOT expected if you are initializing BertForMaskedLM from the checkpoint of a model that you expect to be exactly identical (initializing a BertForSequenceClassification model from a BertForSequenceClassification model).\n"
     ]
    }
   ],
   "source": [
    "model = AutoModelWithLMHead.from_pretrained('bert-base-cased')"
   ]
  },
  {
   "cell_type": "code",
   "execution_count": 13,
   "id": "573ba9ef",
   "metadata": {},
   "outputs": [],
   "source": [
    "tokenizer = AutoTokenizer.from_pretrained(\"bert-base-cased\")"
   ]
  },
  {
   "cell_type": "code",
   "execution_count": 14,
   "id": "a70a3b3c",
   "metadata": {},
   "outputs": [],
   "source": [
    "def BERT(text):\n",
    "    start = time.time()\n",
    "    inputs = tokenizer.encode(\"summarize: \" + text, return_tensors=\"pt\", max_length=100)\n",
    "    outputs = model.generate(inputs, max_length=150, min_length=40, length_penalty=2.0, num_beams=4, early_stopping=True)\n",
    "    decoded_BERT = tokenizer.decode(outputs[0])\n",
    "    end = time.time()\n",
    "    BERT_time = (end-start)\n",
    "    return(BERT_time, decoded_BERT)"
   ]
  },
  {
   "cell_type": "code",
   "execution_count": 15,
   "id": "75e0be02",
   "metadata": {},
   "outputs": [],
   "source": [
    "# text_data.head()"
   ]
  },
  {
   "cell_type": "code",
   "execution_count": 16,
   "id": "22505ef8",
   "metadata": {},
   "outputs": [
    {
     "name": "stderr",
     "output_type": "stream",
     "text": [
      "Truncation was not explicitly activated but `max_length` is provided a specific value, please use `truncation=True` to explicitly truncate examples to max length. Defaulting to 'longest_first' truncation strategy. If you encode pairs of sequences (GLUE-style) with the tokenizer you can select this strategy more precisely by providing a specific strategy to `truncation`.\n"
     ]
    }
   ],
   "source": [
    "text_data['BERT']= text_data['text'].apply(lambda x:BERT(x))"
   ]
  },
  {
   "cell_type": "markdown",
   "id": "9e448f3d",
   "metadata": {},
   "source": [
    "# GPT"
   ]
  },
  {
   "cell_type": "code",
   "execution_count": 17,
   "id": "2fec92df",
   "metadata": {},
   "outputs": [
    {
     "name": "stderr",
     "output_type": "stream",
     "text": [
      "C:\\Users\\msalehi\\AppData\\Roaming\\Python\\Python39\\site-packages\\transformers\\models\\auto\\modeling_auto.py:1322: FutureWarning: The class `AutoModelWithLMHead` is deprecated and will be removed in a future version. Please use `AutoModelForCausalLM` for causal language models, `AutoModelForMaskedLM` for masked language models and `AutoModelForSeq2SeqLM` for encoder-decoder models.\n",
      "  warnings.warn(\n"
     ]
    }
   ],
   "source": [
    "model = AutoModelWithLMHead.from_pretrained('openai-gpt')\n",
    "tokenizer = AutoTokenizer.from_pretrained(\"openai-gpt\")"
   ]
  },
  {
   "cell_type": "code",
   "execution_count": 18,
   "id": "e445a44d",
   "metadata": {},
   "outputs": [],
   "source": [
    "def GPT(text):\n",
    "    start = time.time()\n",
    "    inputs = tokenizer.encode(\"summarize: \" + text, return_tensors=\"pt\", max_length=149)\n",
    "    outputs = model.generate(inputs, max_length=150, min_length=40, length_penalty=2.0, num_beams=4, early_stopping=True)\n",
    "    decoded_GPT = tokenizer.decode(outputs[0])\n",
    "    end = time.time()\n",
    "    GPT_time = (end - start)\n",
    "    return(GPT_time, decoded_GPT)"
   ]
  },
  {
   "cell_type": "code",
   "execution_count": 19,
   "id": "4c77803e",
   "metadata": {},
   "outputs": [
    {
     "name": "stderr",
     "output_type": "stream",
     "text": [
      "Truncation was not explicitly activated but `max_length` is provided a specific value, please use `truncation=True` to explicitly truncate examples to max length. Defaulting to 'longest_first' truncation strategy. If you encode pairs of sequences (GLUE-style) with the tokenizer you can select this strategy more precisely by providing a specific strategy to `truncation`.\n"
     ]
    }
   ],
   "source": [
    "text_data['GPT']= text_data['text'].apply(lambda x:GPT(x))"
   ]
  },
  {
   "cell_type": "markdown",
   "id": "7bdcc121",
   "metadata": {},
   "source": [
    "# DistilBERT"
   ]
  },
  {
   "cell_type": "code",
   "execution_count": 20,
   "id": "dc48cf2c",
   "metadata": {},
   "outputs": [
    {
     "name": "stderr",
     "output_type": "stream",
     "text": [
      "C:\\Users\\msalehi\\AppData\\Roaming\\Python\\Python39\\site-packages\\transformers\\models\\auto\\modeling_auto.py:1322: FutureWarning: The class `AutoModelWithLMHead` is deprecated and will be removed in a future version. Please use `AutoModelForCausalLM` for causal language models, `AutoModelForMaskedLM` for masked language models and `AutoModelForSeq2SeqLM` for encoder-decoder models.\n",
      "  warnings.warn(\n"
     ]
    }
   ],
   "source": [
    "model = AutoModelWithLMHead.from_pretrained('distilgpt2')\n",
    "tokenizer = AutoTokenizer.from_pretrained(\"distilgpt2\")"
   ]
  },
  {
   "cell_type": "code",
   "execution_count": 21,
   "id": "f071bc88",
   "metadata": {},
   "outputs": [],
   "source": [
    "def DistilBERT(text):\n",
    "    start = time.time()\n",
    "    inputs = tokenizer.encode(\"summarize: \" + text, return_tensors=\"pt\", max_length=149)\n",
    "    outputs = model.generate(inputs, max_length=150, min_length=40, length_penalty=2.0, num_beams=4, early_stopping=True)\n",
    "    decoded_DistilBERT = tokenizer.decode(outputs[0])\n",
    "    end = time.time()\n",
    "    DistilBERT_time = (end - start)\n",
    "    return(DistilBERT_time, decoded_DistilBERT)"
   ]
  },
  {
   "cell_type": "code",
   "execution_count": 22,
   "id": "8ffb19b0",
   "metadata": {},
   "outputs": [
    {
     "name": "stderr",
     "output_type": "stream",
     "text": [
      "Truncation was not explicitly activated but `max_length` is provided a specific value, please use `truncation=True` to explicitly truncate examples to max length. Defaulting to 'longest_first' truncation strategy. If you encode pairs of sequences (GLUE-style) with the tokenizer you can select this strategy more precisely by providing a specific strategy to `truncation`.\n",
      "The attention mask and the pad token id were not set. As a consequence, you may observe unexpected behavior. Please pass your input's `attention_mask` to obtain reliable results.\n",
      "Setting `pad_token_id` to `eos_token_id`:50256 for open-end generation.\n",
      "The attention mask and the pad token id were not set. As a consequence, you may observe unexpected behavior. Please pass your input's `attention_mask` to obtain reliable results.\n",
      "Setting `pad_token_id` to `eos_token_id`:50256 for open-end generation.\n",
      "The attention mask and the pad token id were not set. As a consequence, you may observe unexpected behavior. Please pass your input's `attention_mask` to obtain reliable results.\n",
      "Setting `pad_token_id` to `eos_token_id`:50256 for open-end generation.\n",
      "The attention mask and the pad token id were not set. As a consequence, you may observe unexpected behavior. Please pass your input's `attention_mask` to obtain reliable results.\n",
      "Setting `pad_token_id` to `eos_token_id`:50256 for open-end generation.\n",
      "The attention mask and the pad token id were not set. As a consequence, you may observe unexpected behavior. Please pass your input's `attention_mask` to obtain reliable results.\n",
      "Setting `pad_token_id` to `eos_token_id`:50256 for open-end generation.\n",
      "The attention mask and the pad token id were not set. As a consequence, you may observe unexpected behavior. Please pass your input's `attention_mask` to obtain reliable results.\n",
      "Setting `pad_token_id` to `eos_token_id`:50256 for open-end generation.\n",
      "The attention mask and the pad token id were not set. As a consequence, you may observe unexpected behavior. Please pass your input's `attention_mask` to obtain reliable results.\n",
      "Setting `pad_token_id` to `eos_token_id`:50256 for open-end generation.\n",
      "The attention mask and the pad token id were not set. As a consequence, you may observe unexpected behavior. Please pass your input's `attention_mask` to obtain reliable results.\n",
      "Setting `pad_token_id` to `eos_token_id`:50256 for open-end generation.\n",
      "The attention mask and the pad token id were not set. As a consequence, you may observe unexpected behavior. Please pass your input's `attention_mask` to obtain reliable results.\n",
      "Setting `pad_token_id` to `eos_token_id`:50256 for open-end generation.\n",
      "The attention mask and the pad token id were not set. As a consequence, you may observe unexpected behavior. Please pass your input's `attention_mask` to obtain reliable results.\n",
      "Setting `pad_token_id` to `eos_token_id`:50256 for open-end generation.\n",
      "The attention mask and the pad token id were not set. As a consequence, you may observe unexpected behavior. Please pass your input's `attention_mask` to obtain reliable results.\n",
      "Setting `pad_token_id` to `eos_token_id`:50256 for open-end generation.\n",
      "The attention mask and the pad token id were not set. As a consequence, you may observe unexpected behavior. Please pass your input's `attention_mask` to obtain reliable results.\n",
      "Setting `pad_token_id` to `eos_token_id`:50256 for open-end generation.\n",
      "The attention mask and the pad token id were not set. As a consequence, you may observe unexpected behavior. Please pass your input's `attention_mask` to obtain reliable results.\n",
      "Setting `pad_token_id` to `eos_token_id`:50256 for open-end generation.\n",
      "The attention mask and the pad token id were not set. As a consequence, you may observe unexpected behavior. Please pass your input's `attention_mask` to obtain reliable results.\n",
      "Setting `pad_token_id` to `eos_token_id`:50256 for open-end generation.\n",
      "The attention mask and the pad token id were not set. As a consequence, you may observe unexpected behavior. Please pass your input's `attention_mask` to obtain reliable results.\n",
      "Setting `pad_token_id` to `eos_token_id`:50256 for open-end generation.\n",
      "The attention mask and the pad token id were not set. As a consequence, you may observe unexpected behavior. Please pass your input's `attention_mask` to obtain reliable results.\n",
      "Setting `pad_token_id` to `eos_token_id`:50256 for open-end generation.\n",
      "The attention mask and the pad token id were not set. As a consequence, you may observe unexpected behavior. Please pass your input's `attention_mask` to obtain reliable results.\n",
      "Setting `pad_token_id` to `eos_token_id`:50256 for open-end generation.\n",
      "The attention mask and the pad token id were not set. As a consequence, you may observe unexpected behavior. Please pass your input's `attention_mask` to obtain reliable results.\n",
      "Setting `pad_token_id` to `eos_token_id`:50256 for open-end generation.\n",
      "The attention mask and the pad token id were not set. As a consequence, you may observe unexpected behavior. Please pass your input's `attention_mask` to obtain reliable results.\n",
      "Setting `pad_token_id` to `eos_token_id`:50256 for open-end generation.\n",
      "The attention mask and the pad token id were not set. As a consequence, you may observe unexpected behavior. Please pass your input's `attention_mask` to obtain reliable results.\n",
      "Setting `pad_token_id` to `eos_token_id`:50256 for open-end generation.\n",
      "The attention mask and the pad token id were not set. As a consequence, you may observe unexpected behavior. Please pass your input's `attention_mask` to obtain reliable results.\n",
      "Setting `pad_token_id` to `eos_token_id`:50256 for open-end generation.\n",
      "The attention mask and the pad token id were not set. As a consequence, you may observe unexpected behavior. Please pass your input's `attention_mask` to obtain reliable results.\n",
      "Setting `pad_token_id` to `eos_token_id`:50256 for open-end generation.\n",
      "The attention mask and the pad token id were not set. As a consequence, you may observe unexpected behavior. Please pass your input's `attention_mask` to obtain reliable results.\n",
      "Setting `pad_token_id` to `eos_token_id`:50256 for open-end generation.\n",
      "The attention mask and the pad token id were not set. As a consequence, you may observe unexpected behavior. Please pass your input's `attention_mask` to obtain reliable results.\n",
      "Setting `pad_token_id` to `eos_token_id`:50256 for open-end generation.\n",
      "The attention mask and the pad token id were not set. As a consequence, you may observe unexpected behavior. Please pass your input's `attention_mask` to obtain reliable results.\n",
      "Setting `pad_token_id` to `eos_token_id`:50256 for open-end generation.\n",
      "The attention mask and the pad token id were not set. As a consequence, you may observe unexpected behavior. Please pass your input's `attention_mask` to obtain reliable results.\n",
      "Setting `pad_token_id` to `eos_token_id`:50256 for open-end generation.\n",
      "The attention mask and the pad token id were not set. As a consequence, you may observe unexpected behavior. Please pass your input's `attention_mask` to obtain reliable results.\n",
      "Setting `pad_token_id` to `eos_token_id`:50256 for open-end generation.\n"
     ]
    }
   ],
   "source": [
    "text_data['DistilBERT']= text_data['text'].apply(lambda x:DistilBERT(x))"
   ]
  },
  {
   "cell_type": "markdown",
   "id": "4cc41e37",
   "metadata": {},
   "source": [
    "# GPT2"
   ]
  },
  {
   "cell_type": "code",
   "execution_count": 23,
   "id": "3b21d8c5",
   "metadata": {},
   "outputs": [
    {
     "name": "stderr",
     "output_type": "stream",
     "text": [
      "C:\\Users\\msalehi\\AppData\\Roaming\\Python\\Python39\\site-packages\\transformers\\models\\auto\\modeling_auto.py:1322: FutureWarning: The class `AutoModelWithLMHead` is deprecated and will be removed in a future version. Please use `AutoModelForCausalLM` for causal language models, `AutoModelForMaskedLM` for masked language models and `AutoModelForSeq2SeqLM` for encoder-decoder models.\n",
      "  warnings.warn(\n"
     ]
    }
   ],
   "source": [
    "model = AutoModelWithLMHead.from_pretrained('gpt2')\n",
    "tokenizer = AutoTokenizer.from_pretrained(\"gpt2\")"
   ]
  },
  {
   "cell_type": "code",
   "execution_count": 24,
   "id": "8f6682c3",
   "metadata": {},
   "outputs": [],
   "source": [
    "def GPT2(text):\n",
    "    start = time.time()\n",
    "    inputs = tokenizer.encode(\"summarize: \" + text_data.iloc[20]['text'], return_tensors=\"pt\", max_length=149)\n",
    "    outputs = model.generate(inputs, max_length=150, min_length=40, length_penalty=2.0, num_beams=4, early_stopping=True)\n",
    "    decoded_GPT2 = tokenizer.decode(outputs[0])\n",
    "    end = time.time()\n",
    "    GPT2_time = (end - start)\n",
    "    return(GPT2_time, decoded_GPT2)"
   ]
  },
  {
   "cell_type": "code",
   "execution_count": 25,
   "id": "25b0c872",
   "metadata": {},
   "outputs": [
    {
     "name": "stderr",
     "output_type": "stream",
     "text": [
      "Truncation was not explicitly activated but `max_length` is provided a specific value, please use `truncation=True` to explicitly truncate examples to max length. Defaulting to 'longest_first' truncation strategy. If you encode pairs of sequences (GLUE-style) with the tokenizer you can select this strategy more precisely by providing a specific strategy to `truncation`.\n",
      "The attention mask and the pad token id were not set. As a consequence, you may observe unexpected behavior. Please pass your input's `attention_mask` to obtain reliable results.\n",
      "Setting `pad_token_id` to `eos_token_id`:50256 for open-end generation.\n",
      "The attention mask and the pad token id were not set. As a consequence, you may observe unexpected behavior. Please pass your input's `attention_mask` to obtain reliable results.\n",
      "Setting `pad_token_id` to `eos_token_id`:50256 for open-end generation.\n",
      "The attention mask and the pad token id were not set. As a consequence, you may observe unexpected behavior. Please pass your input's `attention_mask` to obtain reliable results.\n",
      "Setting `pad_token_id` to `eos_token_id`:50256 for open-end generation.\n",
      "The attention mask and the pad token id were not set. As a consequence, you may observe unexpected behavior. Please pass your input's `attention_mask` to obtain reliable results.\n",
      "Setting `pad_token_id` to `eos_token_id`:50256 for open-end generation.\n",
      "The attention mask and the pad token id were not set. As a consequence, you may observe unexpected behavior. Please pass your input's `attention_mask` to obtain reliable results.\n",
      "Setting `pad_token_id` to `eos_token_id`:50256 for open-end generation.\n",
      "The attention mask and the pad token id were not set. As a consequence, you may observe unexpected behavior. Please pass your input's `attention_mask` to obtain reliable results.\n",
      "Setting `pad_token_id` to `eos_token_id`:50256 for open-end generation.\n",
      "The attention mask and the pad token id were not set. As a consequence, you may observe unexpected behavior. Please pass your input's `attention_mask` to obtain reliable results.\n",
      "Setting `pad_token_id` to `eos_token_id`:50256 for open-end generation.\n",
      "The attention mask and the pad token id were not set. As a consequence, you may observe unexpected behavior. Please pass your input's `attention_mask` to obtain reliable results.\n",
      "Setting `pad_token_id` to `eos_token_id`:50256 for open-end generation.\n",
      "The attention mask and the pad token id were not set. As a consequence, you may observe unexpected behavior. Please pass your input's `attention_mask` to obtain reliable results.\n",
      "Setting `pad_token_id` to `eos_token_id`:50256 for open-end generation.\n",
      "The attention mask and the pad token id were not set. As a consequence, you may observe unexpected behavior. Please pass your input's `attention_mask` to obtain reliable results.\n",
      "Setting `pad_token_id` to `eos_token_id`:50256 for open-end generation.\n",
      "The attention mask and the pad token id were not set. As a consequence, you may observe unexpected behavior. Please pass your input's `attention_mask` to obtain reliable results.\n",
      "Setting `pad_token_id` to `eos_token_id`:50256 for open-end generation.\n",
      "The attention mask and the pad token id were not set. As a consequence, you may observe unexpected behavior. Please pass your input's `attention_mask` to obtain reliable results.\n",
      "Setting `pad_token_id` to `eos_token_id`:50256 for open-end generation.\n",
      "The attention mask and the pad token id were not set. As a consequence, you may observe unexpected behavior. Please pass your input's `attention_mask` to obtain reliable results.\n",
      "Setting `pad_token_id` to `eos_token_id`:50256 for open-end generation.\n",
      "The attention mask and the pad token id were not set. As a consequence, you may observe unexpected behavior. Please pass your input's `attention_mask` to obtain reliable results.\n",
      "Setting `pad_token_id` to `eos_token_id`:50256 for open-end generation.\n",
      "The attention mask and the pad token id were not set. As a consequence, you may observe unexpected behavior. Please pass your input's `attention_mask` to obtain reliable results.\n",
      "Setting `pad_token_id` to `eos_token_id`:50256 for open-end generation.\n",
      "The attention mask and the pad token id were not set. As a consequence, you may observe unexpected behavior. Please pass your input's `attention_mask` to obtain reliable results.\n",
      "Setting `pad_token_id` to `eos_token_id`:50256 for open-end generation.\n",
      "The attention mask and the pad token id were not set. As a consequence, you may observe unexpected behavior. Please pass your input's `attention_mask` to obtain reliable results.\n",
      "Setting `pad_token_id` to `eos_token_id`:50256 for open-end generation.\n",
      "The attention mask and the pad token id were not set. As a consequence, you may observe unexpected behavior. Please pass your input's `attention_mask` to obtain reliable results.\n",
      "Setting `pad_token_id` to `eos_token_id`:50256 for open-end generation.\n",
      "The attention mask and the pad token id were not set. As a consequence, you may observe unexpected behavior. Please pass your input's `attention_mask` to obtain reliable results.\n",
      "Setting `pad_token_id` to `eos_token_id`:50256 for open-end generation.\n",
      "The attention mask and the pad token id were not set. As a consequence, you may observe unexpected behavior. Please pass your input's `attention_mask` to obtain reliable results.\n",
      "Setting `pad_token_id` to `eos_token_id`:50256 for open-end generation.\n",
      "The attention mask and the pad token id were not set. As a consequence, you may observe unexpected behavior. Please pass your input's `attention_mask` to obtain reliable results.\n",
      "Setting `pad_token_id` to `eos_token_id`:50256 for open-end generation.\n",
      "The attention mask and the pad token id were not set. As a consequence, you may observe unexpected behavior. Please pass your input's `attention_mask` to obtain reliable results.\n",
      "Setting `pad_token_id` to `eos_token_id`:50256 for open-end generation.\n",
      "The attention mask and the pad token id were not set. As a consequence, you may observe unexpected behavior. Please pass your input's `attention_mask` to obtain reliable results.\n",
      "Setting `pad_token_id` to `eos_token_id`:50256 for open-end generation.\n",
      "The attention mask and the pad token id were not set. As a consequence, you may observe unexpected behavior. Please pass your input's `attention_mask` to obtain reliable results.\n",
      "Setting `pad_token_id` to `eos_token_id`:50256 for open-end generation.\n",
      "The attention mask and the pad token id were not set. As a consequence, you may observe unexpected behavior. Please pass your input's `attention_mask` to obtain reliable results.\n",
      "Setting `pad_token_id` to `eos_token_id`:50256 for open-end generation.\n",
      "The attention mask and the pad token id were not set. As a consequence, you may observe unexpected behavior. Please pass your input's `attention_mask` to obtain reliable results.\n",
      "Setting `pad_token_id` to `eos_token_id`:50256 for open-end generation.\n",
      "The attention mask and the pad token id were not set. As a consequence, you may observe unexpected behavior. Please pass your input's `attention_mask` to obtain reliable results.\n",
      "Setting `pad_token_id` to `eos_token_id`:50256 for open-end generation.\n"
     ]
    }
   ],
   "source": [
    "text_data['GPT2']= text_data['text'].apply(lambda x:GPT2(x))"
   ]
  },
  {
   "cell_type": "code",
   "execution_count": 26,
   "id": "61486bd0",
   "metadata": {},
   "outputs": [
    {
     "data": {
      "text/plain": [
       "52.163445472717285"
      ]
     },
     "execution_count": 26,
     "metadata": {},
     "output_type": "execute_result"
    }
   ],
   "source": [
    "text_data['BERT'][0][0]"
   ]
  },
  {
   "cell_type": "code",
   "execution_count": 27,
   "id": "aec8aabd",
   "metadata": {},
   "outputs": [
    {
     "data": {
      "image/png": "[encoded data removed]",
      "text/plain": [
       "<Figure size 640x480 with 1 Axes>"
      ]
     },
     "metadata": {},
     "output_type": "display_data"
    }
   ],
   "source": [
    "# Create a bar plot to display time of summarization for each model\n",
    "\n",
    "import matplotlib.pyplot as plot\n",
    "time_array = {'Model': [\"BERT\", \"T5\", \"DistilBERT\", \"GPT\", \"GPT2\"],\n",
    "            'Times': [text_data['BERT'][0][0], text_data['T5'][0][0], text_data['DistilBERT'][0][0], text_data['GPT'][0][0],\n",
    "                    text_data['GPT2'][0][0]]}\n",
    "df_time = pd.DataFrame(data=time_array)\n",
    "df_time.sort_values('Times').plot.bar(\n",
    "    x=\"Model\", y=\"Times\", title=\"Time to Summarize for each model\", ylabel=\"Time in Seconds\", xlabel=\"\", legend=False)\n",
    "plot.show()"
   ]
  },
  {
   "cell_type": "code",
   "execution_count": 28,
   "id": "7361db98",
   "metadata": {},
   "outputs": [
    {
     "data": {
      "text/plain": [
       "512"
      ]
     },
     "execution_count": 28,
     "metadata": {},
     "output_type": "execute_result"
    }
   ],
   "source": [
    "len(text_data['BERT'][0][1])"
   ]
  },
  {
   "cell_type": "code",
   "execution_count": 29,
   "id": "bc496fa6",
   "metadata": {},
   "outputs": [
    {
     "data": {
      "image/png": "[encoded data removed]",
      "text/plain": [
       "<Figure size 640x480 with 1 Axes>"
      ]
     },
     "metadata": {},
     "output_type": "display_data"
    }
   ],
   "source": [
    "# Create a bar plot to display length of summary for each model\n",
    "\n",
    "length_dict = {\"Model\": [\"Normal\", \"BERT\", \"T5\", \"DistilBERT\", \"GPT\", \"GPT2\"], \n",
    "               \"Length\": [(len(text_data['text'][0])), (len(text_data['BERT'][0][1])), (len(text_data['T5'][0][1])), \n",
    "                          (len(text_data['DistilBERT'][0][1])), (len(text_data['GPT'][0][1])), (len(text_data['GPT2'][0][1]))]}\n",
    "                          \n",
    "df_length = pd.DataFrame(data=length_dict)\n",
    "df_length.sort_values('Length').plot.bar(x=\"Model\", y=\"Length\", title=\"Length of Model Summary\", ylabel=\"Length\", xlabel=\"\", legend=False)\n",
    "plot.show()"
   ]
  },
  {
   "cell_type": "markdown",
   "id": "f40e2b5c",
   "metadata": {},
   "source": [
    "## Rouge Score"
   ]
  },
  {
   "cell_type": "code",
   "execution_count": 30,
   "id": "c31447c1",
   "metadata": {},
   "outputs": [],
   "source": [
    "from rouge import Rouge"
   ]
  },
  {
   "cell_type": "code",
   "execution_count": 31,
   "id": "834eeabf",
   "metadata": {},
   "outputs": [],
   "source": [
    "text_data['T5_list'] = [x[1] for x in text_data['T5']]"
   ]
  },
  {
   "cell_type": "code",
   "execution_count": 32,
   "id": "80feb521",
   "metadata": {},
   "outputs": [
    {
     "data": {
      "text/html": [
       "<div>\n",
       "<style scoped>\n",
       "    .dataframe tbody tr th:only-of-type {\n",
       "        vertical-align: middle;\n",
       "    }\n",
       "\n",
       "    .dataframe tbody tr th {\n",
       "        vertical-align: top;\n",
       "    }\n",
       "\n",
       "    .dataframe thead th {\n",
       "        text-align: right;\n",
       "    }\n",
       "</style>\n",
       "<table border=\"1\" class=\"dataframe\">\n",
       "  <thead>\n",
       "    <tr style=\"text-align: right;\">\n",
       "      <th></th>\n",
       "      <th>rouge-1</th>\n",
       "      <th>rouge-2</th>\n",
       "      <th>rouge-l</th>\n",
       "    </tr>\n",
       "  </thead>\n",
       "  <tbody>\n",
       "    <tr>\n",
       "      <th>0</th>\n",
       "      <td>{'r': 0.35294117647058826, 'p': 0.076923076923...</td>\n",
       "      <td>{'r': 0.11764705882352941, 'p': 0.018867924528...</td>\n",
       "      <td>{'r': 0.35294117647058826, 'p': 0.076923076923...</td>\n",
       "    </tr>\n",
       "    <tr>\n",
       "      <th>1</th>\n",
       "      <td>{'r': 0.4444444444444444, 'p': 0.2077922077922...</td>\n",
       "      <td>{'r': 0.2, 'p': 0.06422018348623854, 'f': 0.09...</td>\n",
       "      <td>{'r': 0.3888888888888889, 'p': 0.1818181818181...</td>\n",
       "    </tr>\n",
       "    <tr>\n",
       "      <th>2</th>\n",
       "      <td>{'r': 0.2413793103448276, 'p': 0.0958904109589...</td>\n",
       "      <td>{'r': 0.034482758620689655, 'p': 0.01123595505...</td>\n",
       "      <td>{'r': 0.2413793103448276, 'p': 0.0958904109589...</td>\n",
       "    </tr>\n",
       "    <tr>\n",
       "      <th>3</th>\n",
       "      <td>{'r': 0.5294117647058824, 'p': 0.2608695652173...</td>\n",
       "      <td>{'r': 0.08108108108108109, 'p': 0.03, 'f': 0.0...</td>\n",
       "      <td>{'r': 0.4411764705882353, 'p': 0.2173913043478...</td>\n",
       "    </tr>\n",
       "    <tr>\n",
       "      <th>4</th>\n",
       "      <td>{'r': 0.41935483870967744, 'p': 0.175675675675...</td>\n",
       "      <td>{'r': 0.125, 'p': 0.041666666666666664, 'f': 0...</td>\n",
       "      <td>{'r': 0.41935483870967744, 'p': 0.175675675675...</td>\n",
       "    </tr>\n",
       "  </tbody>\n",
       "</table>\n",
       "</div>"
      ],
      "text/plain": [
       "                                             rouge-1  \\\n",
       "0  {'r': 0.35294117647058826, 'p': 0.076923076923...   \n",
       "1  {'r': 0.4444444444444444, 'p': 0.2077922077922...   \n",
       "2  {'r': 0.2413793103448276, 'p': 0.0958904109589...   \n",
       "3  {'r': 0.5294117647058824, 'p': 0.2608695652173...   \n",
       "4  {'r': 0.41935483870967744, 'p': 0.175675675675...   \n",
       "\n",
       "                                             rouge-2  \\\n",
       "0  {'r': 0.11764705882352941, 'p': 0.018867924528...   \n",
       "1  {'r': 0.2, 'p': 0.06422018348623854, 'f': 0.09...   \n",
       "2  {'r': 0.034482758620689655, 'p': 0.01123595505...   \n",
       "3  {'r': 0.08108108108108109, 'p': 0.03, 'f': 0.0...   \n",
       "4  {'r': 0.125, 'p': 0.041666666666666664, 'f': 0...   \n",
       "\n",
       "                                             rouge-l  \n",
       "0  {'r': 0.35294117647058826, 'p': 0.076923076923...  \n",
       "1  {'r': 0.3888888888888889, 'p': 0.1818181818181...  \n",
       "2  {'r': 0.2413793103448276, 'p': 0.0958904109589...  \n",
       "3  {'r': 0.4411764705882353, 'p': 0.2173913043478...  \n",
       "4  {'r': 0.41935483870967744, 'p': 0.175675675675...  "
      ]
     },
     "execution_count": 32,
     "metadata": {},
     "output_type": "execute_result"
    }
   ],
   "source": [
    "rouge = Rouge()\n",
    "\n",
    "# Compare chatgpt summary with T5 using Rouge measure\n",
    "\n",
    "scores1 = rouge.get_scores(text_data[\"summary\"], text_data['T5_list'])\n",
    "df_result1 = pd.DataFrame(scores1)\n",
    "df_result1.head()"
   ]
  },
  {
   "cell_type": "code",
   "execution_count": 33,
   "id": "851ec0cc",
   "metadata": {},
   "outputs": [],
   "source": [
    "text_data['BERT_list'] = [x[1] for x in text_data['BERT']]"
   ]
  },
  {
   "cell_type": "code",
   "execution_count": 34,
   "id": "cf5f85f1",
   "metadata": {},
   "outputs": [],
   "source": [
    "# Compare chatgpt summary with BERT using Rouge measure\n",
    "\n",
    "scores2 = rouge.get_scores(text_data[\"summary\"], text_data[\"BERT_list\"])\n",
    "df_result2 = pd.DataFrame(scores2)\n",
    "# df_result2.head()"
   ]
  },
  {
   "cell_type": "code",
   "execution_count": 35,
   "id": "630c8551",
   "metadata": {},
   "outputs": [],
   "source": [
    "text_data['DistilBERT_list'] = [x[1] for x in text_data['DistilBERT']]"
   ]
  },
  {
   "cell_type": "code",
   "execution_count": 36,
   "id": "1cc99cc5",
   "metadata": {},
   "outputs": [],
   "source": [
    "# Compare chatgpt summary with DistilBERT using Rouge measure\n",
    "\n",
    "scores3 = rouge.get_scores(text_data[\"summary\"], text_data[\"DistilBERT_list\"])\n",
    "df_result3 = pd.DataFrame(scores3)\n",
    "# df_result3.head()"
   ]
  },
  {
   "cell_type": "code",
   "execution_count": 37,
   "id": "1ff29d22",
   "metadata": {},
   "outputs": [],
   "source": [
    "text_data['GPT_list'] = [x[1] for x in text_data['GPT']]"
   ]
  },
  {
   "cell_type": "code",
   "execution_count": 38,
   "id": "c155793a",
   "metadata": {},
   "outputs": [],
   "source": [
    "# # Compare chatgpt summary with GPT using Rouge measure\n",
    "\n",
    "scores4 = rouge.get_scores(text_data[\"summary\"], text_data[\"GPT_list\"])\n",
    "df_result4 = pd.DataFrame(scores4)\n",
    "# df_result4.head()"
   ]
  },
  {
   "cell_type": "code",
   "execution_count": 39,
   "id": "731c375f",
   "metadata": {},
   "outputs": [],
   "source": [
    "text_data['GPT2_list'] = [x[1] for x in text_data['GPT2']]"
   ]
  },
  {
   "cell_type": "code",
   "execution_count": 40,
   "id": "93a8ab7f",
   "metadata": {},
   "outputs": [],
   "source": [
    "# Compare chatgpt summary with GPT2 using Rouge measure\n",
    "\n",
    "scores5 = rouge.get_scores(text_data[\"summary\"], text_data[\"GPT2_list\"])\n",
    "df_result5 = pd.DataFrame(scores5)\n",
    "# df_result5.head()"
   ]
  },
  {
   "cell_type": "code",
   "execution_count": 41,
   "id": "154c435c",
   "metadata": {},
   "outputs": [],
   "source": [
    "# Create a dataframe and Calculate the mean value of Rouge measure for T5\n",
    "\n",
    "f_rouge_1_T5 = []\n",
    "f_rouge_2 = []\n",
    "f_rouge_l = []\n",
    "\n",
    "for i in range(len(df_result1)):\n",
    "    r = df_result1['rouge-1'][i]['f']\n",
    "    f_rouge_1_T5.append(r)\n",
    "    k = df_result1['rouge-2'][i]['f']\n",
    "    f_rouge_2.append(k)\n",
    "    h = df_result1['rouge-l'][i]['f']\n",
    "    f_rouge_l.append(h)"
   ]
  },
  {
   "cell_type": "code",
   "execution_count": 42,
   "id": "81339221",
   "metadata": {},
   "outputs": [],
   "source": [
    "# Create a dataframe and Calculate the mean value of Rouge measure for BERT\n",
    "\n",
    "f_rouge_1_BERT = []\n",
    "f_rouge_2 = []\n",
    "f_rouge_l = []\n",
    "\n",
    "for i in range(len(df_result2)):\n",
    "    r = df_result2['rouge-1'][i]['f']\n",
    "    f_rouge_1_BERT.append(r)\n",
    "    k = df_result2['rouge-2'][i]['f']\n",
    "    f_rouge_2.append(k)\n",
    "    h = df_result2['rouge-l'][i]['f']\n",
    "    f_rouge_l.append(h)"
   ]
  },
  {
   "cell_type": "code",
   "execution_count": 43,
   "id": "776822fd",
   "metadata": {},
   "outputs": [],
   "source": [
    "# Create a dataframe and Calculate the mean value of Rouge measure for DistilBERT\n",
    "\n",
    "f_rouge_1_DistilBERT = []\n",
    "f_rouge_2_DistilBERT = []\n",
    "f_rouge_l_DistilBERT = []\n",
    "\n",
    "for i in range(len(df_result3)):\n",
    "    r = df_result3['rouge-1'][i]['f']\n",
    "    f_rouge_1_DistilBERT.append(r)\n",
    "    k = df_result3['rouge-2'][i]['f']\n",
    "    f_rouge_2_DistilBERT.append(k)\n",
    "    h = df_result3['rouge-l'][i]['f']\n",
    "    f_rouge_l_DistilBERT.append(h)"
   ]
  },
  {
   "cell_type": "code",
   "execution_count": 44,
   "id": "ae124405",
   "metadata": {},
   "outputs": [],
   "source": [
    "# Create a dataframe and Calculate the mean value of Rouge measure for GPT\n",
    "\n",
    "f_rouge_1_GPT = []\n",
    "f_rouge_2 = []\n",
    "f_rouge_l = []\n",
    "\n",
    "for i in range(len(df_result4)):\n",
    "    r = df_result4['rouge-1'][i]['f']\n",
    "    f_rouge_1_GPT.append(r)\n",
    "    k = df_result4['rouge-2'][i]['f']\n",
    "    f_rouge_2.append(k)\n",
    "    h = df_result4['rouge-l'][i]['f']\n",
    "    f_rouge_l.append(h)"
   ]
  },
  {
   "cell_type": "code",
   "execution_count": 45,
   "id": "8673765b",
   "metadata": {},
   "outputs": [],
   "source": [
    "# Create a dataframe and Calculate the mean value of Rouge measure for GPT2\n",
    "\n",
    "f_rouge_1_GPT2 = []\n",
    "f_rouge_2 = []\n",
    "f_rouge_l = []\n",
    "\n",
    "for i in range(len(df_result5)):\n",
    "    r = df_result5['rouge-1'][i]['f']\n",
    "    f_rouge_1_GPT2.append(r)\n",
    "    k = df_result5['rouge-2'][i]['f']\n",
    "    f_rouge_2.append(k)\n",
    "    h = df_result5['rouge-l'][i]['f']\n",
    "    f_rouge_l.append(h)"
   ]
  },
  {
   "cell_type": "code",
   "execution_count": 46,
   "id": "9a653519",
   "metadata": {},
   "outputs": [
    {
     "data": {
      "text/html": [
       "<div>\n",
       "<style scoped>\n",
       "    .dataframe tbody tr th:only-of-type {\n",
       "        vertical-align: middle;\n",
       "    }\n",
       "\n",
       "    .dataframe tbody tr th {\n",
       "        vertical-align: top;\n",
       "    }\n",
       "\n",
       "    .dataframe thead th {\n",
       "        text-align: right;\n",
       "    }\n",
       "</style>\n",
       "<table border=\"1\" class=\"dataframe\">\n",
       "  <thead>\n",
       "    <tr style=\"text-align: right;\">\n",
       "      <th></th>\n",
       "      <th>f_rouge_1_T5</th>\n",
       "      <th>f_rouge_1_BERT</th>\n",
       "      <th>f_rouge_1_GPT</th>\n",
       "      <th>f_rouge_1_DistilBERT</th>\n",
       "      <th>f_rouge_1_GPT2</th>\n",
       "    </tr>\n",
       "  </thead>\n",
       "  <tbody>\n",
       "    <tr>\n",
       "      <th>0</th>\n",
       "      <td>0.126316</td>\n",
       "      <td>0.237037</td>\n",
       "      <td>0.172662</td>\n",
       "      <td>0.251572</td>\n",
       "      <td>0.141935</td>\n",
       "    </tr>\n",
       "    <tr>\n",
       "      <th>1</th>\n",
       "      <td>0.283186</td>\n",
       "      <td>0.210526</td>\n",
       "      <td>0.226415</td>\n",
       "      <td>0.230769</td>\n",
       "      <td>0.168831</td>\n",
       "    </tr>\n",
       "    <tr>\n",
       "      <th>2</th>\n",
       "      <td>0.137255</td>\n",
       "      <td>0.205479</td>\n",
       "      <td>0.219355</td>\n",
       "      <td>0.236842</td>\n",
       "      <td>0.173333</td>\n",
       "    </tr>\n",
       "    <tr>\n",
       "      <th>3</th>\n",
       "      <td>0.349515</td>\n",
       "      <td>0.246575</td>\n",
       "      <td>0.293333</td>\n",
       "      <td>0.324675</td>\n",
       "      <td>0.205479</td>\n",
       "    </tr>\n",
       "    <tr>\n",
       "      <th>4</th>\n",
       "      <td>0.247619</td>\n",
       "      <td>0.323077</td>\n",
       "      <td>0.367089</td>\n",
       "      <td>0.379747</td>\n",
       "      <td>0.211921</td>\n",
       "    </tr>\n",
       "  </tbody>\n",
       "</table>\n",
       "</div>"
      ],
      "text/plain": [
       "   f_rouge_1_T5  f_rouge_1_BERT  f_rouge_1_GPT  f_rouge_1_DistilBERT  \\\n",
       "0      0.126316        0.237037       0.172662              0.251572   \n",
       "1      0.283186        0.210526       0.226415              0.230769   \n",
       "2      0.137255        0.205479       0.219355              0.236842   \n",
       "3      0.349515        0.246575       0.293333              0.324675   \n",
       "4      0.247619        0.323077       0.367089              0.379747   \n",
       "\n",
       "   f_rouge_1_GPT2  \n",
       "0        0.141935  \n",
       "1        0.168831  \n",
       "2        0.173333  \n",
       "3        0.205479  \n",
       "4        0.211921  "
      ]
     },
     "execution_count": 46,
     "metadata": {},
     "output_type": "execute_result"
    }
   ],
   "source": [
    "# Create a dataframe of f_rouge for all methods for each row\n",
    "\n",
    "data = {'f_rouge_1_T5':f_rouge_1_T5,'f_rouge_1_BERT':f_rouge_1_BERT\n",
    "        ,'f_rouge_1_GPT':f_rouge_1_GPT, 'f_rouge_1_DistilBERT':f_rouge_1_DistilBERT,'f_rouge_1_GPT2': f_rouge_1_GPT2}\n",
    "# columns = ['f_rouge_1_LexRank','f_rouge_1_Lsa','f_rouge_1_TextRank','f_rouge_1_Luhn']\n",
    "df =pd.DataFrame(data)\n",
    "df.head()"
   ]
  },
  {
   "cell_type": "code",
   "execution_count": 47,
   "id": "c229504b",
   "metadata": {},
   "outputs": [
    {
     "data": {
      "text/html": [
       "<div>\n",
       "<style scoped>\n",
       "    .dataframe tbody tr th:only-of-type {\n",
       "        vertical-align: middle;\n",
       "    }\n",
       "\n",
       "    .dataframe tbody tr th {\n",
       "        vertical-align: top;\n",
       "    }\n",
       "\n",
       "    .dataframe thead th {\n",
       "        text-align: right;\n",
       "    }\n",
       "</style>\n",
       "<table border=\"1\" class=\"dataframe\">\n",
       "  <thead>\n",
       "    <tr style=\"text-align: right;\">\n",
       "      <th></th>\n",
       "      <th>f_rouge_1_T5</th>\n",
       "      <th>f_rouge_1_BERT</th>\n",
       "      <th>f_rouge_1_GPT</th>\n",
       "      <th>f_rouge_1_DistilBERT</th>\n",
       "      <th>f_rouge_1_GPT2</th>\n",
       "    </tr>\n",
       "  </thead>\n",
       "  <tbody>\n",
       "    <tr>\n",
       "      <th>count</th>\n",
       "      <td>27.000000</td>\n",
       "      <td>27.000000</td>\n",
       "      <td>27.000000</td>\n",
       "      <td>27.000000</td>\n",
       "      <td>27.000000</td>\n",
       "    </tr>\n",
       "    <tr>\n",
       "      <th>mean</th>\n",
       "      <td>0.263029</td>\n",
       "      <td>0.302204</td>\n",
       "      <td>0.314796</td>\n",
       "      <td>0.348331</td>\n",
       "      <td>0.174475</td>\n",
       "    </tr>\n",
       "    <tr>\n",
       "      <th>std</th>\n",
       "      <td>0.082388</td>\n",
       "      <td>0.062196</td>\n",
       "      <td>0.074693</td>\n",
       "      <td>0.084041</td>\n",
       "      <td>0.045971</td>\n",
       "    </tr>\n",
       "    <tr>\n",
       "      <th>min</th>\n",
       "      <td>0.119048</td>\n",
       "      <td>0.163934</td>\n",
       "      <td>0.172662</td>\n",
       "      <td>0.230769</td>\n",
       "      <td>0.112676</td>\n",
       "    </tr>\n",
       "    <tr>\n",
       "      <th>25%</th>\n",
       "      <td>0.197332</td>\n",
       "      <td>0.263278</td>\n",
       "      <td>0.270180</td>\n",
       "      <td>0.281018</td>\n",
       "      <td>0.148360</td>\n",
       "    </tr>\n",
       "    <tr>\n",
       "      <th>50%</th>\n",
       "      <td>0.272727</td>\n",
       "      <td>0.312057</td>\n",
       "      <td>0.297619</td>\n",
       "      <td>0.335329</td>\n",
       "      <td>0.166667</td>\n",
       "    </tr>\n",
       "    <tr>\n",
       "      <th>75%</th>\n",
       "      <td>0.321042</td>\n",
       "      <td>0.332080</td>\n",
       "      <td>0.359601</td>\n",
       "      <td>0.413415</td>\n",
       "      <td>0.188799</td>\n",
       "    </tr>\n",
       "    <tr>\n",
       "      <th>max</th>\n",
       "      <td>0.390244</td>\n",
       "      <td>0.432432</td>\n",
       "      <td>0.459627</td>\n",
       "      <td>0.530864</td>\n",
       "      <td>0.358974</td>\n",
       "    </tr>\n",
       "  </tbody>\n",
       "</table>\n",
       "</div>"
      ],
      "text/plain": [
       "       f_rouge_1_T5  f_rouge_1_BERT  f_rouge_1_GPT  f_rouge_1_DistilBERT  \\\n",
       "count     27.000000       27.000000      27.000000             27.000000   \n",
       "mean       0.263029        0.302204       0.314796              0.348331   \n",
       "std        0.082388        0.062196       0.074693              0.084041   \n",
       "min        0.119048        0.163934       0.172662              0.230769   \n",
       "25%        0.197332        0.263278       0.270180              0.281018   \n",
       "50%        0.272727        0.312057       0.297619              0.335329   \n",
       "75%        0.321042        0.332080       0.359601              0.413415   \n",
       "max        0.390244        0.432432       0.459627              0.530864   \n",
       "\n",
       "       f_rouge_1_GPT2  \n",
       "count       27.000000  \n",
       "mean         0.174475  \n",
       "std          0.045971  \n",
       "min          0.112676  \n",
       "25%          0.148360  \n",
       "50%          0.166667  \n",
       "75%          0.188799  \n",
       "max          0.358974  "
      ]
     },
     "execution_count": 47,
     "metadata": {},
     "output_type": "execute_result"
    }
   ],
   "source": [
    "# Statistical info of df\n",
    "\n",
    "df.describe()"
   ]
  },
  {
   "cell_type": "code",
   "execution_count": 48,
   "id": "f9259728",
   "metadata": {},
   "outputs": [],
   "source": [
    "# Import libraries for visualization\n",
    "\n",
    "import seaborn as sns\n",
    "import matplotlib.pyplot as plt"
   ]
  },
  {
   "cell_type": "code",
   "execution_count": 49,
   "id": "a420f7e2",
   "metadata": {},
   "outputs": [
    {
     "data": {
      "text/plain": [
       "(array([0, 1, 2, 3, 4]),\n",
       " [Text(0, 0, 'f_rouge_1_T5'),\n",
       "  Text(1, 0, 'f_rouge_1_BERT'),\n",
       "  Text(2, 0, 'f_rouge_1_GPT'),\n",
       "  Text(3, 0, 'f_rouge_1_DistilBERT'),\n",
       "  Text(4, 0, 'f_rouge_1_GPT2')])"
      ]
     },
     "execution_count": 49,
     "metadata": {},
     "output_type": "execute_result"
    },
    {
     "data": {
      "image/png": "[encoded data removed]",
      "text/plain": [
       "<Figure size 1000x300 with 1 Axes>"
      ]
     },
     "metadata": {},
     "output_type": "display_data"
    }
   ],
   "source": [
    "# Create a boxplot for different methods\n",
    "\n",
    "plt.figure(figsize=(10, 3))\n",
    "sns.boxplot(data=df, palette='rainbow')\n",
    "plt.xticks(rotation=45)"
   ]
  },
  {
   "cell_type": "markdown",
   "id": "f7edbc21",
   "metadata": {},
   "source": [
    "### The figure above illustrates that DistilBERT provides the best value in comparison with other methods"
   ]
  },
  {
   "cell_type": "code",
   "execution_count": 50,
   "id": "b53a25f3",
   "metadata": {},
   "outputs": [
    {
     "data": {
      "image/png": "[encoded data removed]",
      "text/plain": [
       "<Figure size 800x300 with 3 Axes>"
      ]
     },
     "metadata": {},
     "output_type": "display_data"
    }
   ],
   "source": [
    "# Create histogram to display the distribution of f_rouge for DistilBERT method\n",
    "\n",
    "plt.figure(figsize=(8, 3))\n",
    "\n",
    "plt.subplot(1,3,1)\n",
    "plt.hist(f_rouge_1_DistilBERT, bins = 10)\n",
    "plt.title('f_rouge_1_DistilBERT')\n",
    "\n",
    "plt.subplot(1,3,2)\n",
    "plt.hist(f_rouge_2_DistilBERT, bins = 10)\n",
    "plt.title('f_rouge_2_DistilBERT')\n",
    "\n",
    "plt.subplot(1,3,3)\n",
    "plt.hist(f_rouge_l_DistilBERT, bins = 10)\n",
    "plt.title('f_rouge_l_DistilBERT')\n",
    "\n",
    "plt.tight_layout()"
   ]
  },
  {
   "cell_type": "markdown",
   "id": "6d0c5c20",
   "metadata": {},
   "source": [
    "## BERT Score"
   ]
  },
  {
   "cell_type": "code",
   "execution_count": 51,
   "id": "68e037d8",
   "metadata": {},
   "outputs": [],
   "source": [
    "from evaluate import load\n",
    "bertscore = load(\"bertscore\")"
   ]
  },
  {
   "cell_type": "code",
   "execution_count": 52,
   "id": "adbd8aba",
   "metadata": {},
   "outputs": [
    {
     "data": {
      "text/html": [
       "<div>\n",
       "<style scoped>\n",
       "    .dataframe tbody tr th:only-of-type {\n",
       "        vertical-align: middle;\n",
       "    }\n",
       "\n",
       "    .dataframe tbody tr th {\n",
       "        vertical-align: top;\n",
       "    }\n",
       "\n",
       "    .dataframe thead th {\n",
       "        text-align: right;\n",
       "    }\n",
       "</style>\n",
       "<table border=\"1\" class=\"dataframe\">\n",
       "  <thead>\n",
       "    <tr style=\"text-align: right;\">\n",
       "      <th></th>\n",
       "      <th>header_title</th>\n",
       "      <th>date</th>\n",
       "      <th>text</th>\n",
       "      <th>summary</th>\n",
       "      <th>url</th>\n",
       "      <th>T5</th>\n",
       "      <th>BERT</th>\n",
       "      <th>GPT</th>\n",
       "      <th>DistilBERT</th>\n",
       "      <th>GPT2</th>\n",
       "      <th>T5_list</th>\n",
       "      <th>BERT_list</th>\n",
       "      <th>DistilBERT_list</th>\n",
       "      <th>GPT_list</th>\n",
       "      <th>GPT2_list</th>\n",
       "    </tr>\n",
       "  </thead>\n",
       "  <tbody>\n",
       "    <tr>\n",
       "      <th>0</th>\n",
       "      <td>Convert Fahrenheit to Celsius with JavaScript</td>\n",
       "      <td>Wed, 26 Oct 2022 10:19:49 +0000</td>\n",
       "      <td>The United States is one of the last bodies th...</td>\n",
       "      <td>The article discusses the importance of provid...</td>\n",
       "      <td>https://davidwalsh.name/fahrenheit-celsius-jav...</td>\n",
       "      <td>(5.42238450050354, &lt;pad&gt; if you code for users...</td>\n",
       "      <td>(52.163445472717285, [CLS] summarize : The Uni...</td>\n",
       "      <td>(1.5695433616638184, summarize : the united st...</td>\n",
       "      <td>(0.9350848197937012, summarize: The United Sta...</td>\n",
       "      <td>(1.6728148460388184, summarize: Machine Vision...</td>\n",
       "      <td>&lt;pad&gt; if you code for users outside the us, it...</td>\n",
       "      <td>[CLS] summarize : The United States is one of ...</td>\n",
       "      <td>summarize: The United States is one of the las...</td>\n",
       "      <td>summarize : the united states is one of the la...</td>\n",
       "      <td>summarize: Machine Vision has come a long way ...</td>\n",
       "    </tr>\n",
       "    <tr>\n",
       "      <th>1</th>\n",
       "      <td>Create a Thumbnail From a Video with ffmpeg</td>\n",
       "      <td>Tue, 25 Oct 2022 09:28:58 +0000</td>\n",
       "      <td>Creating a thumbnail to represent a video is a...</td>\n",
       "      <td>The article discusses several topics related t...</td>\n",
       "      <td>https://davidwalsh.name/create-thumbnail-ffmpeg</td>\n",
       "      <td>(6.358744382858276, &lt;pad&gt; developers can use &lt;...</td>\n",
       "      <td>(50.48307228088379, [CLS] summarize : Creating...</td>\n",
       "      <td>(1.6462671756744385, summarize : creating a th...</td>\n",
       "      <td>(0.9762015342712402, summarize: Creating a thu...</td>\n",
       "      <td>(1.73368239402771, summarize: Machine Vision h...</td>\n",
       "      <td>&lt;pad&gt; developers can use &lt;unk&gt;ffmpeg, an incre...</td>\n",
       "      <td>[CLS] summarize : Creating a thumbnail to repr...</td>\n",
       "      <td>summarize: Creating a thumbnail to represent a...</td>\n",
       "      <td>summarize : creating a thumbnail to represent ...</td>\n",
       "      <td>summarize: Machine Vision has come a long way ...</td>\n",
       "    </tr>\n",
       "    <tr>\n",
       "      <th>2</th>\n",
       "      <td>CSS ::file-selector-button</td>\n",
       "      <td>Mon, 20 Feb 2023 09:50:57 +0000</td>\n",
       "      <td>We all love beautifully styled form controls b...</td>\n",
       "      <td>This article discusses various web development...</td>\n",
       "      <td>https://davidwalsh.name/css-file-selector-button</td>\n",
       "      <td>(5.27102518081665, &lt;pad&gt; we've created scores ...</td>\n",
       "      <td>(51.09872889518738, [CLS] summarize : We all l...</td>\n",
       "      <td>(1.6300573348999023, summarize : we all love b...</td>\n",
       "      <td>(0.9570868015289307, summarize: We all love be...</td>\n",
       "      <td>(1.7306125164031982, summarize: Machine Vision...</td>\n",
       "      <td>&lt;pad&gt; we've created scores of libraries to moc...</td>\n",
       "      <td>[CLS] summarize : We all love beautifully styl...</td>\n",
       "      <td>summarize: We all love beautifully styled form...</td>\n",
       "      <td>summarize : we all love beautifully styled for...</td>\n",
       "      <td>summarize: Machine Vision has come a long way ...</td>\n",
       "    </tr>\n",
       "    <tr>\n",
       "      <th>3</th>\n",
       "      <td>Customizing HTML Form Validation</td>\n",
       "      <td>Mon, 09 Jan 2023 10:57:00 +0000</td>\n",
       "      <td>Form validation has always been my least favor...</td>\n",
       "      <td>The article discusses how to control native fo...</td>\n",
       "      <td>https://davidwalsh.name/html5-validation</td>\n",
       "      <td>(6.283862352371216, &lt;pad&gt; to aid form validati...</td>\n",
       "      <td>(50.45256972312927, [CLS] summarize : Form val...</td>\n",
       "      <td>(1.6759555339813232, summarize : form validati...</td>\n",
       "      <td>(0.9566423892974854, summarize: Form validatio...</td>\n",
       "      <td>(1.7585055828094482, summarize: Machine Vision...</td>\n",
       "      <td>&lt;pad&gt; to aid form validation, the HTML spec ad...</td>\n",
       "      <td>[CLS] summarize : Form validation has always b...</td>\n",
       "      <td>summarize: Form validation has always been my ...</td>\n",
       "      <td>summarize : form validation has always been my...</td>\n",
       "      <td>summarize: Machine Vision has come a long way ...</td>\n",
       "    </tr>\n",
       "    <tr>\n",
       "      <th>4</th>\n",
       "      <td>Detect Browser Bars Visibility with JavaScript</td>\n",
       "      <td>Fri, 30 Dec 2022 01:36:35 +0000</td>\n",
       "      <td>It's one thing to know about what's in the bro...</td>\n",
       "      <td>The article discusses how developers can gain ...</td>\n",
       "      <td>https://davidwalsh.name/detect-browser-bars</td>\n",
       "      <td>(6.435425043106079, &lt;pad&gt; we've gotten past de...</td>\n",
       "      <td>(54.17764449119568, [CLS] summarize : It's one...</td>\n",
       "      <td>(1.648467779159546, summarize : it's one thing...</td>\n",
       "      <td>(0.9654176235198975, summarize: It's one thing...</td>\n",
       "      <td>(1.7511141300201416, summarize: Machine Vision...</td>\n",
       "      <td>&lt;pad&gt; we've gotten past detecting which browse...</td>\n",
       "      <td>[CLS] summarize : It's one thing to know about...</td>\n",
       "      <td>summarize: It's one thing to know about what's...</td>\n",
       "      <td>summarize : it's one thing to know about what'...</td>\n",
       "      <td>summarize: Machine Vision has come a long way ...</td>\n",
       "    </tr>\n",
       "  </tbody>\n",
       "</table>\n",
       "</div>"
      ],
      "text/plain": [
       "                                     header_title  \\\n",
       "0   Convert Fahrenheit to Celsius with JavaScript   \n",
       "1     Create a Thumbnail From a Video with ffmpeg   \n",
       "2                      CSS ::file-selector-button   \n",
       "3                Customizing HTML Form Validation   \n",
       "4  Detect Browser Bars Visibility with JavaScript   \n",
       "\n",
       "                              date  \\\n",
       "0  Wed, 26 Oct 2022 10:19:49 +0000   \n",
       "1  Tue, 25 Oct 2022 09:28:58 +0000   \n",
       "2  Mon, 20 Feb 2023 09:50:57 +0000   \n",
       "3  Mon, 09 Jan 2023 10:57:00 +0000   \n",
       "4  Fri, 30 Dec 2022 01:36:35 +0000   \n",
       "\n",
       "                                                text  \\\n",
       "0  The United States is one of the last bodies th...   \n",
       "1  Creating a thumbnail to represent a video is a...   \n",
       "2  We all love beautifully styled form controls b...   \n",
       "3  Form validation has always been my least favor...   \n",
       "4  It's one thing to know about what's in the bro...   \n",
       "\n",
       "                                             summary  \\\n",
       "0  The article discusses the importance of provid...   \n",
       "1  The article discusses several topics related t...   \n",
       "2  This article discusses various web development...   \n",
       "3  The article discusses how to control native fo...   \n",
       "4  The article discusses how developers can gain ...   \n",
       "\n",
       "                                                 url  \\\n",
       "0  https://davidwalsh.name/fahrenheit-celsius-jav...   \n",
       "1    https://davidwalsh.name/create-thumbnail-ffmpeg   \n",
       "2   https://davidwalsh.name/css-file-selector-button   \n",
       "3           https://davidwalsh.name/html5-validation   \n",
       "4        https://davidwalsh.name/detect-browser-bars   \n",
       "\n",
       "                                                  T5  \\\n",
       "0  (5.42238450050354, <pad> if you code for users...   \n",
       "1  (6.358744382858276, <pad> developers can use <...   \n",
       "2  (5.27102518081665, <pad> we've created scores ...   \n",
       "3  (6.283862352371216, <pad> to aid form validati...   \n",
       "4  (6.435425043106079, <pad> we've gotten past de...   \n",
       "\n",
       "                                                BERT  \\\n",
       "0  (52.163445472717285, [CLS] summarize : The Uni...   \n",
       "1  (50.48307228088379, [CLS] summarize : Creating...   \n",
       "2  (51.09872889518738, [CLS] summarize : We all l...   \n",
       "3  (50.45256972312927, [CLS] summarize : Form val...   \n",
       "4  (54.17764449119568, [CLS] summarize : It's one...   \n",
       "\n",
       "                                                 GPT  \\\n",
       "0  (1.5695433616638184, summarize : the united st...   \n",
       "1  (1.6462671756744385, summarize : creating a th...   \n",
       "2  (1.6300573348999023, summarize : we all love b...   \n",
       "3  (1.6759555339813232, summarize : form validati...   \n",
       "4  (1.648467779159546, summarize : it's one thing...   \n",
       "\n",
       "                                          DistilBERT  \\\n",
       "0  (0.9350848197937012, summarize: The United Sta...   \n",
       "1  (0.9762015342712402, summarize: Creating a thu...   \n",
       "2  (0.9570868015289307, summarize: We all love be...   \n",
       "3  (0.9566423892974854, summarize: Form validatio...   \n",
       "4  (0.9654176235198975, summarize: It's one thing...   \n",
       "\n",
       "                                                GPT2  \\\n",
       "0  (1.6728148460388184, summarize: Machine Vision...   \n",
       "1  (1.73368239402771, summarize: Machine Vision h...   \n",
       "2  (1.7306125164031982, summarize: Machine Vision...   \n",
       "3  (1.7585055828094482, summarize: Machine Vision...   \n",
       "4  (1.7511141300201416, summarize: Machine Vision...   \n",
       "\n",
       "                                             T5_list  \\\n",
       "0  <pad> if you code for users outside the us, it...   \n",
       "1  <pad> developers can use <unk>ffmpeg, an incre...   \n",
       "2  <pad> we've created scores of libraries to moc...   \n",
       "3  <pad> to aid form validation, the HTML spec ad...   \n",
       "4  <pad> we've gotten past detecting which browse...   \n",
       "\n",
       "                                           BERT_list  \\\n",
       "0  [CLS] summarize : The United States is one of ...   \n",
       "1  [CLS] summarize : Creating a thumbnail to repr...   \n",
       "2  [CLS] summarize : We all love beautifully styl...   \n",
       "3  [CLS] summarize : Form validation has always b...   \n",
       "4  [CLS] summarize : It's one thing to know about...   \n",
       "\n",
       "                                     DistilBERT_list  \\\n",
       "0  summarize: The United States is one of the las...   \n",
       "1  summarize: Creating a thumbnail to represent a...   \n",
       "2  summarize: We all love beautifully styled form...   \n",
       "3  summarize: Form validation has always been my ...   \n",
       "4  summarize: It's one thing to know about what's...   \n",
       "\n",
       "                                            GPT_list  \\\n",
       "0  summarize : the united states is one of the la...   \n",
       "1  summarize : creating a thumbnail to represent ...   \n",
       "2  summarize : we all love beautifully styled for...   \n",
       "3  summarize : form validation has always been my...   \n",
       "4  summarize : it's one thing to know about what'...   \n",
       "\n",
       "                                           GPT2_list  \n",
       "0  summarize: Machine Vision has come a long way ...  \n",
       "1  summarize: Machine Vision has come a long way ...  \n",
       "2  summarize: Machine Vision has come a long way ...  \n",
       "3  summarize: Machine Vision has come a long way ...  \n",
       "4  summarize: Machine Vision has come a long way ...  "
      ]
     },
     "execution_count": 52,
     "metadata": {},
     "output_type": "execute_result"
    }
   ],
   "source": [
    "text_data.head()"
   ]
  },
  {
   "cell_type": "code",
   "execution_count": 53,
   "id": "a6b1ce00",
   "metadata": {},
   "outputs": [],
   "source": [
    "refs = text_data['summary']\n",
    "cands=text_data['T5_list']\n",
    "results_T5 = bertscore.compute(predictions=cands, references=refs, lang=\"en\")"
   ]
  },
  {
   "cell_type": "code",
   "execution_count": 54,
   "id": "7cf50292",
   "metadata": {},
   "outputs": [
    {
     "name": "stdout",
     "output_type": "stream",
     "text": [
      "BERT SCORE results_T5\n",
      "Precision 0.8829717503653632\n",
      "Recall 0.8429913300055044\n",
      "F1 0.8623946993439285\n"
     ]
    }
   ],
   "source": [
    "print('BERT SCORE results_T5')\n",
    "print('Precision',np.mean(results_T5['precision']))\n",
    "print('Recall',np.mean(results_T5['recall']))\n",
    "print('F1',np.mean(results_T5['f1']))"
   ]
  },
  {
   "cell_type": "code",
   "execution_count": 55,
   "id": "5feed366",
   "metadata": {},
   "outputs": [],
   "source": [
    "refs = text_data['summary']\n",
    "cands=text_data['BERT_list']\n",
    "results_BERT = bertscore.compute(predictions=cands, references=refs, lang=\"en\")"
   ]
  },
  {
   "cell_type": "code",
   "execution_count": 56,
   "id": "72467973",
   "metadata": {},
   "outputs": [],
   "source": [
    "refs = text_data['summary']\n",
    "cands=text_data['GPT_list']\n",
    "results_GPT = bertscore.compute(predictions=cands, references=refs, lang=\"en\")"
   ]
  },
  {
   "cell_type": "code",
   "execution_count": 57,
   "id": "f120e2a3",
   "metadata": {},
   "outputs": [],
   "source": [
    "refs = text_data['summary']\n",
    "cands=text_data['DistilBERT_list']\n",
    "results_DistilBERT = bertscore.compute(predictions=cands, references=refs, lang=\"en\")"
   ]
  },
  {
   "cell_type": "code",
   "execution_count": 58,
   "id": "69cb746d",
   "metadata": {},
   "outputs": [],
   "source": [
    "refs = text_data['summary']\n",
    "cands=text_data['GPT2_list']\n",
    "results_GPT2 = bertscore.compute(predictions=cands, references=refs, lang=\"en\")"
   ]
  },
  {
   "cell_type": "code",
   "execution_count": 59,
   "id": "a5f96abb",
   "metadata": {},
   "outputs": [
    {
     "data": {
      "text/html": [
       "<div>\n",
       "<style scoped>\n",
       "    .dataframe tbody tr th:only-of-type {\n",
       "        vertical-align: middle;\n",
       "    }\n",
       "\n",
       "    .dataframe tbody tr th {\n",
       "        vertical-align: top;\n",
       "    }\n",
       "\n",
       "    .dataframe thead th {\n",
       "        text-align: right;\n",
       "    }\n",
       "</style>\n",
       "<table border=\"1\" class=\"dataframe\">\n",
       "  <thead>\n",
       "    <tr style=\"text-align: right;\">\n",
       "      <th></th>\n",
       "      <th>f_BERT_T5</th>\n",
       "      <th>f_BERT_BERT</th>\n",
       "      <th>f_BERT_GPT</th>\n",
       "      <th>f_BERT_DistilBERT</th>\n",
       "      <th>f_BERT_GPT2</th>\n",
       "    </tr>\n",
       "  </thead>\n",
       "  <tbody>\n",
       "    <tr>\n",
       "      <th>0</th>\n",
       "      <td>0.842560</td>\n",
       "      <td>0.820881</td>\n",
       "      <td>0.846035</td>\n",
       "      <td>0.855112</td>\n",
       "      <td>0.821185</td>\n",
       "    </tr>\n",
       "    <tr>\n",
       "      <th>1</th>\n",
       "      <td>0.860000</td>\n",
       "      <td>0.842118</td>\n",
       "      <td>0.850451</td>\n",
       "      <td>0.851598</td>\n",
       "      <td>0.831825</td>\n",
       "    </tr>\n",
       "    <tr>\n",
       "      <th>2</th>\n",
       "      <td>0.842796</td>\n",
       "      <td>0.841915</td>\n",
       "      <td>0.853566</td>\n",
       "      <td>0.860874</td>\n",
       "      <td>0.829670</td>\n",
       "    </tr>\n",
       "    <tr>\n",
       "      <th>3</th>\n",
       "      <td>0.861604</td>\n",
       "      <td>0.847483</td>\n",
       "      <td>0.850310</td>\n",
       "      <td>0.853325</td>\n",
       "      <td>0.829950</td>\n",
       "    </tr>\n",
       "    <tr>\n",
       "      <th>4</th>\n",
       "      <td>0.854034</td>\n",
       "      <td>0.828173</td>\n",
       "      <td>0.868924</td>\n",
       "      <td>0.871419</td>\n",
       "      <td>0.821374</td>\n",
       "    </tr>\n",
       "  </tbody>\n",
       "</table>\n",
       "</div>"
      ],
      "text/plain": [
       "   f_BERT_T5  f_BERT_BERT  f_BERT_GPT  f_BERT_DistilBERT  f_BERT_GPT2\n",
       "0   0.842560     0.820881    0.846035           0.855112     0.821185\n",
       "1   0.860000     0.842118    0.850451           0.851598     0.831825\n",
       "2   0.842796     0.841915    0.853566           0.860874     0.829670\n",
       "3   0.861604     0.847483    0.850310           0.853325     0.829950\n",
       "4   0.854034     0.828173    0.868924           0.871419     0.821374"
      ]
     },
     "execution_count": 59,
     "metadata": {},
     "output_type": "execute_result"
    }
   ],
   "source": [
    "# Create a dataframe of f_rouge for all methods for each row\n",
    "\n",
    "data = {'f_BERT_T5':results_T5['f1'],'f_BERT_BERT':results_BERT['f1'],'f_BERT_GPT':results_GPT['f1'],\n",
    "        'f_BERT_DistilBERT':results_DistilBERT['f1'],'f_BERT_GPT2':results_GPT2['f1']}\n",
    "df_BERT =pd.DataFrame(data)\n",
    "df_BERT.head()"
   ]
  },
  {
   "cell_type": "code",
   "execution_count": 60,
   "id": "29efca5f",
   "metadata": {},
   "outputs": [
    {
     "data": {
      "text/html": [
       "<div>\n",
       "<style scoped>\n",
       "    .dataframe tbody tr th:only-of-type {\n",
       "        vertical-align: middle;\n",
       "    }\n",
       "\n",
       "    .dataframe tbody tr th {\n",
       "        vertical-align: top;\n",
       "    }\n",
       "\n",
       "    .dataframe thead th {\n",
       "        text-align: right;\n",
       "    }\n",
       "</style>\n",
       "<table border=\"1\" class=\"dataframe\">\n",
       "  <thead>\n",
       "    <tr style=\"text-align: right;\">\n",
       "      <th></th>\n",
       "      <th>f_BERT_T5</th>\n",
       "      <th>f_BERT_BERT</th>\n",
       "      <th>f_BERT_GPT</th>\n",
       "      <th>f_BERT_DistilBERT</th>\n",
       "      <th>f_BERT_GPT2</th>\n",
       "    </tr>\n",
       "  </thead>\n",
       "  <tbody>\n",
       "    <tr>\n",
       "      <th>count</th>\n",
       "      <td>27.000000</td>\n",
       "      <td>27.000000</td>\n",
       "      <td>27.000000</td>\n",
       "      <td>27.000000</td>\n",
       "      <td>27.000000</td>\n",
       "    </tr>\n",
       "    <tr>\n",
       "      <th>mean</th>\n",
       "      <td>0.862395</td>\n",
       "      <td>0.839806</td>\n",
       "      <td>0.858786</td>\n",
       "      <td>0.864939</td>\n",
       "      <td>0.824281</td>\n",
       "    </tr>\n",
       "    <tr>\n",
       "      <th>std</th>\n",
       "      <td>0.017736</td>\n",
       "      <td>0.018049</td>\n",
       "      <td>0.016663</td>\n",
       "      <td>0.019604</td>\n",
       "      <td>0.008669</td>\n",
       "    </tr>\n",
       "    <tr>\n",
       "      <th>min</th>\n",
       "      <td>0.826378</td>\n",
       "      <td>0.804117</td>\n",
       "      <td>0.834249</td>\n",
       "      <td>0.834245</td>\n",
       "      <td>0.808459</td>\n",
       "    </tr>\n",
       "    <tr>\n",
       "      <th>25%</th>\n",
       "      <td>0.854885</td>\n",
       "      <td>0.828382</td>\n",
       "      <td>0.848487</td>\n",
       "      <td>0.851622</td>\n",
       "      <td>0.820316</td>\n",
       "    </tr>\n",
       "    <tr>\n",
       "      <th>50%</th>\n",
       "      <td>0.862170</td>\n",
       "      <td>0.841915</td>\n",
       "      <td>0.856619</td>\n",
       "      <td>0.861614</td>\n",
       "      <td>0.823373</td>\n",
       "    </tr>\n",
       "    <tr>\n",
       "      <th>75%</th>\n",
       "      <td>0.873608</td>\n",
       "      <td>0.849900</td>\n",
       "      <td>0.866833</td>\n",
       "      <td>0.879073</td>\n",
       "      <td>0.829174</td>\n",
       "    </tr>\n",
       "    <tr>\n",
       "      <th>max</th>\n",
       "      <td>0.889936</td>\n",
       "      <td>0.870504</td>\n",
       "      <td>0.896285</td>\n",
       "      <td>0.902698</td>\n",
       "      <td>0.852741</td>\n",
       "    </tr>\n",
       "  </tbody>\n",
       "</table>\n",
       "</div>"
      ],
      "text/plain": [
       "       f_BERT_T5  f_BERT_BERT  f_BERT_GPT  f_BERT_DistilBERT  f_BERT_GPT2\n",
       "count  27.000000    27.000000   27.000000          27.000000    27.000000\n",
       "mean    0.862395     0.839806    0.858786           0.864939     0.824281\n",
       "std     0.017736     0.018049    0.016663           0.019604     0.008669\n",
       "min     0.826378     0.804117    0.834249           0.834245     0.808459\n",
       "25%     0.854885     0.828382    0.848487           0.851622     0.820316\n",
       "50%     0.862170     0.841915    0.856619           0.861614     0.823373\n",
       "75%     0.873608     0.849900    0.866833           0.879073     0.829174\n",
       "max     0.889936     0.870504    0.896285           0.902698     0.852741"
      ]
     },
     "execution_count": 60,
     "metadata": {},
     "output_type": "execute_result"
    }
   ],
   "source": [
    "df_BERT.describe()"
   ]
  },
  {
   "cell_type": "code",
   "execution_count": 61,
   "id": "92075636",
   "metadata": {},
   "outputs": [
    {
     "data": {
      "text/plain": [
       "(array([0, 1, 2, 3, 4]),\n",
       " [Text(0, 0, 'f_BERT_T5'),\n",
       "  Text(1, 0, 'f_BERT_BERT'),\n",
       "  Text(2, 0, 'f_BERT_GPT'),\n",
       "  Text(3, 0, 'f_BERT_DistilBERT'),\n",
       "  Text(4, 0, 'f_BERT_GPT2')])"
      ]
     },
     "execution_count": 61,
     "metadata": {},
     "output_type": "execute_result"
    },
    {
     "data": {
      "image/png": "[encoded data removed]",
      "text/plain": [
       "<Figure size 1000x300 with 1 Axes>"
      ]
     },
     "metadata": {},
     "output_type": "display_data"
    }
   ],
   "source": [
    "# Create a boxplot for different methods\n",
    "\n",
    "plt.figure(figsize=(10, 3))\n",
    "sns.boxplot(data=df_BERT, palette='rainbow')\n",
    "plt.xticks(rotation=45)"
   ]
  },
  {
   "cell_type": "markdown",
   "id": "50609f7e",
   "metadata": {},
   "source": [
    "## BLEU Score"
   ]
  },
  {
   "cell_type": "markdown",
   "id": "68e1dd4b",
   "metadata": {},
   "source": [
    "https://www.kaggle.com/code/vshantam/text-summarization-extractive-bleu"
   ]
  },
  {
   "cell_type": "code",
   "execution_count": 62,
   "id": "59a68bff",
   "metadata": {},
   "outputs": [],
   "source": [
    "import nltk"
   ]
  },
  {
   "cell_type": "code",
   "execution_count": 63,
   "id": "0586fcfb",
   "metadata": {},
   "outputs": [
    {
     "name": "stdout",
     "output_type": "stream",
     "text": [
      "BLEUscore : 0.023043616212982957\n"
     ]
    }
   ],
   "source": [
    "refs = text_data['summary'][0]\n",
    "cands=text_data['T5_list'][0]\n",
    "BLEUscore = nltk.translate.bleu_score.sentence_bleu([refs], cands)\n",
    "print(f\"BLEUscore : {BLEUscore}\")"
   ]
  },
  {
   "cell_type": "code",
   "execution_count": 64,
   "id": "3437688d",
   "metadata": {},
   "outputs": [
    {
     "data": {
      "text/html": [
       "<div>\n",
       "<style scoped>\n",
       "    .dataframe tbody tr th:only-of-type {\n",
       "        vertical-align: middle;\n",
       "    }\n",
       "\n",
       "    .dataframe tbody tr th {\n",
       "        vertical-align: top;\n",
       "    }\n",
       "\n",
       "    .dataframe thead th {\n",
       "        text-align: right;\n",
       "    }\n",
       "</style>\n",
       "<table border=\"1\" class=\"dataframe\">\n",
       "  <thead>\n",
       "    <tr style=\"text-align: right;\">\n",
       "      <th></th>\n",
       "      <th>BLEUscore_T5</th>\n",
       "      <th>BLEUscore_BERT</th>\n",
       "      <th>BLEUscore_GPT</th>\n",
       "      <th>BLEUscore_DistilBERT</th>\n",
       "      <th>BLEUscore_GPT2</th>\n",
       "    </tr>\n",
       "  </thead>\n",
       "  <tbody>\n",
       "    <tr>\n",
       "      <th>0</th>\n",
       "      <td>0.023044</td>\n",
       "      <td>0.314510</td>\n",
       "      <td>0.436869</td>\n",
       "      <td>0.501115</td>\n",
       "      <td>0.342012</td>\n",
       "    </tr>\n",
       "    <tr>\n",
       "      <th>1</th>\n",
       "      <td>0.075297</td>\n",
       "      <td>0.358594</td>\n",
       "      <td>0.432232</td>\n",
       "      <td>0.432322</td>\n",
       "      <td>0.390285</td>\n",
       "    </tr>\n",
       "    <tr>\n",
       "      <th>2</th>\n",
       "      <td>0.049509</td>\n",
       "      <td>0.388729</td>\n",
       "      <td>0.446903</td>\n",
       "      <td>0.473102</td>\n",
       "      <td>0.401916</td>\n",
       "    </tr>\n",
       "    <tr>\n",
       "      <th>3</th>\n",
       "      <td>0.089733</td>\n",
       "      <td>0.456167</td>\n",
       "      <td>0.502915</td>\n",
       "      <td>0.505182</td>\n",
       "      <td>0.399480</td>\n",
       "    </tr>\n",
       "    <tr>\n",
       "      <th>4</th>\n",
       "      <td>0.074834</td>\n",
       "      <td>0.427220</td>\n",
       "      <td>0.606702</td>\n",
       "      <td>0.610008</td>\n",
       "      <td>0.370522</td>\n",
       "    </tr>\n",
       "  </tbody>\n",
       "</table>\n",
       "</div>"
      ],
      "text/plain": [
       "   BLEUscore_T5  BLEUscore_BERT  BLEUscore_GPT  BLEUscore_DistilBERT  \\\n",
       "0      0.023044        0.314510       0.436869              0.501115   \n",
       "1      0.075297        0.358594       0.432232              0.432322   \n",
       "2      0.049509        0.388729       0.446903              0.473102   \n",
       "3      0.089733        0.456167       0.502915              0.505182   \n",
       "4      0.074834        0.427220       0.606702              0.610008   \n",
       "\n",
       "   BLEUscore_GPT2  \n",
       "0        0.342012  \n",
       "1        0.390285  \n",
       "2        0.401916  \n",
       "3        0.399480  \n",
       "4        0.370522  "
      ]
     },
     "execution_count": 64,
     "metadata": {},
     "output_type": "execute_result"
    }
   ],
   "source": [
    "BLEUscore_T5 = []\n",
    "BLEUscore_BERT = []\n",
    "BLEUscore_GPT = []\n",
    "BLEUscore_DistilBERT = []\n",
    "BLEUscore_GPT2 = []\n",
    "\n",
    "\n",
    "for i in range(len(text_data)):\n",
    "    B_T5 = nltk.translate.bleu_score.sentence_bleu([text_data['summary'][i]], text_data['T5_list'][i])\n",
    "    BLEUscore_T5.append(B_T5)\n",
    "    \n",
    "    B_BERT = nltk.translate.bleu_score.sentence_bleu([text_data['summary'][i]], text_data['BERT_list'][i])\n",
    "    BLEUscore_BERT.append(B_BERT)\n",
    "    \n",
    "    B_GPT = nltk.translate.bleu_score.sentence_bleu([text_data['summary'][i]], text_data['GPT_list'][i])\n",
    "    BLEUscore_GPT.append(B_GPT)\n",
    "    \n",
    "    B_DistilBERT = nltk.translate.bleu_score.sentence_bleu([text_data['summary'][i]], text_data['DistilBERT_list'][i])\n",
    "    BLEUscore_DistilBERT.append(B_DistilBERT)\n",
    "    \n",
    "    B_GPT2 = nltk.translate.bleu_score.sentence_bleu([text_data['summary'][i]], text_data['GPT2_list'][i])\n",
    "    BLEUscore_GPT2.append(B_GPT2)\n",
    "\n",
    "# Create a dataframe of BLEU Score for all methods for each row\n",
    "\n",
    "data = {'BLEUscore_T5':BLEUscore_T5,'BLEUscore_BERT':BLEUscore_BERT,'BLEUscore_GPT':BLEUscore_GPT,\n",
    "        'BLEUscore_DistilBERT':BLEUscore_DistilBERT,'BLEUscore_GPT2':BLEUscore_GPT2}\n",
    "df_BLEU =pd.DataFrame(data)\n",
    "df_BLEU.head()"
   ]
  },
  {
   "cell_type": "code",
   "execution_count": 65,
   "id": "c060a8f6",
   "metadata": {},
   "outputs": [
    {
     "data": {
      "text/html": [
       "<div>\n",
       "<style scoped>\n",
       "    .dataframe tbody tr th:only-of-type {\n",
       "        vertical-align: middle;\n",
       "    }\n",
       "\n",
       "    .dataframe tbody tr th {\n",
       "        vertical-align: top;\n",
       "    }\n",
       "\n",
       "    .dataframe thead th {\n",
       "        text-align: right;\n",
       "    }\n",
       "</style>\n",
       "<table border=\"1\" class=\"dataframe\">\n",
       "  <thead>\n",
       "    <tr style=\"text-align: right;\">\n",
       "      <th></th>\n",
       "      <th>BLEUscore_T5</th>\n",
       "      <th>BLEUscore_BERT</th>\n",
       "      <th>BLEUscore_GPT</th>\n",
       "      <th>BLEUscore_DistilBERT</th>\n",
       "      <th>BLEUscore_GPT2</th>\n",
       "    </tr>\n",
       "  </thead>\n",
       "  <tbody>\n",
       "    <tr>\n",
       "      <th>count</th>\n",
       "      <td>27.000000</td>\n",
       "      <td>27.000000</td>\n",
       "      <td>27.000000</td>\n",
       "      <td>27.000000</td>\n",
       "      <td>27.000000</td>\n",
       "    </tr>\n",
       "    <tr>\n",
       "      <th>mean</th>\n",
       "      <td>0.085965</td>\n",
       "      <td>0.393092</td>\n",
       "      <td>0.488040</td>\n",
       "      <td>0.508758</td>\n",
       "      <td>0.364664</td>\n",
       "    </tr>\n",
       "    <tr>\n",
       "      <th>std</th>\n",
       "      <td>0.042370</td>\n",
       "      <td>0.075297</td>\n",
       "      <td>0.072504</td>\n",
       "      <td>0.077095</td>\n",
       "      <td>0.053742</td>\n",
       "    </tr>\n",
       "    <tr>\n",
       "      <th>min</th>\n",
       "      <td>0.023044</td>\n",
       "      <td>0.249566</td>\n",
       "      <td>0.324856</td>\n",
       "      <td>0.304549</td>\n",
       "      <td>0.218113</td>\n",
       "    </tr>\n",
       "    <tr>\n",
       "      <th>25%</th>\n",
       "      <td>0.062519</td>\n",
       "      <td>0.344533</td>\n",
       "      <td>0.438274</td>\n",
       "      <td>0.466045</td>\n",
       "      <td>0.352424</td>\n",
       "    </tr>\n",
       "    <tr>\n",
       "      <th>50%</th>\n",
       "      <td>0.073368</td>\n",
       "      <td>0.398840</td>\n",
       "      <td>0.500045</td>\n",
       "      <td>0.498759</td>\n",
       "      <td>0.373321</td>\n",
       "    </tr>\n",
       "    <tr>\n",
       "      <th>75%</th>\n",
       "      <td>0.100625</td>\n",
       "      <td>0.438617</td>\n",
       "      <td>0.535035</td>\n",
       "      <td>0.556140</td>\n",
       "      <td>0.390711</td>\n",
       "    </tr>\n",
       "    <tr>\n",
       "      <th>max</th>\n",
       "      <td>0.193028</td>\n",
       "      <td>0.553445</td>\n",
       "      <td>0.606702</td>\n",
       "      <td>0.642473</td>\n",
       "      <td>0.466385</td>\n",
       "    </tr>\n",
       "  </tbody>\n",
       "</table>\n",
       "</div>"
      ],
      "text/plain": [
       "       BLEUscore_T5  BLEUscore_BERT  BLEUscore_GPT  BLEUscore_DistilBERT  \\\n",
       "count     27.000000       27.000000      27.000000             27.000000   \n",
       "mean       0.085965        0.393092       0.488040              0.508758   \n",
       "std        0.042370        0.075297       0.072504              0.077095   \n",
       "min        0.023044        0.249566       0.324856              0.304549   \n",
       "25%        0.062519        0.344533       0.438274              0.466045   \n",
       "50%        0.073368        0.398840       0.500045              0.498759   \n",
       "75%        0.100625        0.438617       0.535035              0.556140   \n",
       "max        0.193028        0.553445       0.606702              0.642473   \n",
       "\n",
       "       BLEUscore_GPT2  \n",
       "count       27.000000  \n",
       "mean         0.364664  \n",
       "std          0.053742  \n",
       "min          0.218113  \n",
       "25%          0.352424  \n",
       "50%          0.373321  \n",
       "75%          0.390711  \n",
       "max          0.466385  "
      ]
     },
     "execution_count": 65,
     "metadata": {},
     "output_type": "execute_result"
    }
   ],
   "source": [
    "df_BLEU.describe()"
   ]
  },
  {
   "cell_type": "code",
   "execution_count": 66,
   "id": "4625bbde",
   "metadata": {},
   "outputs": [
    {
     "data": {
      "text/plain": [
       "(array([0, 1, 2, 3, 4]),\n",
       " [Text(0, 0, 'BLEUscore_T5'),\n",
       "  Text(1, 0, 'BLEUscore_BERT'),\n",
       "  Text(2, 0, 'BLEUscore_GPT'),\n",
       "  Text(3, 0, 'BLEUscore_DistilBERT'),\n",
       "  Text(4, 0, 'BLEUscore_GPT2')])"
      ]
     },
     "execution_count": 66,
     "metadata": {},
     "output_type": "execute_result"
    },
    {
     "data": {
      "image/png": "[encoded data removed]",
      "text/plain": [
       "<Figure size 1000x300 with 1 Axes>"
      ]
     },
     "metadata": {},
     "output_type": "display_data"
    }
   ],
   "source": [
    "# Create a boxplot for different methods\n",
    "\n",
    "plt.figure(figsize=(10, 3))\n",
    "sns.boxplot(data=df_BLEU, palette='rainbow')\n",
    "plt.xticks(rotation=45)"
   ]
  },
  {
   "cell_type": "code",
   "execution_count": 67,
   "id": "de40d4a1",
   "metadata": {},
   "outputs": [
    {
     "data": {
      "text/html": [
       "<div>\n",
       "<style scoped>\n",
       "    .dataframe tbody tr th:only-of-type {\n",
       "        vertical-align: middle;\n",
       "    }\n",
       "\n",
       "    .dataframe tbody tr th {\n",
       "        vertical-align: top;\n",
       "    }\n",
       "\n",
       "    .dataframe thead th {\n",
       "        text-align: right;\n",
       "    }\n",
       "</style>\n",
       "<table border=\"1\" class=\"dataframe\">\n",
       "  <thead>\n",
       "    <tr style=\"text-align: right;\">\n",
       "      <th></th>\n",
       "      <th>f_rouge_1_T5</th>\n",
       "      <th>f_rouge_1_BERT</th>\n",
       "      <th>f_rouge_1_GPT</th>\n",
       "      <th>f_rouge_1_DistilBERT</th>\n",
       "      <th>f_rouge_1_GPT2</th>\n",
       "    </tr>\n",
       "  </thead>\n",
       "  <tbody>\n",
       "    <tr>\n",
       "      <th>0</th>\n",
       "      <td>0.126316</td>\n",
       "      <td>0.237037</td>\n",
       "      <td>0.172662</td>\n",
       "      <td>0.251572</td>\n",
       "      <td>0.141935</td>\n",
       "    </tr>\n",
       "    <tr>\n",
       "      <th>1</th>\n",
       "      <td>0.283186</td>\n",
       "      <td>0.210526</td>\n",
       "      <td>0.226415</td>\n",
       "      <td>0.230769</td>\n",
       "      <td>0.168831</td>\n",
       "    </tr>\n",
       "    <tr>\n",
       "      <th>2</th>\n",
       "      <td>0.137255</td>\n",
       "      <td>0.205479</td>\n",
       "      <td>0.219355</td>\n",
       "      <td>0.236842</td>\n",
       "      <td>0.173333</td>\n",
       "    </tr>\n",
       "    <tr>\n",
       "      <th>3</th>\n",
       "      <td>0.349515</td>\n",
       "      <td>0.246575</td>\n",
       "      <td>0.293333</td>\n",
       "      <td>0.324675</td>\n",
       "      <td>0.205479</td>\n",
       "    </tr>\n",
       "    <tr>\n",
       "      <th>4</th>\n",
       "      <td>0.247619</td>\n",
       "      <td>0.323077</td>\n",
       "      <td>0.367089</td>\n",
       "      <td>0.379747</td>\n",
       "      <td>0.211921</td>\n",
       "    </tr>\n",
       "  </tbody>\n",
       "</table>\n",
       "</div>"
      ],
      "text/plain": [
       "   f_rouge_1_T5  f_rouge_1_BERT  f_rouge_1_GPT  f_rouge_1_DistilBERT  \\\n",
       "0      0.126316        0.237037       0.172662              0.251572   \n",
       "1      0.283186        0.210526       0.226415              0.230769   \n",
       "2      0.137255        0.205479       0.219355              0.236842   \n",
       "3      0.349515        0.246575       0.293333              0.324675   \n",
       "4      0.247619        0.323077       0.367089              0.379747   \n",
       "\n",
       "   f_rouge_1_GPT2  \n",
       "0        0.141935  \n",
       "1        0.168831  \n",
       "2        0.173333  \n",
       "3        0.205479  \n",
       "4        0.211921  "
      ]
     },
     "execution_count": 67,
     "metadata": {},
     "output_type": "execute_result"
    }
   ],
   "source": [
    "df.head()"
   ]
  },
  {
   "cell_type": "code",
   "execution_count": 68,
   "id": "ecb012c1",
   "metadata": {},
   "outputs": [],
   "source": [
    "df['text']= text_data['text']"
   ]
  },
  {
   "cell_type": "code",
   "execution_count": 69,
   "id": "fefa78cc",
   "metadata": {},
   "outputs": [
    {
     "data": {
      "text/html": [
       "<div>\n",
       "<style scoped>\n",
       "    .dataframe tbody tr th:only-of-type {\n",
       "        vertical-align: middle;\n",
       "    }\n",
       "\n",
       "    .dataframe tbody tr th {\n",
       "        vertical-align: top;\n",
       "    }\n",
       "\n",
       "    .dataframe thead th {\n",
       "        text-align: right;\n",
       "    }\n",
       "</style>\n",
       "<table border=\"1\" class=\"dataframe\">\n",
       "  <thead>\n",
       "    <tr style=\"text-align: right;\">\n",
       "      <th></th>\n",
       "      <th>f_rouge_1_T5</th>\n",
       "      <th>f_rouge_1_BERT</th>\n",
       "      <th>f_rouge_1_GPT</th>\n",
       "      <th>f_rouge_1_DistilBERT</th>\n",
       "      <th>f_rouge_1_GPT2</th>\n",
       "      <th>text</th>\n",
       "    </tr>\n",
       "  </thead>\n",
       "  <tbody>\n",
       "    <tr>\n",
       "      <th>0</th>\n",
       "      <td>0.126316</td>\n",
       "      <td>0.237037</td>\n",
       "      <td>0.172662</td>\n",
       "      <td>0.251572</td>\n",
       "      <td>0.141935</td>\n",
       "      <td>The United States is one of the last bodies th...</td>\n",
       "    </tr>\n",
       "    <tr>\n",
       "      <th>1</th>\n",
       "      <td>0.283186</td>\n",
       "      <td>0.210526</td>\n",
       "      <td>0.226415</td>\n",
       "      <td>0.230769</td>\n",
       "      <td>0.168831</td>\n",
       "      <td>Creating a thumbnail to represent a video is a...</td>\n",
       "    </tr>\n",
       "    <tr>\n",
       "      <th>2</th>\n",
       "      <td>0.137255</td>\n",
       "      <td>0.205479</td>\n",
       "      <td>0.219355</td>\n",
       "      <td>0.236842</td>\n",
       "      <td>0.173333</td>\n",
       "      <td>We all love beautifully styled form controls b...</td>\n",
       "    </tr>\n",
       "    <tr>\n",
       "      <th>3</th>\n",
       "      <td>0.349515</td>\n",
       "      <td>0.246575</td>\n",
       "      <td>0.293333</td>\n",
       "      <td>0.324675</td>\n",
       "      <td>0.205479</td>\n",
       "      <td>Form validation has always been my least favor...</td>\n",
       "    </tr>\n",
       "    <tr>\n",
       "      <th>4</th>\n",
       "      <td>0.247619</td>\n",
       "      <td>0.323077</td>\n",
       "      <td>0.367089</td>\n",
       "      <td>0.379747</td>\n",
       "      <td>0.211921</td>\n",
       "      <td>It's one thing to know about what's in the bro...</td>\n",
       "    </tr>\n",
       "  </tbody>\n",
       "</table>\n",
       "</div>"
      ],
      "text/plain": [
       "   f_rouge_1_T5  f_rouge_1_BERT  f_rouge_1_GPT  f_rouge_1_DistilBERT  \\\n",
       "0      0.126316        0.237037       0.172662              0.251572   \n",
       "1      0.283186        0.210526       0.226415              0.230769   \n",
       "2      0.137255        0.205479       0.219355              0.236842   \n",
       "3      0.349515        0.246575       0.293333              0.324675   \n",
       "4      0.247619        0.323077       0.367089              0.379747   \n",
       "\n",
       "   f_rouge_1_GPT2                                               text  \n",
       "0        0.141935  The United States is one of the last bodies th...  \n",
       "1        0.168831  Creating a thumbnail to represent a video is a...  \n",
       "2        0.173333  We all love beautifully styled form controls b...  \n",
       "3        0.205479  Form validation has always been my least favor...  \n",
       "4        0.211921  It's one thing to know about what's in the bro...  "
      ]
     },
     "execution_count": 69,
     "metadata": {},
     "output_type": "execute_result"
    }
   ],
   "source": [
    "df.head()"
   ]
  },
  {
   "cell_type": "code",
   "execution_count": 70,
   "id": "9839c7b7",
   "metadata": {},
   "outputs": [
    {
     "data": {
      "text/html": [
       "<div>\n",
       "<style scoped>\n",
       "    .dataframe tbody tr th:only-of-type {\n",
       "        vertical-align: middle;\n",
       "    }\n",
       "\n",
       "    .dataframe tbody tr th {\n",
       "        vertical-align: top;\n",
       "    }\n",
       "\n",
       "    .dataframe thead th {\n",
       "        text-align: right;\n",
       "    }\n",
       "</style>\n",
       "<table border=\"1\" class=\"dataframe\">\n",
       "  <thead>\n",
       "    <tr style=\"text-align: right;\">\n",
       "      <th></th>\n",
       "      <th>text</th>\n",
       "      <th>f_rouge_1_T5</th>\n",
       "      <th>f_rouge_1_BERT</th>\n",
       "      <th>f_rouge_1_GPT</th>\n",
       "      <th>f_rouge_1_DistilBERT</th>\n",
       "      <th>f_rouge_1_GPT2</th>\n",
       "    </tr>\n",
       "  </thead>\n",
       "  <tbody>\n",
       "    <tr>\n",
       "      <th>0</th>\n",
       "      <td>The United States is one of the last bodies th...</td>\n",
       "      <td>0.126316</td>\n",
       "      <td>0.237037</td>\n",
       "      <td>0.172662</td>\n",
       "      <td>0.251572</td>\n",
       "      <td>0.141935</td>\n",
       "    </tr>\n",
       "    <tr>\n",
       "      <th>1</th>\n",
       "      <td>Creating a thumbnail to represent a video is a...</td>\n",
       "      <td>0.283186</td>\n",
       "      <td>0.210526</td>\n",
       "      <td>0.226415</td>\n",
       "      <td>0.230769</td>\n",
       "      <td>0.168831</td>\n",
       "    </tr>\n",
       "    <tr>\n",
       "      <th>2</th>\n",
       "      <td>We all love beautifully styled form controls b...</td>\n",
       "      <td>0.137255</td>\n",
       "      <td>0.205479</td>\n",
       "      <td>0.219355</td>\n",
       "      <td>0.236842</td>\n",
       "      <td>0.173333</td>\n",
       "    </tr>\n",
       "    <tr>\n",
       "      <th>3</th>\n",
       "      <td>Form validation has always been my least favor...</td>\n",
       "      <td>0.349515</td>\n",
       "      <td>0.246575</td>\n",
       "      <td>0.293333</td>\n",
       "      <td>0.324675</td>\n",
       "      <td>0.205479</td>\n",
       "    </tr>\n",
       "    <tr>\n",
       "      <th>4</th>\n",
       "      <td>It's one thing to know about what's in the bro...</td>\n",
       "      <td>0.247619</td>\n",
       "      <td>0.323077</td>\n",
       "      <td>0.367089</td>\n",
       "      <td>0.379747</td>\n",
       "      <td>0.211921</td>\n",
       "    </tr>\n",
       "  </tbody>\n",
       "</table>\n",
       "</div>"
      ],
      "text/plain": [
       "                                                text  f_rouge_1_T5  \\\n",
       "0  The United States is one of the last bodies th...      0.126316   \n",
       "1  Creating a thumbnail to represent a video is a...      0.283186   \n",
       "2  We all love beautifully styled form controls b...      0.137255   \n",
       "3  Form validation has always been my least favor...      0.349515   \n",
       "4  It's one thing to know about what's in the bro...      0.247619   \n",
       "\n",
       "   f_rouge_1_BERT  f_rouge_1_GPT  f_rouge_1_DistilBERT  f_rouge_1_GPT2  \n",
       "0        0.237037       0.172662              0.251572        0.141935  \n",
       "1        0.210526       0.226415              0.230769        0.168831  \n",
       "2        0.205479       0.219355              0.236842        0.173333  \n",
       "3        0.246575       0.293333              0.324675        0.205479  \n",
       "4        0.323077       0.367089              0.379747        0.211921  "
      ]
     },
     "execution_count": 70,
     "metadata": {},
     "output_type": "execute_result"
    }
   ],
   "source": [
    "#Move last Column to First Column\n",
    "new_cols = [\"text\",\"f_rouge_1_T5\",\"f_rouge_1_BERT\",\"f_rouge_1_GPT\",\"f_rouge_1_DistilBERT\",\"f_rouge_1_GPT2\"]\n",
    "df=df[new_cols]\n",
    "df.head()"
   ]
  },
  {
   "cell_type": "code",
   "execution_count": 95,
   "id": "7030dba1",
   "metadata": {},
   "outputs": [],
   "source": [
    "def length(text):\n",
    "    return len(text.split())"
   ]
  },
  {
   "cell_type": "code",
   "execution_count": 96,
   "id": "e34092d3",
   "metadata": {},
   "outputs": [
    {
     "data": {
      "text/plain": [
       "536"
      ]
     },
     "execution_count": 96,
     "metadata": {},
     "output_type": "execute_result"
    }
   ],
   "source": [
    "length(df['text'][0])"
   ]
  },
  {
   "cell_type": "code",
   "execution_count": 97,
   "id": "a3e8eaae",
   "metadata": {},
   "outputs": [],
   "source": [
    "df['Length'] = df['text'].apply(length)"
   ]
  },
  {
   "cell_type": "code",
   "execution_count": 98,
   "id": "55573f29",
   "metadata": {},
   "outputs": [
    {
     "data": {
      "text/html": [
       "<div>\n",
       "<style scoped>\n",
       "    .dataframe tbody tr th:only-of-type {\n",
       "        vertical-align: middle;\n",
       "    }\n",
       "\n",
       "    .dataframe tbody tr th {\n",
       "        vertical-align: top;\n",
       "    }\n",
       "\n",
       "    .dataframe thead th {\n",
       "        text-align: right;\n",
       "    }\n",
       "</style>\n",
       "<table border=\"1\" class=\"dataframe\">\n",
       "  <thead>\n",
       "    <tr style=\"text-align: right;\">\n",
       "      <th></th>\n",
       "      <th>text</th>\n",
       "      <th>f_rouge_1_T5</th>\n",
       "      <th>f_rouge_1_BERT</th>\n",
       "      <th>f_rouge_1_GPT</th>\n",
       "      <th>f_rouge_1_DistilBERT</th>\n",
       "      <th>f_rouge_1_GPT2</th>\n",
       "      <th>Length</th>\n",
       "      <th>Average_Word_Length</th>\n",
       "      <th>freqVerbs</th>\n",
       "      <th>freqNouns</th>\n",
       "    </tr>\n",
       "  </thead>\n",
       "  <tbody>\n",
       "    <tr>\n",
       "      <th>0</th>\n",
       "      <td>The United States is one of the last bodies th...</td>\n",
       "      <td>0.126316</td>\n",
       "      <td>0.237037</td>\n",
       "      <td>0.172662</td>\n",
       "      <td>0.251572</td>\n",
       "      <td>0.141935</td>\n",
       "      <td>536</td>\n",
       "      <td>5.048507</td>\n",
       "      <td>0.113879</td>\n",
       "      <td>0.483986</td>\n",
       "    </tr>\n",
       "    <tr>\n",
       "      <th>1</th>\n",
       "      <td>Creating a thumbnail to represent a video is a...</td>\n",
       "      <td>0.283186</td>\n",
       "      <td>0.210526</td>\n",
       "      <td>0.226415</td>\n",
       "      <td>0.230769</td>\n",
       "      <td>0.168831</td>\n",
       "      <td>298</td>\n",
       "      <td>5.124161</td>\n",
       "      <td>0.153465</td>\n",
       "      <td>0.460396</td>\n",
       "    </tr>\n",
       "    <tr>\n",
       "      <th>2</th>\n",
       "      <td>We all love beautifully styled form controls b...</td>\n",
       "      <td>0.137255</td>\n",
       "      <td>0.205479</td>\n",
       "      <td>0.219355</td>\n",
       "      <td>0.236842</td>\n",
       "      <td>0.173333</td>\n",
       "      <td>326</td>\n",
       "      <td>5.199387</td>\n",
       "      <td>0.136585</td>\n",
       "      <td>0.468293</td>\n",
       "    </tr>\n",
       "    <tr>\n",
       "      <th>3</th>\n",
       "      <td>Form validation has always been my least favor...</td>\n",
       "      <td>0.349515</td>\n",
       "      <td>0.246575</td>\n",
       "      <td>0.293333</td>\n",
       "      <td>0.324675</td>\n",
       "      <td>0.205479</td>\n",
       "      <td>443</td>\n",
       "      <td>5.207675</td>\n",
       "      <td>0.122744</td>\n",
       "      <td>0.501805</td>\n",
       "    </tr>\n",
       "    <tr>\n",
       "      <th>4</th>\n",
       "      <td>It's one thing to know about what's in the bro...</td>\n",
       "      <td>0.247619</td>\n",
       "      <td>0.323077</td>\n",
       "      <td>0.367089</td>\n",
       "      <td>0.379747</td>\n",
       "      <td>0.211921</td>\n",
       "      <td>325</td>\n",
       "      <td>4.960000</td>\n",
       "      <td>0.146893</td>\n",
       "      <td>0.384181</td>\n",
       "    </tr>\n",
       "  </tbody>\n",
       "</table>\n",
       "</div>"
      ],
      "text/plain": [
       "                                                text  f_rouge_1_T5  \\\n",
       "0  The United States is one of the last bodies th...      0.126316   \n",
       "1  Creating a thumbnail to represent a video is a...      0.283186   \n",
       "2  We all love beautifully styled form controls b...      0.137255   \n",
       "3  Form validation has always been my least favor...      0.349515   \n",
       "4  It's one thing to know about what's in the bro...      0.247619   \n",
       "\n",
       "   f_rouge_1_BERT  f_rouge_1_GPT  f_rouge_1_DistilBERT  f_rouge_1_GPT2  \\\n",
       "0        0.237037       0.172662              0.251572        0.141935   \n",
       "1        0.210526       0.226415              0.230769        0.168831   \n",
       "2        0.205479       0.219355              0.236842        0.173333   \n",
       "3        0.246575       0.293333              0.324675        0.205479   \n",
       "4        0.323077       0.367089              0.379747        0.211921   \n",
       "\n",
       "   Length  Average_Word_Length  freqVerbs  freqNouns  \n",
       "0     536             5.048507   0.113879   0.483986  \n",
       "1     298             5.124161   0.153465   0.460396  \n",
       "2     326             5.199387   0.136585   0.468293  \n",
       "3     443             5.207675   0.122744   0.501805  \n",
       "4     325             4.960000   0.146893   0.384181  "
      ]
     },
     "execution_count": 98,
     "metadata": {},
     "output_type": "execute_result"
    }
   ],
   "source": [
    "df.head()"
   ]
  },
  {
   "cell_type": "code",
   "execution_count": 99,
   "id": "8255ef61",
   "metadata": {},
   "outputs": [
    {
     "data": {
      "text/plain": [
       "5.048507462686567"
      ]
     },
     "execution_count": 99,
     "metadata": {},
     "output_type": "execute_result"
    }
   ],
   "source": [
    "np.mean([len(x) for x in df['text'][0].split()])"
   ]
  },
  {
   "cell_type": "code",
   "execution_count": 100,
   "id": "261efbfe",
   "metadata": {},
   "outputs": [],
   "source": [
    "def mean_word(text):\n",
    "    mylist=[]\n",
    "    for x in (text.split()):\n",
    "        mylist.append(len(x))\n",
    "    return np.mean(mylist)"
   ]
  },
  {
   "cell_type": "code",
   "execution_count": 101,
   "id": "9920ea4e",
   "metadata": {},
   "outputs": [],
   "source": [
    "df['Average_Word_Length'] = df['text'].apply(mean_word)"
   ]
  },
  {
   "cell_type": "code",
   "execution_count": 102,
   "id": "eb6dae79",
   "metadata": {},
   "outputs": [
    {
     "data": {
      "text/html": [
       "<div>\n",
       "<style scoped>\n",
       "    .dataframe tbody tr th:only-of-type {\n",
       "        vertical-align: middle;\n",
       "    }\n",
       "\n",
       "    .dataframe tbody tr th {\n",
       "        vertical-align: top;\n",
       "    }\n",
       "\n",
       "    .dataframe thead th {\n",
       "        text-align: right;\n",
       "    }\n",
       "</style>\n",
       "<table border=\"1\" class=\"dataframe\">\n",
       "  <thead>\n",
       "    <tr style=\"text-align: right;\">\n",
       "      <th></th>\n",
       "      <th>text</th>\n",
       "      <th>f_rouge_1_T5</th>\n",
       "      <th>f_rouge_1_BERT</th>\n",
       "      <th>f_rouge_1_GPT</th>\n",
       "      <th>f_rouge_1_DistilBERT</th>\n",
       "      <th>f_rouge_1_GPT2</th>\n",
       "      <th>Length</th>\n",
       "      <th>Average_Word_Length</th>\n",
       "      <th>freqVerbs</th>\n",
       "      <th>freqNouns</th>\n",
       "    </tr>\n",
       "  </thead>\n",
       "  <tbody>\n",
       "    <tr>\n",
       "      <th>0</th>\n",
       "      <td>The United States is one of the last bodies th...</td>\n",
       "      <td>0.126316</td>\n",
       "      <td>0.237037</td>\n",
       "      <td>0.172662</td>\n",
       "      <td>0.251572</td>\n",
       "      <td>0.141935</td>\n",
       "      <td>536</td>\n",
       "      <td>5.048507</td>\n",
       "      <td>0.113879</td>\n",
       "      <td>0.483986</td>\n",
       "    </tr>\n",
       "    <tr>\n",
       "      <th>1</th>\n",
       "      <td>Creating a thumbnail to represent a video is a...</td>\n",
       "      <td>0.283186</td>\n",
       "      <td>0.210526</td>\n",
       "      <td>0.226415</td>\n",
       "      <td>0.230769</td>\n",
       "      <td>0.168831</td>\n",
       "      <td>298</td>\n",
       "      <td>5.124161</td>\n",
       "      <td>0.153465</td>\n",
       "      <td>0.460396</td>\n",
       "    </tr>\n",
       "    <tr>\n",
       "      <th>2</th>\n",
       "      <td>We all love beautifully styled form controls b...</td>\n",
       "      <td>0.137255</td>\n",
       "      <td>0.205479</td>\n",
       "      <td>0.219355</td>\n",
       "      <td>0.236842</td>\n",
       "      <td>0.173333</td>\n",
       "      <td>326</td>\n",
       "      <td>5.199387</td>\n",
       "      <td>0.136585</td>\n",
       "      <td>0.468293</td>\n",
       "    </tr>\n",
       "    <tr>\n",
       "      <th>3</th>\n",
       "      <td>Form validation has always been my least favor...</td>\n",
       "      <td>0.349515</td>\n",
       "      <td>0.246575</td>\n",
       "      <td>0.293333</td>\n",
       "      <td>0.324675</td>\n",
       "      <td>0.205479</td>\n",
       "      <td>443</td>\n",
       "      <td>5.207675</td>\n",
       "      <td>0.122744</td>\n",
       "      <td>0.501805</td>\n",
       "    </tr>\n",
       "    <tr>\n",
       "      <th>4</th>\n",
       "      <td>It's one thing to know about what's in the bro...</td>\n",
       "      <td>0.247619</td>\n",
       "      <td>0.323077</td>\n",
       "      <td>0.367089</td>\n",
       "      <td>0.379747</td>\n",
       "      <td>0.211921</td>\n",
       "      <td>325</td>\n",
       "      <td>4.960000</td>\n",
       "      <td>0.146893</td>\n",
       "      <td>0.384181</td>\n",
       "    </tr>\n",
       "  </tbody>\n",
       "</table>\n",
       "</div>"
      ],
      "text/plain": [
       "                                                text  f_rouge_1_T5  \\\n",
       "0  The United States is one of the last bodies th...      0.126316   \n",
       "1  Creating a thumbnail to represent a video is a...      0.283186   \n",
       "2  We all love beautifully styled form controls b...      0.137255   \n",
       "3  Form validation has always been my least favor...      0.349515   \n",
       "4  It's one thing to know about what's in the bro...      0.247619   \n",
       "\n",
       "   f_rouge_1_BERT  f_rouge_1_GPT  f_rouge_1_DistilBERT  f_rouge_1_GPT2  \\\n",
       "0        0.237037       0.172662              0.251572        0.141935   \n",
       "1        0.210526       0.226415              0.230769        0.168831   \n",
       "2        0.205479       0.219355              0.236842        0.173333   \n",
       "3        0.246575       0.293333              0.324675        0.205479   \n",
       "4        0.323077       0.367089              0.379747        0.211921   \n",
       "\n",
       "   Length  Average_Word_Length  freqVerbs  freqNouns  \n",
       "0     536             5.048507   0.113879   0.483986  \n",
       "1     298             5.124161   0.153465   0.460396  \n",
       "2     326             5.199387   0.136585   0.468293  \n",
       "3     443             5.207675   0.122744   0.501805  \n",
       "4     325             4.960000   0.146893   0.384181  "
      ]
     },
     "execution_count": 102,
     "metadata": {},
     "output_type": "execute_result"
    }
   ],
   "source": [
    "df.head()"
   ]
  },
  {
   "cell_type": "code",
   "execution_count": 103,
   "id": "6c1fe9da",
   "metadata": {},
   "outputs": [],
   "source": [
    "import spacy\n",
    "# nlp = spacy.load('en_core_web_sm')"
   ]
  },
  {
   "cell_type": "code",
   "execution_count": 104,
   "id": "927a0d54",
   "metadata": {},
   "outputs": [],
   "source": [
    "nlp = spacy.load('en_core_web_sm')"
   ]
  },
  {
   "cell_type": "code",
   "execution_count": 105,
   "id": "d0d55325",
   "metadata": {},
   "outputs": [],
   "source": [
    "df['text'].replace('', np.nan, inplace=True)\n",
    "df.dropna(subset=['text'], inplace=True)\n",
    "df = df.reset_index()\n",
    "\n",
    "# Remove text if lenght is less than 200\n",
    "df = df.loc[df.text.str.len() > 200].reset_index(drop=True)\n",
    "\n",
    "# function to clean data\n",
    "\n",
    "#lower case\n",
    "#remove stop words\n",
    "#lemmatization\n",
    "\n",
    "def cleanData(doc):\n",
    "    doc = doc.lower()\n",
    "    doc = nlp(doc)\n",
    "    tokens = [tokens.lower_ for tokens in doc]\n",
    "    tokens = [tokens for tokens in doc if (tokens.is_stop == False)]\n",
    "    tokens = [tokens for tokens in tokens if (tokens.is_punct == False)]\n",
    "    final_token = [token.lemma_ for token in tokens]\n",
    "    \n",
    "    return \" \".join(final_token)"
   ]
  },
  {
   "cell_type": "code",
   "execution_count": 106,
   "id": "e9e6e346",
   "metadata": {},
   "outputs": [],
   "source": [
    "df= df.drop(['index'],axis=1)"
   ]
  },
  {
   "cell_type": "code",
   "execution_count": 107,
   "id": "4f06d55c",
   "metadata": {},
   "outputs": [],
   "source": [
    "df['clean'] = df.apply(lambda row:cleanData (row['text']),axis=1)"
   ]
  },
  {
   "cell_type": "code",
   "execution_count": 108,
   "id": "35679f2b",
   "metadata": {},
   "outputs": [],
   "source": [
    "#function to POS tagging\n",
    "def POS(clean):\n",
    "    pos_list=[]\n",
    "    clean = nlp(clean)\n",
    "    for token in clean:\n",
    "        pos_list.append(token.pos_)\n",
    "    return(pos_list) "
   ]
  },
  {
   "cell_type": "code",
   "execution_count": 109,
   "id": "7a3724a3",
   "metadata": {},
   "outputs": [],
   "source": [
    "df['pos_tag'] = df.apply(lambda row:POS (row['clean']),axis=1)"
   ]
  },
  {
   "cell_type": "code",
   "execution_count": 110,
   "id": "0e10ec7a",
   "metadata": {},
   "outputs": [],
   "source": [
    "from collections import Counter"
   ]
  },
  {
   "cell_type": "code",
   "execution_count": 111,
   "id": "9785ed86",
   "metadata": {},
   "outputs": [
    {
     "data": {
      "text/html": [
       "<div>\n",
       "<style scoped>\n",
       "    .dataframe tbody tr th:only-of-type {\n",
       "        vertical-align: middle;\n",
       "    }\n",
       "\n",
       "    .dataframe tbody tr th {\n",
       "        vertical-align: top;\n",
       "    }\n",
       "\n",
       "    .dataframe thead th {\n",
       "        text-align: right;\n",
       "    }\n",
       "</style>\n",
       "<table border=\"1\" class=\"dataframe\">\n",
       "  <thead>\n",
       "    <tr style=\"text-align: right;\">\n",
       "      <th></th>\n",
       "      <th>text</th>\n",
       "      <th>f_rouge_1_T5</th>\n",
       "      <th>f_rouge_1_BERT</th>\n",
       "      <th>f_rouge_1_GPT</th>\n",
       "      <th>f_rouge_1_DistilBERT</th>\n",
       "      <th>f_rouge_1_GPT2</th>\n",
       "      <th>Length</th>\n",
       "      <th>Average_Word_Length</th>\n",
       "      <th>freqVerbs</th>\n",
       "      <th>freqNouns</th>\n",
       "      <th>clean</th>\n",
       "      <th>pos_tag</th>\n",
       "    </tr>\n",
       "  </thead>\n",
       "  <tbody>\n",
       "    <tr>\n",
       "      <th>9</th>\n",
       "      <td>Reacting to events with JavaScript is the foun...</td>\n",
       "      <td>0.170732</td>\n",
       "      <td>0.369748</td>\n",
       "      <td>0.307692</td>\n",
       "      <td>0.388060</td>\n",
       "      <td>0.175182</td>\n",
       "      <td>332</td>\n",
       "      <td>5.346386</td>\n",
       "      <td>0.149485</td>\n",
       "      <td>0.448454</td>\n",
       "      <td>react event javascript foundation dynamic expe...</td>\n",
       "      <td>[VERB, NOUN, NOUN, PROPN, ADJ, NOUN, NOUN, SPA...</td>\n",
       "    </tr>\n",
       "    <tr>\n",
       "      <th>3</th>\n",
       "      <td>Form validation has always been my least favor...</td>\n",
       "      <td>0.349515</td>\n",
       "      <td>0.246575</td>\n",
       "      <td>0.293333</td>\n",
       "      <td>0.324675</td>\n",
       "      <td>0.205479</td>\n",
       "      <td>443</td>\n",
       "      <td>5.207675</td>\n",
       "      <td>0.122744</td>\n",
       "      <td>0.501805</td>\n",
       "      <td>form validation favorite web development need ...</td>\n",
       "      <td>[VERB, NOUN, ADJ, NOUN, NOUN, VERB, ADJ, NOUN,...</td>\n",
       "    </tr>\n",
       "    <tr>\n",
       "      <th>19</th>\n",
       "      <td>Media queries provide a great way to programma...</td>\n",
       "      <td>0.201681</td>\n",
       "      <td>0.312057</td>\n",
       "      <td>0.297619</td>\n",
       "      <td>0.299401</td>\n",
       "      <td>0.166667</td>\n",
       "      <td>322</td>\n",
       "      <td>5.338509</td>\n",
       "      <td>0.103093</td>\n",
       "      <td>0.494845</td>\n",
       "      <td>medium query provide great way programmaticall...</td>\n",
       "      <td>[ADJ, NOUN, VERB, ADJ, NOUN, ADV, VERB, NOUN, ...</td>\n",
       "    </tr>\n",
       "    <tr>\n",
       "      <th>26</th>\n",
       "      <td>\\nJava is ranked as one of the worldâs most ...</td>\n",
       "      <td>0.287500</td>\n",
       "      <td>0.265193</td>\n",
       "      <td>0.251256</td>\n",
       "      <td>0.272727</td>\n",
       "      <td>0.210526</td>\n",
       "      <td>1881</td>\n",
       "      <td>5.181818</td>\n",
       "      <td>0.160209</td>\n",
       "      <td>0.489005</td>\n",
       "      <td>\\n java rank worldâs widely programming lang...</td>\n",
       "      <td>[SPACE, PROPN, PROPN, VERB, ADV, VERB, NOUN, N...</td>\n",
       "    </tr>\n",
       "    <tr>\n",
       "      <th>22</th>\n",
       "      <td>The JavaScript Methods for Searching Strings t...</td>\n",
       "      <td>0.297297</td>\n",
       "      <td>0.261364</td>\n",
       "      <td>0.343195</td>\n",
       "      <td>0.429379</td>\n",
       "      <td>0.157303</td>\n",
       "      <td>765</td>\n",
       "      <td>5.627451</td>\n",
       "      <td>0.163551</td>\n",
       "      <td>0.595794</td>\n",
       "      <td>javascript method search string tutorial prese...</td>\n",
       "      <td>[NOUN, PROPN, NOUN, NOUN, NOUN, ADJ, ADJ, NOUN...</td>\n",
       "    </tr>\n",
       "  </tbody>\n",
       "</table>\n",
       "</div>"
      ],
      "text/plain": [
       "                                                 text  f_rouge_1_T5  \\\n",
       "9   Reacting to events with JavaScript is the foun...      0.170732   \n",
       "3   Form validation has always been my least favor...      0.349515   \n",
       "19  Media queries provide a great way to programma...      0.201681   \n",
       "26  \\nJava is ranked as one of the worldâs most ...      0.287500   \n",
       "22  The JavaScript Methods for Searching Strings t...      0.297297   \n",
       "\n",
       "    f_rouge_1_BERT  f_rouge_1_GPT  f_rouge_1_DistilBERT  f_rouge_1_GPT2  \\\n",
       "9         0.369748       0.307692              0.388060        0.175182   \n",
       "3         0.246575       0.293333              0.324675        0.205479   \n",
       "19        0.312057       0.297619              0.299401        0.166667   \n",
       "26        0.265193       0.251256              0.272727        0.210526   \n",
       "22        0.261364       0.343195              0.429379        0.157303   \n",
       "\n",
       "    Length  Average_Word_Length  freqVerbs  freqNouns  \\\n",
       "9      332             5.346386   0.149485   0.448454   \n",
       "3      443             5.207675   0.122744   0.501805   \n",
       "19     322             5.338509   0.103093   0.494845   \n",
       "26    1881             5.181818   0.160209   0.489005   \n",
       "22     765             5.627451   0.163551   0.595794   \n",
       "\n",
       "                                                clean  \\\n",
       "9   react event javascript foundation dynamic expe...   \n",
       "3   form validation favorite web development need ...   \n",
       "19  medium query provide great way programmaticall...   \n",
       "26  \\n java rank worldâs widely programming lang...   \n",
       "22  javascript method search string tutorial prese...   \n",
       "\n",
       "                                              pos_tag  \n",
       "9   [VERB, NOUN, NOUN, PROPN, ADJ, NOUN, NOUN, SPA...  \n",
       "3   [VERB, NOUN, ADJ, NOUN, NOUN, VERB, ADJ, NOUN,...  \n",
       "19  [ADJ, NOUN, VERB, ADJ, NOUN, ADV, VERB, NOUN, ...  \n",
       "26  [SPACE, PROPN, PROPN, VERB, ADV, VERB, NOUN, N...  \n",
       "22  [NOUN, PROPN, NOUN, NOUN, NOUN, ADJ, ADJ, NOUN...  "
      ]
     },
     "execution_count": 111,
     "metadata": {},
     "output_type": "execute_result"
    }
   ],
   "source": [
    "def find_no_class(count, class_name = \"\"):\n",
    "    total = 0\n",
    "    for key in count.keys():\n",
    "        if key.startswith(class_name):\n",
    "            total += count[key]\n",
    "            \n",
    "            \n",
    "    return total\n",
    "\n",
    "def get_classes(row, grammatical_class = \"\"):\n",
    "    count = Counter(row[\"pos_tag\"])\n",
    "    return find_no_class(count, class_name = grammatical_class)/len(row[\"pos_tag\"])\n",
    "\n",
    "#df[\"freqAdverbs\"] = df.apply(lambda row: get_classes(row, \"RB\"), axis = 1)\n",
    "df[\"freqVerbs\"] = df.apply(lambda row: get_classes(row, \"VERB\"), axis = 1)\n",
    "#df[\"freqAdjectives\"] = df.apply(lambda row: get_classes(row, \"JJ\"), axis = 1)\n",
    "df[\"freqNouns\"] = df.apply(lambda row: get_classes(row, \"NOUN\"), axis = 1)\n",
    "\n",
    "df.sample(5)"
   ]
  },
  {
   "cell_type": "code",
   "execution_count": 112,
   "id": "792851f9",
   "metadata": {},
   "outputs": [],
   "source": [
    "df = df.drop(['pos_tag','clean'],axis=1)"
   ]
  },
  {
   "cell_type": "code",
   "execution_count": 113,
   "id": "6cfcc621",
   "metadata": {},
   "outputs": [
    {
     "data": {
      "text/html": [
       "<div>\n",
       "<style scoped>\n",
       "    .dataframe tbody tr th:only-of-type {\n",
       "        vertical-align: middle;\n",
       "    }\n",
       "\n",
       "    .dataframe tbody tr th {\n",
       "        vertical-align: top;\n",
       "    }\n",
       "\n",
       "    .dataframe thead th {\n",
       "        text-align: right;\n",
       "    }\n",
       "</style>\n",
       "<table border=\"1\" class=\"dataframe\">\n",
       "  <thead>\n",
       "    <tr style=\"text-align: right;\">\n",
       "      <th></th>\n",
       "      <th>text</th>\n",
       "      <th>f_rouge_1_T5</th>\n",
       "      <th>f_rouge_1_BERT</th>\n",
       "      <th>f_rouge_1_GPT</th>\n",
       "      <th>f_rouge_1_DistilBERT</th>\n",
       "      <th>f_rouge_1_GPT2</th>\n",
       "      <th>Length</th>\n",
       "      <th>Average_Word_Length</th>\n",
       "      <th>freqVerbs</th>\n",
       "      <th>freqNouns</th>\n",
       "    </tr>\n",
       "  </thead>\n",
       "  <tbody>\n",
       "    <tr>\n",
       "      <th>0</th>\n",
       "      <td>The United States is one of the last bodies th...</td>\n",
       "      <td>0.126316</td>\n",
       "      <td>0.237037</td>\n",
       "      <td>0.172662</td>\n",
       "      <td>0.251572</td>\n",
       "      <td>0.141935</td>\n",
       "      <td>536</td>\n",
       "      <td>5.048507</td>\n",
       "      <td>0.113879</td>\n",
       "      <td>0.483986</td>\n",
       "    </tr>\n",
       "    <tr>\n",
       "      <th>1</th>\n",
       "      <td>Creating a thumbnail to represent a video is a...</td>\n",
       "      <td>0.283186</td>\n",
       "      <td>0.210526</td>\n",
       "      <td>0.226415</td>\n",
       "      <td>0.230769</td>\n",
       "      <td>0.168831</td>\n",
       "      <td>298</td>\n",
       "      <td>5.124161</td>\n",
       "      <td>0.153465</td>\n",
       "      <td>0.460396</td>\n",
       "    </tr>\n",
       "    <tr>\n",
       "      <th>2</th>\n",
       "      <td>We all love beautifully styled form controls b...</td>\n",
       "      <td>0.137255</td>\n",
       "      <td>0.205479</td>\n",
       "      <td>0.219355</td>\n",
       "      <td>0.236842</td>\n",
       "      <td>0.173333</td>\n",
       "      <td>326</td>\n",
       "      <td>5.199387</td>\n",
       "      <td>0.136585</td>\n",
       "      <td>0.468293</td>\n",
       "    </tr>\n",
       "    <tr>\n",
       "      <th>3</th>\n",
       "      <td>Form validation has always been my least favor...</td>\n",
       "      <td>0.349515</td>\n",
       "      <td>0.246575</td>\n",
       "      <td>0.293333</td>\n",
       "      <td>0.324675</td>\n",
       "      <td>0.205479</td>\n",
       "      <td>443</td>\n",
       "      <td>5.207675</td>\n",
       "      <td>0.122744</td>\n",
       "      <td>0.501805</td>\n",
       "    </tr>\n",
       "    <tr>\n",
       "      <th>4</th>\n",
       "      <td>It's one thing to know about what's in the bro...</td>\n",
       "      <td>0.247619</td>\n",
       "      <td>0.323077</td>\n",
       "      <td>0.367089</td>\n",
       "      <td>0.379747</td>\n",
       "      <td>0.211921</td>\n",
       "      <td>325</td>\n",
       "      <td>4.960000</td>\n",
       "      <td>0.146893</td>\n",
       "      <td>0.384181</td>\n",
       "    </tr>\n",
       "  </tbody>\n",
       "</table>\n",
       "</div>"
      ],
      "text/plain": [
       "                                                text  f_rouge_1_T5  \\\n",
       "0  The United States is one of the last bodies th...      0.126316   \n",
       "1  Creating a thumbnail to represent a video is a...      0.283186   \n",
       "2  We all love beautifully styled form controls b...      0.137255   \n",
       "3  Form validation has always been my least favor...      0.349515   \n",
       "4  It's one thing to know about what's in the bro...      0.247619   \n",
       "\n",
       "   f_rouge_1_BERT  f_rouge_1_GPT  f_rouge_1_DistilBERT  f_rouge_1_GPT2  \\\n",
       "0        0.237037       0.172662              0.251572        0.141935   \n",
       "1        0.210526       0.226415              0.230769        0.168831   \n",
       "2        0.205479       0.219355              0.236842        0.173333   \n",
       "3        0.246575       0.293333              0.324675        0.205479   \n",
       "4        0.323077       0.367089              0.379747        0.211921   \n",
       "\n",
       "   Length  Average_Word_Length  freqVerbs  freqNouns  \n",
       "0     536             5.048507   0.113879   0.483986  \n",
       "1     298             5.124161   0.153465   0.460396  \n",
       "2     326             5.199387   0.136585   0.468293  \n",
       "3     443             5.207675   0.122744   0.501805  \n",
       "4     325             4.960000   0.146893   0.384181  "
      ]
     },
     "execution_count": 113,
     "metadata": {},
     "output_type": "execute_result"
    }
   ],
   "source": [
    "df.head()"
   ]
  },
  {
   "cell_type": "code",
   "execution_count": 115,
   "id": "ed617a24",
   "metadata": {},
   "outputs": [],
   "source": [
    "# df.to_csv('file2.csv',index=False)"
   ]
  },
  {
   "cell_type": "code",
   "execution_count": null,
   "id": "c72fb998",
   "metadata": {},
   "outputs": [],
   "source": []
  }
 ],
 "metadata": {
  "kernelspec": {
   "display_name": "Python 3 (ipykernel)",
   "language": "python",
   "name": "python3"
  },
  "language_info": {
   "codemirror_mode": {
    "name": "ipython",
    "version": 3
   },
   "file_extension": ".py",
   "mimetype": "text/x-python",
   "name": "python",
   "nbconvert_exporter": "python",
   "pygments_lexer": "ipython3",
   "version": "3.9.9"
  }
 },
 "nbformat": 4,
 "nbformat_minor": 5
}
