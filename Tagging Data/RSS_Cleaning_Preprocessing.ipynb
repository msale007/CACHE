{
 "cells": [
  {
   "cell_type": "code",
   "execution_count": 476,
   "id": "2e53733b",
   "metadata": {},
   "outputs": [],
   "source": [
    "import pandas as pd\n",
    "import numpy as np\n",
    "\n",
    "import os, json"
   ]
  },
  {
   "cell_type": "markdown",
   "id": "a80b524f",
   "metadata": {},
   "source": [
    "## Read rss data"
   ]
  },
  {
   "cell_type": "code",
   "execution_count": 477,
   "id": "3d222477",
   "metadata": {},
   "outputs": [],
   "source": [
    "# Read Json files\n",
    "path_to_json = 'rssData'\n",
    "json_files = [pos_json for pos_json in os.listdir(path_to_json) if pos_json.endswith('.json')]\n",
    "#print(json_files)"
   ]
  },
  {
   "cell_type": "code",
   "execution_count": 478,
   "id": "47d60319",
   "metadata": {},
   "outputs": [],
   "source": [
    "# Go through Json files \n",
    "base_dir = 'rssData'\n",
    "\n",
    "#Get all files in the directory\n",
    "\n",
    "data_list = []\n",
    "for file in os.listdir(base_dir):\n",
    "\n",
    "    #If file is a json, construct it's full path and open it, append all json data to list\n",
    "    if 'json' in file:\n",
    "        json_path = os.path.join(base_dir, file)\n",
    "        json_data = pd.read_json(json_path, lines=True)\n",
    "        data_list.append(json_data)\n",
    "\n",
    "#print(data_list)"
   ]
  },
  {
   "cell_type": "code",
   "execution_count": 479,
   "id": "200c435f",
   "metadata": {},
   "outputs": [
    {
     "data": {
      "text/plain": [
       "198"
      ]
     },
     "execution_count": 479,
     "metadata": {},
     "output_type": "execute_result"
    }
   ],
   "source": [
    "len(data_list)"
   ]
  },
  {
   "cell_type": "code",
   "execution_count": 480,
   "id": "8d798d89",
   "metadata": {},
   "outputs": [
    {
     "data": {
      "text/plain": [
       "0    \n",
       "Name: text, dtype: object"
      ]
     },
     "execution_count": 480,
     "metadata": {},
     "output_type": "execute_result"
    }
   ],
   "source": [
    "data_list[0].text"
   ]
  },
  {
   "cell_type": "code",
   "execution_count": 481,
   "id": "a402fd51",
   "metadata": {},
   "outputs": [
    {
     "data": {
      "text/plain": [
       "array([''], dtype=object)"
      ]
     },
     "execution_count": 481,
     "metadata": {},
     "output_type": "execute_result"
    }
   ],
   "source": [
    "data_list[0].text.values"
   ]
  },
  {
   "cell_type": "code",
   "execution_count": 482,
   "id": "ad16334d",
   "metadata": {},
   "outputs": [],
   "source": [
    "# Get text data and remove empty texts\n",
    "all_text=[]\n",
    "for i in range(len(data_list)):\n",
    "    if (data_list[i].text.values!=''):\n",
    "        text=list(data_list[i].text)\n",
    "#         print(type(text))\n",
    "        all_text.append(text)\n",
    "        #print(data_list[i].text)\n",
    "        #print(text)\n",
    "#print(all_text)"
   ]
  },
  {
   "cell_type": "code",
   "execution_count": 483,
   "id": "ba66ef1e",
   "metadata": {},
   "outputs": [
    {
     "data": {
      "text/plain": [
       "147"
      ]
     },
     "execution_count": 483,
     "metadata": {},
     "output_type": "execute_result"
    }
   ],
   "source": [
    "len(all_text)"
   ]
  },
  {
   "cell_type": "code",
   "execution_count": 484,
   "id": "99c520bc",
   "metadata": {},
   "outputs": [],
   "source": [
    "# all_text_df['lenght'] = all_text_df.apply(lambda row:len(row),axis=1)"
   ]
  },
  {
   "cell_type": "code",
   "execution_count": 485,
   "id": "b8fb5f37",
   "metadata": {},
   "outputs": [],
   "source": [
    "# all_text_df.head()"
   ]
  },
  {
   "cell_type": "markdown",
   "id": "a6d7fc09",
   "metadata": {},
   "source": [
    "## Implement NLP techniques"
   ]
  },
  {
   "cell_type": "code",
   "execution_count": 486,
   "id": "5615517a",
   "metadata": {},
   "outputs": [],
   "source": [
    "import spacy"
   ]
  },
  {
   "cell_type": "code",
   "execution_count": 487,
   "id": "7f3171b3",
   "metadata": {},
   "outputs": [],
   "source": [
    "nlp = spacy.load('en_core_web_sm')"
   ]
  },
  {
   "cell_type": "markdown",
   "id": "92896039",
   "metadata": {},
   "source": [
    "### Preprocessing and cleaning"
   ]
  },
  {
   "cell_type": "code",
   "execution_count": 488,
   "id": "f9e873df",
   "metadata": {},
   "outputs": [],
   "source": [
    "# function to clean data\n",
    "#lower case\n",
    "#remove stop words\n",
    "#lemmatization\n",
    "\n",
    "def cleanData(doc):\n",
    "    doc = doc.lower()\n",
    "    doc = nlp(doc)\n",
    "    tokens = [tokens.lower_ for tokens in doc]\n",
    "    tokens = [tokens for tokens in doc if (tokens.is_stop == False)]\n",
    "    tokens = [tokens for tokens in tokens if (tokens.is_punct == False)]\n",
    "    final_token = [token.lemma_ for token in tokens]\n",
    "    \n",
    "    return \" \".join(final_token)"
   ]
  },
  {
   "cell_type": "code",
   "execution_count": 489,
   "id": "4b61bf0a",
   "metadata": {},
   "outputs": [],
   "source": [
    "# all_text[0][0]"
   ]
  },
  {
   "cell_type": "code",
   "execution_count": 490,
   "id": "8de309be",
   "metadata": {},
   "outputs": [
    {
     "data": {
      "text/plain": [
       "10348"
      ]
     },
     "execution_count": 490,
     "metadata": {},
     "output_type": "execute_result"
    }
   ],
   "source": [
    "doc1= all_text[0][0]\n",
    "len(doc1)\n",
    "# print(doc1)"
   ]
  },
  {
   "cell_type": "code",
   "execution_count": 491,
   "id": "518725e3",
   "metadata": {},
   "outputs": [
    {
     "data": {
      "text/plain": [
       "6580"
      ]
     },
     "execution_count": 491,
     "metadata": {},
     "output_type": "execute_result"
    }
   ],
   "source": [
    "cleaned_doc1 =cleanData(doc1)\n",
    "len(cleaned_doc1)"
   ]
  },
  {
   "cell_type": "code",
   "execution_count": 492,
   "id": "762d09fb",
   "metadata": {},
   "outputs": [
    {
     "data": {
      "text/html": [
       "<div>\n",
       "<style scoped>\n",
       "    .dataframe tbody tr th:only-of-type {\n",
       "        vertical-align: middle;\n",
       "    }\n",
       "\n",
       "    .dataframe tbody tr th {\n",
       "        vertical-align: top;\n",
       "    }\n",
       "\n",
       "    .dataframe thead th {\n",
       "        text-align: right;\n",
       "    }\n",
       "</style>\n",
       "<table border=\"1\" class=\"dataframe\">\n",
       "  <thead>\n",
       "    <tr style=\"text-align: right;\">\n",
       "      <th></th>\n",
       "      <th>text</th>\n",
       "    </tr>\n",
       "  </thead>\n",
       "  <tbody>\n",
       "    <tr>\n",
       "      <th>0</th>\n",
       "      <td>The 911 service as it existed until July 28, 2...</td>\n",
       "    </tr>\n",
       "    <tr>\n",
       "      <th>1</th>\n",
       "      <td>DanielMiessler Created/Updated: July 25, 2022 ...</td>\n",
       "    </tr>\n",
       "    <tr>\n",
       "      <th>2</th>\n",
       "      <td>The 911 service as it exists today.For the pas...</td>\n",
       "    </tr>\n",
       "    <tr>\n",
       "      <th>3</th>\n",
       "      <td>DanielMiesslerMy first thought on the whole di...</td>\n",
       "    </tr>\n",
       "    <tr>\n",
       "      <th>4</th>\n",
       "      <td>DanielMiesslerWell, our congressional heroes f...</td>\n",
       "    </tr>\n",
       "  </tbody>\n",
       "</table>\n",
       "</div>"
      ],
      "text/plain": [
       "                                                text\n",
       "0  The 911 service as it existed until July 28, 2...\n",
       "1  DanielMiessler Created/Updated: July 25, 2022 ...\n",
       "2  The 911 service as it exists today.For the pas...\n",
       "3  DanielMiesslerMy first thought on the whole di...\n",
       "4  DanielMiesslerWell, our congressional heroes f..."
      ]
     },
     "execution_count": 492,
     "metadata": {},
     "output_type": "execute_result"
    }
   ],
   "source": [
    "all_text_df= pd.DataFrame(all_text, columns=['text'])\n",
    "all_text_df.head()"
   ]
  },
  {
   "cell_type": "code",
   "execution_count": 493,
   "id": "f50726b3",
   "metadata": {},
   "outputs": [
    {
     "data": {
      "text/plain": [
       "6580"
      ]
     },
     "execution_count": 493,
     "metadata": {},
     "output_type": "execute_result"
    }
   ],
   "source": [
    "cl = cleanData(all_text_df['text'][0])\n",
    "len(cl)"
   ]
  },
  {
   "cell_type": "code",
   "execution_count": 494,
   "id": "8d246660",
   "metadata": {},
   "outputs": [],
   "source": [
    "all_text_df['clean'] = all_text_df.apply(lambda row:cleanData (row['text']),axis=1)"
   ]
  },
  {
   "cell_type": "code",
   "execution_count": 495,
   "id": "cbb54839",
   "metadata": {},
   "outputs": [
    {
     "data": {
      "text/html": [
       "<div>\n",
       "<style scoped>\n",
       "    .dataframe tbody tr th:only-of-type {\n",
       "        vertical-align: middle;\n",
       "    }\n",
       "\n",
       "    .dataframe tbody tr th {\n",
       "        vertical-align: top;\n",
       "    }\n",
       "\n",
       "    .dataframe thead th {\n",
       "        text-align: right;\n",
       "    }\n",
       "</style>\n",
       "<table border=\"1\" class=\"dataframe\">\n",
       "  <thead>\n",
       "    <tr style=\"text-align: right;\">\n",
       "      <th></th>\n",
       "      <th>text</th>\n",
       "      <th>clean</th>\n",
       "    </tr>\n",
       "  </thead>\n",
       "  <tbody>\n",
       "    <tr>\n",
       "      <th>0</th>\n",
       "      <td>The 911 service as it existed until July 28, 2...</td>\n",
       "      <td>911 service exist july 28 2022.911[.]re proxy ...</td>\n",
       "    </tr>\n",
       "    <tr>\n",
       "      <th>1</th>\n",
       "      <td>DanielMiessler Created/Updated: July 25, 2022 ...</td>\n",
       "      <td>danielmiessler create update july 25 2022 read...</td>\n",
       "    </tr>\n",
       "    <tr>\n",
       "      <th>2</th>\n",
       "      <td>The 911 service as it exists today.For the pas...</td>\n",
       "      <td>911 service exist today.for past seven year on...</td>\n",
       "    </tr>\n",
       "    <tr>\n",
       "      <th>3</th>\n",
       "      <td>DanielMiesslerMy first thought on the whole di...</td>\n",
       "      <td>danielmiesslermy think discussion sure musk ar...</td>\n",
       "    </tr>\n",
       "    <tr>\n",
       "      <th>4</th>\n",
       "      <td>DanielMiesslerWell, our congressional heroes f...</td>\n",
       "      <td>danielmiesslerwell congressional hero finally ...</td>\n",
       "    </tr>\n",
       "  </tbody>\n",
       "</table>\n",
       "</div>"
      ],
      "text/plain": [
       "                                                text  \\\n",
       "0  The 911 service as it existed until July 28, 2...   \n",
       "1  DanielMiessler Created/Updated: July 25, 2022 ...   \n",
       "2  The 911 service as it exists today.For the pas...   \n",
       "3  DanielMiesslerMy first thought on the whole di...   \n",
       "4  DanielMiesslerWell, our congressional heroes f...   \n",
       "\n",
       "                                               clean  \n",
       "0  911 service exist july 28 2022.911[.]re proxy ...  \n",
       "1  danielmiessler create update july 25 2022 read...  \n",
       "2  911 service exist today.for past seven year on...  \n",
       "3  danielmiesslermy think discussion sure musk ar...  \n",
       "4  danielmiesslerwell congressional hero finally ...  "
      ]
     },
     "execution_count": 495,
     "metadata": {},
     "output_type": "execute_result"
    }
   ],
   "source": [
    "all_text_df.head()"
   ]
  },
  {
   "cell_type": "code",
   "execution_count": 496,
   "id": "5d0071fb",
   "metadata": {},
   "outputs": [
    {
     "data": {
      "text/plain": [
       "'danielmiessler create update july 25 2022 reading term concept bourgeoisie come afford light grasp learn mis learn forget relearn definition time force create page remind myself.here summary language town like word start like burg”.what gpt-3 think modern bourgeois party look likehere openai gpt-3 think bourgeoisie mean term bourgeoisie refer social class consider elite society typically high level education hold position power influence characterize wealth luxurious lifestyle.gpt-3so weight elite.the word bourgeoisie describe middle upper class society people typically educate high pay job enjoy comfortable lifestyle material possessions.gpt-3this say middle upper.the word bourgeoisie describe middle class society typically country significant difference wealthy poor class bourgeois class typically see wealthy wealthy aristocracy consider educated cultured work class.gpt-3and say middle mention educated cultured workers.these gpt-3 summary interesting capture conflicting messaging basic point content above.basically main definition use hard know exactly context 1 middle class society poor people super rich aristocrat 2 upper class.i think talk historical context term mean city base middle class break away poor gain increase power society talk modern interpretation bourgeoisie merge rich upper class'"
      ]
     },
     "execution_count": 496,
     "metadata": {},
     "output_type": "execute_result"
    }
   ],
   "source": [
    "all_text_df['clean'][1]"
   ]
  },
  {
   "cell_type": "code",
   "execution_count": 497,
   "id": "cbe929be",
   "metadata": {},
   "outputs": [],
   "source": [
    "#function to Tokenization, POS, NER\n",
    "# def TAG(clean):\n",
    "#     token_list=[]\n",
    "#     pos_list=[]\n",
    "#     ner_list=[]\n",
    "#     clean = nlp(clean)\n",
    "#     for token in clean:\n",
    "#         token_list.append(token)\n",
    "#         pos_list.append(token.pos_)\n",
    "#         for ent in clean.ents:\n",
    "#             ner_list.append(ent.label_)\n",
    "        \n",
    "#     return(token_list, pos_list, ner_list)      "
   ]
  },
  {
   "cell_type": "markdown",
   "id": "e55d6536",
   "metadata": {},
   "source": [
    "### Tokenization"
   ]
  },
  {
   "cell_type": "code",
   "execution_count": 498,
   "id": "d6bf0f32",
   "metadata": {},
   "outputs": [],
   "source": [
    "#function to Tokenization\n",
    "def Token(clean):\n",
    "    token_list=[]\n",
    "    clean = nlp(clean)\n",
    "    for token in clean:\n",
    "        token_list.append(token)\n",
    "    return(token_list)      "
   ]
  },
  {
   "cell_type": "code",
   "execution_count": 499,
   "id": "f87ca780",
   "metadata": {},
   "outputs": [],
   "source": [
    "# Token(all_text_df['clean'][0])"
   ]
  },
  {
   "cell_type": "code",
   "execution_count": 500,
   "id": "3ec91ff5",
   "metadata": {},
   "outputs": [],
   "source": [
    "all_text_df['token'] = all_text_df.apply(lambda row:Token (row['clean']),axis=1)"
   ]
  },
  {
   "cell_type": "code",
   "execution_count": 501,
   "id": "0d0d3769",
   "metadata": {},
   "outputs": [
    {
     "data": {
      "text/html": [
       "<div>\n",
       "<style scoped>\n",
       "    .dataframe tbody tr th:only-of-type {\n",
       "        vertical-align: middle;\n",
       "    }\n",
       "\n",
       "    .dataframe tbody tr th {\n",
       "        vertical-align: top;\n",
       "    }\n",
       "\n",
       "    .dataframe thead th {\n",
       "        text-align: right;\n",
       "    }\n",
       "</style>\n",
       "<table border=\"1\" class=\"dataframe\">\n",
       "  <thead>\n",
       "    <tr style=\"text-align: right;\">\n",
       "      <th></th>\n",
       "      <th>text</th>\n",
       "      <th>clean</th>\n",
       "      <th>token</th>\n",
       "    </tr>\n",
       "  </thead>\n",
       "  <tbody>\n",
       "    <tr>\n",
       "      <th>0</th>\n",
       "      <td>The 911 service as it existed until July 28, 2...</td>\n",
       "      <td>911 service exist july 28 2022.911[.]re proxy ...</td>\n",
       "      <td>[911, service, exist, july, 28, 2022.911[.]re,...</td>\n",
       "    </tr>\n",
       "    <tr>\n",
       "      <th>1</th>\n",
       "      <td>DanielMiessler Created/Updated: July 25, 2022 ...</td>\n",
       "      <td>danielmiessler create update july 25 2022 read...</td>\n",
       "      <td>[danielmiessler, create, update, july, 25, 202...</td>\n",
       "    </tr>\n",
       "    <tr>\n",
       "      <th>2</th>\n",
       "      <td>The 911 service as it exists today.For the pas...</td>\n",
       "      <td>911 service exist today.for past seven year on...</td>\n",
       "      <td>[911, service, exist, today.for, past, seven, ...</td>\n",
       "    </tr>\n",
       "    <tr>\n",
       "      <th>3</th>\n",
       "      <td>DanielMiesslerMy first thought on the whole di...</td>\n",
       "      <td>danielmiesslermy think discussion sure musk ar...</td>\n",
       "      <td>[danielmiesslermy, think, discussion, sure, mu...</td>\n",
       "    </tr>\n",
       "    <tr>\n",
       "      <th>4</th>\n",
       "      <td>DanielMiesslerWell, our congressional heroes f...</td>\n",
       "      <td>danielmiesslerwell congressional hero finally ...</td>\n",
       "      <td>[danielmiesslerwell, congressional, hero, fina...</td>\n",
       "    </tr>\n",
       "  </tbody>\n",
       "</table>\n",
       "</div>"
      ],
      "text/plain": [
       "                                                text  \\\n",
       "0  The 911 service as it existed until July 28, 2...   \n",
       "1  DanielMiessler Created/Updated: July 25, 2022 ...   \n",
       "2  The 911 service as it exists today.For the pas...   \n",
       "3  DanielMiesslerMy first thought on the whole di...   \n",
       "4  DanielMiesslerWell, our congressional heroes f...   \n",
       "\n",
       "                                               clean  \\\n",
       "0  911 service exist july 28 2022.911[.]re proxy ...   \n",
       "1  danielmiessler create update july 25 2022 read...   \n",
       "2  911 service exist today.for past seven year on...   \n",
       "3  danielmiesslermy think discussion sure musk ar...   \n",
       "4  danielmiesslerwell congressional hero finally ...   \n",
       "\n",
       "                                               token  \n",
       "0  [911, service, exist, july, 28, 2022.911[.]re,...  \n",
       "1  [danielmiessler, create, update, july, 25, 202...  \n",
       "2  [911, service, exist, today.for, past, seven, ...  \n",
       "3  [danielmiesslermy, think, discussion, sure, mu...  \n",
       "4  [danielmiesslerwell, congressional, hero, fina...  "
      ]
     },
     "execution_count": 501,
     "metadata": {},
     "output_type": "execute_result"
    }
   ],
   "source": [
    "all_text_df.head()"
   ]
  }
 ],
 "metadata": {
  "kernelspec": {
   "display_name": "Python 3 (ipykernel)",
   "language": "python",
   "name": "python3"
  },
  "language_info": {
   "codemirror_mode": {
    "name": "ipython",
    "version": 3
   },
   "file_extension": ".py",
   "mimetype": "text/x-python",
   "name": "python",
   "nbconvert_exporter": "python",
   "pygments_lexer": "ipython3",
   "version": "3.9.9"
  }
 },
 "nbformat": 4,
 "nbformat_minor": 5
}
