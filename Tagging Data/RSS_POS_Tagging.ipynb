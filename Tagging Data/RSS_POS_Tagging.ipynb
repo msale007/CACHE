{
 "cells": [
  {
   "cell_type": "code",
   "execution_count": 1,
   "id": "2e53733b",
   "metadata": {},
   "outputs": [],
   "source": [
    "import pandas as pd\n",
    "import numpy as np\n",
    "\n",
    "import os, json"
   ]
  },
  {
   "cell_type": "markdown",
   "id": "a80b524f",
   "metadata": {},
   "source": [
    "## Read rss data"
   ]
  },
  {
   "cell_type": "code",
   "execution_count": 2,
   "id": "3d222477",
   "metadata": {},
   "outputs": [],
   "source": [
    "# Read Json files\n",
    "path_to_json = 'rssData'\n",
    "json_files = [pos_json for pos_json in os.listdir(path_to_json) if pos_json.endswith('.json')]\n",
    "#print(json_files)"
   ]
  },
  {
   "cell_type": "code",
   "execution_count": 3,
   "id": "47d60319",
   "metadata": {},
   "outputs": [],
   "source": [
    "# Go through Json files \n",
    "base_dir = 'rssData'\n",
    "\n",
    "#Get all files in the directory\n",
    "\n",
    "data_list = []\n",
    "for file in os.listdir(base_dir):\n",
    "\n",
    "    #If file is a json, construct it's full path and open it, append all json data to list\n",
    "    if 'json' in file:\n",
    "        json_path = os.path.join(base_dir, file)\n",
    "        json_data = pd.read_json(json_path, lines=True)\n",
    "        data_list.append(json_data)\n",
    "\n",
    "#print(data_list)"
   ]
  },
  {
   "cell_type": "code",
   "execution_count": 4,
   "id": "ad16334d",
   "metadata": {},
   "outputs": [],
   "source": [
    "# Get text data and remove empty texts\n",
    "all_text=[]\n",
    "for i in range(len(data_list)):\n",
    "    if (data_list[i].text.values!=''):\n",
    "        text=list(data_list[i].text)\n",
    "#         print(type(text))\n",
    "        all_text.append(text)\n",
    "        #print(data_list[i].text)\n",
    "        #print(text)\n",
    "#print(all_text)"
   ]
  },
  {
   "cell_type": "code",
   "execution_count": 5,
   "id": "5615517a",
   "metadata": {},
   "outputs": [
    {
     "name": "stderr",
     "output_type": "stream",
     "text": [
      "C:\\Users\\msalehi\\AppData\\Roaming\\Python\\Python39\\site-packages\\tqdm\\auto.py:22: TqdmWarning: IProgress not found. Please update jupyter and ipywidgets. See https://ipywidgets.readthedocs.io/en/stable/user_install.html\n",
      "  from .autonotebook import tqdm as notebook_tqdm\n"
     ]
    }
   ],
   "source": [
    "import spacy"
   ]
  },
  {
   "cell_type": "code",
   "execution_count": 6,
   "id": "7f3171b3",
   "metadata": {},
   "outputs": [],
   "source": [
    "nlp = spacy.load('en_core_web_sm')"
   ]
  },
  {
   "cell_type": "code",
   "execution_count": 7,
   "id": "f9e873df",
   "metadata": {},
   "outputs": [],
   "source": [
    "# function to clean data\n",
    "#lower case\n",
    "#remove stop words\n",
    "#lemmatization\n",
    "\n",
    "def cleanData(doc):\n",
    "    doc = doc.lower()\n",
    "    doc = nlp(doc)\n",
    "    tokens = [tokens.lower_ for tokens in doc]\n",
    "    tokens = [tokens for tokens in doc if (tokens.is_stop == False)]\n",
    "    tokens = [tokens for tokens in tokens if (tokens.is_punct == False)]\n",
    "    final_token = [token.lemma_ for token in tokens]\n",
    "    \n",
    "    return \" \".join(final_token)"
   ]
  },
  {
   "cell_type": "code",
   "execution_count": 8,
   "id": "762d09fb",
   "metadata": {},
   "outputs": [
    {
     "data": {
      "text/html": [
       "<div>\n",
       "<style scoped>\n",
       "    .dataframe tbody tr th:only-of-type {\n",
       "        vertical-align: middle;\n",
       "    }\n",
       "\n",
       "    .dataframe tbody tr th {\n",
       "        vertical-align: top;\n",
       "    }\n",
       "\n",
       "    .dataframe thead th {\n",
       "        text-align: right;\n",
       "    }\n",
       "</style>\n",
       "<table border=\"1\" class=\"dataframe\">\n",
       "  <thead>\n",
       "    <tr style=\"text-align: right;\">\n",
       "      <th></th>\n",
       "      <th>text</th>\n",
       "    </tr>\n",
       "  </thead>\n",
       "  <tbody>\n",
       "    <tr>\n",
       "      <th>0</th>\n",
       "      <td>The 911 service as it existed until July 28, 2...</td>\n",
       "    </tr>\n",
       "    <tr>\n",
       "      <th>1</th>\n",
       "      <td>DanielMiessler Created/Updated: July 25, 2022 ...</td>\n",
       "    </tr>\n",
       "    <tr>\n",
       "      <th>2</th>\n",
       "      <td>The 911 service as it exists today.For the pas...</td>\n",
       "    </tr>\n",
       "    <tr>\n",
       "      <th>3</th>\n",
       "      <td>DanielMiesslerMy first thought on the whole di...</td>\n",
       "    </tr>\n",
       "    <tr>\n",
       "      <th>4</th>\n",
       "      <td>DanielMiesslerWell, our congressional heroes f...</td>\n",
       "    </tr>\n",
       "  </tbody>\n",
       "</table>\n",
       "</div>"
      ],
      "text/plain": [
       "                                                text\n",
       "0  The 911 service as it existed until July 28, 2...\n",
       "1  DanielMiessler Created/Updated: July 25, 2022 ...\n",
       "2  The 911 service as it exists today.For the pas...\n",
       "3  DanielMiesslerMy first thought on the whole di...\n",
       "4  DanielMiesslerWell, our congressional heroes f..."
      ]
     },
     "execution_count": 8,
     "metadata": {},
     "output_type": "execute_result"
    }
   ],
   "source": [
    "all_text_df= pd.DataFrame(all_text, columns=['text'])\n",
    "all_text_df.head()"
   ]
  },
  {
   "cell_type": "code",
   "execution_count": 9,
   "id": "f50726b3",
   "metadata": {},
   "outputs": [
    {
     "data": {
      "text/plain": [
       "6580"
      ]
     },
     "execution_count": 9,
     "metadata": {},
     "output_type": "execute_result"
    }
   ],
   "source": [
    "cl = cleanData(all_text_df['text'][0])\n",
    "len(cl)"
   ]
  },
  {
   "cell_type": "code",
   "execution_count": 10,
   "id": "8d246660",
   "metadata": {},
   "outputs": [],
   "source": [
    "all_text_df['clean'] = all_text_df.apply(lambda row:cleanData (row['text']),axis=1)"
   ]
  },
  {
   "cell_type": "code",
   "execution_count": 11,
   "id": "cbb54839",
   "metadata": {},
   "outputs": [
    {
     "data": {
      "text/html": [
       "<div>\n",
       "<style scoped>\n",
       "    .dataframe tbody tr th:only-of-type {\n",
       "        vertical-align: middle;\n",
       "    }\n",
       "\n",
       "    .dataframe tbody tr th {\n",
       "        vertical-align: top;\n",
       "    }\n",
       "\n",
       "    .dataframe thead th {\n",
       "        text-align: right;\n",
       "    }\n",
       "</style>\n",
       "<table border=\"1\" class=\"dataframe\">\n",
       "  <thead>\n",
       "    <tr style=\"text-align: right;\">\n",
       "      <th></th>\n",
       "      <th>text</th>\n",
       "      <th>clean</th>\n",
       "    </tr>\n",
       "  </thead>\n",
       "  <tbody>\n",
       "    <tr>\n",
       "      <th>0</th>\n",
       "      <td>The 911 service as it existed until July 28, 2...</td>\n",
       "      <td>911 service exist july 28 2022.911[.]re proxy ...</td>\n",
       "    </tr>\n",
       "    <tr>\n",
       "      <th>1</th>\n",
       "      <td>DanielMiessler Created/Updated: July 25, 2022 ...</td>\n",
       "      <td>danielmiessler create update july 25 2022 read...</td>\n",
       "    </tr>\n",
       "    <tr>\n",
       "      <th>2</th>\n",
       "      <td>The 911 service as it exists today.For the pas...</td>\n",
       "      <td>911 service exist today.for past seven year on...</td>\n",
       "    </tr>\n",
       "    <tr>\n",
       "      <th>3</th>\n",
       "      <td>DanielMiesslerMy first thought on the whole di...</td>\n",
       "      <td>danielmiesslermy think discussion sure musk ar...</td>\n",
       "    </tr>\n",
       "    <tr>\n",
       "      <th>4</th>\n",
       "      <td>DanielMiesslerWell, our congressional heroes f...</td>\n",
       "      <td>danielmiesslerwell congressional hero finally ...</td>\n",
       "    </tr>\n",
       "  </tbody>\n",
       "</table>\n",
       "</div>"
      ],
      "text/plain": [
       "                                                text  \\\n",
       "0  The 911 service as it existed until July 28, 2...   \n",
       "1  DanielMiessler Created/Updated: July 25, 2022 ...   \n",
       "2  The 911 service as it exists today.For the pas...   \n",
       "3  DanielMiesslerMy first thought on the whole di...   \n",
       "4  DanielMiesslerWell, our congressional heroes f...   \n",
       "\n",
       "                                               clean  \n",
       "0  911 service exist july 28 2022.911[.]re proxy ...  \n",
       "1  danielmiessler create update july 25 2022 read...  \n",
       "2  911 service exist today.for past seven year on...  \n",
       "3  danielmiesslermy think discussion sure musk ar...  \n",
       "4  danielmiesslerwell congressional hero finally ...  "
      ]
     },
     "execution_count": 11,
     "metadata": {},
     "output_type": "execute_result"
    }
   ],
   "source": [
    "all_text_df.head()"
   ]
  },
  {
   "cell_type": "code",
   "execution_count": 12,
   "id": "d6bf0f32",
   "metadata": {},
   "outputs": [],
   "source": [
    "#function to Tokenization\n",
    "def Token(clean):\n",
    "    token_list=[]\n",
    "    clean = nlp(clean)\n",
    "    for token in clean:\n",
    "        token_list.append(token)\n",
    "    return(token_list)      "
   ]
  },
  {
   "cell_type": "code",
   "execution_count": 13,
   "id": "f87ca780",
   "metadata": {},
   "outputs": [],
   "source": [
    "# Token(all_text_df['clean'][0])"
   ]
  },
  {
   "cell_type": "code",
   "execution_count": 14,
   "id": "3ec91ff5",
   "metadata": {},
   "outputs": [],
   "source": [
    "all_text_df['token'] = all_text_df.apply(lambda row:Token (row['clean']),axis=1)"
   ]
  },
  {
   "cell_type": "code",
   "execution_count": 15,
   "id": "0d0d3769",
   "metadata": {},
   "outputs": [
    {
     "data": {
      "text/html": [
       "<div>\n",
       "<style scoped>\n",
       "    .dataframe tbody tr th:only-of-type {\n",
       "        vertical-align: middle;\n",
       "    }\n",
       "\n",
       "    .dataframe tbody tr th {\n",
       "        vertical-align: top;\n",
       "    }\n",
       "\n",
       "    .dataframe thead th {\n",
       "        text-align: right;\n",
       "    }\n",
       "</style>\n",
       "<table border=\"1\" class=\"dataframe\">\n",
       "  <thead>\n",
       "    <tr style=\"text-align: right;\">\n",
       "      <th></th>\n",
       "      <th>text</th>\n",
       "      <th>clean</th>\n",
       "      <th>token</th>\n",
       "    </tr>\n",
       "  </thead>\n",
       "  <tbody>\n",
       "    <tr>\n",
       "      <th>0</th>\n",
       "      <td>The 911 service as it existed until July 28, 2...</td>\n",
       "      <td>911 service exist july 28 2022.911[.]re proxy ...</td>\n",
       "      <td>[911, service, exist, july, 28, 2022.911[.]re,...</td>\n",
       "    </tr>\n",
       "    <tr>\n",
       "      <th>1</th>\n",
       "      <td>DanielMiessler Created/Updated: July 25, 2022 ...</td>\n",
       "      <td>danielmiessler create update july 25 2022 read...</td>\n",
       "      <td>[danielmiessler, create, update, july, 25, 202...</td>\n",
       "    </tr>\n",
       "    <tr>\n",
       "      <th>2</th>\n",
       "      <td>The 911 service as it exists today.For the pas...</td>\n",
       "      <td>911 service exist today.for past seven year on...</td>\n",
       "      <td>[911, service, exist, today.for, past, seven, ...</td>\n",
       "    </tr>\n",
       "    <tr>\n",
       "      <th>3</th>\n",
       "      <td>DanielMiesslerMy first thought on the whole di...</td>\n",
       "      <td>danielmiesslermy think discussion sure musk ar...</td>\n",
       "      <td>[danielmiesslermy, think, discussion, sure, mu...</td>\n",
       "    </tr>\n",
       "    <tr>\n",
       "      <th>4</th>\n",
       "      <td>DanielMiesslerWell, our congressional heroes f...</td>\n",
       "      <td>danielmiesslerwell congressional hero finally ...</td>\n",
       "      <td>[danielmiesslerwell, congressional, hero, fina...</td>\n",
       "    </tr>\n",
       "  </tbody>\n",
       "</table>\n",
       "</div>"
      ],
      "text/plain": [
       "                                                text  \\\n",
       "0  The 911 service as it existed until July 28, 2...   \n",
       "1  DanielMiessler Created/Updated: July 25, 2022 ...   \n",
       "2  The 911 service as it exists today.For the pas...   \n",
       "3  DanielMiesslerMy first thought on the whole di...   \n",
       "4  DanielMiesslerWell, our congressional heroes f...   \n",
       "\n",
       "                                               clean  \\\n",
       "0  911 service exist july 28 2022.911[.]re proxy ...   \n",
       "1  danielmiessler create update july 25 2022 read...   \n",
       "2  911 service exist today.for past seven year on...   \n",
       "3  danielmiesslermy think discussion sure musk ar...   \n",
       "4  danielmiesslerwell congressional hero finally ...   \n",
       "\n",
       "                                               token  \n",
       "0  [911, service, exist, july, 28, 2022.911[.]re,...  \n",
       "1  [danielmiessler, create, update, july, 25, 202...  \n",
       "2  [911, service, exist, today.for, past, seven, ...  \n",
       "3  [danielmiesslermy, think, discussion, sure, mu...  \n",
       "4  [danielmiesslerwell, congressional, hero, fina...  "
      ]
     },
     "execution_count": 15,
     "metadata": {},
     "output_type": "execute_result"
    }
   ],
   "source": [
    "all_text_df.head()"
   ]
  },
  {
   "cell_type": "markdown",
   "id": "18275ae6",
   "metadata": {},
   "source": [
    "### POS tagging"
   ]
  },
  {
   "cell_type": "code",
   "execution_count": 16,
   "id": "28086e41",
   "metadata": {},
   "outputs": [],
   "source": [
    "#function to POS tagging\n",
    "def POS(clean):\n",
    "    pos_list=[]\n",
    "    clean = nlp(clean)\n",
    "    for token in clean:\n",
    "        pos_list.append(token.pos_)\n",
    "    return(pos_list)   "
   ]
  },
  {
   "cell_type": "code",
   "execution_count": 17,
   "id": "01fe5343",
   "metadata": {},
   "outputs": [],
   "source": [
    "# POS(all_text_df['clean'][0])"
   ]
  },
  {
   "cell_type": "code",
   "execution_count": 18,
   "id": "b3574355",
   "metadata": {},
   "outputs": [],
   "source": [
    "all_text_df['pos_tag'] = all_text_df.apply(lambda row:POS (row['clean']),axis=1)"
   ]
  },
  {
   "cell_type": "code",
   "execution_count": 19,
   "id": "dc36dc53",
   "metadata": {},
   "outputs": [
    {
     "data": {
      "text/html": [
       "<div>\n",
       "<style scoped>\n",
       "    .dataframe tbody tr th:only-of-type {\n",
       "        vertical-align: middle;\n",
       "    }\n",
       "\n",
       "    .dataframe tbody tr th {\n",
       "        vertical-align: top;\n",
       "    }\n",
       "\n",
       "    .dataframe thead th {\n",
       "        text-align: right;\n",
       "    }\n",
       "</style>\n",
       "<table border=\"1\" class=\"dataframe\">\n",
       "  <thead>\n",
       "    <tr style=\"text-align: right;\">\n",
       "      <th></th>\n",
       "      <th>text</th>\n",
       "      <th>clean</th>\n",
       "      <th>token</th>\n",
       "      <th>pos_tag</th>\n",
       "    </tr>\n",
       "  </thead>\n",
       "  <tbody>\n",
       "    <tr>\n",
       "      <th>0</th>\n",
       "      <td>The 911 service as it existed until July 28, 2...</td>\n",
       "      <td>911 service exist july 28 2022.911[.]re proxy ...</td>\n",
       "      <td>[911, service, exist, july, 28, 2022.911[.]re,...</td>\n",
       "      <td>[NUM, NOUN, VERB, PROPN, NUM, NUM, NOUN, NOUN,...</td>\n",
       "    </tr>\n",
       "    <tr>\n",
       "      <th>1</th>\n",
       "      <td>DanielMiessler Created/Updated: July 25, 2022 ...</td>\n",
       "      <td>danielmiessler create update july 25 2022 read...</td>\n",
       "      <td>[danielmiessler, create, update, july, 25, 202...</td>\n",
       "      <td>[NOUN, VERB, NOUN, PROPN, NUM, NUM, NOUN, NOUN...</td>\n",
       "    </tr>\n",
       "    <tr>\n",
       "      <th>2</th>\n",
       "      <td>The 911 service as it exists today.For the pas...</td>\n",
       "      <td>911 service exist today.for past seven year on...</td>\n",
       "      <td>[911, service, exist, today.for, past, seven, ...</td>\n",
       "      <td>[NUM, NOUN, VERB, ADP, ADJ, NUM, NOUN, NOUN, N...</td>\n",
       "    </tr>\n",
       "    <tr>\n",
       "      <th>3</th>\n",
       "      <td>DanielMiesslerMy first thought on the whole di...</td>\n",
       "      <td>danielmiesslermy think discussion sure musk ar...</td>\n",
       "      <td>[danielmiesslermy, think, discussion, sure, mu...</td>\n",
       "      <td>[NOUN, VERB, NOUN, ADJ, PROPN, VERB, X, VERB, ...</td>\n",
       "    </tr>\n",
       "    <tr>\n",
       "      <th>4</th>\n",
       "      <td>DanielMiesslerWell, our congressional heroes f...</td>\n",
       "      <td>danielmiesslerwell congressional hero finally ...</td>\n",
       "      <td>[danielmiesslerwell, congressional, hero, fina...</td>\n",
       "      <td>[VERB, ADJ, NOUN, ADV, VERB, VERB, NOUN, NOUN,...</td>\n",
       "    </tr>\n",
       "  </tbody>\n",
       "</table>\n",
       "</div>"
      ],
      "text/plain": [
       "                                                text  \\\n",
       "0  The 911 service as it existed until July 28, 2...   \n",
       "1  DanielMiessler Created/Updated: July 25, 2022 ...   \n",
       "2  The 911 service as it exists today.For the pas...   \n",
       "3  DanielMiesslerMy first thought on the whole di...   \n",
       "4  DanielMiesslerWell, our congressional heroes f...   \n",
       "\n",
       "                                               clean  \\\n",
       "0  911 service exist july 28 2022.911[.]re proxy ...   \n",
       "1  danielmiessler create update july 25 2022 read...   \n",
       "2  911 service exist today.for past seven year on...   \n",
       "3  danielmiesslermy think discussion sure musk ar...   \n",
       "4  danielmiesslerwell congressional hero finally ...   \n",
       "\n",
       "                                               token  \\\n",
       "0  [911, service, exist, july, 28, 2022.911[.]re,...   \n",
       "1  [danielmiessler, create, update, july, 25, 202...   \n",
       "2  [911, service, exist, today.for, past, seven, ...   \n",
       "3  [danielmiesslermy, think, discussion, sure, mu...   \n",
       "4  [danielmiesslerwell, congressional, hero, fina...   \n",
       "\n",
       "                                             pos_tag  \n",
       "0  [NUM, NOUN, VERB, PROPN, NUM, NUM, NOUN, NOUN,...  \n",
       "1  [NOUN, VERB, NOUN, PROPN, NUM, NUM, NOUN, NOUN...  \n",
       "2  [NUM, NOUN, VERB, ADP, ADJ, NUM, NOUN, NOUN, N...  \n",
       "3  [NOUN, VERB, NOUN, ADJ, PROPN, VERB, X, VERB, ...  \n",
       "4  [VERB, ADJ, NOUN, ADV, VERB, VERB, NOUN, NOUN,...  "
      ]
     },
     "execution_count": 19,
     "metadata": {},
     "output_type": "execute_result"
    }
   ],
   "source": [
    "all_text_df.head()"
   ]
  },
  {
   "cell_type": "code",
   "execution_count": 22,
   "id": "13c6f8e0",
   "metadata": {},
   "outputs": [],
   "source": [
    "doc=nlp(all_text_df['clean'][0])"
   ]
  },
  {
   "cell_type": "code",
   "execution_count": 151,
   "id": "e28e967b",
   "metadata": {},
   "outputs": [],
   "source": [
    "# len(doc)"
   ]
  },
  {
   "cell_type": "code",
   "execution_count": 23,
   "id": "23a1060a",
   "metadata": {},
   "outputs": [],
   "source": [
    "POS_counts = doc.count_by(spacy.attrs.POS)\n",
    "# POS_counts"
   ]
  },
  {
   "cell_type": "code",
   "execution_count": 460,
   "id": "8371a276",
   "metadata": {},
   "outputs": [],
   "source": [
    "# for k,v in (POS_counts.items()):\n",
    "#     print(doc.vocab[k].text,round(v/len(doc),2))"
   ]
  },
  {
   "cell_type": "code",
   "execution_count": 511,
   "id": "79a69644",
   "metadata": {},
   "outputs": [],
   "source": [
    "# for k,v in (POS_counts.items()):\n",
    "#     print(doc.vocab[k].text,v)"
   ]
  },
  {
   "cell_type": "code",
   "execution_count": 512,
   "id": "9377314f",
   "metadata": {},
   "outputs": [],
   "source": [
    "# for k,v in (POS_counts.items()):\n",
    "#     print(doc.vocab[k].text,round(v/len(doc),2))"
   ]
  },
  {
   "cell_type": "code",
   "execution_count": 155,
   "id": "11fdc35b",
   "metadata": {},
   "outputs": [],
   "source": [
    "# freq_list=[[] for _ in range(2)]\n",
    "# freq_list"
   ]
  },
  {
   "cell_type": "code",
   "execution_count": 24,
   "id": "1d582692",
   "metadata": {},
   "outputs": [],
   "source": [
    "# POS_tag Frequency function\n",
    "# Calculate frequency based on the lenght of each row (freuency of each word divided by the lenght of total text)\n",
    "# Filtering frequency of above 10%\n",
    "\n",
    "def Freq(clean):\n",
    "    freq_list=[]\n",
    "    doc = nlp(clean)\n",
    "    POS_counts = doc.count_by(spacy.attrs.POS)\n",
    "    for k,v in (POS_counts.items()):\n",
    "        v = round(v/len(doc),2)\n",
    "        if v> 0.1 :\n",
    "            freq_list.append([doc.vocab[k].text,v])\n",
    "        \n",
    "    return(freq_list)"
   ]
  },
  {
   "cell_type": "code",
   "execution_count": 25,
   "id": "31e55c13",
   "metadata": {},
   "outputs": [
    {
     "data": {
      "text/plain": [
       "[['NOUN', 0.5], ['VERB', 0.12], ['ADJ', 0.12]]"
      ]
     },
     "execution_count": 25,
     "metadata": {},
     "output_type": "execute_result"
    }
   ],
   "source": [
    "Freq(doc) "
   ]
  },
  {
   "cell_type": "code",
   "execution_count": 26,
   "id": "7040694e",
   "metadata": {},
   "outputs": [],
   "source": [
    "all_text_df['Freq_pos'] = all_text_df.apply(lambda row:Freq (row['clean']),axis=1)"
   ]
  },
  {
   "cell_type": "code",
   "execution_count": 27,
   "id": "fbe19653",
   "metadata": {},
   "outputs": [
    {
     "data": {
      "text/html": [
       "<div>\n",
       "<style scoped>\n",
       "    .dataframe tbody tr th:only-of-type {\n",
       "        vertical-align: middle;\n",
       "    }\n",
       "\n",
       "    .dataframe tbody tr th {\n",
       "        vertical-align: top;\n",
       "    }\n",
       "\n",
       "    .dataframe thead th {\n",
       "        text-align: right;\n",
       "    }\n",
       "</style>\n",
       "<table border=\"1\" class=\"dataframe\">\n",
       "  <thead>\n",
       "    <tr style=\"text-align: right;\">\n",
       "      <th></th>\n",
       "      <th>text</th>\n",
       "      <th>clean</th>\n",
       "      <th>token</th>\n",
       "      <th>pos_tag</th>\n",
       "      <th>Freq_pos</th>\n",
       "    </tr>\n",
       "  </thead>\n",
       "  <tbody>\n",
       "    <tr>\n",
       "      <th>0</th>\n",
       "      <td>The 911 service as it existed until July 28, 2...</td>\n",
       "      <td>911 service exist july 28 2022.911[.]re proxy ...</td>\n",
       "      <td>[911, service, exist, july, 28, 2022.911[.]re,...</td>\n",
       "      <td>[NUM, NOUN, VERB, PROPN, NUM, NUM, NOUN, NOUN,...</td>\n",
       "      <td>[[NOUN, 0.5], [VERB, 0.12], [ADJ, 0.12]]</td>\n",
       "    </tr>\n",
       "    <tr>\n",
       "      <th>1</th>\n",
       "      <td>DanielMiessler Created/Updated: July 25, 2022 ...</td>\n",
       "      <td>danielmiessler create update july 25 2022 read...</td>\n",
       "      <td>[danielmiessler, create, update, july, 25, 202...</td>\n",
       "      <td>[NOUN, VERB, NOUN, PROPN, NUM, NUM, NOUN, NOUN...</td>\n",
       "      <td>[[NOUN, 0.42], [VERB, 0.2], [ADJ, 0.18]]</td>\n",
       "    </tr>\n",
       "    <tr>\n",
       "      <th>2</th>\n",
       "      <td>The 911 service as it exists today.For the pas...</td>\n",
       "      <td>911 service exist today.for past seven year on...</td>\n",
       "      <td>[911, service, exist, today.for, past, seven, ...</td>\n",
       "      <td>[NUM, NOUN, VERB, ADP, ADJ, NUM, NOUN, NOUN, N...</td>\n",
       "      <td>[[NOUN, 0.51], [VERB, 0.13], [ADJ, 0.12], [PRO...</td>\n",
       "    </tr>\n",
       "    <tr>\n",
       "      <th>3</th>\n",
       "      <td>DanielMiesslerMy first thought on the whole di...</td>\n",
       "      <td>danielmiesslermy think discussion sure musk ar...</td>\n",
       "      <td>[danielmiesslermy, think, discussion, sure, mu...</td>\n",
       "      <td>[NOUN, VERB, NOUN, ADJ, PROPN, VERB, X, VERB, ...</td>\n",
       "      <td>[[NOUN, 0.45], [VERB, 0.24], [ADJ, 0.11], [PRO...</td>\n",
       "    </tr>\n",
       "    <tr>\n",
       "      <th>4</th>\n",
       "      <td>DanielMiesslerWell, our congressional heroes f...</td>\n",
       "      <td>danielmiesslerwell congressional hero finally ...</td>\n",
       "      <td>[danielmiesslerwell, congressional, hero, fina...</td>\n",
       "      <td>[VERB, ADJ, NOUN, ADV, VERB, VERB, NOUN, NOUN,...</td>\n",
       "      <td>[[VERB, 0.18], [ADJ, 0.11], [NOUN, 0.51]]</td>\n",
       "    </tr>\n",
       "  </tbody>\n",
       "</table>\n",
       "</div>"
      ],
      "text/plain": [
       "                                                text  \\\n",
       "0  The 911 service as it existed until July 28, 2...   \n",
       "1  DanielMiessler Created/Updated: July 25, 2022 ...   \n",
       "2  The 911 service as it exists today.For the pas...   \n",
       "3  DanielMiesslerMy first thought on the whole di...   \n",
       "4  DanielMiesslerWell, our congressional heroes f...   \n",
       "\n",
       "                                               clean  \\\n",
       "0  911 service exist july 28 2022.911[.]re proxy ...   \n",
       "1  danielmiessler create update july 25 2022 read...   \n",
       "2  911 service exist today.for past seven year on...   \n",
       "3  danielmiesslermy think discussion sure musk ar...   \n",
       "4  danielmiesslerwell congressional hero finally ...   \n",
       "\n",
       "                                               token  \\\n",
       "0  [911, service, exist, july, 28, 2022.911[.]re,...   \n",
       "1  [danielmiessler, create, update, july, 25, 202...   \n",
       "2  [911, service, exist, today.for, past, seven, ...   \n",
       "3  [danielmiesslermy, think, discussion, sure, mu...   \n",
       "4  [danielmiesslerwell, congressional, hero, fina...   \n",
       "\n",
       "                                             pos_tag  \\\n",
       "0  [NUM, NOUN, VERB, PROPN, NUM, NUM, NOUN, NOUN,...   \n",
       "1  [NOUN, VERB, NOUN, PROPN, NUM, NUM, NOUN, NOUN...   \n",
       "2  [NUM, NOUN, VERB, ADP, ADJ, NUM, NOUN, NOUN, N...   \n",
       "3  [NOUN, VERB, NOUN, ADJ, PROPN, VERB, X, VERB, ...   \n",
       "4  [VERB, ADJ, NOUN, ADV, VERB, VERB, NOUN, NOUN,...   \n",
       "\n",
       "                                            Freq_pos  \n",
       "0           [[NOUN, 0.5], [VERB, 0.12], [ADJ, 0.12]]  \n",
       "1           [[NOUN, 0.42], [VERB, 0.2], [ADJ, 0.18]]  \n",
       "2  [[NOUN, 0.51], [VERB, 0.13], [ADJ, 0.12], [PRO...  \n",
       "3  [[NOUN, 0.45], [VERB, 0.24], [ADJ, 0.11], [PRO...  \n",
       "4          [[VERB, 0.18], [ADJ, 0.11], [NOUN, 0.51]]  "
      ]
     },
     "execution_count": 27,
     "metadata": {},
     "output_type": "execute_result"
    }
   ],
   "source": [
    "all_text_df.head()"
   ]
  },
  {
   "cell_type": "markdown",
   "id": "63fcb8dc",
   "metadata": {},
   "source": [
    "### Perform Frequency of POS for one Json file"
   ]
  },
  {
   "cell_type": "code",
   "execution_count": 28,
   "id": "4ded95ea",
   "metadata": {},
   "outputs": [
    {
     "data": {
      "text/plain": [
       "[['NOUN', 0.5], ['VERB', 0.12], ['ADJ', 0.12]]"
      ]
     },
     "execution_count": 28,
     "metadata": {},
     "output_type": "execute_result"
    }
   ],
   "source": [
    "all_text_df['Freq_pos'][0]"
   ]
  },
  {
   "cell_type": "code",
   "execution_count": 29,
   "id": "d7ba8c83",
   "metadata": {},
   "outputs": [],
   "source": [
    "df1 = pd.DataFrame(all_text_df['Freq_pos'][0], columns=['POS','Freq'])"
   ]
  },
  {
   "cell_type": "code",
   "execution_count": 30,
   "id": "d28fe30e",
   "metadata": {},
   "outputs": [
    {
     "data": {
      "text/html": [
       "<div>\n",
       "<style scoped>\n",
       "    .dataframe tbody tr th:only-of-type {\n",
       "        vertical-align: middle;\n",
       "    }\n",
       "\n",
       "    .dataframe tbody tr th {\n",
       "        vertical-align: top;\n",
       "    }\n",
       "\n",
       "    .dataframe thead th {\n",
       "        text-align: right;\n",
       "    }\n",
       "</style>\n",
       "<table border=\"1\" class=\"dataframe\">\n",
       "  <thead>\n",
       "    <tr style=\"text-align: right;\">\n",
       "      <th></th>\n",
       "      <th>POS</th>\n",
       "      <th>Freq</th>\n",
       "    </tr>\n",
       "  </thead>\n",
       "  <tbody>\n",
       "    <tr>\n",
       "      <th>0</th>\n",
       "      <td>NOUN</td>\n",
       "      <td>0.50</td>\n",
       "    </tr>\n",
       "    <tr>\n",
       "      <th>1</th>\n",
       "      <td>VERB</td>\n",
       "      <td>0.12</td>\n",
       "    </tr>\n",
       "    <tr>\n",
       "      <th>2</th>\n",
       "      <td>ADJ</td>\n",
       "      <td>0.12</td>\n",
       "    </tr>\n",
       "  </tbody>\n",
       "</table>\n",
       "</div>"
      ],
      "text/plain": [
       "    POS  Freq\n",
       "0  NOUN  0.50\n",
       "1  VERB  0.12\n",
       "2   ADJ  0.12"
      ]
     },
     "execution_count": 30,
     "metadata": {},
     "output_type": "execute_result"
    }
   ],
   "source": [
    "df1"
   ]
  },
  {
   "cell_type": "code",
   "execution_count": 31,
   "id": "3b68a3e9",
   "metadata": {},
   "outputs": [],
   "source": [
    "import matplotlib.pyplot as plt\n",
    "import seaborn as sns"
   ]
  },
  {
   "cell_type": "code",
   "execution_count": 32,
   "id": "c5dc15ba",
   "metadata": {},
   "outputs": [
    {
     "data": {
      "image/png": "[encoded data removed]",
      "text/plain": [
       "<Figure size 500x300 with 1 Axes>"
      ]
     },
     "metadata": {},
     "output_type": "display_data"
    }
   ],
   "source": [
    "fig = plt.figure(figsize =(5, 3))\n",
    "plt.bar(df1['POS'],df1['Freq'])\n",
    "plt.xlabel(\"POS_tagging\",fontweight ='bold',fontsize=8)\n",
    "plt.ylabel(\"Frequency\",fontweight ='bold',fontsize=8)\n",
    "plt.title(\"Frequency of POS tagging\",fontweight ='bold',fontsize=10)\n",
    "plt.show()"
   ]
  },
  {
   "cell_type": "code",
   "execution_count": 33,
   "id": "7cef0f9c",
   "metadata": {},
   "outputs": [
    {
     "name": "stderr",
     "output_type": "stream",
     "text": [
      "C:\\Users\\msalehi\\AppData\\Local\\Temp\\ipykernel_15556\\3012259823.py:4: FutureWarning: The frame.append method is deprecated and will be removed from pandas in a future version. Use pandas.concat instead.\n",
      "  df_big = df_big.append(df)\n",
      "C:\\Users\\msalehi\\AppData\\Local\\Temp\\ipykernel_15556\\3012259823.py:4: FutureWarning: The frame.append method is deprecated and will be removed from pandas in a future version. Use pandas.concat instead.\n",
      "  df_big = df_big.append(df)\n",
      "C:\\Users\\msalehi\\AppData\\Local\\Temp\\ipykernel_15556\\3012259823.py:4: FutureWarning: The frame.append method is deprecated and will be removed from pandas in a future version. Use pandas.concat instead.\n",
      "  df_big = df_big.append(df)\n",
      "C:\\Users\\msalehi\\AppData\\Local\\Temp\\ipykernel_15556\\3012259823.py:4: FutureWarning: The frame.append method is deprecated and will be removed from pandas in a future version. Use pandas.concat instead.\n",
      "  df_big = df_big.append(df)\n",
      "C:\\Users\\msalehi\\AppData\\Local\\Temp\\ipykernel_15556\\3012259823.py:4: FutureWarning: The frame.append method is deprecated and will be removed from pandas in a future version. Use pandas.concat instead.\n",
      "  df_big = df_big.append(df)\n",
      "C:\\Users\\msalehi\\AppData\\Local\\Temp\\ipykernel_15556\\3012259823.py:4: FutureWarning: The frame.append method is deprecated and will be removed from pandas in a future version. Use pandas.concat instead.\n",
      "  df_big = df_big.append(df)\n",
      "C:\\Users\\msalehi\\AppData\\Local\\Temp\\ipykernel_15556\\3012259823.py:4: FutureWarning: The frame.append method is deprecated and will be removed from pandas in a future version. Use pandas.concat instead.\n",
      "  df_big = df_big.append(df)\n",
      "C:\\Users\\msalehi\\AppData\\Local\\Temp\\ipykernel_15556\\3012259823.py:4: FutureWarning: The frame.append method is deprecated and will be removed from pandas in a future version. Use pandas.concat instead.\n",
      "  df_big = df_big.append(df)\n",
      "C:\\Users\\msalehi\\AppData\\Local\\Temp\\ipykernel_15556\\3012259823.py:4: FutureWarning: The frame.append method is deprecated and will be removed from pandas in a future version. Use pandas.concat instead.\n",
      "  df_big = df_big.append(df)\n",
      "C:\\Users\\msalehi\\AppData\\Local\\Temp\\ipykernel_15556\\3012259823.py:4: FutureWarning: The frame.append method is deprecated and will be removed from pandas in a future version. Use pandas.concat instead.\n",
      "  df_big = df_big.append(df)\n",
      "C:\\Users\\msalehi\\AppData\\Local\\Temp\\ipykernel_15556\\3012259823.py:4: FutureWarning: The frame.append method is deprecated and will be removed from pandas in a future version. Use pandas.concat instead.\n",
      "  df_big = df_big.append(df)\n",
      "C:\\Users\\msalehi\\AppData\\Local\\Temp\\ipykernel_15556\\3012259823.py:4: FutureWarning: The frame.append method is deprecated and will be removed from pandas in a future version. Use pandas.concat instead.\n",
      "  df_big = df_big.append(df)\n",
      "C:\\Users\\msalehi\\AppData\\Local\\Temp\\ipykernel_15556\\3012259823.py:4: FutureWarning: The frame.append method is deprecated and will be removed from pandas in a future version. Use pandas.concat instead.\n",
      "  df_big = df_big.append(df)\n",
      "C:\\Users\\msalehi\\AppData\\Local\\Temp\\ipykernel_15556\\3012259823.py:4: FutureWarning: The frame.append method is deprecated and will be removed from pandas in a future version. Use pandas.concat instead.\n",
      "  df_big = df_big.append(df)\n",
      "C:\\Users\\msalehi\\AppData\\Local\\Temp\\ipykernel_15556\\3012259823.py:4: FutureWarning: The frame.append method is deprecated and will be removed from pandas in a future version. Use pandas.concat instead.\n",
      "  df_big = df_big.append(df)\n",
      "C:\\Users\\msalehi\\AppData\\Local\\Temp\\ipykernel_15556\\3012259823.py:4: FutureWarning: The frame.append method is deprecated and will be removed from pandas in a future version. Use pandas.concat instead.\n",
      "  df_big = df_big.append(df)\n",
      "C:\\Users\\msalehi\\AppData\\Local\\Temp\\ipykernel_15556\\3012259823.py:4: FutureWarning: The frame.append method is deprecated and will be removed from pandas in a future version. Use pandas.concat instead.\n",
      "  df_big = df_big.append(df)\n",
      "C:\\Users\\msalehi\\AppData\\Local\\Temp\\ipykernel_15556\\3012259823.py:4: FutureWarning: The frame.append method is deprecated and will be removed from pandas in a future version. Use pandas.concat instead.\n",
      "  df_big = df_big.append(df)\n",
      "C:\\Users\\msalehi\\AppData\\Local\\Temp\\ipykernel_15556\\3012259823.py:4: FutureWarning: The frame.append method is deprecated and will be removed from pandas in a future version. Use pandas.concat instead.\n",
      "  df_big = df_big.append(df)\n",
      "C:\\Users\\msalehi\\AppData\\Local\\Temp\\ipykernel_15556\\3012259823.py:4: FutureWarning: The frame.append method is deprecated and will be removed from pandas in a future version. Use pandas.concat instead.\n",
      "  df_big = df_big.append(df)\n",
      "C:\\Users\\msalehi\\AppData\\Local\\Temp\\ipykernel_15556\\3012259823.py:4: FutureWarning: The frame.append method is deprecated and will be removed from pandas in a future version. Use pandas.concat instead.\n",
      "  df_big = df_big.append(df)\n",
      "C:\\Users\\msalehi\\AppData\\Local\\Temp\\ipykernel_15556\\3012259823.py:4: FutureWarning: The frame.append method is deprecated and will be removed from pandas in a future version. Use pandas.concat instead.\n",
      "  df_big = df_big.append(df)\n",
      "C:\\Users\\msalehi\\AppData\\Local\\Temp\\ipykernel_15556\\3012259823.py:4: FutureWarning: The frame.append method is deprecated and will be removed from pandas in a future version. Use pandas.concat instead.\n",
      "  df_big = df_big.append(df)\n",
      "C:\\Users\\msalehi\\AppData\\Local\\Temp\\ipykernel_15556\\3012259823.py:4: FutureWarning: The frame.append method is deprecated and will be removed from pandas in a future version. Use pandas.concat instead.\n",
      "  df_big = df_big.append(df)\n",
      "C:\\Users\\msalehi\\AppData\\Local\\Temp\\ipykernel_15556\\3012259823.py:4: FutureWarning: The frame.append method is deprecated and will be removed from pandas in a future version. Use pandas.concat instead.\n",
      "  df_big = df_big.append(df)\n",
      "C:\\Users\\msalehi\\AppData\\Local\\Temp\\ipykernel_15556\\3012259823.py:4: FutureWarning: The frame.append method is deprecated and will be removed from pandas in a future version. Use pandas.concat instead.\n",
      "  df_big = df_big.append(df)\n",
      "C:\\Users\\msalehi\\AppData\\Local\\Temp\\ipykernel_15556\\3012259823.py:4: FutureWarning: The frame.append method is deprecated and will be removed from pandas in a future version. Use pandas.concat instead.\n",
      "  df_big = df_big.append(df)\n",
      "C:\\Users\\msalehi\\AppData\\Local\\Temp\\ipykernel_15556\\3012259823.py:4: FutureWarning: The frame.append method is deprecated and will be removed from pandas in a future version. Use pandas.concat instead.\n",
      "  df_big = df_big.append(df)\n",
      "C:\\Users\\msalehi\\AppData\\Local\\Temp\\ipykernel_15556\\3012259823.py:4: FutureWarning: The frame.append method is deprecated and will be removed from pandas in a future version. Use pandas.concat instead.\n",
      "  df_big = df_big.append(df)\n",
      "C:\\Users\\msalehi\\AppData\\Local\\Temp\\ipykernel_15556\\3012259823.py:4: FutureWarning: The frame.append method is deprecated and will be removed from pandas in a future version. Use pandas.concat instead.\n",
      "  df_big = df_big.append(df)\n",
      "C:\\Users\\msalehi\\AppData\\Local\\Temp\\ipykernel_15556\\3012259823.py:4: FutureWarning: The frame.append method is deprecated and will be removed from pandas in a future version. Use pandas.concat instead.\n",
      "  df_big = df_big.append(df)\n",
      "C:\\Users\\msalehi\\AppData\\Local\\Temp\\ipykernel_15556\\3012259823.py:4: FutureWarning: The frame.append method is deprecated and will be removed from pandas in a future version. Use pandas.concat instead.\n",
      "  df_big = df_big.append(df)\n",
      "C:\\Users\\msalehi\\AppData\\Local\\Temp\\ipykernel_15556\\3012259823.py:4: FutureWarning: The frame.append method is deprecated and will be removed from pandas in a future version. Use pandas.concat instead.\n",
      "  df_big = df_big.append(df)\n",
      "C:\\Users\\msalehi\\AppData\\Local\\Temp\\ipykernel_15556\\3012259823.py:4: FutureWarning: The frame.append method is deprecated and will be removed from pandas in a future version. Use pandas.concat instead.\n",
      "  df_big = df_big.append(df)\n",
      "C:\\Users\\msalehi\\AppData\\Local\\Temp\\ipykernel_15556\\3012259823.py:4: FutureWarning: The frame.append method is deprecated and will be removed from pandas in a future version. Use pandas.concat instead.\n",
      "  df_big = df_big.append(df)\n",
      "C:\\Users\\msalehi\\AppData\\Local\\Temp\\ipykernel_15556\\3012259823.py:4: FutureWarning: The frame.append method is deprecated and will be removed from pandas in a future version. Use pandas.concat instead.\n",
      "  df_big = df_big.append(df)\n",
      "C:\\Users\\msalehi\\AppData\\Local\\Temp\\ipykernel_15556\\3012259823.py:4: FutureWarning: The frame.append method is deprecated and will be removed from pandas in a future version. Use pandas.concat instead.\n",
      "  df_big = df_big.append(df)\n",
      "C:\\Users\\msalehi\\AppData\\Local\\Temp\\ipykernel_15556\\3012259823.py:4: FutureWarning: The frame.append method is deprecated and will be removed from pandas in a future version. Use pandas.concat instead.\n",
      "  df_big = df_big.append(df)\n",
      "C:\\Users\\msalehi\\AppData\\Local\\Temp\\ipykernel_15556\\3012259823.py:4: FutureWarning: The frame.append method is deprecated and will be removed from pandas in a future version. Use pandas.concat instead.\n",
      "  df_big = df_big.append(df)\n",
      "C:\\Users\\msalehi\\AppData\\Local\\Temp\\ipykernel_15556\\3012259823.py:4: FutureWarning: The frame.append method is deprecated and will be removed from pandas in a future version. Use pandas.concat instead.\n",
      "  df_big = df_big.append(df)\n",
      "C:\\Users\\msalehi\\AppData\\Local\\Temp\\ipykernel_15556\\3012259823.py:4: FutureWarning: The frame.append method is deprecated and will be removed from pandas in a future version. Use pandas.concat instead.\n",
      "  df_big = df_big.append(df)\n",
      "C:\\Users\\msalehi\\AppData\\Local\\Temp\\ipykernel_15556\\3012259823.py:4: FutureWarning: The frame.append method is deprecated and will be removed from pandas in a future version. Use pandas.concat instead.\n",
      "  df_big = df_big.append(df)\n",
      "C:\\Users\\msalehi\\AppData\\Local\\Temp\\ipykernel_15556\\3012259823.py:4: FutureWarning: The frame.append method is deprecated and will be removed from pandas in a future version. Use pandas.concat instead.\n",
      "  df_big = df_big.append(df)\n",
      "C:\\Users\\msalehi\\AppData\\Local\\Temp\\ipykernel_15556\\3012259823.py:4: FutureWarning: The frame.append method is deprecated and will be removed from pandas in a future version. Use pandas.concat instead.\n",
      "  df_big = df_big.append(df)\n",
      "C:\\Users\\msalehi\\AppData\\Local\\Temp\\ipykernel_15556\\3012259823.py:4: FutureWarning: The frame.append method is deprecated and will be removed from pandas in a future version. Use pandas.concat instead.\n",
      "  df_big = df_big.append(df)\n",
      "C:\\Users\\msalehi\\AppData\\Local\\Temp\\ipykernel_15556\\3012259823.py:4: FutureWarning: The frame.append method is deprecated and will be removed from pandas in a future version. Use pandas.concat instead.\n",
      "  df_big = df_big.append(df)\n",
      "C:\\Users\\msalehi\\AppData\\Local\\Temp\\ipykernel_15556\\3012259823.py:4: FutureWarning: The frame.append method is deprecated and will be removed from pandas in a future version. Use pandas.concat instead.\n",
      "  df_big = df_big.append(df)\n",
      "C:\\Users\\msalehi\\AppData\\Local\\Temp\\ipykernel_15556\\3012259823.py:4: FutureWarning: The frame.append method is deprecated and will be removed from pandas in a future version. Use pandas.concat instead.\n",
      "  df_big = df_big.append(df)\n",
      "C:\\Users\\msalehi\\AppData\\Local\\Temp\\ipykernel_15556\\3012259823.py:4: FutureWarning: The frame.append method is deprecated and will be removed from pandas in a future version. Use pandas.concat instead.\n",
      "  df_big = df_big.append(df)\n",
      "C:\\Users\\msalehi\\AppData\\Local\\Temp\\ipykernel_15556\\3012259823.py:4: FutureWarning: The frame.append method is deprecated and will be removed from pandas in a future version. Use pandas.concat instead.\n",
      "  df_big = df_big.append(df)\n",
      "C:\\Users\\msalehi\\AppData\\Local\\Temp\\ipykernel_15556\\3012259823.py:4: FutureWarning: The frame.append method is deprecated and will be removed from pandas in a future version. Use pandas.concat instead.\n",
      "  df_big = df_big.append(df)\n",
      "C:\\Users\\msalehi\\AppData\\Local\\Temp\\ipykernel_15556\\3012259823.py:4: FutureWarning: The frame.append method is deprecated and will be removed from pandas in a future version. Use pandas.concat instead.\n",
      "  df_big = df_big.append(df)\n",
      "C:\\Users\\msalehi\\AppData\\Local\\Temp\\ipykernel_15556\\3012259823.py:4: FutureWarning: The frame.append method is deprecated and will be removed from pandas in a future version. Use pandas.concat instead.\n",
      "  df_big = df_big.append(df)\n",
      "C:\\Users\\msalehi\\AppData\\Local\\Temp\\ipykernel_15556\\3012259823.py:4: FutureWarning: The frame.append method is deprecated and will be removed from pandas in a future version. Use pandas.concat instead.\n",
      "  df_big = df_big.append(df)\n",
      "C:\\Users\\msalehi\\AppData\\Local\\Temp\\ipykernel_15556\\3012259823.py:4: FutureWarning: The frame.append method is deprecated and will be removed from pandas in a future version. Use pandas.concat instead.\n",
      "  df_big = df_big.append(df)\n",
      "C:\\Users\\msalehi\\AppData\\Local\\Temp\\ipykernel_15556\\3012259823.py:4: FutureWarning: The frame.append method is deprecated and will be removed from pandas in a future version. Use pandas.concat instead.\n",
      "  df_big = df_big.append(df)\n",
      "C:\\Users\\msalehi\\AppData\\Local\\Temp\\ipykernel_15556\\3012259823.py:4: FutureWarning: The frame.append method is deprecated and will be removed from pandas in a future version. Use pandas.concat instead.\n",
      "  df_big = df_big.append(df)\n",
      "C:\\Users\\msalehi\\AppData\\Local\\Temp\\ipykernel_15556\\3012259823.py:4: FutureWarning: The frame.append method is deprecated and will be removed from pandas in a future version. Use pandas.concat instead.\n",
      "  df_big = df_big.append(df)\n",
      "C:\\Users\\msalehi\\AppData\\Local\\Temp\\ipykernel_15556\\3012259823.py:4: FutureWarning: The frame.append method is deprecated and will be removed from pandas in a future version. Use pandas.concat instead.\n",
      "  df_big = df_big.append(df)\n",
      "C:\\Users\\msalehi\\AppData\\Local\\Temp\\ipykernel_15556\\3012259823.py:4: FutureWarning: The frame.append method is deprecated and will be removed from pandas in a future version. Use pandas.concat instead.\n",
      "  df_big = df_big.append(df)\n",
      "C:\\Users\\msalehi\\AppData\\Local\\Temp\\ipykernel_15556\\3012259823.py:4: FutureWarning: The frame.append method is deprecated and will be removed from pandas in a future version. Use pandas.concat instead.\n",
      "  df_big = df_big.append(df)\n",
      "C:\\Users\\msalehi\\AppData\\Local\\Temp\\ipykernel_15556\\3012259823.py:4: FutureWarning: The frame.append method is deprecated and will be removed from pandas in a future version. Use pandas.concat instead.\n",
      "  df_big = df_big.append(df)\n",
      "C:\\Users\\msalehi\\AppData\\Local\\Temp\\ipykernel_15556\\3012259823.py:4: FutureWarning: The frame.append method is deprecated and will be removed from pandas in a future version. Use pandas.concat instead.\n",
      "  df_big = df_big.append(df)\n",
      "C:\\Users\\msalehi\\AppData\\Local\\Temp\\ipykernel_15556\\3012259823.py:4: FutureWarning: The frame.append method is deprecated and will be removed from pandas in a future version. Use pandas.concat instead.\n",
      "  df_big = df_big.append(df)\n",
      "C:\\Users\\msalehi\\AppData\\Local\\Temp\\ipykernel_15556\\3012259823.py:4: FutureWarning: The frame.append method is deprecated and will be removed from pandas in a future version. Use pandas.concat instead.\n",
      "  df_big = df_big.append(df)\n",
      "C:\\Users\\msalehi\\AppData\\Local\\Temp\\ipykernel_15556\\3012259823.py:4: FutureWarning: The frame.append method is deprecated and will be removed from pandas in a future version. Use pandas.concat instead.\n",
      "  df_big = df_big.append(df)\n",
      "C:\\Users\\msalehi\\AppData\\Local\\Temp\\ipykernel_15556\\3012259823.py:4: FutureWarning: The frame.append method is deprecated and will be removed from pandas in a future version. Use pandas.concat instead.\n",
      "  df_big = df_big.append(df)\n",
      "C:\\Users\\msalehi\\AppData\\Local\\Temp\\ipykernel_15556\\3012259823.py:4: FutureWarning: The frame.append method is deprecated and will be removed from pandas in a future version. Use pandas.concat instead.\n",
      "  df_big = df_big.append(df)\n",
      "C:\\Users\\msalehi\\AppData\\Local\\Temp\\ipykernel_15556\\3012259823.py:4: FutureWarning: The frame.append method is deprecated and will be removed from pandas in a future version. Use pandas.concat instead.\n",
      "  df_big = df_big.append(df)\n",
      "C:\\Users\\msalehi\\AppData\\Local\\Temp\\ipykernel_15556\\3012259823.py:4: FutureWarning: The frame.append method is deprecated and will be removed from pandas in a future version. Use pandas.concat instead.\n",
      "  df_big = df_big.append(df)\n",
      "C:\\Users\\msalehi\\AppData\\Local\\Temp\\ipykernel_15556\\3012259823.py:4: FutureWarning: The frame.append method is deprecated and will be removed from pandas in a future version. Use pandas.concat instead.\n",
      "  df_big = df_big.append(df)\n",
      "C:\\Users\\msalehi\\AppData\\Local\\Temp\\ipykernel_15556\\3012259823.py:4: FutureWarning: The frame.append method is deprecated and will be removed from pandas in a future version. Use pandas.concat instead.\n",
      "  df_big = df_big.append(df)\n",
      "C:\\Users\\msalehi\\AppData\\Local\\Temp\\ipykernel_15556\\3012259823.py:4: FutureWarning: The frame.append method is deprecated and will be removed from pandas in a future version. Use pandas.concat instead.\n",
      "  df_big = df_big.append(df)\n",
      "C:\\Users\\msalehi\\AppData\\Local\\Temp\\ipykernel_15556\\3012259823.py:4: FutureWarning: The frame.append method is deprecated and will be removed from pandas in a future version. Use pandas.concat instead.\n",
      "  df_big = df_big.append(df)\n",
      "C:\\Users\\msalehi\\AppData\\Local\\Temp\\ipykernel_15556\\3012259823.py:4: FutureWarning: The frame.append method is deprecated and will be removed from pandas in a future version. Use pandas.concat instead.\n",
      "  df_big = df_big.append(df)\n",
      "C:\\Users\\msalehi\\AppData\\Local\\Temp\\ipykernel_15556\\3012259823.py:4: FutureWarning: The frame.append method is deprecated and will be removed from pandas in a future version. Use pandas.concat instead.\n",
      "  df_big = df_big.append(df)\n",
      "C:\\Users\\msalehi\\AppData\\Local\\Temp\\ipykernel_15556\\3012259823.py:4: FutureWarning: The frame.append method is deprecated and will be removed from pandas in a future version. Use pandas.concat instead.\n",
      "  df_big = df_big.append(df)\n",
      "C:\\Users\\msalehi\\AppData\\Local\\Temp\\ipykernel_15556\\3012259823.py:4: FutureWarning: The frame.append method is deprecated and will be removed from pandas in a future version. Use pandas.concat instead.\n",
      "  df_big = df_big.append(df)\n",
      "C:\\Users\\msalehi\\AppData\\Local\\Temp\\ipykernel_15556\\3012259823.py:4: FutureWarning: The frame.append method is deprecated and will be removed from pandas in a future version. Use pandas.concat instead.\n",
      "  df_big = df_big.append(df)\n",
      "C:\\Users\\msalehi\\AppData\\Local\\Temp\\ipykernel_15556\\3012259823.py:4: FutureWarning: The frame.append method is deprecated and will be removed from pandas in a future version. Use pandas.concat instead.\n",
      "  df_big = df_big.append(df)\n",
      "C:\\Users\\msalehi\\AppData\\Local\\Temp\\ipykernel_15556\\3012259823.py:4: FutureWarning: The frame.append method is deprecated and will be removed from pandas in a future version. Use pandas.concat instead.\n",
      "  df_big = df_big.append(df)\n",
      "C:\\Users\\msalehi\\AppData\\Local\\Temp\\ipykernel_15556\\3012259823.py:4: FutureWarning: The frame.append method is deprecated and will be removed from pandas in a future version. Use pandas.concat instead.\n",
      "  df_big = df_big.append(df)\n",
      "C:\\Users\\msalehi\\AppData\\Local\\Temp\\ipykernel_15556\\3012259823.py:4: FutureWarning: The frame.append method is deprecated and will be removed from pandas in a future version. Use pandas.concat instead.\n",
      "  df_big = df_big.append(df)\n",
      "C:\\Users\\msalehi\\AppData\\Local\\Temp\\ipykernel_15556\\3012259823.py:4: FutureWarning: The frame.append method is deprecated and will be removed from pandas in a future version. Use pandas.concat instead.\n",
      "  df_big = df_big.append(df)\n",
      "C:\\Users\\msalehi\\AppData\\Local\\Temp\\ipykernel_15556\\3012259823.py:4: FutureWarning: The frame.append method is deprecated and will be removed from pandas in a future version. Use pandas.concat instead.\n",
      "  df_big = df_big.append(df)\n",
      "C:\\Users\\msalehi\\AppData\\Local\\Temp\\ipykernel_15556\\3012259823.py:4: FutureWarning: The frame.append method is deprecated and will be removed from pandas in a future version. Use pandas.concat instead.\n",
      "  df_big = df_big.append(df)\n",
      "C:\\Users\\msalehi\\AppData\\Local\\Temp\\ipykernel_15556\\3012259823.py:4: FutureWarning: The frame.append method is deprecated and will be removed from pandas in a future version. Use pandas.concat instead.\n",
      "  df_big = df_big.append(df)\n",
      "C:\\Users\\msalehi\\AppData\\Local\\Temp\\ipykernel_15556\\3012259823.py:4: FutureWarning: The frame.append method is deprecated and will be removed from pandas in a future version. Use pandas.concat instead.\n",
      "  df_big = df_big.append(df)\n",
      "C:\\Users\\msalehi\\AppData\\Local\\Temp\\ipykernel_15556\\3012259823.py:4: FutureWarning: The frame.append method is deprecated and will be removed from pandas in a future version. Use pandas.concat instead.\n",
      "  df_big = df_big.append(df)\n",
      "C:\\Users\\msalehi\\AppData\\Local\\Temp\\ipykernel_15556\\3012259823.py:4: FutureWarning: The frame.append method is deprecated and will be removed from pandas in a future version. Use pandas.concat instead.\n",
      "  df_big = df_big.append(df)\n",
      "C:\\Users\\msalehi\\AppData\\Local\\Temp\\ipykernel_15556\\3012259823.py:4: FutureWarning: The frame.append method is deprecated and will be removed from pandas in a future version. Use pandas.concat instead.\n",
      "  df_big = df_big.append(df)\n",
      "C:\\Users\\msalehi\\AppData\\Local\\Temp\\ipykernel_15556\\3012259823.py:4: FutureWarning: The frame.append method is deprecated and will be removed from pandas in a future version. Use pandas.concat instead.\n",
      "  df_big = df_big.append(df)\n",
      "C:\\Users\\msalehi\\AppData\\Local\\Temp\\ipykernel_15556\\3012259823.py:4: FutureWarning: The frame.append method is deprecated and will be removed from pandas in a future version. Use pandas.concat instead.\n",
      "  df_big = df_big.append(df)\n",
      "C:\\Users\\msalehi\\AppData\\Local\\Temp\\ipykernel_15556\\3012259823.py:4: FutureWarning: The frame.append method is deprecated and will be removed from pandas in a future version. Use pandas.concat instead.\n",
      "  df_big = df_big.append(df)\n",
      "C:\\Users\\msalehi\\AppData\\Local\\Temp\\ipykernel_15556\\3012259823.py:4: FutureWarning: The frame.append method is deprecated and will be removed from pandas in a future version. Use pandas.concat instead.\n",
      "  df_big = df_big.append(df)\n",
      "C:\\Users\\msalehi\\AppData\\Local\\Temp\\ipykernel_15556\\3012259823.py:4: FutureWarning: The frame.append method is deprecated and will be removed from pandas in a future version. Use pandas.concat instead.\n",
      "  df_big = df_big.append(df)\n",
      "C:\\Users\\msalehi\\AppData\\Local\\Temp\\ipykernel_15556\\3012259823.py:4: FutureWarning: The frame.append method is deprecated and will be removed from pandas in a future version. Use pandas.concat instead.\n",
      "  df_big = df_big.append(df)\n",
      "C:\\Users\\msalehi\\AppData\\Local\\Temp\\ipykernel_15556\\3012259823.py:4: FutureWarning: The frame.append method is deprecated and will be removed from pandas in a future version. Use pandas.concat instead.\n",
      "  df_big = df_big.append(df)\n",
      "C:\\Users\\msalehi\\AppData\\Local\\Temp\\ipykernel_15556\\3012259823.py:4: FutureWarning: The frame.append method is deprecated and will be removed from pandas in a future version. Use pandas.concat instead.\n",
      "  df_big = df_big.append(df)\n",
      "C:\\Users\\msalehi\\AppData\\Local\\Temp\\ipykernel_15556\\3012259823.py:4: FutureWarning: The frame.append method is deprecated and will be removed from pandas in a future version. Use pandas.concat instead.\n",
      "  df_big = df_big.append(df)\n",
      "C:\\Users\\msalehi\\AppData\\Local\\Temp\\ipykernel_15556\\3012259823.py:4: FutureWarning: The frame.append method is deprecated and will be removed from pandas in a future version. Use pandas.concat instead.\n",
      "  df_big = df_big.append(df)\n",
      "C:\\Users\\msalehi\\AppData\\Local\\Temp\\ipykernel_15556\\3012259823.py:4: FutureWarning: The frame.append method is deprecated and will be removed from pandas in a future version. Use pandas.concat instead.\n",
      "  df_big = df_big.append(df)\n",
      "C:\\Users\\msalehi\\AppData\\Local\\Temp\\ipykernel_15556\\3012259823.py:4: FutureWarning: The frame.append method is deprecated and will be removed from pandas in a future version. Use pandas.concat instead.\n",
      "  df_big = df_big.append(df)\n",
      "C:\\Users\\msalehi\\AppData\\Local\\Temp\\ipykernel_15556\\3012259823.py:4: FutureWarning: The frame.append method is deprecated and will be removed from pandas in a future version. Use pandas.concat instead.\n",
      "  df_big = df_big.append(df)\n",
      "C:\\Users\\msalehi\\AppData\\Local\\Temp\\ipykernel_15556\\3012259823.py:4: FutureWarning: The frame.append method is deprecated and will be removed from pandas in a future version. Use pandas.concat instead.\n",
      "  df_big = df_big.append(df)\n",
      "C:\\Users\\msalehi\\AppData\\Local\\Temp\\ipykernel_15556\\3012259823.py:4: FutureWarning: The frame.append method is deprecated and will be removed from pandas in a future version. Use pandas.concat instead.\n",
      "  df_big = df_big.append(df)\n",
      "C:\\Users\\msalehi\\AppData\\Local\\Temp\\ipykernel_15556\\3012259823.py:4: FutureWarning: The frame.append method is deprecated and will be removed from pandas in a future version. Use pandas.concat instead.\n",
      "  df_big = df_big.append(df)\n",
      "C:\\Users\\msalehi\\AppData\\Local\\Temp\\ipykernel_15556\\3012259823.py:4: FutureWarning: The frame.append method is deprecated and will be removed from pandas in a future version. Use pandas.concat instead.\n",
      "  df_big = df_big.append(df)\n",
      "C:\\Users\\msalehi\\AppData\\Local\\Temp\\ipykernel_15556\\3012259823.py:4: FutureWarning: The frame.append method is deprecated and will be removed from pandas in a future version. Use pandas.concat instead.\n",
      "  df_big = df_big.append(df)\n",
      "C:\\Users\\msalehi\\AppData\\Local\\Temp\\ipykernel_15556\\3012259823.py:4: FutureWarning: The frame.append method is deprecated and will be removed from pandas in a future version. Use pandas.concat instead.\n",
      "  df_big = df_big.append(df)\n",
      "C:\\Users\\msalehi\\AppData\\Local\\Temp\\ipykernel_15556\\3012259823.py:4: FutureWarning: The frame.append method is deprecated and will be removed from pandas in a future version. Use pandas.concat instead.\n",
      "  df_big = df_big.append(df)\n",
      "C:\\Users\\msalehi\\AppData\\Local\\Temp\\ipykernel_15556\\3012259823.py:4: FutureWarning: The frame.append method is deprecated and will be removed from pandas in a future version. Use pandas.concat instead.\n",
      "  df_big = df_big.append(df)\n",
      "C:\\Users\\msalehi\\AppData\\Local\\Temp\\ipykernel_15556\\3012259823.py:4: FutureWarning: The frame.append method is deprecated and will be removed from pandas in a future version. Use pandas.concat instead.\n",
      "  df_big = df_big.append(df)\n",
      "C:\\Users\\msalehi\\AppData\\Local\\Temp\\ipykernel_15556\\3012259823.py:4: FutureWarning: The frame.append method is deprecated and will be removed from pandas in a future version. Use pandas.concat instead.\n",
      "  df_big = df_big.append(df)\n",
      "C:\\Users\\msalehi\\AppData\\Local\\Temp\\ipykernel_15556\\3012259823.py:4: FutureWarning: The frame.append method is deprecated and will be removed from pandas in a future version. Use pandas.concat instead.\n",
      "  df_big = df_big.append(df)\n",
      "C:\\Users\\msalehi\\AppData\\Local\\Temp\\ipykernel_15556\\3012259823.py:4: FutureWarning: The frame.append method is deprecated and will be removed from pandas in a future version. Use pandas.concat instead.\n",
      "  df_big = df_big.append(df)\n",
      "C:\\Users\\msalehi\\AppData\\Local\\Temp\\ipykernel_15556\\3012259823.py:4: FutureWarning: The frame.append method is deprecated and will be removed from pandas in a future version. Use pandas.concat instead.\n",
      "  df_big = df_big.append(df)\n",
      "C:\\Users\\msalehi\\AppData\\Local\\Temp\\ipykernel_15556\\3012259823.py:4: FutureWarning: The frame.append method is deprecated and will be removed from pandas in a future version. Use pandas.concat instead.\n",
      "  df_big = df_big.append(df)\n",
      "C:\\Users\\msalehi\\AppData\\Local\\Temp\\ipykernel_15556\\3012259823.py:4: FutureWarning: The frame.append method is deprecated and will be removed from pandas in a future version. Use pandas.concat instead.\n",
      "  df_big = df_big.append(df)\n",
      "C:\\Users\\msalehi\\AppData\\Local\\Temp\\ipykernel_15556\\3012259823.py:4: FutureWarning: The frame.append method is deprecated and will be removed from pandas in a future version. Use pandas.concat instead.\n",
      "  df_big = df_big.append(df)\n",
      "C:\\Users\\msalehi\\AppData\\Local\\Temp\\ipykernel_15556\\3012259823.py:4: FutureWarning: The frame.append method is deprecated and will be removed from pandas in a future version. Use pandas.concat instead.\n",
      "  df_big = df_big.append(df)\n",
      "C:\\Users\\msalehi\\AppData\\Local\\Temp\\ipykernel_15556\\3012259823.py:4: FutureWarning: The frame.append method is deprecated and will be removed from pandas in a future version. Use pandas.concat instead.\n",
      "  df_big = df_big.append(df)\n",
      "C:\\Users\\msalehi\\AppData\\Local\\Temp\\ipykernel_15556\\3012259823.py:4: FutureWarning: The frame.append method is deprecated and will be removed from pandas in a future version. Use pandas.concat instead.\n",
      "  df_big = df_big.append(df)\n",
      "C:\\Users\\msalehi\\AppData\\Local\\Temp\\ipykernel_15556\\3012259823.py:4: FutureWarning: The frame.append method is deprecated and will be removed from pandas in a future version. Use pandas.concat instead.\n",
      "  df_big = df_big.append(df)\n",
      "C:\\Users\\msalehi\\AppData\\Local\\Temp\\ipykernel_15556\\3012259823.py:4: FutureWarning: The frame.append method is deprecated and will be removed from pandas in a future version. Use pandas.concat instead.\n",
      "  df_big = df_big.append(df)\n",
      "C:\\Users\\msalehi\\AppData\\Local\\Temp\\ipykernel_15556\\3012259823.py:4: FutureWarning: The frame.append method is deprecated and will be removed from pandas in a future version. Use pandas.concat instead.\n",
      "  df_big = df_big.append(df)\n",
      "C:\\Users\\msalehi\\AppData\\Local\\Temp\\ipykernel_15556\\3012259823.py:4: FutureWarning: The frame.append method is deprecated and will be removed from pandas in a future version. Use pandas.concat instead.\n",
      "  df_big = df_big.append(df)\n",
      "C:\\Users\\msalehi\\AppData\\Local\\Temp\\ipykernel_15556\\3012259823.py:4: FutureWarning: The frame.append method is deprecated and will be removed from pandas in a future version. Use pandas.concat instead.\n",
      "  df_big = df_big.append(df)\n",
      "C:\\Users\\msalehi\\AppData\\Local\\Temp\\ipykernel_15556\\3012259823.py:4: FutureWarning: The frame.append method is deprecated and will be removed from pandas in a future version. Use pandas.concat instead.\n",
      "  df_big = df_big.append(df)\n",
      "C:\\Users\\msalehi\\AppData\\Local\\Temp\\ipykernel_15556\\3012259823.py:4: FutureWarning: The frame.append method is deprecated and will be removed from pandas in a future version. Use pandas.concat instead.\n",
      "  df_big = df_big.append(df)\n",
      "C:\\Users\\msalehi\\AppData\\Local\\Temp\\ipykernel_15556\\3012259823.py:4: FutureWarning: The frame.append method is deprecated and will be removed from pandas in a future version. Use pandas.concat instead.\n",
      "  df_big = df_big.append(df)\n",
      "C:\\Users\\msalehi\\AppData\\Local\\Temp\\ipykernel_15556\\3012259823.py:4: FutureWarning: The frame.append method is deprecated and will be removed from pandas in a future version. Use pandas.concat instead.\n",
      "  df_big = df_big.append(df)\n",
      "C:\\Users\\msalehi\\AppData\\Local\\Temp\\ipykernel_15556\\3012259823.py:4: FutureWarning: The frame.append method is deprecated and will be removed from pandas in a future version. Use pandas.concat instead.\n",
      "  df_big = df_big.append(df)\n",
      "C:\\Users\\msalehi\\AppData\\Local\\Temp\\ipykernel_15556\\3012259823.py:4: FutureWarning: The frame.append method is deprecated and will be removed from pandas in a future version. Use pandas.concat instead.\n",
      "  df_big = df_big.append(df)\n",
      "C:\\Users\\msalehi\\AppData\\Local\\Temp\\ipykernel_15556\\3012259823.py:4: FutureWarning: The frame.append method is deprecated and will be removed from pandas in a future version. Use pandas.concat instead.\n",
      "  df_big = df_big.append(df)\n",
      "C:\\Users\\msalehi\\AppData\\Local\\Temp\\ipykernel_15556\\3012259823.py:4: FutureWarning: The frame.append method is deprecated and will be removed from pandas in a future version. Use pandas.concat instead.\n",
      "  df_big = df_big.append(df)\n",
      "C:\\Users\\msalehi\\AppData\\Local\\Temp\\ipykernel_15556\\3012259823.py:4: FutureWarning: The frame.append method is deprecated and will be removed from pandas in a future version. Use pandas.concat instead.\n",
      "  df_big = df_big.append(df)\n",
      "C:\\Users\\msalehi\\AppData\\Local\\Temp\\ipykernel_15556\\3012259823.py:4: FutureWarning: The frame.append method is deprecated and will be removed from pandas in a future version. Use pandas.concat instead.\n",
      "  df_big = df_big.append(df)\n",
      "C:\\Users\\msalehi\\AppData\\Local\\Temp\\ipykernel_15556\\3012259823.py:4: FutureWarning: The frame.append method is deprecated and will be removed from pandas in a future version. Use pandas.concat instead.\n",
      "  df_big = df_big.append(df)\n",
      "C:\\Users\\msalehi\\AppData\\Local\\Temp\\ipykernel_15556\\3012259823.py:4: FutureWarning: The frame.append method is deprecated and will be removed from pandas in a future version. Use pandas.concat instead.\n",
      "  df_big = df_big.append(df)\n",
      "C:\\Users\\msalehi\\AppData\\Local\\Temp\\ipykernel_15556\\3012259823.py:4: FutureWarning: The frame.append method is deprecated and will be removed from pandas in a future version. Use pandas.concat instead.\n",
      "  df_big = df_big.append(df)\n",
      "C:\\Users\\msalehi\\AppData\\Local\\Temp\\ipykernel_15556\\3012259823.py:4: FutureWarning: The frame.append method is deprecated and will be removed from pandas in a future version. Use pandas.concat instead.\n",
      "  df_big = df_big.append(df)\n",
      "C:\\Users\\msalehi\\AppData\\Local\\Temp\\ipykernel_15556\\3012259823.py:4: FutureWarning: The frame.append method is deprecated and will be removed from pandas in a future version. Use pandas.concat instead.\n",
      "  df_big = df_big.append(df)\n",
      "C:\\Users\\msalehi\\AppData\\Local\\Temp\\ipykernel_15556\\3012259823.py:4: FutureWarning: The frame.append method is deprecated and will be removed from pandas in a future version. Use pandas.concat instead.\n",
      "  df_big = df_big.append(df)\n",
      "C:\\Users\\msalehi\\AppData\\Local\\Temp\\ipykernel_15556\\3012259823.py:4: FutureWarning: The frame.append method is deprecated and will be removed from pandas in a future version. Use pandas.concat instead.\n",
      "  df_big = df_big.append(df)\n",
      "C:\\Users\\msalehi\\AppData\\Local\\Temp\\ipykernel_15556\\3012259823.py:4: FutureWarning: The frame.append method is deprecated and will be removed from pandas in a future version. Use pandas.concat instead.\n",
      "  df_big = df_big.append(df)\n",
      "C:\\Users\\msalehi\\AppData\\Local\\Temp\\ipykernel_15556\\3012259823.py:4: FutureWarning: The frame.append method is deprecated and will be removed from pandas in a future version. Use pandas.concat instead.\n",
      "  df_big = df_big.append(df)\n"
     ]
    }
   ],
   "source": [
    "df_big=pd.DataFrame()\n",
    "for i in range(len(all_text_df)):\n",
    "    df = pd.DataFrame(all_text_df['Freq_pos'][i], columns=['POS','Freq'])\n",
    "    df_big = df_big.append(df)"
   ]
  },
  {
   "cell_type": "code",
   "execution_count": 34,
   "id": "d5185c82",
   "metadata": {},
   "outputs": [],
   "source": [
    "# df_big"
   ]
  },
  {
   "cell_type": "code",
   "execution_count": 35,
   "id": "360348b1",
   "metadata": {},
   "outputs": [
    {
     "data": {
      "text/plain": [
       "(147, 5)"
      ]
     },
     "execution_count": 35,
     "metadata": {},
     "output_type": "execute_result"
    }
   ],
   "source": [
    "all_text_df.shape"
   ]
  },
  {
   "cell_type": "code",
   "execution_count": 36,
   "id": "bbfcd962",
   "metadata": {},
   "outputs": [
    {
     "data": {
      "image/png": "[encoded data removed]",
      "text/plain": [
       "<Figure size 640x480 with 1 Axes>"
      ]
     },
     "metadata": {},
     "output_type": "display_data"
    }
   ],
   "source": [
    "sns.countplot(x='POS', data= df_big, palette='rainbow')\n",
    "\n",
    "plt.title(\"The number of most POS tags for all docs\",fontweight ='bold',fontsize=10)\n",
    "plt.show()"
   ]
  },
  {
   "cell_type": "code",
   "execution_count": null,
   "id": "8b652ac0",
   "metadata": {},
   "outputs": [],
   "source": []
  }
 ],
 "metadata": {
  "kernelspec": {
   "display_name": "Python 3 (ipykernel)",
   "language": "python",
   "name": "python3"
  },
  "language_info": {
   "codemirror_mode": {
    "name": "ipython",
    "version": 3
   },
   "file_extension": ".py",
   "mimetype": "text/x-python",
   "name": "python",
   "nbconvert_exporter": "python",
   "pygments_lexer": "ipython3",
   "version": "3.9.9"
  }
 },
 "nbformat": 4,
 "nbformat_minor": 5
}
