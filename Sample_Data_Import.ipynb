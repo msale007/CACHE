{
 "cells": [
  {
   "cell_type": "code",
   "execution_count": 1,
   "id": "3bbd7e5d",
   "metadata": {},
   "outputs": [],
   "source": [
    "import os               # import os to walk file path\n",
    "import pandas as pd     # import pandas for dataframes\n",
    "import json"
   ]
  },
  {
   "cell_type": "code",
   "execution_count": 2,
   "id": "c9be46ce",
   "metadata": {},
   "outputs": [
    {
     "name": "stdout",
     "output_type": "stream",
     "text": [
      "Files not read in:  33\n",
      "Files read in:  1237\n",
      "                                        header_title  \\\n",
      "0              2022 in Cybersecurity – That’s a Trap   \n",
      "1                                   2023 Predictions   \n",
      "2             3 Learnings from the DoDIIS Conference   \n",
      "3  365 Days of Gratitude: A Reflection of My Firs...   \n",
      "4  5 Things I’m Still Waiting for With the iPhone...   \n",
      "\n",
      "                              date  \\\n",
      "0  Tue, 27 Dec 2022 02:51:17 -0600   \n",
      "1  Tue, 10 Jan 2023 14:51:25 +0000   \n",
      "2  Tue, 17 Jan 2023 03:15:32 -0600   \n",
      "3  Tue, 17 Jan 2023 13:00:01 +0000   \n",
      "4  Sun, 25 Sep 2022 23:08:41 +0000   \n",
      "\n",
      "                                                text  \\\n",
      "0  Are you sitting comfortably? Then let us begin...   \n",
      "1  2022 has been another huge year for cybersecur...   \n",
      "2  The annual Department of Defense Intelligence ...   \n",
      "3  Cisco Blogs / We Are Cisco / 365 Days of Grati...   \n",
      "4  DanielMiesslerI just camped for the new lineup...   \n",
      "\n",
      "                                                 url category  \n",
      "0  https://www.tripwire.com/state-of-security/202...       IT  \n",
      "1  https://www.itsecurityguru.org/2023/01/10/2023...       IT  \n",
      "2  https://www.tripwire.com/state-of-security/3-l...       IT  \n",
      "3  https://blogs.cisco.com/wearecisco/365-days-of...       IT  \n",
      "4  https://danielmiessler.com/blog/5-things-im-st...       IT  \n"
     ]
    }
   ],
   "source": [
    "# Relative path\n",
    "path_to_data = 'data/rss/'\n",
    "\n",
    "# Names of 5 blog categories to import \n",
    "blogs = ['','AutoRepair','Handyman',\n",
    "                 'Maritime','Plumbing']\n",
    "\n",
    "# Identify key to blog text in JSON file\n",
    "key = 'text'\n",
    "\n",
    "# Initialize empty data frame\n",
    "text_data = pd.DataFrame()\n",
    "\n",
    "#Initialize counter to keep track of files that fail\n",
    "files_not_read = 0\n",
    "\n",
    "category_sizes = [] # To store number of blog articles by category\n",
    "labels = [] # To store \"true\" labels ->  [0, 1, 2, 3, 4]\n",
    "label = 0\n",
    "\n",
    "for blog in blogs :\n",
    "    current_blog_category_count = 0\n",
    "    \n",
    "    path_to_blogs = path_to_data + 'rss' + blog + 'Data/'\n",
    "    \n",
    "    for root, dir, files in os.walk(path_to_blogs) :\n",
    "        # get list of only json files\n",
    "        json_files = [pos_json for pos_json in files if pos_json.endswith('.json')]\n",
    "\n",
    "        for j in json_files :\n",
    "            with open(root + '/' + j, 'r') as f:\n",
    "                data = json.load(f)\n",
    "                # set the category from the names above\n",
    "                data['category'] = blog if blog != '' else 'IT'\n",
    "                if len(data[key]) > 200 :\n",
    "                    try : # fails when there is more than one json object in the file\n",
    "                        text_data = pd.concat([text_data, pd.DataFrame(data, index=[0])], ignore_index=True)\n",
    "                        current_blog_category_count += 1\n",
    "                        labels.append(label)\n",
    "                    except :\n",
    "                        files_not_read += 1\n",
    "    category_sizes.append(current_blog_category_count) # add category count to list\n",
    "    label += 1 # going to next category so increment label\n",
    "\n",
    "print('Files not read in: ', str(files_not_read))\n",
    "print('Files read in: ', str(len(text_data)))\n",
    "print(text_data.head())"
   ]
  },
  {
   "cell_type": "code",
   "execution_count": null,
   "id": "2eb01934",
   "metadata": {},
   "outputs": [],
   "source": []
  }
 ],
 "metadata": {
  "kernelspec": {
   "display_name": "Python 3 (ipykernel)",
   "language": "python",
   "name": "python3"
  },
  "language_info": {
   "codemirror_mode": {
    "name": "ipython",
    "version": 3
   },
   "file_extension": ".py",
   "mimetype": "text/x-python",
   "name": "python",
   "nbconvert_exporter": "python",
   "pygments_lexer": "ipython3",
   "version": "3.9.11"
  }
 },
 "nbformat": 4,
 "nbformat_minor": 5
}
