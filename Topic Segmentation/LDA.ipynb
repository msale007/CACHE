{
 "cells": [
  {
   "cell_type": "code",
   "execution_count": 1,
   "id": "f946dd6f",
   "metadata": {},
   "outputs": [],
   "source": [
    "import os               # import os to walk file path\n",
    "import pandas as pd     # import pandas for dataframes\n",
    "import numpy as np      \n",
    "import json"
   ]
  },
  {
   "cell_type": "code",
   "execution_count": 24,
   "id": "56acb58e",
   "metadata": {},
   "outputs": [
    {
     "name": "stdout",
     "output_type": "stream",
     "text": [
      "5-web-design-trends-.json\n",
      "locate-empty-directo.json\n",
      "overview-of-spiral-s.json\n",
      "13-code-quality-metr.json\n",
      "can-value-stream-man.json\n",
      "challenges-and-check.json\n",
      "competition-of-the-m.json\n",
      "connect-memphis-as-a.json\n",
      "correlations-made-ea.json\n",
      "creating-crap-faster.json\n",
      "Files not read in:  0\n",
      "Files read in:  1050\n",
      "                                     header_title  \\\n",
      "0   Convert Fahrenheit to Celsius with JavaScript   \n",
      "1     Create a Thumbnail From a Video with ffmpeg   \n",
      "2                      CSS ::file-selector-button   \n",
      "3                Customizing HTML Form Validation   \n",
      "4  Detect Browser Bars Visibility with JavaScript   \n",
      "\n",
      "                              date  \\\n",
      "0  Wed, 26 Oct 2022 10:19:49 +0000   \n",
      "1  Tue, 25 Oct 2022 09:28:58 +0000   \n",
      "2  Mon, 20 Feb 2023 09:50:57 +0000   \n",
      "3  Mon, 09 Jan 2023 10:57:00 +0000   \n",
      "4  Fri, 30 Dec 2022 01:36:35 +0000   \n",
      "\n",
      "                                                text  \\\n",
      "0  The United States is one of the last bodies th...   \n",
      "1  Creating a thumbnail to represent a video is a...   \n",
      "2  We all love beautifully styled form controls b...   \n",
      "3  Form validation has always been my least favor...   \n",
      "4  It's one thing to know about what's in the bro...   \n",
      "\n",
      "                                             summary  \\\n",
      "0  The article discusses the importance of provid...   \n",
      "1  The article discusses several topics related t...   \n",
      "2  This article discusses various web development...   \n",
      "3  The article discusses how to control native fo...   \n",
      "4  The article discusses how developers can gain ...   \n",
      "\n",
      "                                                 url  \n",
      "0  https://davidwalsh.name/fahrenheit-celsius-jav...  \n",
      "1    https://davidwalsh.name/create-thumbnail-ffmpeg  \n",
      "2   https://davidwalsh.name/css-file-selector-button  \n",
      "3           https://davidwalsh.name/html5-validation  \n",
      "4        https://davidwalsh.name/detect-browser-bars  \n"
     ]
    }
   ],
   "source": [
    "# Relative path\n",
    "path_to_data = 'rssDevData/'\n",
    "\n",
    "# Names of 5 blog categories to import \n",
    "blogs = ['DavidWalsh','DeveloperDotCom','DZone','GeeksForGeeks','SCAND','SDTimes']\n",
    "\n",
    "# Identify key to blog text in JSON file\n",
    "key = 'text'\n",
    "\n",
    "# Initialize empty data frame\n",
    "text_data = pd.DataFrame()\n",
    "\n",
    "#Initialize counter to keep track of files that fail\n",
    "files_not_read = 0\n",
    "\n",
    "category_sizes = [] # To store number of blog articles by category\n",
    "labels = [] # To store \"true\" labels ->  [0, 1, 2, 3, 4]\n",
    "label = 0\n",
    "\n",
    "for blog in blogs :\n",
    "    current_blog_category_count = 0\n",
    "    \n",
    "    path_to_blogs = path_to_data + blog \n",
    "    \n",
    "    for root, dir, files in os.walk(path_to_blogs) :\n",
    "        # get list of only json files\n",
    "        json_files = [pos_json for pos_json in files if pos_json.endswith('.json')]\n",
    "\n",
    "        for j in json_files :\n",
    "            with open(root + '/' + j, 'r') as f:\n",
    "                try:\n",
    "                    data = json.load(f)\n",
    "                    if len(data[key]) > 200 :\n",
    "                        try : # fails when there is more than one json object in the file \n",
    "                            text_data = pd.concat([text_data, pd.DataFrame(data, index=[0])], ignore_index=True) \n",
    "                            current_blog_category_count += 1 \n",
    "                            labels.append(label) \n",
    "                        except : \n",
    "                            files_not_read += 1\n",
    "                except:\n",
    "                    print(j)\n",
    "print('Files not read in: ', str(files_not_read))\n",
    "print('Files read in: ', str(len(text_data)))\n",
    "print(text_data.head())"
   ]
  },
  {
   "cell_type": "code",
   "execution_count": 25,
   "id": "480dff35",
   "metadata": {},
   "outputs": [
    {
     "data": {
      "text/html": [
       "<div>\n",
       "<style scoped>\n",
       "    .dataframe tbody tr th:only-of-type {\n",
       "        vertical-align: middle;\n",
       "    }\n",
       "\n",
       "    .dataframe tbody tr th {\n",
       "        vertical-align: top;\n",
       "    }\n",
       "\n",
       "    .dataframe thead th {\n",
       "        text-align: right;\n",
       "    }\n",
       "</style>\n",
       "<table border=\"1\" class=\"dataframe\">\n",
       "  <thead>\n",
       "    <tr style=\"text-align: right;\">\n",
       "      <th></th>\n",
       "      <th>header_title</th>\n",
       "      <th>date</th>\n",
       "      <th>text</th>\n",
       "      <th>summary</th>\n",
       "      <th>url</th>\n",
       "    </tr>\n",
       "  </thead>\n",
       "  <tbody>\n",
       "    <tr>\n",
       "      <th>0</th>\n",
       "      <td>Convert Fahrenheit to Celsius with JavaScript</td>\n",
       "      <td>Wed, 26 Oct 2022 10:19:49 +0000</td>\n",
       "      <td>The United States is one of the last bodies th...</td>\n",
       "      <td>The article discusses the importance of provid...</td>\n",
       "      <td>https://davidwalsh.name/fahrenheit-celsius-jav...</td>\n",
       "    </tr>\n",
       "    <tr>\n",
       "      <th>1</th>\n",
       "      <td>Create a Thumbnail From a Video with ffmpeg</td>\n",
       "      <td>Tue, 25 Oct 2022 09:28:58 +0000</td>\n",
       "      <td>Creating a thumbnail to represent a video is a...</td>\n",
       "      <td>The article discusses several topics related t...</td>\n",
       "      <td>https://davidwalsh.name/create-thumbnail-ffmpeg</td>\n",
       "    </tr>\n",
       "    <tr>\n",
       "      <th>2</th>\n",
       "      <td>CSS ::file-selector-button</td>\n",
       "      <td>Mon, 20 Feb 2023 09:50:57 +0000</td>\n",
       "      <td>We all love beautifully styled form controls b...</td>\n",
       "      <td>This article discusses various web development...</td>\n",
       "      <td>https://davidwalsh.name/css-file-selector-button</td>\n",
       "    </tr>\n",
       "    <tr>\n",
       "      <th>3</th>\n",
       "      <td>Customizing HTML Form Validation</td>\n",
       "      <td>Mon, 09 Jan 2023 10:57:00 +0000</td>\n",
       "      <td>Form validation has always been my least favor...</td>\n",
       "      <td>The article discusses how to control native fo...</td>\n",
       "      <td>https://davidwalsh.name/html5-validation</td>\n",
       "    </tr>\n",
       "    <tr>\n",
       "      <th>4</th>\n",
       "      <td>Detect Browser Bars Visibility with JavaScript</td>\n",
       "      <td>Fri, 30 Dec 2022 01:36:35 +0000</td>\n",
       "      <td>It's one thing to know about what's in the bro...</td>\n",
       "      <td>The article discusses how developers can gain ...</td>\n",
       "      <td>https://davidwalsh.name/detect-browser-bars</td>\n",
       "    </tr>\n",
       "  </tbody>\n",
       "</table>\n",
       "</div>"
      ],
      "text/plain": [
       "                                     header_title  \\\n",
       "0   Convert Fahrenheit to Celsius with JavaScript   \n",
       "1     Create a Thumbnail From a Video with ffmpeg   \n",
       "2                      CSS ::file-selector-button   \n",
       "3                Customizing HTML Form Validation   \n",
       "4  Detect Browser Bars Visibility with JavaScript   \n",
       "\n",
       "                              date  \\\n",
       "0  Wed, 26 Oct 2022 10:19:49 +0000   \n",
       "1  Tue, 25 Oct 2022 09:28:58 +0000   \n",
       "2  Mon, 20 Feb 2023 09:50:57 +0000   \n",
       "3  Mon, 09 Jan 2023 10:57:00 +0000   \n",
       "4  Fri, 30 Dec 2022 01:36:35 +0000   \n",
       "\n",
       "                                                text  \\\n",
       "0  The United States is one of the last bodies th...   \n",
       "1  Creating a thumbnail to represent a video is a...   \n",
       "2  We all love beautifully styled form controls b...   \n",
       "3  Form validation has always been my least favor...   \n",
       "4  It's one thing to know about what's in the bro...   \n",
       "\n",
       "                                             summary  \\\n",
       "0  The article discusses the importance of provid...   \n",
       "1  The article discusses several topics related t...   \n",
       "2  This article discusses various web development...   \n",
       "3  The article discusses how to control native fo...   \n",
       "4  The article discusses how developers can gain ...   \n",
       "\n",
       "                                                 url  \n",
       "0  https://davidwalsh.name/fahrenheit-celsius-jav...  \n",
       "1    https://davidwalsh.name/create-thumbnail-ffmpeg  \n",
       "2   https://davidwalsh.name/css-file-selector-button  \n",
       "3           https://davidwalsh.name/html5-validation  \n",
       "4        https://davidwalsh.name/detect-browser-bars  "
      ]
     },
     "execution_count": 25,
     "metadata": {},
     "output_type": "execute_result"
    }
   ],
   "source": [
    "text_data.head()"
   ]
  },
  {
   "cell_type": "markdown",
   "id": "50c55e72",
   "metadata": {},
   "source": [
    "## Preprocessing"
   ]
  },
  {
   "cell_type": "code",
   "execution_count": 26,
   "id": "cb6eb999",
   "metadata": {},
   "outputs": [],
   "source": [
    "from sklearn.feature_extraction.text import CountVectorizer"
   ]
  },
  {
   "cell_type": "markdown",
   "id": "a296fbb4",
   "metadata": {},
   "source": [
    "**`max_df`**` : float in range [0.0, 1.0] or int, default=1.0`<br>\n",
    "When building the vocabulary ignore terms that have a document frequency strictly higher than the given threshold (corpus-specific stop words). If float, the parameter represents a proportion of documents, integer absolute counts. This parameter is ignored if vocabulary is not None.\n",
    "\n",
    "**`min_df`**` : float in range [0.0, 1.0] or int, default=1`<br>\n",
    "When building the vocabulary ignore terms that have a document frequency strictly lower than the given threshold. This value is also called cut-off in the literature. If float, the parameter represents a proportion of documents, integer absolute counts. This parameter is ignored if vocabulary is not None."
   ]
  },
  {
   "cell_type": "code",
   "execution_count": 27,
   "id": "67332e3a",
   "metadata": {},
   "outputs": [],
   "source": [
    "cv = CountVectorizer(max_df=0.95, min_df=2, stop_words='english')"
   ]
  },
  {
   "cell_type": "code",
   "execution_count": 28,
   "id": "0b3e69f9",
   "metadata": {},
   "outputs": [],
   "source": [
    "dtm = cv.fit_transform(text_data['text'])"
   ]
  },
  {
   "cell_type": "code",
   "execution_count": 29,
   "id": "70932525",
   "metadata": {},
   "outputs": [
    {
     "data": {
      "text/plain": [
       "<1050x11620 sparse matrix of type '<class 'numpy.int64'>'\n",
       "\twith 250434 stored elements in Compressed Sparse Row format>"
      ]
     },
     "execution_count": 29,
     "metadata": {},
     "output_type": "execute_result"
    }
   ],
   "source": [
    "dtm"
   ]
  },
  {
   "cell_type": "markdown",
   "id": "65e2e61a",
   "metadata": {},
   "source": [
    "## LDA :Latent Dirichlet Allocation"
   ]
  },
  {
   "cell_type": "code",
   "execution_count": 30,
   "id": "91a5b054",
   "metadata": {},
   "outputs": [],
   "source": [
    "from sklearn.decomposition import LatentDirichletAllocation"
   ]
  },
  {
   "cell_type": "code",
   "execution_count": 31,
   "id": "ea12a766",
   "metadata": {},
   "outputs": [],
   "source": [
    "LDA = LatentDirichletAllocation(n_components=7,random_state=42)"
   ]
  },
  {
   "cell_type": "code",
   "execution_count": 32,
   "id": "f9afdff1",
   "metadata": {},
   "outputs": [
    {
     "data": {
      "text/html": [
       "<style>#sk-container-id-2 {color: black;background-color: white;}#sk-container-id-2 pre{padding: 0;}#sk-container-id-2 div.sk-toggleable {background-color: white;}#sk-container-id-2 label.sk-toggleable__label {cursor: pointer;display: block;width: 100%;margin-bottom: 0;padding: 0.3em;box-sizing: border-box;text-align: center;}#sk-container-id-2 label.sk-toggleable__label-arrow:before {content: \"▸\";float: left;margin-right: 0.25em;color: #696969;}#sk-container-id-2 label.sk-toggleable__label-arrow:hover:before {color: black;}#sk-container-id-2 div.sk-estimator:hover label.sk-toggleable__label-arrow:before {color: black;}#sk-container-id-2 div.sk-toggleable__content {max-height: 0;max-width: 0;overflow: hidden;text-align: left;background-color: #f0f8ff;}#sk-container-id-2 div.sk-toggleable__content pre {margin: 0.2em;color: black;border-radius: 0.25em;background-color: #f0f8ff;}#sk-container-id-2 input.sk-toggleable__control:checked~div.sk-toggleable__content {max-height: 200px;max-width: 100%;overflow: auto;}#sk-container-id-2 input.sk-toggleable__control:checked~label.sk-toggleable__label-arrow:before {content: \"▾\";}#sk-container-id-2 div.sk-estimator input.sk-toggleable__control:checked~label.sk-toggleable__label {background-color: #d4ebff;}#sk-container-id-2 div.sk-label input.sk-toggleable__control:checked~label.sk-toggleable__label {background-color: #d4ebff;}#sk-container-id-2 input.sk-hidden--visually {border: 0;clip: rect(1px 1px 1px 1px);clip: rect(1px, 1px, 1px, 1px);height: 1px;margin: -1px;overflow: hidden;padding: 0;position: absolute;width: 1px;}#sk-container-id-2 div.sk-estimator {font-family: monospace;background-color: #f0f8ff;border: 1px dotted black;border-radius: 0.25em;box-sizing: border-box;margin-bottom: 0.5em;}#sk-container-id-2 div.sk-estimator:hover {background-color: #d4ebff;}#sk-container-id-2 div.sk-parallel-item::after {content: \"\";width: 100%;border-bottom: 1px solid gray;flex-grow: 1;}#sk-container-id-2 div.sk-label:hover label.sk-toggleable__label {background-color: #d4ebff;}#sk-container-id-2 div.sk-serial::before {content: \"\";position: absolute;border-left: 1px solid gray;box-sizing: border-box;top: 0;bottom: 0;left: 50%;z-index: 0;}#sk-container-id-2 div.sk-serial {display: flex;flex-direction: column;align-items: center;background-color: white;padding-right: 0.2em;padding-left: 0.2em;position: relative;}#sk-container-id-2 div.sk-item {position: relative;z-index: 1;}#sk-container-id-2 div.sk-parallel {display: flex;align-items: stretch;justify-content: center;background-color: white;position: relative;}#sk-container-id-2 div.sk-item::before, #sk-container-id-2 div.sk-parallel-item::before {content: \"\";position: absolute;border-left: 1px solid gray;box-sizing: border-box;top: 0;bottom: 0;left: 50%;z-index: -1;}#sk-container-id-2 div.sk-parallel-item {display: flex;flex-direction: column;z-index: 1;position: relative;background-color: white;}#sk-container-id-2 div.sk-parallel-item:first-child::after {align-self: flex-end;width: 50%;}#sk-container-id-2 div.sk-parallel-item:last-child::after {align-self: flex-start;width: 50%;}#sk-container-id-2 div.sk-parallel-item:only-child::after {width: 0;}#sk-container-id-2 div.sk-dashed-wrapped {border: 1px dashed gray;margin: 0 0.4em 0.5em 0.4em;box-sizing: border-box;padding-bottom: 0.4em;background-color: white;}#sk-container-id-2 div.sk-label label {font-family: monospace;font-weight: bold;display: inline-block;line-height: 1.2em;}#sk-container-id-2 div.sk-label-container {text-align: center;}#sk-container-id-2 div.sk-container {/* jupyter's `normalize.less` sets `[hidden] { display: none; }` but bootstrap.min.css set `[hidden] { display: none !important; }` so we also need the `!important` here to be able to override the default hidden behavior on the sphinx rendered scikit-learn.org. See: https://github.com/scikit-learn/scikit-learn/issues/21755 */display: inline-block !important;position: relative;}#sk-container-id-2 div.sk-text-repr-fallback {display: none;}</style><div id=\"sk-container-id-2\" class=\"sk-top-container\"><div class=\"sk-text-repr-fallback\"><pre>LatentDirichletAllocation(n_components=7, random_state=42)</pre><b>In a Jupyter environment, please rerun this cell to show the HTML representation or trust the notebook. <br />On GitHub, the HTML representation is unable to render, please try loading this page with nbviewer.org.</b></div><div class=\"sk-container\" hidden><div class=\"sk-item\"><div class=\"sk-estimator sk-toggleable\"><input class=\"sk-toggleable__control sk-hidden--visually\" id=\"sk-estimator-id-2\" type=\"checkbox\" checked><label for=\"sk-estimator-id-2\" class=\"sk-toggleable__label sk-toggleable__label-arrow\">LatentDirichletAllocation</label><div class=\"sk-toggleable__content\"><pre>LatentDirichletAllocation(n_components=7, random_state=42)</pre></div></div></div></div></div>"
      ],
      "text/plain": [
       "LatentDirichletAllocation(n_components=7, random_state=42)"
      ]
     },
     "execution_count": 32,
     "metadata": {},
     "output_type": "execute_result"
    }
   ],
   "source": [
    "LDA.fit(dtm)"
   ]
  },
  {
   "cell_type": "markdown",
   "id": "1e755226",
   "metadata": {},
   "source": [
    "## Showing Stored Words"
   ]
  },
  {
   "cell_type": "code",
   "execution_count": 33,
   "id": "28f1acf5",
   "metadata": {},
   "outputs": [
    {
     "data": {
      "text/plain": [
       "11620"
      ]
     },
     "execution_count": 33,
     "metadata": {},
     "output_type": "execute_result"
    }
   ],
   "source": [
    "len(cv.get_feature_names_out())"
   ]
  },
  {
   "cell_type": "code",
   "execution_count": 34,
   "id": "f0b5d6f8",
   "metadata": {},
   "outputs": [
    {
     "data": {
      "text/plain": [
       "7"
      ]
     },
     "execution_count": 34,
     "metadata": {},
     "output_type": "execute_result"
    }
   ],
   "source": [
    "len(LDA.components_)"
   ]
  },
  {
   "cell_type": "code",
   "execution_count": 35,
   "id": "5aa01916",
   "metadata": {},
   "outputs": [
    {
     "name": "stdout",
     "output_type": "stream",
     "text": [
      "THE TOP 15 WORDS FOR TOPIC #0\n",
      "['management', 'technical', 'help', 'interview', 'important', 'round', 'software', 'teams', 'development', 'questions', 'project', 'time', 'product', 'work', 'team']\n",
      "\n",
      "\n",
      "THE TOP 15 WORDS FOR TOPIC #1\n",
      "['tools', 'cloud', 'code', 'ensure', 'process', 'user', 'access', 'data', 'development', 'tests', 'application', 'software', 'security', 'test', 'testing']\n",
      "\n",
      "\n",
      "THE TOP 15 WORDS FOR TOPIC #2\n",
      "['service', 'web', 'applications', 'code', 'used', 'file', 'need', 'dzone', 'aws', 'create', 'database', 'application', 'using', 'use', 'data']\n",
      "\n",
      "\n",
      "THE TOP 15 WORDS FOR TOPIC #3\n",
      "['information', 'consumer', 'http', 'service', 'client', 'services', 'income', 'public', 'private', 'used', 'server', 'azure', 'goods', 'key', 'message']\n",
      "\n",
      "\n",
      "THE TOP 15 WORDS FOR TOPIC #4\n",
      "['function', 'string', 'approach', 'time', 'elements', 'number', 'output', 'value', 'learning', 'code', 'use', 'example', 'array', 'using', 'used']\n",
      "\n",
      "\n",
      "THE TOP 15 WORDS FOR TOPIC #5\n",
      "['platform', 'technology', 'systems', 'like', 'need', 'applications', 'use', 'developers', 'real', 'software', 'development', 'business', 'time', 'cloud', 'data']\n",
      "\n",
      "\n",
      "THE TOP 15 WORDS FOR TOPIC #6\n",
      "['create', 'times', 'using', 'api', 'like', 'ai', 'chatgpt', 'software', 'language', 'developers', 'use', 'new', 'class', 'java', 'code']\n",
      "\n",
      "\n"
     ]
    }
   ],
   "source": [
    "for index,topic in enumerate(LDA.components_):\n",
    "    print(f'THE TOP 15 WORDS FOR TOPIC #{index}')\n",
    "    print([cv.get_feature_names_out()[i] for i in topic.argsort()[-15:]])\n",
    "    print('\\n')"
   ]
  },
  {
   "cell_type": "markdown",
   "id": "f6515f89",
   "metadata": {},
   "source": [
    "### Attaching Discovered Topic Labels to Original Articles"
   ]
  },
  {
   "cell_type": "code",
   "execution_count": 36,
   "id": "a1094ca1",
   "metadata": {},
   "outputs": [],
   "source": [
    "topic_results = LDA.transform(dtm)"
   ]
  },
  {
   "cell_type": "code",
   "execution_count": 37,
   "id": "99cc4a26",
   "metadata": {},
   "outputs": [
    {
     "data": {
      "text/plain": [
       "(1050, 7)"
      ]
     },
     "execution_count": 37,
     "metadata": {},
     "output_type": "execute_result"
    }
   ],
   "source": [
    "topic_results.shape"
   ]
  },
  {
   "cell_type": "markdown",
   "id": "1e0d8e5e",
   "metadata": {},
   "source": [
    "### Combining with Original Data"
   ]
  },
  {
   "cell_type": "code",
   "execution_count": 38,
   "id": "b8272e1c",
   "metadata": {},
   "outputs": [],
   "source": [
    "text_data['Topic'] = topic_results.argmax(axis=1)"
   ]
  },
  {
   "cell_type": "code",
   "execution_count": 41,
   "id": "2428558c",
   "metadata": {},
   "outputs": [
    {
     "data": {
      "text/html": [
       "<div>\n",
       "<style scoped>\n",
       "    .dataframe tbody tr th:only-of-type {\n",
       "        vertical-align: middle;\n",
       "    }\n",
       "\n",
       "    .dataframe tbody tr th {\n",
       "        vertical-align: top;\n",
       "    }\n",
       "\n",
       "    .dataframe thead th {\n",
       "        text-align: right;\n",
       "    }\n",
       "</style>\n",
       "<table border=\"1\" class=\"dataframe\">\n",
       "  <thead>\n",
       "    <tr style=\"text-align: right;\">\n",
       "      <th></th>\n",
       "      <th>header_title</th>\n",
       "      <th>date</th>\n",
       "      <th>text</th>\n",
       "      <th>summary</th>\n",
       "      <th>url</th>\n",
       "      <th>Topic</th>\n",
       "    </tr>\n",
       "  </thead>\n",
       "  <tbody>\n",
       "    <tr>\n",
       "      <th>1030</th>\n",
       "      <td>Speed – and other stuff – drives the need for ...</td>\n",
       "      <td>Wed, 22 Feb 2023 04:42:41 +0000</td>\n",
       "      <td>It started with working from home. That’s what...</td>\n",
       "      <td>NaN</td>\n",
       "      <td>https://sdtimes.com/ai-testing/speed-and-other...</td>\n",
       "      <td>5</td>\n",
       "    </tr>\n",
       "    <tr>\n",
       "      <th>1031</th>\n",
       "      <td>Talend Winter ‘23 release introduces cloud mig...</td>\n",
       "      <td>Tue, 28 Feb 2023 19:50:18 +0000</td>\n",
       "      <td>Data integration company Talend has announced ...</td>\n",
       "      <td>NaN</td>\n",
       "      <td>https://sdtimes.com/data/talend-winter-23-rele...</td>\n",
       "      <td>5</td>\n",
       "    </tr>\n",
       "    <tr>\n",
       "      <th>1032</th>\n",
       "      <td>Temporal Investors Expand Funding with $75M Round</td>\n",
       "      <td>Tue, 28 Feb 2023 20:51:35 +0000</td>\n",
       "      <td>Temporal, the leader in durable execution syst...</td>\n",
       "      <td>NaN</td>\n",
       "      <td>https://sdtimes.com/temporal-investors-expand-...</td>\n",
       "      <td>5</td>\n",
       "    </tr>\n",
       "    <tr>\n",
       "      <th>1033</th>\n",
       "      <td>The first developer preview of Android 14 now ...</td>\n",
       "      <td>Wed, 08 Feb 2023 19:26:28 +0000</td>\n",
       "      <td>The Android development team today announced t...</td>\n",
       "      <td>NaN</td>\n",
       "      <td>https://sdtimes.com/software-development/the-f...</td>\n",
       "      <td>6</td>\n",
       "    </tr>\n",
       "    <tr>\n",
       "      <th>1034</th>\n",
       "      <td>The latest in generative AI: OpenAI releases A...</td>\n",
       "      <td>Wed, 08 Mar 2023 19:11:44 +0000</td>\n",
       "      <td>ChatGPT, and other generative AIs, have contin...</td>\n",
       "      <td>NaN</td>\n",
       "      <td>https://sdtimes.com/ai/the-latest-in-generativ...</td>\n",
       "      <td>6</td>\n",
       "    </tr>\n",
       "    <tr>\n",
       "      <th>1035</th>\n",
       "      <td>The Layers and Phases of Effective Digital Tra...</td>\n",
       "      <td>Mon, 06 Feb 2023 20:18:30 +0000</td>\n",
       "      <td>Technology is a tool, not a strategy. When a c...</td>\n",
       "      <td>NaN</td>\n",
       "      <td>https://sdtimes.com/cloud/the-layers-and-phase...</td>\n",
       "      <td>5</td>\n",
       "    </tr>\n",
       "    <tr>\n",
       "      <th>1036</th>\n",
       "      <td>The open source projects Grafana Phlare and Py...</td>\n",
       "      <td>Wed, 15 Mar 2023 15:21:22 +0000</td>\n",
       "      <td>Grafana Labs, the company behind the worldâs...</td>\n",
       "      <td>NaN</td>\n",
       "      <td>https://sdtimes.com/the-open-source-projects-g...</td>\n",
       "      <td>5</td>\n",
       "    </tr>\n",
       "    <tr>\n",
       "      <th>1037</th>\n",
       "      <td>The recipients of the 2022 Free Software Award...</td>\n",
       "      <td>Mon, 20 Mar 2023 20:11:35 +0000</td>\n",
       "      <td>Eli Zaretskii, Tad (SkewedZepplin), and GNU Ja...</td>\n",
       "      <td>NaN</td>\n",
       "      <td>https://sdtimes.com/software-development/the-r...</td>\n",
       "      <td>6</td>\n",
       "    </tr>\n",
       "    <tr>\n",
       "      <th>1038</th>\n",
       "      <td>Time to hide your API</td>\n",
       "      <td>Wed, 01 Feb 2023 16:31:35 +0000</td>\n",
       "      <td>The need for robust API security is growing ra...</td>\n",
       "      <td>NaN</td>\n",
       "      <td>https://sdtimes.com/security/time-to-hide-your...</td>\n",
       "      <td>5</td>\n",
       "    </tr>\n",
       "    <tr>\n",
       "      <th>1039</th>\n",
       "      <td>Tricentis extends Testim platform to mobile de...</td>\n",
       "      <td>Fri, 17 Feb 2023 17:30:59 +0000</td>\n",
       "      <td>Tricentis is attempting to meet the growing de...</td>\n",
       "      <td>NaN</td>\n",
       "      <td>https://sdtimes.com/test/tricentis-extends-tes...</td>\n",
       "      <td>1</td>\n",
       "    </tr>\n",
       "    <tr>\n",
       "      <th>1040</th>\n",
       "      <td>TypeScript 5.0 implements new ECMAScript “deco...</td>\n",
       "      <td>Mon, 20 Mar 2023 15:25:46 +0000</td>\n",
       "      <td>Microsoft has officially released the latest v...</td>\n",
       "      <td>NaN</td>\n",
       "      <td>https://sdtimes.com/microsoft/typescript-5-0-i...</td>\n",
       "      <td>6</td>\n",
       "    </tr>\n",
       "    <tr>\n",
       "      <th>1041</th>\n",
       "      <td>Visual Studio 2022 17.5 now available</td>\n",
       "      <td>Wed, 22 Feb 2023 16:27:34 +0000</td>\n",
       "      <td>Microsoft incorporated a number of features in...</td>\n",
       "      <td>NaN</td>\n",
       "      <td>https://sdtimes.com/microsoft/visual-studio-20...</td>\n",
       "      <td>6</td>\n",
       "    </tr>\n",
       "    <tr>\n",
       "      <th>1042</th>\n",
       "      <td>Web 3: New scams for new kids on the blockchain</td>\n",
       "      <td>Wed, 08 Feb 2023 17:27:11 +0000</td>\n",
       "      <td>Over the last 5 years, galaxy-brained folks ha...</td>\n",
       "      <td>NaN</td>\n",
       "      <td>https://sdtimes.com/software-development/web-3...</td>\n",
       "      <td>5</td>\n",
       "    </tr>\n",
       "    <tr>\n",
       "      <th>1043</th>\n",
       "      <td>What the National Cybersecurity Strategy Means...</td>\n",
       "      <td>Fri, 03 Mar 2023 18:40:54 +0000</td>\n",
       "      <td>The National Cybersecurity Strategy released b...</td>\n",
       "      <td>NaN</td>\n",
       "      <td>https://sdtimes.com/security/what-the-national...</td>\n",
       "      <td>6</td>\n",
       "    </tr>\n",
       "    <tr>\n",
       "      <th>1044</th>\n",
       "      <td>White House reveals new plan for how U.S. addr...</td>\n",
       "      <td>Thu, 02 Mar 2023 17:34:49 +0000</td>\n",
       "      <td>The White House has released a new plan for en...</td>\n",
       "      <td>NaN</td>\n",
       "      <td>https://sdtimes.com/security/white-house-revea...</td>\n",
       "      <td>1</td>\n",
       "    </tr>\n",
       "    <tr>\n",
       "      <th>1045</th>\n",
       "      <td>Why Developer Success leads to Business Success</td>\n",
       "      <td>Fri, 17 Mar 2023 17:23:39 +0000</td>\n",
       "      <td>In todayâs tech landscape, engineering talen...</td>\n",
       "      <td>NaN</td>\n",
       "      <td>https://sdtimes.com/software-development/why-d...</td>\n",
       "      <td>0</td>\n",
       "    </tr>\n",
       "    <tr>\n",
       "      <th>1046</th>\n",
       "      <td>Why the world needs OpenTelemetry</td>\n",
       "      <td>Thu, 02 Mar 2023 18:19:09 +0000</td>\n",
       "      <td>Observability has really taken off in the past...</td>\n",
       "      <td>NaN</td>\n",
       "      <td>https://sdtimes.com/monitor/why-the-world-need...</td>\n",
       "      <td>5</td>\n",
       "    </tr>\n",
       "    <tr>\n",
       "      <th>1047</th>\n",
       "      <td>With interest in cloud repatriation on the ris...</td>\n",
       "      <td>Fri, 10 Feb 2023 17:56:18 +0000</td>\n",
       "      <td>Over the past decade or so, the public cloudÂ ...</td>\n",
       "      <td>NaN</td>\n",
       "      <td>https://sdtimes.com/software-development/with-...</td>\n",
       "      <td>5</td>\n",
       "    </tr>\n",
       "    <tr>\n",
       "      <th>1048</th>\n",
       "      <td>Zenhub Raises $10M in Series A Funding Round</td>\n",
       "      <td>Thu, 09 Mar 2023 15:05:57 +0000</td>\n",
       "      <td>Zenhub, the leading project management solutio...</td>\n",
       "      <td>NaN</td>\n",
       "      <td>https://sdtimes.com/zenhub-raises-10m-in-serie...</td>\n",
       "      <td>0</td>\n",
       "    </tr>\n",
       "    <tr>\n",
       "      <th>1049</th>\n",
       "      <td>Zero-Copy Integration standard made available ...</td>\n",
       "      <td>Wed, 08 Feb 2023 20:32:41 +0000</td>\n",
       "      <td>The Digital Governance Council and Data Collab...</td>\n",
       "      <td>NaN</td>\n",
       "      <td>https://sdtimes.com/data/zero-copy-integration...</td>\n",
       "      <td>5</td>\n",
       "    </tr>\n",
       "  </tbody>\n",
       "</table>\n",
       "</div>"
      ],
      "text/plain": [
       "                                           header_title  \\\n",
       "1030  Speed – and other stuff – drives the need for ...   \n",
       "1031  Talend Winter ‘23 release introduces cloud mig...   \n",
       "1032  Temporal Investors Expand Funding with $75M Round   \n",
       "1033  The first developer preview of Android 14 now ...   \n",
       "1034  The latest in generative AI: OpenAI releases A...   \n",
       "1035  The Layers and Phases of Effective Digital Tra...   \n",
       "1036  The open source projects Grafana Phlare and Py...   \n",
       "1037  The recipients of the 2022 Free Software Award...   \n",
       "1038                              Time to hide your API   \n",
       "1039  Tricentis extends Testim platform to mobile de...   \n",
       "1040  TypeScript 5.0 implements new ECMAScript “deco...   \n",
       "1041              Visual Studio 2022 17.5 now available   \n",
       "1042    Web 3: New scams for new kids on the blockchain   \n",
       "1043  What the National Cybersecurity Strategy Means...   \n",
       "1044  White House reveals new plan for how U.S. addr...   \n",
       "1045    Why Developer Success leads to Business Success   \n",
       "1046                  Why the world needs OpenTelemetry   \n",
       "1047  With interest in cloud repatriation on the ris...   \n",
       "1048       Zenhub Raises $10M in Series A Funding Round   \n",
       "1049  Zero-Copy Integration standard made available ...   \n",
       "\n",
       "                                 date  \\\n",
       "1030  Wed, 22 Feb 2023 04:42:41 +0000   \n",
       "1031  Tue, 28 Feb 2023 19:50:18 +0000   \n",
       "1032  Tue, 28 Feb 2023 20:51:35 +0000   \n",
       "1033  Wed, 08 Feb 2023 19:26:28 +0000   \n",
       "1034  Wed, 08 Mar 2023 19:11:44 +0000   \n",
       "1035  Mon, 06 Feb 2023 20:18:30 +0000   \n",
       "1036  Wed, 15 Mar 2023 15:21:22 +0000   \n",
       "1037  Mon, 20 Mar 2023 20:11:35 +0000   \n",
       "1038  Wed, 01 Feb 2023 16:31:35 +0000   \n",
       "1039  Fri, 17 Feb 2023 17:30:59 +0000   \n",
       "1040  Mon, 20 Mar 2023 15:25:46 +0000   \n",
       "1041  Wed, 22 Feb 2023 16:27:34 +0000   \n",
       "1042  Wed, 08 Feb 2023 17:27:11 +0000   \n",
       "1043  Fri, 03 Mar 2023 18:40:54 +0000   \n",
       "1044  Thu, 02 Mar 2023 17:34:49 +0000   \n",
       "1045  Fri, 17 Mar 2023 17:23:39 +0000   \n",
       "1046  Thu, 02 Mar 2023 18:19:09 +0000   \n",
       "1047  Fri, 10 Feb 2023 17:56:18 +0000   \n",
       "1048  Thu, 09 Mar 2023 15:05:57 +0000   \n",
       "1049  Wed, 08 Feb 2023 20:32:41 +0000   \n",
       "\n",
       "                                                   text summary  \\\n",
       "1030  It started with working from home. That’s what...     NaN   \n",
       "1031  Data integration company Talend has announced ...     NaN   \n",
       "1032  Temporal, the leader in durable execution syst...     NaN   \n",
       "1033  The Android development team today announced t...     NaN   \n",
       "1034  ChatGPT, and other generative AIs, have contin...     NaN   \n",
       "1035  Technology is a tool, not a strategy. When a c...     NaN   \n",
       "1036  Grafana Labs, the company behind the worldâs...     NaN   \n",
       "1037  Eli Zaretskii, Tad (SkewedZepplin), and GNU Ja...     NaN   \n",
       "1038  The need for robust API security is growing ra...     NaN   \n",
       "1039  Tricentis is attempting to meet the growing de...     NaN   \n",
       "1040  Microsoft has officially released the latest v...     NaN   \n",
       "1041  Microsoft incorporated a number of features in...     NaN   \n",
       "1042  Over the last 5 years, galaxy-brained folks ha...     NaN   \n",
       "1043  The National Cybersecurity Strategy released b...     NaN   \n",
       "1044  The White House has released a new plan for en...     NaN   \n",
       "1045  In todayâs tech landscape, engineering talen...     NaN   \n",
       "1046  Observability has really taken off in the past...     NaN   \n",
       "1047  Over the past decade or so, the public cloudÂ ...     NaN   \n",
       "1048  Zenhub, the leading project management solutio...     NaN   \n",
       "1049  The Digital Governance Council and Data Collab...     NaN   \n",
       "\n",
       "                                                    url  Topic  \n",
       "1030  https://sdtimes.com/ai-testing/speed-and-other...      5  \n",
       "1031  https://sdtimes.com/data/talend-winter-23-rele...      5  \n",
       "1032  https://sdtimes.com/temporal-investors-expand-...      5  \n",
       "1033  https://sdtimes.com/software-development/the-f...      6  \n",
       "1034  https://sdtimes.com/ai/the-latest-in-generativ...      6  \n",
       "1035  https://sdtimes.com/cloud/the-layers-and-phase...      5  \n",
       "1036  https://sdtimes.com/the-open-source-projects-g...      5  \n",
       "1037  https://sdtimes.com/software-development/the-r...      6  \n",
       "1038  https://sdtimes.com/security/time-to-hide-your...      5  \n",
       "1039  https://sdtimes.com/test/tricentis-extends-tes...      1  \n",
       "1040  https://sdtimes.com/microsoft/typescript-5-0-i...      6  \n",
       "1041  https://sdtimes.com/microsoft/visual-studio-20...      6  \n",
       "1042  https://sdtimes.com/software-development/web-3...      5  \n",
       "1043  https://sdtimes.com/security/what-the-national...      6  \n",
       "1044  https://sdtimes.com/security/white-house-revea...      1  \n",
       "1045  https://sdtimes.com/software-development/why-d...      0  \n",
       "1046  https://sdtimes.com/monitor/why-the-world-need...      5  \n",
       "1047  https://sdtimes.com/software-development/with-...      5  \n",
       "1048  https://sdtimes.com/zenhub-raises-10m-in-serie...      0  \n",
       "1049  https://sdtimes.com/data/zero-copy-integration...      5  "
      ]
     },
     "execution_count": 41,
     "metadata": {},
     "output_type": "execute_result"
    }
   ],
   "source": [
    "text_data.tail(20)"
   ]
  },
  {
   "cell_type": "code",
   "execution_count": null,
   "id": "c2140847",
   "metadata": {},
   "outputs": [],
   "source": []
  },
  {
   "cell_type": "code",
   "execution_count": null,
   "id": "59aaa57f",
   "metadata": {},
   "outputs": [],
   "source": []
  }
 ],
 "metadata": {
  "kernelspec": {
   "display_name": "Python 3 (ipykernel)",
   "language": "python",
   "name": "python3"
  },
  "language_info": {
   "codemirror_mode": {
    "name": "ipython",
    "version": 3
   },
   "file_extension": ".py",
   "mimetype": "text/x-python",
   "name": "python",
   "nbconvert_exporter": "python",
   "pygments_lexer": "ipython3",
   "version": "3.11.3"
  }
 },
 "nbformat": 4,
 "nbformat_minor": 5
}
