{
 "cells": [
  {
   "cell_type": "code",
   "execution_count": 1,
   "id": "410c81c1",
   "metadata": {},
   "outputs": [],
   "source": [
    "import re\n",
    "import math\n",
    "import numpy as np\n",
    "from sentence_transformers import SentenceTransformer\n",
    "import matplotlib.pyplot as plt"
   ]
  },
  {
   "cell_type": "code",
   "execution_count": 2,
   "id": "cba1354e",
   "metadata": {},
   "outputs": [],
   "source": [
    "def preprocess_text(text, remPunct = True):\n",
    "    # Preprocess the text by converting to lowercase and removing punctuation\n",
    "    text = text.lower()\n",
    "    if remPunct :\n",
    "        text = re.sub(r'[^\\w\\s]', '', text)\n",
    "    return text"
   ]
  },
  {
   "cell_type": "markdown",
   "id": "78e928a2",
   "metadata": {},
   "source": [
    "# Method 1: Word Frequency"
   ]
  },
  {
   "cell_type": "code",
   "execution_count": 3,
   "id": "78cf3fe1",
   "metadata": {},
   "outputs": [],
   "source": [
    "def calculate_cohesion_gaps(text, w):\n",
    "    # Calculate the cohesion scores for each window of size w\n",
    "    # Cohesion score = difference in word frequencies between two adjacent windows\n",
    "\n",
    "    word_freqs = {}\n",
    "    words = text.split()\n",
    "\n",
    "    for i in range(len(words) - w + 1):\n",
    "        window = words[i:i + w]\n",
    "        word_freq = sum(window.count(word) for word in window)  # Frequency of words in the window\n",
    "        word_freqs[i] = word_freq\n",
    "\n",
    "    cohesion_gaps = {}\n",
    "    for i in range(len(words) - w):\n",
    "        if i == 0:\n",
    "            cohesion_gaps[i] = 0\n",
    "        else:\n",
    "            cohesion_gaps[i] = abs(word_freqs[i] - word_freqs[i - 1])\n",
    "\n",
    "    return cohesion_gaps"
   ]
  },
  {
   "cell_type": "code",
   "execution_count": 4,
   "id": "07c7a950",
   "metadata": {},
   "outputs": [],
   "source": [
    "def calculate_cohesion_score(cohesion_gaps, k):\n",
    "    # Calculate the mean of the top k% cohesion gaps\n",
    "    sorted_gaps = sorted(cohesion_gaps.values(), reverse=True)\n",
    "    k_percentile = int(math.ceil(k * len(sorted_gaps) / 100))\n",
    "\n",
    "    return sum(sorted_gaps[:k_percentile]) / k_percentile"
   ]
  },
  {
   "cell_type": "code",
   "execution_count": 5,
   "id": "4a68bd1a",
   "metadata": {},
   "outputs": [],
   "source": [
    "def topic_segmentation(text, w=100, k=10, s=20):\n",
    "    # Perform text segmentation using TextTiling algorithm\n",
    "\n",
    "    text = preprocess_text(text)\n",
    "    words = text.split()\n",
    "\n",
    "    # Step 1: Calculate the cohesion scores for each window of size w\n",
    "    cohesion_gaps = calculate_cohesion_gaps(text, w)\n",
    "\n",
    "    # Step 2: Calculate the mean of the top k% cohesion gaps\n",
    "    cohesion_score = calculate_cohesion_score(cohesion_gaps, k)\n",
    "\n",
    "    # Step 3: Identify potential boundaries using sentence-based segmentation\n",
    "    boundaries = []\n",
    "    current_boundary = 0\n",
    "\n",
    "    for i in range(len(words) - w):\n",
    "        if abs(cohesion_gaps[i] - cohesion_score) > cohesion_score / 2:\n",
    "            if i - current_boundary > 2 * s:  # Ensure a minimum gap between boundaries\n",
    "                boundaries.append(i)\n",
    "                current_boundary = i\n",
    "\n",
    "    # Step 4: Segment the text into topics based on the identified boundaries\n",
    "    topics = []\n",
    "    start = 0\n",
    "    for boundary in boundaries:\n",
    "        topics.append(' '.join(words[start:boundary]))\n",
    "        start = boundary\n",
    "\n",
    "    topics.append(' '.join(words[start:]))\n",
    "\n",
    "    return topics"
   ]
  },
  {
   "cell_type": "code",
   "execution_count": 6,
   "id": "34647dca",
   "metadata": {},
   "outputs": [
    {
     "name": "stdout",
     "output_type": "stream",
     "text": [
      "Topic 1:\n",
      "text segmentation also known as text splitting is the process of dividing a continuous text into segments or sections based on some patterns or criteria these segments are intended to represent different topics or themes present in the text text segmentation is a\n",
      "-----------\n",
      "\n",
      "Topic 2:\n",
      "common technique used in natural language processing nlp and information retrieval tasks there are several methods and algorithms for text segmentation one such method is called texttiling texttiling is a technique developed by marti hearst in 1994 it is mainly used for segmenting longer texts such as essays articles or documents texttiling relies on finding patterns in word frequencies and cooccurrences to identify boundaries between different topics in this example we will implement a basic python code to perform topic segmentation without using nltks texttilingtokenizer instead we will implement the segmentation from scratch based on the texttiling algorithm lets get started with the implementation\n",
      "-----------\n",
      "\n"
     ]
    }
   ],
   "source": [
    "sample_text = \"\"\"Text segmentation, also known as text splitting, is the process of dividing a continuous text into segments or sections based on some patterns or criteria. These segments are intended to represent different topics or themes present in the text. Text segmentation is a common technique used in natural language processing (NLP) and information retrieval tasks.\n",
    "There are several methods and algorithms for text segmentation. One such method is called TextTiling. TextTiling is a technique developed by Marti Hearst in 1994. It is mainly used for segmenting longer texts, such as essays, articles, or documents. TextTiling relies on finding patterns in word frequencies and co-occurrences to identify boundaries between different topics.\n",
    "In this example, we will implement a basic Python code to perform topic segmentation without using NLTK's TextTilingTokenizer. Instead, we will implement the segmentation from scratch based on the TextTiling algorithm.\n",
    "Let's get started with the implementation.\"\"\"\n",
    "\n",
    "segmented_topics = topic_segmentation(sample_text)\n",
    "for i, topic in enumerate(segmented_topics, start=1):\n",
    "    print(f\"Topic {i}:\")\n",
    "    print(topic.strip())\n",
    "    print(\"-----------\\n\")\n"
   ]
  },
  {
   "cell_type": "markdown",
   "id": "a38fa3af",
   "metadata": {},
   "source": [
    "# Method 2: Word frequency vectorizer with cosine similarity"
   ]
  },
  {
   "cell_type": "code",
   "execution_count": 7,
   "id": "a3be992e",
   "metadata": {},
   "outputs": [],
   "source": [
    "def calculate_cosine_similarity(sentence1, sentence2):\n",
    "    # Calculate cosine similarity between two sentences\n",
    "\n",
    "    def vectorize(sentence):\n",
    "        words = sentence.split()\n",
    "        word_freq = {word: words.count(word) for word in set(words)}\n",
    "        return word_freq\n",
    "\n",
    "    vec_sentence1 = vectorize(sentence1)\n",
    "    vec_sentence2 = vectorize(sentence2)\n",
    "\n",
    "    intersection = set(vec_sentence1.keys()) & set(vec_sentence2.keys())\n",
    "    dot_product = sum(vec_sentence1[word] * vec_sentence2[word] for word in intersection)\n",
    "\n",
    "    magnitude1 = math.sqrt(sum(vec_sentence1[word] ** 2 for word in vec_sentence1))\n",
    "    magnitude2 = math.sqrt(sum(vec_sentence2[word] ** 2 for word in vec_sentence2))\n",
    "    \n",
    "    if magnitude1 * magnitude2 == 0 :\n",
    "        return 0\n",
    "    else :\n",
    "        return dot_product / (magnitude1 * magnitude2)"
   ]
  },
  {
   "cell_type": "code",
   "execution_count": 8,
   "id": "f96114eb",
   "metadata": {},
   "outputs": [],
   "source": [
    "def calculate_cos_sentence_similarity(text):\n",
    "    # Calculate cosine similarity between adjacent sentences in the text\n",
    "\n",
    "    sentences = text.split('.')\n",
    "    sentence_similarity = []\n",
    "\n",
    "    for i in range(len(sentences) - 1):\n",
    "        similarity = calculate_cosine_similarity(sentences[i], sentences[i + 1])\n",
    "        sentence_similarity.append(similarity)\n",
    "\n",
    "    return sentence_similarity"
   ]
  },
  {
   "cell_type": "code",
   "execution_count": 10,
   "id": "beb74a91",
   "metadata": {},
   "outputs": [],
   "source": [
    "def topic_segmentation_sim(text, threshold=0.3):\n",
    "    # Perform text segmentation based on sentence similarity\n",
    "\n",
    "    text = preprocess_text(text, remPunct = False)\n",
    "\n",
    "    # Step 1: Calculate sentence similarity scores\n",
    "    sentence_similarity = calculate_cos_sentence_similarity(text)\n",
    "\n",
    "    # Step 2: Identify potential boundaries based on sentence similarity\n",
    "    boundaries = [0]\n",
    "\n",
    "    for i in range(1, len(sentence_similarity)):\n",
    "        if sentence_similarity[i] < threshold:\n",
    "            boundaries.append(i)\n",
    "\n",
    "    boundaries.append(len(sentence_similarity))\n",
    "\n",
    "    # Step 3: Segment the text into topics based on the identified boundaries\n",
    "    topics = []\n",
    "    for i in range(len(boundaries) - 1):\n",
    "        start = boundaries[i]\n",
    "        end = boundaries[i + 1]\n",
    "        topic_text = '.'.join(text.split('.')[start:end])\n",
    "        topics.append(topic_text)\n",
    "\n",
    "    return topics\n"
   ]
  },
  {
   "cell_type": "code",
   "execution_count": 13,
   "id": "06b80323",
   "metadata": {},
   "outputs": [
    {
     "name": "stdout",
     "output_type": "stream",
     "text": [
      "Topic 1:\n",
      "text segmentation, also known as text splitting, is the process of dividing a continuous text into segments or sections based on some patterns or criteria. these segments are intended to represent different topics or themes present in the text. text segmentation is a common technique used in natural language processing (nlp) and information retrieval tasks\n",
      "-----------\n",
      "\n",
      "Topic 2:\n",
      "there are several methods and algorithms for text segmentation. one such method is called texttiling\n",
      "-----------\n",
      "\n",
      "Topic 3:\n",
      "texttiling is a technique developed by marti hearst in 1994\n",
      "-----------\n",
      "\n",
      "Topic 4:\n",
      "it is mainly used for segmenting longer texts, such as essays, articles, or documents. texttiling relies on finding patterns in word frequencies and co-occurrences to identify boundaries between different topics.\n",
      "\n",
      "in this example, we will implement a basic python code to perform topic segmentation without using nltk's texttilingtokenizer. instead, we will implement the segmentation based on sentence similarity using cosine similarity measure\n",
      "-----------\n",
      "\n",
      "Topic 5:\n",
      "let's get started with the implementation\n",
      "-----------\n",
      "\n"
     ]
    }
   ],
   "source": [
    "sample_text = \"\"\"\n",
    "Text segmentation, also known as text splitting, is the process of dividing a continuous text into segments or sections based on some patterns or criteria. These segments are intended to represent different topics or themes present in the text. Text segmentation is a common technique used in natural language processing (NLP) and information retrieval tasks.\n",
    "\n",
    "There are several methods and algorithms for text segmentation. One such method is called TextTiling. TextTiling is a technique developed by Marti Hearst in 1994. It is mainly used for segmenting longer texts, such as essays, articles, or documents. TextTiling relies on finding patterns in word frequencies and co-occurrences to identify boundaries between different topics.\n",
    "\n",
    "In this example, we will implement a basic Python code to perform topic segmentation without using NLTK's TextTilingTokenizer. Instead, we will implement the segmentation based on sentence similarity using cosine similarity measure.\n",
    "\n",
    "Let's get started with the implementation.\n",
    "\"\"\"\n",
    "\n",
    "segmented_topics = topic_segmentation_sim(sample_text, threshold=0.1)\n",
    "for i, topic in enumerate(segmented_topics, start=1):\n",
    "    print(f\"Topic {i}:\")\n",
    "    print(topic.strip())\n",
    "    print(\"-----------\\n\")\n"
   ]
  },
  {
   "cell_type": "markdown",
   "id": "6eabfb00",
   "metadata": {},
   "source": [
    "# Method 3: Using Embedding Model"
   ]
  },
  {
   "cell_type": "code",
   "execution_count": 14,
   "id": "80b302de",
   "metadata": {},
   "outputs": [
    {
     "name": "stdout",
     "output_type": "stream",
     "text": [
      "Topic 1:\n",
      "text segmentation, also known as text splitting, is the process of dividing a continuous text into segments or sections based on some patterns or criteria. these segments are intended to represent different topics or themes present in the text. text segmentation is a common technique used in natural language processing (nlp) and information retrieval tasks\n",
      "-----------\n",
      "\n",
      "Topic 2:\n",
      "there are several methods and algorithms for text segmentation. one such method is called texttiling. texttiling is a technique developed by marti hearst in 1994\n",
      "-----------\n",
      "\n",
      "Topic 3:\n",
      "it is mainly used for segmenting longer texts, such as essays, articles, or documents. texttiling relies on finding patterns in word frequencies and co-occurrences to identify boundaries between different topics.\n",
      "\n",
      "in this example, we will implement a basic python code to perform topic segmentation without using nltk's texttilingtokenizer. instead, we will implement the segmentation based on sentence similarity using cosine similarity measure\n",
      "-----------\n",
      "\n",
      "Topic 4:\n",
      "let's get started with the implementation\n",
      "-----------\n",
      "\n"
     ]
    }
   ],
   "source": [
    "sample_text = \"\"\"\n",
    "Text segmentation, also known as text splitting, is the process of dividing a continuous text into segments or sections based on some patterns or criteria. These segments are intended to represent different topics or themes present in the text. Text segmentation is a common technique used in natural language processing (NLP) and information retrieval tasks.\n",
    "\n",
    "There are several methods and algorithms for text segmentation. One such method is called TextTiling. TextTiling is a technique developed by Marti Hearst in 1994. It is mainly used for segmenting longer texts, such as essays, articles, or documents. TextTiling relies on finding patterns in word frequencies and co-occurrences to identify boundaries between different topics.\n",
    "\n",
    "In this example, we will implement a basic Python code to perform topic segmentation without using NLTK's TextTilingTokenizer. Instead, we will implement the segmentation based on sentence similarity using cosine similarity measure.\n",
    "\n",
    "Let's get started with the implementation.\n",
    "\"\"\"\n",
    "\n",
    "segmented_topics = topic_segmentation_sim(sample_text, threshold=0.01)\n",
    "for i, topic in enumerate(segmented_topics, start=1):\n",
    "    print(f\"Topic {i}:\")\n",
    "    print(topic.strip())\n",
    "    print(\"-----------\\n\")"
   ]
  },
  {
   "cell_type": "code",
   "execution_count": 15,
   "id": "df9f180f",
   "metadata": {},
   "outputs": [],
   "source": [
    "def sentence_embed(sentences, model_name='paraphrase-MiniLM-L6-v2'):\n",
    "    # Load the SentenceTransformer model\n",
    "    model = SentenceTransformer(model_name)\n",
    "\n",
    "    # Get sentence embeddings using the model\n",
    "    embeddings = model.encode(sentences)\n",
    "\n",
    "    return embeddings\n"
   ]
  },
  {
   "cell_type": "code",
   "execution_count": null,
   "id": "a99ce885",
   "metadata": {},
   "outputs": [],
   "source": [
    "def calculate_sentence_similarity(embeddings):\n",
    "    # Calculate cosine similarity between adjacent sentence embeddings\n",
    "    similarities = []\n",
    "    for i in range(len(embeddings) - 1):\n",
    "        similarity = np.dot(embeddings[i], embeddings[i + 1]) / (np.linalg.norm(embeddings[i]) * np.linalg.norm(embeddings[i + 1]))\n",
    "        similarities.append(similarity)\n",
    "    \n",
    "    return similarities"
   ]
  },
  {
   "cell_type": "code",
   "execution_count": null,
   "id": "a34a0f20",
   "metadata": {},
   "outputs": [],
   "source": [
    "def topic_segmentation_embed(text, threshold=0.5):\n",
    "    # Perform text segmentation based on sentence embeddings\n",
    "\n",
    "    text = preprocess_text(text, remPunct = False)\n",
    "\n",
    "    # Step 1: Tokenize sentences\n",
    "    sentences = text.split('.')\n",
    "\n",
    "    # Step 2: Vectorize sentences using SentenceTransformer\n",
    "    embeddings = sentence_embed(sentences)\n",
    "\n",
    "    # Step 3: Calculate sentence similarity\n",
    "    sentence_similarity = calculate_sentence_similarity(embeddings)\n",
    "\n",
    "    # Step 4: Identify potential boundaries based on sentence similarity\n",
    "    boundaries = [0]\n",
    "\n",
    "    for i in range(1, len(sentence_similarity)):\n",
    "        if sentence_similarity[i] < threshold:\n",
    "            boundaries.append(i)\n",
    "\n",
    "    boundaries.append(len(sentence_similarity))\n",
    "\n",
    "    # Step 5: Segment the text into topics based on the identified boundaries\n",
    "    topics = []\n",
    "    for i in range(len(boundaries) - 1):\n",
    "        start = boundaries[i]\n",
    "        end = boundaries[i + 1]\n",
    "        topic_text = '.'.join(sentences[start:end])\n",
    "        topics.append(topic_text)\n",
    "\n",
    "    return topics"
   ]
  },
  {
   "cell_type": "code",
   "execution_count": 17,
   "id": "a57d488f",
   "metadata": {},
   "outputs": [
    {
     "name": "stdout",
     "output_type": "stream",
     "text": [
      "Topic 1:\n",
      "text segmentation, also known as text splitting, is the process of dividing a continuous text into segments or sections based on some patterns or criteria\n",
      "-----------\n",
      "\n",
      "Topic 2:\n",
      "these segments are intended to represent different topics or themes present in the text. text segmentation is a common technique used in natural language processing (nlp) and information retrieval tasks.\n",
      "\n",
      "there are several methods and algorithms for text segmentation. one such method is called texttiling. texttiling is a technique developed by marti hearst in 1994. it is mainly used for segmenting longer texts, such as essays, articles, or documents. texttiling relies on finding patterns in word frequencies and co-occurrences to identify boundaries between different topics.\n",
      "\n",
      "in this example, we will implement a basic python code to perform topic segmentation using sentencetransformer to vectorize sentences\n",
      "-----------\n",
      "\n",
      "Topic 3:\n",
      "sentencetransformer provides pre-trained models for sentence embeddings, which allow us to capture semantic meaning and similarity between sentences\n",
      "-----------\n",
      "\n",
      "Topic 4:\n",
      "let's get started with the implementation\n",
      "-----------\n",
      "\n"
     ]
    }
   ],
   "source": [
    "sample_text = \"\"\"\n",
    "Text segmentation, also known as text splitting, is the process of dividing a continuous text into segments or sections based on some patterns or criteria. These segments are intended to represent different topics or themes present in the text. Text segmentation is a common technique used in natural language processing (NLP) and information retrieval tasks.\n",
    "\n",
    "There are several methods and algorithms for text segmentation. One such method is called TextTiling. TextTiling is a technique developed by Marti Hearst in 1994. It is mainly used for segmenting longer texts, such as essays, articles, or documents. TextTiling relies on finding patterns in word frequencies and co-occurrences to identify boundaries between different topics.\n",
    "\n",
    "In this example, we will implement a basic Python code to perform topic segmentation using SentenceTransformer to vectorize sentences. SentenceTransformer provides pre-trained models for sentence embeddings, which allow us to capture semantic meaning and similarity between sentences.\n",
    "\n",
    "Let's get started with the implementation.\n",
    "\"\"\"\n",
    "\n",
    "segmented_topics = topic_segmentation_embed(sample_text, threshold=0.4)\n",
    "for i, topic in enumerate(segmented_topics, start=1):\n",
    "    print(f\"Topic {i}:\")\n",
    "    print(topic.strip())\n",
    "    print(\"-----------\\n\")\n"
   ]
  },
  {
   "cell_type": "code",
   "execution_count": 18,
   "id": "6b8d23d8",
   "metadata": {},
   "outputs": [
    {
     "data": {
      "text/plain": [
       "[<matplotlib.lines.Line2D at 0x1d2ed4ef550>]"
      ]
     },
     "execution_count": 18,
     "metadata": {},
     "output_type": "execute_result"
    },
    {
     "data": {
      "image/png": "[encoded data removed]",
      "text/plain": [
       "<Figure size 640x480 with 1 Axes>"
      ]
     },
     "metadata": {},
     "output_type": "display_data"
    }
   ],
   "source": [
    "threshold = []\n",
    "num_topics = []\n",
    "\n",
    "for i in range(20) :\n",
    "    thres = 0 + (i+1)/20.0\n",
    "    segmented_topics = topic_segmentation_embed(sample_text, threshold=thres)\n",
    "    threshold.append(thres)\n",
    "    num_topics.append(len(segmented_topics))\n",
    "    \n",
    "plt.plot(threshold, num_topics)"
   ]
  },
  {
   "cell_type": "code",
   "execution_count": 19,
   "id": "7e063fbe",
   "metadata": {},
   "outputs": [
    {
     "data": {
      "text/plain": [
       "[<matplotlib.lines.Line2D at 0x1d2e7d73d60>]"
      ]
     },
     "execution_count": 19,
     "metadata": {},
     "output_type": "execute_result"
    },
    {
     "data": {
      "image/png": "[encoded data removed]",
      "text/plain": [
       "<Figure size 640x480 with 1 Axes>"
      ]
     },
     "metadata": {},
     "output_type": "display_data"
    }
   ],
   "source": [
    "threshold = []\n",
    "num_topics = []\n",
    "\n",
    "for i in range(20) :\n",
    "    thres = 0 + (i+1)/20.0\n",
    "    segmented_topics = topic_segmentation_sim(sample_text, threshold=thres)\n",
    "    threshold.append(thres)\n",
    "    num_topics.append(len(segmented_topics))\n",
    "    \n",
    "plt.plot(threshold, num_topics)"
   ]
  },
  {
   "cell_type": "code",
   "execution_count": null,
   "id": "e9b3248d",
   "metadata": {},
   "outputs": [],
   "source": []
  }
 ],
 "metadata": {
  "kernelspec": {
   "display_name": "Python 3 (ipykernel)",
   "language": "python",
   "name": "python3"
  },
  "language_info": {
   "codemirror_mode": {
    "name": "ipython",
    "version": 3
   },
   "file_extension": ".py",
   "mimetype": "text/x-python",
   "name": "python",
   "nbconvert_exporter": "python",
   "pygments_lexer": "ipython3",
   "version": "3.9.9"
  }
 },
 "nbformat": 4,
 "nbformat_minor": 5
}
