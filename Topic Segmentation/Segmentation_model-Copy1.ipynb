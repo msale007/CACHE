{
 "cells": [
  {
   "cell_type": "code",
   "execution_count": 1,
   "id": "9e0e74e4",
   "metadata": {},
   "outputs": [],
   "source": [
    "import pandas as pd\n",
    "import numpy as np\n",
    "import os"
   ]
  },
  {
   "cell_type": "code",
   "execution_count": 2,
   "id": "1cf9656d",
   "metadata": {},
   "outputs": [
    {
     "name": "stdout",
     "output_type": "stream",
     "text": [
      "==========\n",
      "Santa Barbara -- `` The present recovery movement will gather steady momentum to lift the economy to a new historic peak by this autumn '' , Beryl W. Sprinkel , economist of Harris Trust & Savings Bank , Chicago , predicted at the closing session here Tuesday of Investment Bankers Assn. , California group , conference . \n",
      "Another speaker , William H. Draper , Jr. , former Under Secretary of the Army and now with the Palo Alto venture capital firm of Draper , Gaither & Anderson , urged the U.S. to `` throw down the gauntlet of battle to communism and tell Moscow bluntly we wo n't be pushed around any more '' . \n",
      "He urged support for President Kennedy 's requests for both defense and foreign aid appropriations . \n",
      "' not flash in pan ' Sprinkel told conferees that the recent improvement in economic activity was not a `` temporary flash in the pan '' but the beginning of a substantial cyclical expansion that will carry the economy back to full employment levels and witness a renewal of our traditional growth pattern . \n",
      "`` In view of the current expansion , which promises to be substantial '' he said the odds appear to favor rising interest rates in coming months , but `` there is reason to believe the change will not be as abrupt as in 1958 nor as severe as in late 1959 and 1960 '' . \n",
      "==========\n",
      "Mickey Charles Mantle , the New York Yankees ' man of muscle , drives a home run 450 feet into the bleachers , his feat touches upon the sublime . \n",
      "When Roger Eugene Maris , Mantle 's muscular teammate , powers four home runs in a double-header , his performance merits awe . \n",
      "But when tiny , 145-pound Albert Gregory Pearson of the Los Angeles Angels , who once caught three straight fly balls in center field because , as a teammate explained , `` the other team thought no one was out there '' , hits seven home runs in four months ( three more than his total in 1958 , 1959 , and 1960 ) , his achievement borders on the ridiculous . \n",
      "==========\n",
      "Cook had discovered a beef in his possession a few days earlier and , when he could not show the hide , arrested him . \n",
      "Thinking the evidence insufficient to get a conviction , he later released him . \n",
      "Even while suffering the trip to his home , Cook swore to Moore and Lane that he would kill the Indian . \n",
      "Three weeks later , following his recovery , armed with a writ issued by the Catskill justice on affidavits prepared by the district attorney , Cook and Russell rode to arrest Martinez . \n",
      "Arriving at daybreak , they found Julio in his corral and demanded that he surrender . \n",
      "Instead , he whirled and ran to his house for a gun , forcing them to kill him , Cook reported . \n",
      "==========\n",
      "Introduction . \n",
      "In 1 we investigate a new series of line involutions in a projective space of three dimensions over the field of complex numbers . \n",
      "These are defined by a simple involutorial transformation of the points in which a general line meets a nonsingular quadric surface bearing a curve of symbol Afj . \n",
      "Then in 2 we show that any line involution with the properties that ( A ) It has no complex of invariant lines , and ( B ) Its singular lines form a complex consisting exclusively of the lines which meet a twisted curve , is necessarily of the type discussed in 1 . \n",
      "No generalization of these results to spaces of more than three dimensions has so far been found possible . \n",
      "1 . \n",
      "Let Q be a nonsingular quadric surface bearing reguli Afj and Afj , and let \\*\\* zg be a Afj curve of order K on Q . \n",
      "==========\n",
      "A philosopher may point out that the troubles of the Congo began with the old Adam and consequently will never end . \n",
      "But a historian might put his finger on a specific man and date , and hold out the hope that the troubles will sometime pass away . \n",
      "The man was King Leopold 2 , of the Belgians , who in 1885 concluded that he had better grab a colony while the grabbing was still good . \n",
      "By force , he took under his protection , or stole , 900,000 square miles of wilderness in Central Africa . \n",
      "This is an area nearly as large as Western Europe ; ; and it was filled then as now by quarreling tribes with no political or historical unity . \n",
      "Its boundaries had nothing to do with geography or ethnic groupings ; ; they were determined by the points at which Leopold 's explorers and gunmen got tired of walking . \n",
      "The population of the Congo is 13.5 million , divided into at least seven major `` culture clusters '' and innumerable tribes speaking 400 separate dialects . \n",
      "The religions of the people include Christianity , Mohammedanism , paganism , ancestor worship and animism . \n",
      "The climate ranges from the steamily equatorial to the temperate . \n",
      "==========\n",
      "Some who have written on Utopia have treated it as `` a learned diversion of a learned world '' , `` a phantasy with which More amused himself '' , `` a holiday work , a spontaneous overflow of intellectual high spirits , a revel of debate , paradox , comedy and invention '' . \n",
      "With respect to this view , two points are worth making . \n",
      "First , it appears to be based on the fact that on its title page Utopia is described as `` festivus '' , `` gay '' . \n",
      "It overlooks the other fact that it is described as `` Nec minus salutaris quam festivus '' , `` no less salutary than gay '' . \n",
      "==========\n",
      "Miami , Fla. , March 17 -- The Orioles tonight retained the distinction of being the only winless team among the eighteen Major-League clubs as they dropped their sixth straight spring exhibition decision , this one to the Kansas City Athletics by a score of 5 to 3 . \n",
      "Indications as late as the top of the sixth were that the Birds were to end their victory draught as they coasted along with a 3-to-o advantage . \n",
      "Siebern hits homer Over the first five frames , Jack Fisher , the big righthander who figures to be in the middle of Oriole plans for a drive on the 1961 American League pennant , held the A 's scoreless while yielding three scattered hits . \n",
      "Then Dick Hyde , submarine-ball hurler , entered the contest and only five batters needed to face him before there existed a 3-to-3 deadlock . \n",
      "A two-run homer by Norm Siebern and a solo blast by Bill Tuttle tied the game , and single runs in the eighth and ninth gave the Athletics their fifth victory in eight starts . \n",
      "==========\n",
      "Greer Garson , world-famous star of stage , screen and television , will be honored for the high standard in tasteful sophisticated fashion with which she has created a high standard in her profession . \n",
      "As a Neiman-Marcus award winner the titian-haired Miss Garson is a personification of the individual look so important to fashion this season . \n",
      "She will receive the 1961 `` Oscar '' at the 24th annual Neiman-Marcus Exposition , Tuesday and Wednesday in the Grand Ballroom of the Sheraton-Dallas Hotel . \n",
      "The only woman recipient , Miss Garson will receive the award with Ferdinando Sarmi , creator of chic , beautiful women 's fashions ; ; Harry Rolnick , president of the Byer-Rolnick Hat Corporation and designer of men 's hats ; ; Sydney Wragge , creator of sophisticated casuals for women and Roger Vivier , designer of Christian Dior shoes Paris , France , whose squared toes and lowered heels have revolutionized the shoe industry . \n",
      "The silver and ebony plaques will be presented at noon luncheons by Stanley Marcus , president of Neiman-Marcus , Beneficiary of the proceeds from the two showings will be the Dallas Society for Crippled Children Cerebral Palsy Treatment Center . \n",
      "The attractive Greer Garson , who loves beautiful clothes and selects them as carefully as she does her professional roles , prefers timeless classical designs . \n",
      "Occasionally she deserts the simple and elegant for a fun piece simply because `` It 's unlike me '' . \n",
      "==========\n",
      "Temperature of the wash and rinse waters is maintained at 85 - 90-degrees-F ( 29 - 32-degrees-C ) . \n",
      "The top rolls are loaded with 40 lbs .. Sixty lbs. loading is possible but 40 lbs. is adequate . \n",
      "The suds box drain is arranged at the start to deliver into the raised main drain pipe ( thus returning suds to soap box ) and the machine is started . \n",
      "The 160-ml. bath containing the calculated amount of detergent is applied slowly and directly to the running specimen . \n",
      "Washing is continued for 30 minutes or for a period of time sufficient to allow 100 nips or passes through the squeeze rolls . \n",
      "==========\n",
      "artists , indeed , turned to actual representations or molded three-dimensional figures , which were rare down to 800 B.C. , they tended to reflect reality ( see Plate 6a , 9b ) ; ; a schematic , abstract treatment of men and animals , by intent , rose only in the late eighth century . \n",
      "To speak of this underlying view of the world is to embark upon matters of subjective judgment . \n",
      "At the least , however , one may conclude that Geometric potters sensed a logical order ; ; their principles of composition stand very close to those which appear in the Homeric epics and the hexameter line . \n",
      "Their world , again , was a still simple , traditional age which was only slowly beginning to appreciate the complexity of life . \n",
      "And perhaps an observer of the vases will not go too far in deducing that the outlook of their makers and users was basically stable and secure . \n",
      "The storms of the past had died away , and the great upheaval which was to mark the following century had not yet begun to disturb men 's minds . \n",
      "Throughout the work of the later ninth century a calm , severe serenity displays itself . \n",
      "In the vases this spirit may perhaps at times bore or repel one in its internal self-satisfaction , but the best of the Geometric pins have rightly been considered among the most beautiful ever made in the Greek world . \n",
      "The ninth century was in its artistic work `` the spiritually freest and most self-sufficient between past and future '' , and the loving skill spent by its artists upon their products is a testimonial to their sense that what they were doing was important and was appreciated . \n",
      "==========\n",
      "\n"
     ]
    }
   ],
   "source": [
    "f1 = open(\"data/choi/1/3-11/0.ref\", \"r\")\n",
    "print(f1.read())"
   ]
  },
  {
   "cell_type": "code",
   "execution_count": 3,
   "id": "e3bb366e",
   "metadata": {},
   "outputs": [],
   "source": [
    "# Read the content of the .txt file\n",
    "file_path = \"data/choi/1/3-11/0.ref\"  # Replace with the actual file path\n",
    "with open(file_path, \"r\") as file:\n",
    "    segmented_text = file.read()\n",
    "\n",
    "# Split the text by \"=========\" to get individual segments\n",
    "segments = segmented_text.split(\"==========\")\n",
    "\n",
    "# Remove any leading/trailing whitespace from each segment and join them together\n",
    "united_text = \" \".join(segment.strip() for segment in segments)\n",
    "\n",
    "# print(united_text)\n"
   ]
  },
  {
   "cell_type": "markdown",
   "id": "68147c4f",
   "metadata": {},
   "source": [
    "## Join segmented text and make united text and save it on data/united_text"
   ]
  },
  {
   "cell_type": "code",
   "execution_count": 4,
   "id": "27c1de37",
   "metadata": {},
   "outputs": [],
   "source": [
    "import os\n",
    "\n",
    "input_directory = \"data/choi\"\n",
    "output_directory = \"data/united_texts\"\n",
    "\n",
    "# Create the output directory\n",
    "os.makedirs(output_directory, exist_ok=True)\n",
    "\n",
    "# Read all .ref files in input_directory\n",
    "for root, dirs, files in os.walk(input_directory):\n",
    "    for filename in files:\n",
    "        if filename.endswith(\".ref\"):\n",
    "            file_path = os.path.join(root, filename)\n",
    "            with open(file_path, \"r\") as file:\n",
    "                segmented_text = file.read()\n",
    "\n",
    "            # Split the text by \"=========\" \n",
    "            segments = segmented_text.split(\"==========\")\n",
    "\n",
    "            # Remove any whitespace from each segment and join them together\n",
    "            united_text = \" \".join(segment.strip() for segment in segments)\n",
    "\n",
    "            # Create the output file path for the united_text\n",
    "            relative_path = os.path.relpath(file_path, input_directory)\n",
    "            output_file_path = os.path.join(output_directory, relative_path)\n",
    "\n",
    "            os.makedirs(os.path.dirname(output_file_path), exist_ok=True)\n",
    "\n",
    "            # Write the united text to the output file\n",
    "            with open(output_file_path, \"w\") as output_file:\n",
    "                output_file.write(united_text)\n"
   ]
  },
  {
   "cell_type": "markdown",
   "id": "4fa17c49",
   "metadata": {},
   "source": [
    "## Create a dataset contain a column for united_text and a column for segmented text"
   ]
  },
  {
   "cell_type": "code",
   "execution_count": 4,
   "id": "15334029",
   "metadata": {},
   "outputs": [
    {
     "data": {
      "text/html": [
       "<div>\n",
       "<style scoped>\n",
       "    .dataframe tbody tr th:only-of-type {\n",
       "        vertical-align: middle;\n",
       "    }\n",
       "\n",
       "    .dataframe tbody tr th {\n",
       "        vertical-align: top;\n",
       "    }\n",
       "\n",
       "    .dataframe thead th {\n",
       "        text-align: right;\n",
       "    }\n",
       "</style>\n",
       "<table border=\"1\" class=\"dataframe\">\n",
       "  <thead>\n",
       "    <tr style=\"text-align: right;\">\n",
       "      <th></th>\n",
       "      <th>File</th>\n",
       "      <th>Number of segments</th>\n",
       "      <th>segments</th>\n",
       "      <th>united_text</th>\n",
       "    </tr>\n",
       "  </thead>\n",
       "  <tbody>\n",
       "    <tr>\n",
       "      <th>0</th>\n",
       "      <td>data/choi\\1\\3-11\\0.ref</td>\n",
       "      <td>10</td>\n",
       "      <td>[Santa Barbara -- `` The present recovery move...</td>\n",
       "      <td>Santa Barbara -- `` The present recovery movem...</td>\n",
       "    </tr>\n",
       "    <tr>\n",
       "      <th>1</th>\n",
       "      <td>data/choi\\1\\3-11\\1.ref</td>\n",
       "      <td>10</td>\n",
       "      <td>[The vast Central Valley of California is one ...</td>\n",
       "      <td>The vast Central Valley of California is one o...</td>\n",
       "    </tr>\n",
       "    <tr>\n",
       "      <th>2</th>\n",
       "      <td>data/choi\\1\\3-11\\10.ref</td>\n",
       "      <td>10</td>\n",
       "      <td>[The bronchus and pulmonary artery in this lun...</td>\n",
       "      <td>The bronchus and pulmonary artery in this lung...</td>\n",
       "    </tr>\n",
       "    <tr>\n",
       "      <th>3</th>\n",
       "      <td>data/choi\\1\\3-11\\11.ref</td>\n",
       "      <td>10</td>\n",
       "      <td>[The Fulton County Grand Jury said Friday an i...</td>\n",
       "      <td>The Fulton County Grand Jury said Friday an in...</td>\n",
       "    </tr>\n",
       "    <tr>\n",
       "      <th>4</th>\n",
       "      <td>data/choi\\1\\3-11\\12.ref</td>\n",
       "      <td>10</td>\n",
       "      <td>[Temperature of the wash and rinse waters is m...</td>\n",
       "      <td>Temperature of the wash and rinse waters is ma...</td>\n",
       "    </tr>\n",
       "  </tbody>\n",
       "</table>\n",
       "</div>"
      ],
      "text/plain": [
       "                      File  Number of segments  \\\n",
       "0   data/choi\\1\\3-11\\0.ref                  10   \n",
       "1   data/choi\\1\\3-11\\1.ref                  10   \n",
       "2  data/choi\\1\\3-11\\10.ref                  10   \n",
       "3  data/choi\\1\\3-11\\11.ref                  10   \n",
       "4  data/choi\\1\\3-11\\12.ref                  10   \n",
       "\n",
       "                                            segments  \\\n",
       "0  [Santa Barbara -- `` The present recovery move...   \n",
       "1  [The vast Central Valley of California is one ...   \n",
       "2  [The bronchus and pulmonary artery in this lun...   \n",
       "3  [The Fulton County Grand Jury said Friday an i...   \n",
       "4  [Temperature of the wash and rinse waters is m...   \n",
       "\n",
       "                                         united_text  \n",
       "0  Santa Barbara -- `` The present recovery movem...  \n",
       "1  The vast Central Valley of California is one o...  \n",
       "2  The bronchus and pulmonary artery in this lung...  \n",
       "3  The Fulton County Grand Jury said Friday an in...  \n",
       "4  Temperature of the wash and rinse waters is ma...  "
      ]
     },
     "execution_count": 4,
     "metadata": {},
     "output_type": "execute_result"
    }
   ],
   "source": [
    "choi_folder_path = \"data/choi\"\n",
    "\n",
    "# Function to extract segments from a file\n",
    "def extract_segments(file_path):\n",
    "    with open(file_path, \"r\") as file:\n",
    "        segmented_text = file.read()\n",
    "\n",
    "    # Split the text by \"==========\" \n",
    "    segments = segmented_text.strip().split(\"==========\")\n",
    "\n",
    "    # Remove any  whitespace from each segment and remove empty segments\n",
    "    segments = [segment.strip() for segment in segments if segment.strip()]\n",
    "    \n",
    "    return segments\n",
    "\n",
    "data = []\n",
    "\n",
    "for root, _, files in os.walk(choi_folder_path):\n",
    "    for file in files:\n",
    "        if file.endswith(\".ref\"):\n",
    "            file_path = os.path.join(root, file)\n",
    "            segments = extract_segments(file_path)\n",
    "            united_text = \" \".join(segments)  \n",
    "            data.append({\n",
    "                \"File\": file_path,\n",
    "                \"Number of segments\": len(segments),\n",
    "                \"segments\": segments,\n",
    "                \"united_text\": united_text\n",
    "            })\n",
    "\n",
    "df = pd.DataFrame(data)\n",
    "\n",
    "\n",
    "# df.to_csv(\"segments_data_with_united_text.csv\", index=False)\n",
    "\n",
    "df.head()\n"
   ]
  },
  {
   "cell_type": "code",
   "execution_count": 5,
   "id": "5a05e4f4",
   "metadata": {},
   "outputs": [
    {
     "data": {
      "text/plain": [
       "File                  0\n",
       "Number of segments    0\n",
       "segments              0\n",
       "united_text           0\n",
       "dtype: int64"
      ]
     },
     "execution_count": 5,
     "metadata": {},
     "output_type": "execute_result"
    }
   ],
   "source": [
    "df.isnull().sum()"
   ]
  },
  {
   "cell_type": "code",
   "execution_count": 6,
   "id": "3959c0f4",
   "metadata": {},
   "outputs": [
    {
     "data": {
      "text/plain": [
       "(920, 4)"
      ]
     },
     "execution_count": 6,
     "metadata": {},
     "output_type": "execute_result"
    }
   ],
   "source": [
    "df.shape"
   ]
  },
  {
   "cell_type": "code",
   "execution_count": 7,
   "id": "6a3f87cc",
   "metadata": {},
   "outputs": [
    {
     "data": {
      "text/plain": [
       "File                  object\n",
       "Number of segments     int64\n",
       "segments              object\n",
       "united_text           object\n",
       "dtype: object"
      ]
     },
     "execution_count": 7,
     "metadata": {},
     "output_type": "execute_result"
    }
   ],
   "source": [
    "df.dtypes"
   ]
  },
  {
   "cell_type": "markdown",
   "id": "496be23e",
   "metadata": {},
   "source": [
    "# Text similarity with NLTK (Lexical)"
   ]
  },
  {
   "cell_type": "code",
   "execution_count": 8,
   "id": "857ca224",
   "metadata": {},
   "outputs": [],
   "source": [
    "import nltk\n",
    "from nltk.corpus import stopwords\n",
    "from nltk.tokenize import sent_tokenize, word_tokenize\n",
    "from nltk.stem import WordNetLemmatizer\n",
    "from sklearn.feature_extraction.text import TfidfVectorizer\n",
    "from sklearn.metrics.pairwise import cosine_similarity\n",
    "\n",
    "def sentence_similarity_NLTK(text):\n",
    "    # Split the text into sentences\n",
    "    sentences = sent_tokenize(text)\n",
    "\n",
    "    # Tokenize and lemmatize the sentences\n",
    "    lemmatizer = WordNetLemmatizer()\n",
    "    tokenized_sentences = []\n",
    "    for sentence in sentences:\n",
    "        tokens = word_tokenize(sentence)\n",
    "        tokens = [lemmatizer.lemmatize(token) for token in tokens]\n",
    "        tokenized_sentences.append(tokens)\n",
    "\n",
    "    # Remove stopwords\n",
    "    stop_words = stopwords.words('english')\n",
    "    filtered_sentences = []\n",
    "    for tokens in tokenized_sentences:\n",
    "        filtered_sentence = [token for token in tokens if token not in stop_words]\n",
    "        filtered_sentences.append(filtered_sentence)\n",
    "\n",
    "    # Create the TF-IDF vectors\n",
    "    vectorizer = TfidfVectorizer()\n",
    "    tfidf_vectors = vectorizer.fit_transform([' '.join(sentence) for sentence in filtered_sentences])\n",
    "\n",
    "    # Calculate the cosine similarity for each pair of sentences\n",
    "    similarity_scores = cosine_similarity(tfidf_vectors)\n",
    "\n",
    "    # Get the similarity scores \n",
    "    similarity_results = []\n",
    "    num_sentences = len(sentences)\n",
    "    for i in range(num_sentences):\n",
    "        for j in range(i + 1, num_sentences):\n",
    "            similarity_score = similarity_scores[i][j]\n",
    "            similarity_results.append((i, j, round(similarity_score, 3)))\n",
    "\n",
    "    return similarity_results"
   ]
  },
  {
   "cell_type": "markdown",
   "id": "3564398e",
   "metadata": {},
   "source": [
    "# Text Segmentation Function"
   ]
  },
  {
   "cell_type": "code",
   "execution_count": 9,
   "id": "f8987624",
   "metadata": {},
   "outputs": [],
   "source": [
    "segments = df['segments'][0]\n",
    "united_text = df['united_text'][0]"
   ]
  },
  {
   "cell_type": "code",
   "execution_count": 10,
   "id": "3ac48aca",
   "metadata": {},
   "outputs": [],
   "source": [
    "def sentence_segmentation_NLTK(text, num_tiles=10, threshold=0.5):\n",
    "    similarity_results = sentence_similarity_NLTK(text)\n",
    "\n",
    "    # Split the text into sentences\n",
    "    sentences = sent_tokenize(text)\n",
    "\n",
    "    # Check if there are any similarity scores above the threshold\n",
    "    if not any(score >= threshold for _, _, score in similarity_results):\n",
    "        return [' '.join(sentences)]\n",
    "\n",
    "    segments = []\n",
    "    num_sentences = len(sentences)\n",
    "    segment = [0]\n",
    "    for i in range(1, num_sentences):\n",
    "        if similarity_results[i - 1][2] >= threshold:\n",
    "            segment.append(i)\n",
    "        else:\n",
    "            segments.append(segment)\n",
    "            segment = [i]\n",
    "    segments.append(segment)\n",
    "\n",
    "    # Sort the segments based on their average similarity score \n",
    "    segments.sort(key=lambda x: sum(similarity_results[i][2] for i in x) / len(x), reverse=True)\n",
    "\n",
    "    # Get the top 'num_tiles' segments \n",
    "    if num_tiles is not None:\n",
    "        segments = segments[:num_tiles]\n",
    "\n",
    "    segments.sort(key=lambda x: x[0])\n",
    "\n",
    "    # Return the segmented text\n",
    "    segmented_text = [' '.join(sentences[start:end + 1]) for segment in segments for start, end in [(segment[0], segment[-1])]]\n",
    "    return segmented_text"
   ]
  },
  {
   "cell_type": "code",
   "execution_count": 11,
   "id": "fbed2790",
   "metadata": {},
   "outputs": [],
   "source": [
    "example_1 = sentence_segmentation_NLTK(united_text, num_tiles=10, threshold=0.5)"
   ]
  },
  {
   "cell_type": "code",
   "execution_count": 12,
   "id": "f444737a",
   "metadata": {},
   "outputs": [
    {
     "data": {
      "text/plain": [
       "1"
      ]
     },
     "execution_count": 12,
     "metadata": {},
     "output_type": "execute_result"
    }
   ],
   "source": [
    "len(example_1)"
   ]
  },
  {
   "cell_type": "code",
   "execution_count": 13,
   "id": "7f733717",
   "metadata": {},
   "outputs": [],
   "source": [
    "example_2 = sentence_segmentation_NLTK(united_text, num_tiles=10, threshold=0.46)"
   ]
  },
  {
   "cell_type": "code",
   "execution_count": 14,
   "id": "20769f96",
   "metadata": {},
   "outputs": [
    {
     "data": {
      "text/plain": [
       "10"
      ]
     },
     "execution_count": 14,
     "metadata": {},
     "output_type": "execute_result"
    }
   ],
   "source": [
    "len(example_2)"
   ]
  },
  {
   "cell_type": "markdown",
   "id": "0c3a9093",
   "metadata": {},
   "source": [
    "## Find Best Threshold"
   ]
  },
  {
   "cell_type": "code",
   "execution_count": 15,
   "id": "8674e91a",
   "metadata": {},
   "outputs": [
    {
     "name": "stdout",
     "output_type": "stream",
     "text": [
      "0.5 0.5512496908902533\n"
     ]
    }
   ],
   "source": [
    "# Loop through different threshold values\n",
    "best_threshold = None\n",
    "best_similarity = 0.0\n",
    "\n",
    "# Define threshold\n",
    "threshold = [0.1, 0.2, 0.3, 0.4, 0.5, 0.6, 0.7, 0.8, 0.9]\n",
    "for threshold_value in threshold:\n",
    "    # Apply the sentence_segmentation_NLTK function\n",
    "    segmented_text = sentence_segmentation_NLTK(united_text, num_tiles=10, threshold=threshold_value)\n",
    "        \n",
    "    # Calculate similarity using Cosine Similarity\n",
    "    vectorizer = TfidfVectorizer().fit_transform(segments + segmented_text)\n",
    "    similarity_matrix = cosine_similarity(vectorizer)\n",
    "        \n",
    "    # Calculate average similarity between actual segments and segmented text\n",
    "    avg_similarity = similarity_matrix[:len(segments), len(segments):].mean()\n",
    "        \n",
    "    # Update best threshold if higher similarity is found\n",
    "    if avg_similarity > best_similarity:\n",
    "        best_similarity = avg_similarity\n",
    "        best_threshold = threshold_value\n",
    "\n",
    "print(best_threshold, best_similarity)"
   ]
  },
  {
   "cell_type": "markdown",
   "id": "53004e02",
   "metadata": {},
   "source": [
    "## Function to find best threshold"
   ]
  },
  {
   "cell_type": "code",
   "execution_count": 16,
   "id": "94b7cfb0",
   "metadata": {},
   "outputs": [],
   "source": [
    "from sklearn.feature_extraction.text import TfidfVectorizer\n",
    "from sklearn.metrics.pairwise import cosine_similarity\n",
    "\n",
    "\n",
    "def tune_threshold_for_dataset(segments, united_text):\n",
    "    \n",
    "    # Loop through different threshold values\n",
    "    best_threshold = None\n",
    "    best_similarity = 0.0\n",
    "\n",
    "\n",
    "    threshold = [0.1, 0.2, 0.3, 0.4, 0.5, 0.6, 0.7, 0.8, 0.9]\n",
    "    for threshold_value in threshold:\n",
    "        # Apply the sentence_segmentation_NLTK function\n",
    "        segmented_text = sentence_segmentation_NLTK(united_text, num_tiles=10, threshold=threshold_value)\n",
    "        \n",
    "        # Calculate similarity \n",
    "        vectorizer = TfidfVectorizer().fit_transform(segments + segmented_text)\n",
    "        similarity_matrix = cosine_similarity(vectorizer)\n",
    "        \n",
    "        # Calculate average similarity between actual segments and segmented text\n",
    "        avg_similarity = similarity_matrix[:len(segments), len(segments):].mean()\n",
    "        \n",
    "        # Update best threshold\n",
    "        if avg_similarity > best_similarity:\n",
    "            best_similarity = avg_similarity\n",
    "            best_threshold = threshold_value\n",
    "\n",
    "    return best_threshold, best_similarity"
   ]
  },
  {
   "cell_type": "code",
   "execution_count": 31,
   "id": "3b76beee",
   "metadata": {},
   "outputs": [],
   "source": [
    "best_thresholds = []\n",
    "best_similarities = []\n",
    "\n",
    "# Iterate through rows\n",
    "for index, row in df.iterrows():\n",
    "    segments = row['segments']\n",
    "    united_text = row['united_text']\n",
    "\n",
    "    # Call the function\n",
    "    best_threshold, best_similarity = tune_threshold_for_dataset(segments, united_text)\n",
    "\n",
    "    best_thresholds.append(best_threshold)\n",
    "    best_similarities.append(best_similarity)"
   ]
  },
  {
   "cell_type": "code",
   "execution_count": 32,
   "id": "823207f0",
   "metadata": {},
   "outputs": [],
   "source": [
    "df['best_threshold'] = best_thresholds\n",
    "df['best_similarity'] = best_similarities"
   ]
  },
  {
   "cell_type": "code",
   "execution_count": 33,
   "id": "a88af460",
   "metadata": {},
   "outputs": [
    {
     "data": {
      "text/html": [
       "<div>\n",
       "<style scoped>\n",
       "    .dataframe tbody tr th:only-of-type {\n",
       "        vertical-align: middle;\n",
       "    }\n",
       "\n",
       "    .dataframe tbody tr th {\n",
       "        vertical-align: top;\n",
       "    }\n",
       "\n",
       "    .dataframe thead th {\n",
       "        text-align: right;\n",
       "    }\n",
       "</style>\n",
       "<table border=\"1\" class=\"dataframe\">\n",
       "  <thead>\n",
       "    <tr style=\"text-align: right;\">\n",
       "      <th></th>\n",
       "      <th>File</th>\n",
       "      <th>Number of segments</th>\n",
       "      <th>segments</th>\n",
       "      <th>united_text</th>\n",
       "      <th>best_threshold</th>\n",
       "      <th>best_similarity</th>\n",
       "    </tr>\n",
       "  </thead>\n",
       "  <tbody>\n",
       "    <tr>\n",
       "      <th>0</th>\n",
       "      <td>data/choi\\1\\3-11\\0.ref</td>\n",
       "      <td>10</td>\n",
       "      <td>[Santa Barbara -- `` The present recovery move...</td>\n",
       "      <td>Santa Barbara -- `` The present recovery movem...</td>\n",
       "      <td>0.5</td>\n",
       "      <td>0.551250</td>\n",
       "    </tr>\n",
       "    <tr>\n",
       "      <th>1</th>\n",
       "      <td>data/choi\\1\\3-11\\1.ref</td>\n",
       "      <td>10</td>\n",
       "      <td>[The vast Central Valley of California is one ...</td>\n",
       "      <td>The vast Central Valley of California is one o...</td>\n",
       "      <td>0.6</td>\n",
       "      <td>0.605006</td>\n",
       "    </tr>\n",
       "    <tr>\n",
       "      <th>2</th>\n",
       "      <td>data/choi\\1\\3-11\\10.ref</td>\n",
       "      <td>10</td>\n",
       "      <td>[The bronchus and pulmonary artery in this lun...</td>\n",
       "      <td>The bronchus and pulmonary artery in this lung...</td>\n",
       "      <td>0.5</td>\n",
       "      <td>0.557801</td>\n",
       "    </tr>\n",
       "    <tr>\n",
       "      <th>3</th>\n",
       "      <td>data/choi\\1\\3-11\\11.ref</td>\n",
       "      <td>10</td>\n",
       "      <td>[The Fulton County Grand Jury said Friday an i...</td>\n",
       "      <td>The Fulton County Grand Jury said Friday an in...</td>\n",
       "      <td>0.1</td>\n",
       "      <td>0.163308</td>\n",
       "    </tr>\n",
       "    <tr>\n",
       "      <th>4</th>\n",
       "      <td>data/choi\\1\\3-11\\12.ref</td>\n",
       "      <td>10</td>\n",
       "      <td>[Temperature of the wash and rinse waters is m...</td>\n",
       "      <td>Temperature of the wash and rinse waters is ma...</td>\n",
       "      <td>0.1</td>\n",
       "      <td>0.120461</td>\n",
       "    </tr>\n",
       "  </tbody>\n",
       "</table>\n",
       "</div>"
      ],
      "text/plain": [
       "                      File  Number of segments  \\\n",
       "0   data/choi\\1\\3-11\\0.ref                  10   \n",
       "1   data/choi\\1\\3-11\\1.ref                  10   \n",
       "2  data/choi\\1\\3-11\\10.ref                  10   \n",
       "3  data/choi\\1\\3-11\\11.ref                  10   \n",
       "4  data/choi\\1\\3-11\\12.ref                  10   \n",
       "\n",
       "                                            segments  \\\n",
       "0  [Santa Barbara -- `` The present recovery move...   \n",
       "1  [The vast Central Valley of California is one ...   \n",
       "2  [The bronchus and pulmonary artery in this lun...   \n",
       "3  [The Fulton County Grand Jury said Friday an i...   \n",
       "4  [Temperature of the wash and rinse waters is m...   \n",
       "\n",
       "                                         united_text  best_threshold  \\\n",
       "0  Santa Barbara -- `` The present recovery movem...             0.5   \n",
       "1  The vast Central Valley of California is one o...             0.6   \n",
       "2  The bronchus and pulmonary artery in this lung...             0.5   \n",
       "3  The Fulton County Grand Jury said Friday an in...             0.1   \n",
       "4  Temperature of the wash and rinse waters is ma...             0.1   \n",
       "\n",
       "   best_similarity  \n",
       "0         0.551250  \n",
       "1         0.605006  \n",
       "2         0.557801  \n",
       "3         0.163308  \n",
       "4         0.120461  "
      ]
     },
     "execution_count": 33,
     "metadata": {},
     "output_type": "execute_result"
    }
   ],
   "source": [
    "df.head()"
   ]
  },
  {
   "cell_type": "code",
   "execution_count": null,
   "id": "00f45397",
   "metadata": {},
   "outputs": [],
   "source": []
  },
  {
   "cell_type": "markdown",
   "id": "2faf385c",
   "metadata": {},
   "source": [
    "## Probability distribution for best threshold"
   ]
  },
  {
   "cell_type": "code",
   "execution_count": 34,
   "id": "80516bb5",
   "metadata": {},
   "outputs": [
    {
     "data": {
      "image/png": "[encoded data removed]",
      "text/plain": [
       "<Figure size 700x500 with 1 Axes>"
      ]
     },
     "metadata": {},
     "output_type": "display_data"
    }
   ],
   "source": [
    "import matplotlib.pyplot as plt\n",
    "\n",
    "# Create a histogram\n",
    "plt.figure(figsize=(7, 5))  \n",
    "plt.hist(df['best_threshold'], bins=10, color='blue', edgecolor='black')  \n",
    "plt.title(f\"Histogram of {best_threshold}\")\n",
    "plt.xlabel(best_threshold)\n",
    "plt.ylabel(\"Frequency\")\n",
    "plt.grid(True)\n",
    "plt.show()\n"
   ]
  },
  {
   "cell_type": "code",
   "execution_count": 17,
   "id": "80e3f1e0",
   "metadata": {},
   "outputs": [],
   "source": [
    "def evaluate_segmentation_with_placement(true_boundaries, predicted_boundaries, tolerance=2):\n",
    "\n",
    "    true_positives = 0\n",
    "\n",
    "    false_positives = 0\n",
    "\n",
    "    false_negatives = 0\n",
    "\n",
    " \n",
    "\n",
    "    for pred_boundary in predicted_boundaries:\n",
    "\n",
    "        closest_true_boundary = min(true_boundaries, key=lambda x: abs(x - pred_boundary))\n",
    "\n",
    "        if abs(closest_true_boundary - pred_boundary) <= tolerance:\n",
    "\n",
    "            true_positives += 1\n",
    "\n",
    "            true_boundaries.remove(closest_true_boundary)\n",
    "\n",
    "        else:\n",
    "\n",
    "            false_positives += 1\n",
    "\n",
    " \n",
    "\n",
    "    false_negatives = len(true_boundaries)\n",
    "\n",
    " \n",
    "\n",
    "    accuracy = true_positives / len(predicted_boundaries)\n",
    "\n",
    "    precision = true_positives / (true_positives + false_positives)\n",
    "\n",
    "    recall = true_positives / (true_positives + false_negatives)\n",
    "\n",
    " \n",
    "\n",
    "    return accuracy, precision, recall"
   ]
  },
  {
   "cell_type": "code",
   "execution_count": 18,
   "id": "b2e3a04d",
   "metadata": {},
   "outputs": [],
   "source": [
    "def calculate_true_boundaries(actual_segments):\n",
    "    true_boundaries = []\n",
    "    current_index = 0\n",
    "    for segment in actual_segments:\n",
    "        current_index += len(segment) + 1  # Add 1 for the period at the end of the sentence\n",
    "        true_boundaries.append(current_index - 1)  # Subtract 1 to get the index of the period\n",
    "    return true_boundaries\n",
    "\n",
    "def calculate_predicted_boundaries(segmented_text):\n",
    "    predicted_boundaries = []\n",
    "    current_index = 0\n",
    "    for segment in segmented_text:\n",
    "        current_index += len(segment) + 1  # Add 1 for the period at the end of the sentence\n",
    "        predicted_boundaries.append(current_index - 1)  # Subtract 1 to get the index of the period\n",
    "    return predicted_boundaries\n"
   ]
  },
  {
   "cell_type": "code",
   "execution_count": 19,
   "id": "23164e5c",
   "metadata": {},
   "outputs": [],
   "source": [
    "actual_segments = df['segments'][0]\n",
    "united_text = df['united_text'][0]\n",
    "segmented_text = sentence_segmentation_NLTK(united_text, num_tiles=10, threshold=0.45)"
   ]
  },
  {
   "cell_type": "code",
   "execution_count": 20,
   "id": "37860ae2",
   "metadata": {},
   "outputs": [
    {
     "data": {
      "text/plain": [
       "[1297, 1934, 2615, 3426, 4580, 5165, 6145, 7604, 8204, 9816]"
      ]
     },
     "execution_count": 20,
     "metadata": {},
     "output_type": "execute_result"
    }
   ],
   "source": [
    "calculate_true_boundaries(actual_segments)"
   ]
  },
  {
   "cell_type": "code",
   "execution_count": 21,
   "id": "399f1d5c",
   "metadata": {},
   "outputs": [
    {
     "data": {
      "text/plain": [
       "10"
      ]
     },
     "execution_count": 21,
     "metadata": {},
     "output_type": "execute_result"
    }
   ],
   "source": [
    "len(calculate_true_boundaries(actual_segments))"
   ]
  },
  {
   "cell_type": "code",
   "execution_count": 22,
   "id": "c8ad0dde",
   "metadata": {},
   "outputs": [
    {
     "data": {
      "text/plain": [
       "[103, 373, 478, 493, 625, 784, 893, 1037, 1137, 1289]"
      ]
     },
     "execution_count": 22,
     "metadata": {},
     "output_type": "execute_result"
    }
   ],
   "source": [
    "calculate_predicted_boundaries(segmented_text)"
   ]
  },
  {
   "cell_type": "code",
   "execution_count": 23,
   "id": "aa1d5d83",
   "metadata": {},
   "outputs": [
    {
     "data": {
      "text/plain": [
       "10"
      ]
     },
     "execution_count": 23,
     "metadata": {},
     "output_type": "execute_result"
    }
   ],
   "source": [
    "len(calculate_predicted_boundaries(segmented_text))"
   ]
  },
  {
   "cell_type": "code",
   "execution_count": 24,
   "id": "3bfc2ddd",
   "metadata": {},
   "outputs": [
    {
     "name": "stdout",
     "output_type": "stream",
     "text": [
      "Threshold: 0.1\n",
      "Accuracy: 0.0\n",
      "Precision: 0.0\n",
      "Recall: 0.0\n",
      "\n",
      "Threshold: 0.2\n",
      "Accuracy: 0.0\n",
      "Precision: 0.0\n",
      "Recall: 0.0\n",
      "\n",
      "Threshold: 0.3\n",
      "Accuracy: 0.0\n",
      "Precision: 0.0\n",
      "Recall: 0.0\n",
      "\n",
      "Threshold: 0.4\n",
      "Accuracy: 0.0\n",
      "Precision: 0.0\n",
      "Recall: 0.0\n",
      "\n",
      "Threshold: 0.5\n",
      "Accuracy: 0.0\n",
      "Precision: 0.0\n",
      "Recall: 0.0\n",
      "\n",
      "Threshold: 0.6\n",
      "Accuracy: 0.0\n",
      "Precision: 0.0\n",
      "Recall: 0.0\n",
      "\n",
      "Threshold: 0.7\n",
      "Accuracy: 0.0\n",
      "Precision: 0.0\n",
      "Recall: 0.0\n",
      "\n",
      "Threshold: 0.8\n",
      "Accuracy: 0.0\n",
      "Precision: 0.0\n",
      "Recall: 0.0\n",
      "\n",
      "Threshold: 0.9\n",
      "Accuracy: 0.0\n",
      "Precision: 0.0\n",
      "Recall: 0.0\n",
      "\n"
     ]
    }
   ],
   "source": [
    "thresholds_to_test = [0.1, 0.2, 0.3, 0.4, 0.5, 0.6, 0.7, 0.8, 0.9]  # Example threshold values to test\n",
    "\n",
    "for threshold in thresholds_to_test:\n",
    "    segmented_text = sentence_segmentation_NLTK(united_text, num_tiles=10, threshold=threshold)\n",
    "    \n",
    "    true_boundaries = calculate_true_boundaries(actual_segments)\n",
    "    predicted_boundaries = calculate_predicted_boundaries(segmented_text)\n",
    "    \n",
    "    accuracy, precision, recall = evaluate_segmentation_with_placement(true_boundaries, predicted_boundaries)\n",
    "    \n",
    "    print(f\"Threshold: {threshold}\")\n",
    "    print(f\"Accuracy: {accuracy}\")\n",
    "    print(f\"Precision: {precision}\")\n",
    "    print(f\"Recall: {recall}\")\n",
    "    print()\n"
   ]
  },
  {
   "cell_type": "code",
   "execution_count": 25,
   "id": "3414d0d5",
   "metadata": {},
   "outputs": [],
   "source": [
    "def evaluate_segmentation_for_segment(segment, threshold):\n",
    "    segmented_text = sentence_segmentation_NLTK(segment, num_tiles=10, threshold=threshold)\n",
    "    \n",
    "    true_boundaries = calculate_true_boundaries(segment)\n",
    "    predicted_boundaries = calculate_predicted_boundaries(segmented_text)\n",
    "    \n",
    "    accuracy, precision, recall = evaluate_segmentation_with_placement(true_boundaries, predicted_boundaries)\n",
    "    \n",
    "    return accuracy, precision, recall"
   ]
  },
  {
   "cell_type": "code",
   "execution_count": 26,
   "id": "e799287e",
   "metadata": {},
   "outputs": [],
   "source": [
    "thresholds_to_test = [0.1, 0.2, 0.3, 0.4, 0.5, 0.6, 0.7, 0.8, 0.9]\n",
    "\n",
    "for threshold in thresholds_to_test:\n",
    "    df[f'Threshold_{threshold}_Accuracy'], df[f'Threshold_{threshold}_Precision'], df[f'Threshold_{threshold}_Recall'] = zip(*df['united_text'].apply(lambda x: evaluate_segmentation_for_segment(x, threshold)))\n"
   ]
  },
  {
   "cell_type": "markdown",
   "id": "cecfd414",
   "metadata": {},
   "source": [
    "## Suspicious Result!!!"
   ]
  },
  {
   "cell_type": "code",
   "execution_count": 28,
   "id": "1421a7c8",
   "metadata": {},
   "outputs": [
    {
     "data": {
      "text/html": [
       "<div>\n",
       "<style scoped>\n",
       "    .dataframe tbody tr th:only-of-type {\n",
       "        vertical-align: middle;\n",
       "    }\n",
       "\n",
       "    .dataframe tbody tr th {\n",
       "        vertical-align: top;\n",
       "    }\n",
       "\n",
       "    .dataframe thead th {\n",
       "        text-align: right;\n",
       "    }\n",
       "</style>\n",
       "<table border=\"1\" class=\"dataframe\">\n",
       "  <thead>\n",
       "    <tr style=\"text-align: right;\">\n",
       "      <th></th>\n",
       "      <th>File</th>\n",
       "      <th>Number of segments</th>\n",
       "      <th>segments</th>\n",
       "      <th>united_text</th>\n",
       "      <th>Threshold_0.1_Accuracy</th>\n",
       "      <th>Threshold_0.1_Precision</th>\n",
       "      <th>Threshold_0.1_Recall</th>\n",
       "      <th>Threshold_0.2_Accuracy</th>\n",
       "      <th>Threshold_0.2_Precision</th>\n",
       "      <th>Threshold_0.2_Recall</th>\n",
       "      <th>...</th>\n",
       "      <th>Threshold_0.6_Recall</th>\n",
       "      <th>Threshold_0.7_Accuracy</th>\n",
       "      <th>Threshold_0.7_Precision</th>\n",
       "      <th>Threshold_0.7_Recall</th>\n",
       "      <th>Threshold_0.8_Accuracy</th>\n",
       "      <th>Threshold_0.8_Precision</th>\n",
       "      <th>Threshold_0.8_Recall</th>\n",
       "      <th>Threshold_0.9_Accuracy</th>\n",
       "      <th>Threshold_0.9_Precision</th>\n",
       "      <th>Threshold_0.9_Recall</th>\n",
       "    </tr>\n",
       "  </thead>\n",
       "  <tbody>\n",
       "    <tr>\n",
       "      <th>0</th>\n",
       "      <td>data/choi\\1\\3-11\\0.ref</td>\n",
       "      <td>10</td>\n",
       "      <td>[Santa Barbara -- `` The present recovery move...</td>\n",
       "      <td>Santa Barbara -- `` The present recovery movem...</td>\n",
       "      <td>1.0</td>\n",
       "      <td>1.0</td>\n",
       "      <td>0.001019</td>\n",
       "      <td>1.0</td>\n",
       "      <td>1.0</td>\n",
       "      <td>0.001019</td>\n",
       "      <td>...</td>\n",
       "      <td>0.000102</td>\n",
       "      <td>1.0</td>\n",
       "      <td>1.0</td>\n",
       "      <td>0.000102</td>\n",
       "      <td>1.0</td>\n",
       "      <td>1.0</td>\n",
       "      <td>0.000102</td>\n",
       "      <td>1.0</td>\n",
       "      <td>1.0</td>\n",
       "      <td>0.000102</td>\n",
       "    </tr>\n",
       "    <tr>\n",
       "      <th>1</th>\n",
       "      <td>data/choi\\1\\3-11\\1.ref</td>\n",
       "      <td>10</td>\n",
       "      <td>[The vast Central Valley of California is one ...</td>\n",
       "      <td>The vast Central Valley of California is one o...</td>\n",
       "      <td>1.0</td>\n",
       "      <td>1.0</td>\n",
       "      <td>0.000750</td>\n",
       "      <td>1.0</td>\n",
       "      <td>1.0</td>\n",
       "      <td>0.000750</td>\n",
       "      <td>...</td>\n",
       "      <td>0.000075</td>\n",
       "      <td>1.0</td>\n",
       "      <td>1.0</td>\n",
       "      <td>0.000075</td>\n",
       "      <td>1.0</td>\n",
       "      <td>1.0</td>\n",
       "      <td>0.000075</td>\n",
       "      <td>1.0</td>\n",
       "      <td>1.0</td>\n",
       "      <td>0.000075</td>\n",
       "    </tr>\n",
       "    <tr>\n",
       "      <th>2</th>\n",
       "      <td>data/choi\\1\\3-11\\10.ref</td>\n",
       "      <td>10</td>\n",
       "      <td>[The bronchus and pulmonary artery in this lun...</td>\n",
       "      <td>The bronchus and pulmonary artery in this lung...</td>\n",
       "      <td>1.0</td>\n",
       "      <td>1.0</td>\n",
       "      <td>0.000885</td>\n",
       "      <td>1.0</td>\n",
       "      <td>1.0</td>\n",
       "      <td>0.000885</td>\n",
       "      <td>...</td>\n",
       "      <td>0.000089</td>\n",
       "      <td>1.0</td>\n",
       "      <td>1.0</td>\n",
       "      <td>0.000089</td>\n",
       "      <td>1.0</td>\n",
       "      <td>1.0</td>\n",
       "      <td>0.000089</td>\n",
       "      <td>1.0</td>\n",
       "      <td>1.0</td>\n",
       "      <td>0.000089</td>\n",
       "    </tr>\n",
       "    <tr>\n",
       "      <th>3</th>\n",
       "      <td>data/choi\\1\\3-11\\11.ref</td>\n",
       "      <td>10</td>\n",
       "      <td>[The Fulton County Grand Jury said Friday an i...</td>\n",
       "      <td>The Fulton County Grand Jury said Friday an in...</td>\n",
       "      <td>1.0</td>\n",
       "      <td>1.0</td>\n",
       "      <td>0.001330</td>\n",
       "      <td>1.0</td>\n",
       "      <td>1.0</td>\n",
       "      <td>0.001330</td>\n",
       "      <td>...</td>\n",
       "      <td>0.001330</td>\n",
       "      <td>1.0</td>\n",
       "      <td>1.0</td>\n",
       "      <td>0.001330</td>\n",
       "      <td>1.0</td>\n",
       "      <td>1.0</td>\n",
       "      <td>0.001330</td>\n",
       "      <td>1.0</td>\n",
       "      <td>1.0</td>\n",
       "      <td>0.001330</td>\n",
       "    </tr>\n",
       "    <tr>\n",
       "      <th>4</th>\n",
       "      <td>data/choi\\1\\3-11\\12.ref</td>\n",
       "      <td>10</td>\n",
       "      <td>[Temperature of the wash and rinse waters is m...</td>\n",
       "      <td>Temperature of the wash and rinse waters is ma...</td>\n",
       "      <td>1.0</td>\n",
       "      <td>1.0</td>\n",
       "      <td>0.000799</td>\n",
       "      <td>1.0</td>\n",
       "      <td>1.0</td>\n",
       "      <td>0.000799</td>\n",
       "      <td>...</td>\n",
       "      <td>0.000799</td>\n",
       "      <td>1.0</td>\n",
       "      <td>1.0</td>\n",
       "      <td>0.000799</td>\n",
       "      <td>1.0</td>\n",
       "      <td>1.0</td>\n",
       "      <td>0.000799</td>\n",
       "      <td>1.0</td>\n",
       "      <td>1.0</td>\n",
       "      <td>0.000799</td>\n",
       "    </tr>\n",
       "  </tbody>\n",
       "</table>\n",
       "<p>5 rows × 31 columns</p>\n",
       "</div>"
      ],
      "text/plain": [
       "                      File  Number of segments  \\\n",
       "0   data/choi\\1\\3-11\\0.ref                  10   \n",
       "1   data/choi\\1\\3-11\\1.ref                  10   \n",
       "2  data/choi\\1\\3-11\\10.ref                  10   \n",
       "3  data/choi\\1\\3-11\\11.ref                  10   \n",
       "4  data/choi\\1\\3-11\\12.ref                  10   \n",
       "\n",
       "                                            segments  \\\n",
       "0  [Santa Barbara -- `` The present recovery move...   \n",
       "1  [The vast Central Valley of California is one ...   \n",
       "2  [The bronchus and pulmonary artery in this lun...   \n",
       "3  [The Fulton County Grand Jury said Friday an i...   \n",
       "4  [Temperature of the wash and rinse waters is m...   \n",
       "\n",
       "                                         united_text  Threshold_0.1_Accuracy  \\\n",
       "0  Santa Barbara -- `` The present recovery movem...                     1.0   \n",
       "1  The vast Central Valley of California is one o...                     1.0   \n",
       "2  The bronchus and pulmonary artery in this lung...                     1.0   \n",
       "3  The Fulton County Grand Jury said Friday an in...                     1.0   \n",
       "4  Temperature of the wash and rinse waters is ma...                     1.0   \n",
       "\n",
       "   Threshold_0.1_Precision  Threshold_0.1_Recall  Threshold_0.2_Accuracy  \\\n",
       "0                      1.0              0.001019                     1.0   \n",
       "1                      1.0              0.000750                     1.0   \n",
       "2                      1.0              0.000885                     1.0   \n",
       "3                      1.0              0.001330                     1.0   \n",
       "4                      1.0              0.000799                     1.0   \n",
       "\n",
       "   Threshold_0.2_Precision  Threshold_0.2_Recall  ...  Threshold_0.6_Recall  \\\n",
       "0                      1.0              0.001019  ...              0.000102   \n",
       "1                      1.0              0.000750  ...              0.000075   \n",
       "2                      1.0              0.000885  ...              0.000089   \n",
       "3                      1.0              0.001330  ...              0.001330   \n",
       "4                      1.0              0.000799  ...              0.000799   \n",
       "\n",
       "   Threshold_0.7_Accuracy  Threshold_0.7_Precision  Threshold_0.7_Recall  \\\n",
       "0                     1.0                      1.0              0.000102   \n",
       "1                     1.0                      1.0              0.000075   \n",
       "2                     1.0                      1.0              0.000089   \n",
       "3                     1.0                      1.0              0.001330   \n",
       "4                     1.0                      1.0              0.000799   \n",
       "\n",
       "   Threshold_0.8_Accuracy  Threshold_0.8_Precision  Threshold_0.8_Recall  \\\n",
       "0                     1.0                      1.0              0.000102   \n",
       "1                     1.0                      1.0              0.000075   \n",
       "2                     1.0                      1.0              0.000089   \n",
       "3                     1.0                      1.0              0.001330   \n",
       "4                     1.0                      1.0              0.000799   \n",
       "\n",
       "   Threshold_0.9_Accuracy  Threshold_0.9_Precision  Threshold_0.9_Recall  \n",
       "0                     1.0                      1.0              0.000102  \n",
       "1                     1.0                      1.0              0.000075  \n",
       "2                     1.0                      1.0              0.000089  \n",
       "3                     1.0                      1.0              0.001330  \n",
       "4                     1.0                      1.0              0.000799  \n",
       "\n",
       "[5 rows x 31 columns]"
      ]
     },
     "execution_count": 28,
     "metadata": {},
     "output_type": "execute_result"
    }
   ],
   "source": [
    "df.head()"
   ]
  },
  {
   "cell_type": "code",
   "execution_count": 29,
   "id": "aff9150b",
   "metadata": {},
   "outputs": [
    {
     "data": {
      "text/plain": [
       "1.0"
      ]
     },
     "execution_count": 29,
     "metadata": {},
     "output_type": "execute_result"
    }
   ],
   "source": [
    "df['Threshold_0.5_Precision'][0]"
   ]
  },
  {
   "cell_type": "markdown",
   "id": "88f608a7",
   "metadata": {},
   "source": [
    "## Find Similarity score for dataset"
   ]
  },
  {
   "cell_type": "code",
   "execution_count": 33,
   "id": "2a464441",
   "metadata": {},
   "outputs": [
    {
     "name": "stdout",
     "output_type": "stream",
     "text": [
      "Best Threshold: 0.3\n",
      "Best Boundary Similarity Score: 0.0005148741418764302\n"
     ]
    }
   ],
   "source": [
    "import nltk\n",
    "from nltk.tokenize import sent_tokenize\n",
    "from sklearn.metrics import f1_score\n",
    "\n",
    "def calculate_boundary_similarity(true_boundaries, predicted_boundaries):\n",
    "    intersection = len(set(true_boundaries) & set(predicted_boundaries))\n",
    "    union = len(set(true_boundaries) | set(predicted_boundaries))\n",
    "    return intersection / union\n",
    "\n",
    "# Define the range of thresholds to try\n",
    "thresholds_to_try = [0.1, 0.2, 0.3, 0.4, 0.5, 0.6, 0.7, 0.8, 0.9]\n",
    "\n",
    "best_threshold = None\n",
    "best_score = 0\n",
    "\n",
    "for threshold in thresholds_to_try:\n",
    "    predicted_boundaries_list = []  # Store predicted boundaries for this threshold\n",
    "    true_boundaries_list = []  # Store true boundaries for each united_text\n",
    "    \n",
    "    for united_text, true_segments in zip(df['united_text'], df['segments']):\n",
    "        segmented_text = sentence_segmentation_NLTK(united_text, threshold=threshold)\n",
    "        \n",
    "        # Convert segmented_text into segment boundaries using character positions\n",
    "        predicted_segment_boundaries = calculate_predicted_boundaries(segmented_text)\n",
    "        \n",
    "        # Convert true_segments into corresponding segment boundaries\n",
    "        true_segment_boundaries = calculate_true_boundaries(true_segments)\n",
    "        \n",
    "        # Append boundaries to lists\n",
    "        predicted_boundaries_list.append(predicted_segment_boundaries)\n",
    "        true_boundaries_list.append(true_segment_boundaries)\n",
    "    \n",
    "    # Calculate the evaluation score for this threshold\n",
    "    score = 0.0  # Initialize BSS score\n",
    "    \n",
    "    for true_boundaries, predicted_boundaries in zip(true_boundaries_list, predicted_boundaries_list):\n",
    "        score += calculate_boundary_similarity(true_boundaries, predicted_boundaries)\n",
    "    \n",
    "    score /= len(true_boundaries_list)  # Average BSS score across all texts\n",
    "    \n",
    "    if score > best_score:\n",
    "        best_score = score\n",
    "        best_threshold = threshold\n",
    "\n",
    "print(\"Best Threshold:\", best_threshold)\n",
    "print(\"Best Boundary Similarity Score:\", best_score)\n"
   ]
  },
  {
   "cell_type": "code",
   "execution_count": null,
   "id": "93839fb8",
   "metadata": {},
   "outputs": [],
   "source": []
  }
 ],
 "metadata": {
  "kernelspec": {
   "display_name": "Python 3 (ipykernel)",
   "language": "python",
   "name": "python3"
  },
  "language_info": {
   "codemirror_mode": {
    "name": "ipython",
    "version": 3
   },
   "file_extension": ".py",
   "mimetype": "text/x-python",
   "name": "python",
   "nbconvert_exporter": "python",
   "pygments_lexer": "ipython3",
   "version": "3.11.3"
  }
 },
 "nbformat": 4,
 "nbformat_minor": 5
}
