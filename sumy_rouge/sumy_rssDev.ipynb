{
 "cells": [
  {
   "cell_type": "code",
   "execution_count": 101,
   "id": "eacfc1a1",
   "metadata": {},
   "outputs": [],
   "source": [
    "import os               # import os to walk file path\n",
    "import pandas as pd     # import pandas for dataframes\n",
    "import numpy as np      \n",
    "import json\n",
    "import statistics"
   ]
  },
  {
   "cell_type": "code",
   "execution_count": 26,
   "id": "95e8e8f5",
   "metadata": {},
   "outputs": [
    {
     "name": "stdout",
     "output_type": "stream",
     "text": [
      "5-web-design-trends-.json\n",
      "locate-empty-directo.json\n",
      "overview-of-spiral-s.json\n",
      "Files not read in:  0\n",
      "Files read in:  27\n",
      "                                     header_title  \\\n",
      "0   Convert Fahrenheit to Celsius with JavaScript   \n",
      "1     Create a Thumbnail From a Video with ffmpeg   \n",
      "2                      CSS ::file-selector-button   \n",
      "3                Customizing HTML Form Validation   \n",
      "4  Detect Browser Bars Visibility with JavaScript   \n",
      "\n",
      "                              date  \\\n",
      "0  Wed, 26 Oct 2022 10:19:49 +0000   \n",
      "1  Tue, 25 Oct 2022 09:28:58 +0000   \n",
      "2  Mon, 20 Feb 2023 09:50:57 +0000   \n",
      "3  Mon, 09 Jan 2023 10:57:00 +0000   \n",
      "4  Fri, 30 Dec 2022 01:36:35 +0000   \n",
      "\n",
      "                                                text  \\\n",
      "0  The United States is one of the last bodies th...   \n",
      "1  Creating a thumbnail to represent a video is a...   \n",
      "2  We all love beautifully styled form controls b...   \n",
      "3  Form validation has always been my least favor...   \n",
      "4  It's one thing to know about what's in the bro...   \n",
      "\n",
      "                                             summary  \\\n",
      "0  The article discusses the importance of provid...   \n",
      "1  The article discusses several topics related t...   \n",
      "2  This article discusses various web development...   \n",
      "3  The article discusses how to control native fo...   \n",
      "4  The article discusses how developers can gain ...   \n",
      "\n",
      "                                                 url  \n",
      "0  https://davidwalsh.name/fahrenheit-celsius-jav...  \n",
      "1    https://davidwalsh.name/create-thumbnail-ffmpeg  \n",
      "2   https://davidwalsh.name/css-file-selector-button  \n",
      "3           https://davidwalsh.name/html5-validation  \n",
      "4        https://davidwalsh.name/detect-browser-bars  \n"
     ]
    }
   ],
   "source": [
    "# Relative path\n",
    "path_to_data = 'rssDevData/'\n",
    "\n",
    "# Names of 5 blog categories to import \n",
    "blogs = ['DavidWalsh','DeveloperDotCom']\n",
    "\n",
    "# Identify key to blog text in JSON file\n",
    "key = 'text'\n",
    "\n",
    "# Initialize empty data frame\n",
    "text_data = pd.DataFrame()\n",
    "\n",
    "#Initialize counter to keep track of files that fail\n",
    "files_not_read = 0\n",
    "\n",
    "category_sizes = [] # To store number of blog articles by category\n",
    "labels = [] # To store \"true\" labels ->  [0, 1, 2, 3, 4]\n",
    "label = 0\n",
    "\n",
    "for blog in blogs :\n",
    "    current_blog_category_count = 0\n",
    "    \n",
    "    path_to_blogs = path_to_data + blog \n",
    "    \n",
    "    for root, dir, files in os.walk(path_to_blogs) :\n",
    "        # get list of only json files\n",
    "        json_files = [pos_json for pos_json in files if pos_json.endswith('.json')]\n",
    "\n",
    "        for j in json_files :\n",
    "            with open(root + '/' + j, 'r') as f:\n",
    "                try:\n",
    "                    data = json.load(f)\n",
    "                    if len(data[key]) > 200 :\n",
    "                        try : # fails when there is more than one json object in the file \n",
    "                            text_data = pd.concat([text_data, pd.DataFrame(data, index=[0])], ignore_index=True) \n",
    "                            current_blog_category_count += 1 \n",
    "                            labels.append(label) \n",
    "                        except : \n",
    "                            files_not_read += 1\n",
    "                except:\n",
    "                    print(j)\n",
    "print('Files not read in: ', str(files_not_read))\n",
    "print('Files read in: ', str(len(text_data)))\n",
    "print(text_data.head())"
   ]
  },
  {
   "cell_type": "code",
   "execution_count": 27,
   "id": "cee00553",
   "metadata": {},
   "outputs": [
    {
     "data": {
      "text/html": [
       "<div>\n",
       "<style scoped>\n",
       "    .dataframe tbody tr th:only-of-type {\n",
       "        vertical-align: middle;\n",
       "    }\n",
       "\n",
       "    .dataframe tbody tr th {\n",
       "        vertical-align: top;\n",
       "    }\n",
       "\n",
       "    .dataframe thead th {\n",
       "        text-align: right;\n",
       "    }\n",
       "</style>\n",
       "<table border=\"1\" class=\"dataframe\">\n",
       "  <thead>\n",
       "    <tr style=\"text-align: right;\">\n",
       "      <th></th>\n",
       "      <th>header_title</th>\n",
       "      <th>date</th>\n",
       "      <th>text</th>\n",
       "      <th>summary</th>\n",
       "      <th>url</th>\n",
       "    </tr>\n",
       "  </thead>\n",
       "  <tbody>\n",
       "    <tr>\n",
       "      <th>0</th>\n",
       "      <td>Convert Fahrenheit to Celsius with JavaScript</td>\n",
       "      <td>Wed, 26 Oct 2022 10:19:49 +0000</td>\n",
       "      <td>The United States is one of the last bodies th...</td>\n",
       "      <td>The article discusses the importance of provid...</td>\n",
       "      <td>https://davidwalsh.name/fahrenheit-celsius-jav...</td>\n",
       "    </tr>\n",
       "    <tr>\n",
       "      <th>1</th>\n",
       "      <td>Create a Thumbnail From a Video with ffmpeg</td>\n",
       "      <td>Tue, 25 Oct 2022 09:28:58 +0000</td>\n",
       "      <td>Creating a thumbnail to represent a video is a...</td>\n",
       "      <td>The article discusses several topics related t...</td>\n",
       "      <td>https://davidwalsh.name/create-thumbnail-ffmpeg</td>\n",
       "    </tr>\n",
       "    <tr>\n",
       "      <th>2</th>\n",
       "      <td>CSS ::file-selector-button</td>\n",
       "      <td>Mon, 20 Feb 2023 09:50:57 +0000</td>\n",
       "      <td>We all love beautifully styled form controls b...</td>\n",
       "      <td>This article discusses various web development...</td>\n",
       "      <td>https://davidwalsh.name/css-file-selector-button</td>\n",
       "    </tr>\n",
       "    <tr>\n",
       "      <th>3</th>\n",
       "      <td>Customizing HTML Form Validation</td>\n",
       "      <td>Mon, 09 Jan 2023 10:57:00 +0000</td>\n",
       "      <td>Form validation has always been my least favor...</td>\n",
       "      <td>The article discusses how to control native fo...</td>\n",
       "      <td>https://davidwalsh.name/html5-validation</td>\n",
       "    </tr>\n",
       "    <tr>\n",
       "      <th>4</th>\n",
       "      <td>Detect Browser Bars Visibility with JavaScript</td>\n",
       "      <td>Fri, 30 Dec 2022 01:36:35 +0000</td>\n",
       "      <td>It's one thing to know about what's in the bro...</td>\n",
       "      <td>The article discusses how developers can gain ...</td>\n",
       "      <td>https://davidwalsh.name/detect-browser-bars</td>\n",
       "    </tr>\n",
       "  </tbody>\n",
       "</table>\n",
       "</div>"
      ],
      "text/plain": [
       "                                     header_title  \\\n",
       "0   Convert Fahrenheit to Celsius with JavaScript   \n",
       "1     Create a Thumbnail From a Video with ffmpeg   \n",
       "2                      CSS ::file-selector-button   \n",
       "3                Customizing HTML Form Validation   \n",
       "4  Detect Browser Bars Visibility with JavaScript   \n",
       "\n",
       "                              date  \\\n",
       "0  Wed, 26 Oct 2022 10:19:49 +0000   \n",
       "1  Tue, 25 Oct 2022 09:28:58 +0000   \n",
       "2  Mon, 20 Feb 2023 09:50:57 +0000   \n",
       "3  Mon, 09 Jan 2023 10:57:00 +0000   \n",
       "4  Fri, 30 Dec 2022 01:36:35 +0000   \n",
       "\n",
       "                                                text  \\\n",
       "0  The United States is one of the last bodies th...   \n",
       "1  Creating a thumbnail to represent a video is a...   \n",
       "2  We all love beautifully styled form controls b...   \n",
       "3  Form validation has always been my least favor...   \n",
       "4  It's one thing to know about what's in the bro...   \n",
       "\n",
       "                                             summary  \\\n",
       "0  The article discusses the importance of provid...   \n",
       "1  The article discusses several topics related t...   \n",
       "2  This article discusses various web development...   \n",
       "3  The article discusses how to control native fo...   \n",
       "4  The article discusses how developers can gain ...   \n",
       "\n",
       "                                                 url  \n",
       "0  https://davidwalsh.name/fahrenheit-celsius-jav...  \n",
       "1    https://davidwalsh.name/create-thumbnail-ffmpeg  \n",
       "2   https://davidwalsh.name/css-file-selector-button  \n",
       "3           https://davidwalsh.name/html5-validation  \n",
       "4        https://davidwalsh.name/detect-browser-bars  "
      ]
     },
     "execution_count": 27,
     "metadata": {},
     "output_type": "execute_result"
    }
   ],
   "source": [
    "text_data.head()"
   ]
  },
  {
   "cell_type": "code",
   "execution_count": 28,
   "id": "959130bb",
   "metadata": {},
   "outputs": [],
   "source": [
    "import sumy\n",
    "from sumy.parsers.html import HtmlParser\n",
    "from sumy.parsers.plaintext import PlaintextParser\n",
    "from sumy.nlp.tokenizers import Tokenizer\n",
    "from sumy.summarizers.lsa import LsaSummarizer \n",
    "from sumy.summarizers.luhn import LuhnSummarizer\n",
    "from sumy.summarizers.text_rank import TextRankSummarizer\n",
    "from sumy.summarizers.lex_rank import LexRankSummarizer\n",
    "\n",
    "from sumy.nlp.stemmers import Stemmer\n",
    "from sumy.utils import get_stop_words"
   ]
  },
  {
   "cell_type": "code",
   "execution_count": 29,
   "id": "4bacd7b6",
   "metadata": {},
   "outputs": [],
   "source": [
    "def summarizator_LexRank(text):\n",
    "    SENTENCES_COUNT = 3\n",
    "    language = 'english'\n",
    "\n",
    "    sumario_summy = []\n",
    "    parser = PlaintextParser.from_string(text, Tokenizer(language))\n",
    "    stemmer = Stemmer(language)\n",
    "    summarizer = LexRankSummarizer(stemmer)\n",
    "    summarizer.stop_words = get_stop_words(language)\n",
    "    summary = []\n",
    "        \n",
    "    for sentence in summarizer(parser.document, SENTENCES_COUNT):\n",
    "        summary.append(str(sentence))\n",
    "\n",
    "    summary = ' '.join(summary)\n",
    "    sumario_summy.append(summary)\n",
    "        \n",
    "    return \" \".join(sumario_summy)"
   ]
  },
  {
   "cell_type": "code",
   "execution_count": 30,
   "id": "3e78e13a",
   "metadata": {},
   "outputs": [],
   "source": [
    "text_data[\"Sumy_LexRank\"] = text_data[\"text\"].apply(summarizator_LexRank)"
   ]
  },
  {
   "cell_type": "code",
   "execution_count": 31,
   "id": "bf0b537f",
   "metadata": {},
   "outputs": [],
   "source": [
    "def summarizator_Luhn(text):\n",
    "    SENTENCES_COUNT = 3\n",
    "    language = 'english'\n",
    "\n",
    "    sumario_summy = []\n",
    "    parser = PlaintextParser.from_string(text, Tokenizer(language))\n",
    "    stemmer = Stemmer(language)\n",
    "    summarizer = LuhnSummarizer(stemmer)\n",
    "    summarizer.stop_words = get_stop_words(language)\n",
    "    summary = []\n",
    "        \n",
    "    for sentence in summarizer(parser.document, SENTENCES_COUNT):\n",
    "        summary.append(str(sentence))\n",
    "\n",
    "    summary = ' '.join(summary)\n",
    "    sumario_summy.append(summary)\n",
    "        \n",
    "    return \" \".join(sumario_summy)"
   ]
  },
  {
   "cell_type": "code",
   "execution_count": 32,
   "id": "2168999e",
   "metadata": {},
   "outputs": [],
   "source": [
    "text_data[\"Sumy_Luhn\"] = text_data[\"text\"].apply(summarizator_Luhn)"
   ]
  },
  {
   "cell_type": "code",
   "execution_count": 33,
   "id": "156575d7",
   "metadata": {},
   "outputs": [],
   "source": [
    "def summarizator_Lsa(text):\n",
    "    SENTENCES_COUNT = 3\n",
    "    language = 'english'\n",
    "\n",
    "    sumario_summy = []\n",
    "    parser = PlaintextParser.from_string(text, Tokenizer(language))\n",
    "    stemmer = Stemmer(language)\n",
    "    summarizer = LsaSummarizer(stemmer)\n",
    "    summarizer.stop_words = get_stop_words(language)\n",
    "    summary = []\n",
    "        \n",
    "    for sentence in summarizer(parser.document, SENTENCES_COUNT):\n",
    "        summary.append(str(sentence))\n",
    "\n",
    "    summary = ' '.join(summary)\n",
    "    sumario_summy.append(summary)\n",
    "        \n",
    "    return \" \".join(sumario_summy)"
   ]
  },
  {
   "cell_type": "code",
   "execution_count": 34,
   "id": "64964dce",
   "metadata": {},
   "outputs": [],
   "source": [
    "text_data[\"Sumy_Lsa\"] = text_data[\"text\"].apply(summarizator_Lsa)"
   ]
  },
  {
   "cell_type": "code",
   "execution_count": 35,
   "id": "a2f85824",
   "metadata": {},
   "outputs": [],
   "source": [
    "def summarizator_TextRank(text):\n",
    "    SENTENCES_COUNT = 3\n",
    "    language = 'english'\n",
    "\n",
    "    sumario_summy = []\n",
    "    parser = PlaintextParser.from_string(text, Tokenizer(language))\n",
    "    stemmer = Stemmer(language)\n",
    "    summarizer = TextRankSummarizer(stemmer)\n",
    "    summarizer.stop_words = get_stop_words(language)\n",
    "    summary = []\n",
    "        \n",
    "    for sentence in summarizer(parser.document, SENTENCES_COUNT):\n",
    "        summary.append(str(sentence))\n",
    "\n",
    "    summary = ' '.join(summary)\n",
    "    sumario_summy.append(summary)\n",
    "        \n",
    "    return \" \".join(sumario_summy)"
   ]
  },
  {
   "cell_type": "code",
   "execution_count": 36,
   "id": "4866713a",
   "metadata": {},
   "outputs": [],
   "source": [
    "text_data[\"Sumy_TextRank\"] = text_data[\"text\"].apply(summarizator_TextRank)"
   ]
  },
  {
   "cell_type": "code",
   "execution_count": 37,
   "id": "742b589d",
   "metadata": {},
   "outputs": [
    {
     "data": {
      "text/html": [
       "<div>\n",
       "<style scoped>\n",
       "    .dataframe tbody tr th:only-of-type {\n",
       "        vertical-align: middle;\n",
       "    }\n",
       "\n",
       "    .dataframe tbody tr th {\n",
       "        vertical-align: top;\n",
       "    }\n",
       "\n",
       "    .dataframe thead th {\n",
       "        text-align: right;\n",
       "    }\n",
       "</style>\n",
       "<table border=\"1\" class=\"dataframe\">\n",
       "  <thead>\n",
       "    <tr style=\"text-align: right;\">\n",
       "      <th></th>\n",
       "      <th>header_title</th>\n",
       "      <th>date</th>\n",
       "      <th>text</th>\n",
       "      <th>summary</th>\n",
       "      <th>url</th>\n",
       "      <th>Sumy_LexRank</th>\n",
       "      <th>Sumy_Luhn</th>\n",
       "      <th>Sumy_Lsa</th>\n",
       "      <th>Sumy_TextRank</th>\n",
       "    </tr>\n",
       "  </thead>\n",
       "  <tbody>\n",
       "    <tr>\n",
       "      <th>0</th>\n",
       "      <td>Convert Fahrenheit to Celsius with JavaScript</td>\n",
       "      <td>Wed, 26 Oct 2022 10:19:49 +0000</td>\n",
       "      <td>The United States is one of the last bodies th...</td>\n",
       "      <td>The article discusses the importance of provid...</td>\n",
       "      <td>https://davidwalsh.name/fahrenheit-celsius-jav...</td>\n",
       "      <td>Because we're arrogant and feel like we don't ...</td>\n",
       "      <td>The United States is one of the last bodies th...</td>\n",
       "      <td>I provide training and documentation to the cu...</td>\n",
       "      <td>Let's took at how you can convert between Fahr...</td>\n",
       "    </tr>\n",
       "    <tr>\n",
       "      <th>1</th>\n",
       "      <td>Create a Thumbnail From a Video with ffmpeg</td>\n",
       "      <td>Tue, 25 Oct 2022 09:28:58 +0000</td>\n",
       "      <td>Creating a thumbnail to represent a video is a...</td>\n",
       "      <td>The article discusses several topics related t...</td>\n",
       "      <td>https://davidwalsh.name/create-thumbnail-ffmpeg</td>\n",
       "      <td>Let's view how we can create a preview thumbna...</td>\n",
       "      <td>Let's view how we can create a preview thumbna...</td>\n",
       "      <td>Creating a thumbnail to represent a video is a...</td>\n",
       "      <td>Let's view how we can create a preview thumbna...</td>\n",
       "    </tr>\n",
       "    <tr>\n",
       "      <th>2</th>\n",
       "      <td>CSS ::file-selector-button</td>\n",
       "      <td>Mon, 20 Feb 2023 09:50:57 +0000</td>\n",
       "      <td>We all love beautifully styled form controls b...</td>\n",
       "      <td>This article discusses various web development...</td>\n",
       "      <td>https://davidwalsh.name/css-file-selector-button</td>\n",
       "      <td>We all love beautifully styled form controls b...</td>\n",
       "      <td>We all love beautifully styled form controls b...</td>\n",
       "      <td>Unfortunately that sometimes comes at the cost...</td>\n",
       "      <td>We all love beautifully styled form controls b...</td>\n",
       "    </tr>\n",
       "    <tr>\n",
       "      <th>3</th>\n",
       "      <td>Customizing HTML Form Validation</td>\n",
       "      <td>Mon, 09 Jan 2023 10:57:00 +0000</td>\n",
       "      <td>Form validation has always been my least favor...</td>\n",
       "      <td>The article discusses how to control native fo...</td>\n",
       "      <td>https://davidwalsh.name/html5-validation</td>\n",
       "      <td>You need to duplicate validation on both clien...</td>\n",
       "      <td>ValidityState looks something like this:Each p...</td>\n",
       "      <td>Â Our effort to...With Firefox OS, asm.js, and...</td>\n",
       "      <td>Did you know, however, that you can control na...</td>\n",
       "    </tr>\n",
       "    <tr>\n",
       "      <th>4</th>\n",
       "      <td>Detect Browser Bars Visibility with JavaScript</td>\n",
       "      <td>Fri, 30 Dec 2022 01:36:35 +0000</td>\n",
       "      <td>It's one thing to know about what's in the bro...</td>\n",
       "      <td>The article discusses how developers can gain ...</td>\n",
       "      <td>https://davidwalsh.name/detect-browser-bars</td>\n",
       "      <td>We've gotten past detecting which browser the ...</td>\n",
       "      <td>It's one thing to know about what's in the bro...</td>\n",
       "      <td>My name is Mark (or @integralist if Twitter ha...</td>\n",
       "      <td>We've gotten past detecting which browser the ...</td>\n",
       "    </tr>\n",
       "  </tbody>\n",
       "</table>\n",
       "</div>"
      ],
      "text/plain": [
       "                                     header_title  \\\n",
       "0   Convert Fahrenheit to Celsius with JavaScript   \n",
       "1     Create a Thumbnail From a Video with ffmpeg   \n",
       "2                      CSS ::file-selector-button   \n",
       "3                Customizing HTML Form Validation   \n",
       "4  Detect Browser Bars Visibility with JavaScript   \n",
       "\n",
       "                              date  \\\n",
       "0  Wed, 26 Oct 2022 10:19:49 +0000   \n",
       "1  Tue, 25 Oct 2022 09:28:58 +0000   \n",
       "2  Mon, 20 Feb 2023 09:50:57 +0000   \n",
       "3  Mon, 09 Jan 2023 10:57:00 +0000   \n",
       "4  Fri, 30 Dec 2022 01:36:35 +0000   \n",
       "\n",
       "                                                text  \\\n",
       "0  The United States is one of the last bodies th...   \n",
       "1  Creating a thumbnail to represent a video is a...   \n",
       "2  We all love beautifully styled form controls b...   \n",
       "3  Form validation has always been my least favor...   \n",
       "4  It's one thing to know about what's in the bro...   \n",
       "\n",
       "                                             summary  \\\n",
       "0  The article discusses the importance of provid...   \n",
       "1  The article discusses several topics related t...   \n",
       "2  This article discusses various web development...   \n",
       "3  The article discusses how to control native fo...   \n",
       "4  The article discusses how developers can gain ...   \n",
       "\n",
       "                                                 url  \\\n",
       "0  https://davidwalsh.name/fahrenheit-celsius-jav...   \n",
       "1    https://davidwalsh.name/create-thumbnail-ffmpeg   \n",
       "2   https://davidwalsh.name/css-file-selector-button   \n",
       "3           https://davidwalsh.name/html5-validation   \n",
       "4        https://davidwalsh.name/detect-browser-bars   \n",
       "\n",
       "                                        Sumy_LexRank  \\\n",
       "0  Because we're arrogant and feel like we don't ...   \n",
       "1  Let's view how we can create a preview thumbna...   \n",
       "2  We all love beautifully styled form controls b...   \n",
       "3  You need to duplicate validation on both clien...   \n",
       "4  We've gotten past detecting which browser the ...   \n",
       "\n",
       "                                           Sumy_Luhn  \\\n",
       "0  The United States is one of the last bodies th...   \n",
       "1  Let's view how we can create a preview thumbna...   \n",
       "2  We all love beautifully styled form controls b...   \n",
       "3  ValidityState looks something like this:Each p...   \n",
       "4  It's one thing to know about what's in the bro...   \n",
       "\n",
       "                                            Sumy_Lsa  \\\n",
       "0  I provide training and documentation to the cu...   \n",
       "1  Creating a thumbnail to represent a video is a...   \n",
       "2  Unfortunately that sometimes comes at the cost...   \n",
       "3  Â Our effort to...With Firefox OS, asm.js, and...   \n",
       "4  My name is Mark (or @integralist if Twitter ha...   \n",
       "\n",
       "                                       Sumy_TextRank  \n",
       "0  Let's took at how you can convert between Fahr...  \n",
       "1  Let's view how we can create a preview thumbna...  \n",
       "2  We all love beautifully styled form controls b...  \n",
       "3  Did you know, however, that you can control na...  \n",
       "4  We've gotten past detecting which browser the ...  "
      ]
     },
     "execution_count": 37,
     "metadata": {},
     "output_type": "execute_result"
    }
   ],
   "source": [
    "text_data.head()"
   ]
  },
  {
   "cell_type": "code",
   "execution_count": 38,
   "id": "98b84c67",
   "metadata": {},
   "outputs": [],
   "source": [
    "from rouge import Rouge"
   ]
  },
  {
   "cell_type": "code",
   "execution_count": 39,
   "id": "75b87385",
   "metadata": {},
   "outputs": [
    {
     "data": {
      "text/plain": [
       "header_title     0\n",
       "date             0\n",
       "text             0\n",
       "summary          0\n",
       "url              0\n",
       "Sumy_LexRank     0\n",
       "Sumy_Luhn        0\n",
       "Sumy_Lsa         0\n",
       "Sumy_TextRank    0\n",
       "dtype: int64"
      ]
     },
     "execution_count": 39,
     "metadata": {},
     "output_type": "execute_result"
    }
   ],
   "source": [
    "text_data.isnull().sum()"
   ]
  },
  {
   "cell_type": "code",
   "execution_count": 40,
   "id": "46f7f37a",
   "metadata": {},
   "outputs": [
    {
     "data": {
      "text/html": [
       "<div>\n",
       "<style scoped>\n",
       "    .dataframe tbody tr th:only-of-type {\n",
       "        vertical-align: middle;\n",
       "    }\n",
       "\n",
       "    .dataframe tbody tr th {\n",
       "        vertical-align: top;\n",
       "    }\n",
       "\n",
       "    .dataframe thead th {\n",
       "        text-align: right;\n",
       "    }\n",
       "</style>\n",
       "<table border=\"1\" class=\"dataframe\">\n",
       "  <thead>\n",
       "    <tr style=\"text-align: right;\">\n",
       "      <th></th>\n",
       "      <th>rouge-1</th>\n",
       "      <th>rouge-2</th>\n",
       "      <th>rouge-l</th>\n",
       "    </tr>\n",
       "  </thead>\n",
       "  <tbody>\n",
       "    <tr>\n",
       "      <th>0</th>\n",
       "      <td>{'r': 0.23214285714285715, 'p': 0.166666666666...</td>\n",
       "      <td>{'r': 0.058823529411764705, 'p': 0.03773584905...</td>\n",
       "      <td>{'r': 0.21428571428571427, 'p': 0.153846153846...</td>\n",
       "    </tr>\n",
       "    <tr>\n",
       "      <th>1</th>\n",
       "      <td>{'r': 0.42857142857142855, 'p': 0.233766233766...</td>\n",
       "      <td>{'r': 0.13725490196078433, 'p': 0.064220183486...</td>\n",
       "      <td>{'r': 0.40476190476190477, 'p': 0.220779220779...</td>\n",
       "    </tr>\n",
       "    <tr>\n",
       "      <th>2</th>\n",
       "      <td>{'r': 0.39285714285714285, 'p': 0.301369863013...</td>\n",
       "      <td>{'r': 0.14754098360655737, 'p': 0.101123595505...</td>\n",
       "      <td>{'r': 0.3392857142857143, 'p': 0.2602739726027...</td>\n",
       "    </tr>\n",
       "    <tr>\n",
       "      <th>3</th>\n",
       "      <td>{'r': 0.3157894736842105, 'p': 0.3478260869565...</td>\n",
       "      <td>{'r': 0.07954545454545454, 'p': 0.07, 'f': 0.0...</td>\n",
       "      <td>{'r': 0.2894736842105263, 'p': 0.3188405797101...</td>\n",
       "    </tr>\n",
       "    <tr>\n",
       "      <th>4</th>\n",
       "      <td>{'r': 0.30952380952380953, 'p': 0.351351351351...</td>\n",
       "      <td>{'r': 0.1111111111111111, 'p': 0.1145833333333...</td>\n",
       "      <td>{'r': 0.2976190476190476, 'p': 0.3378378378378...</td>\n",
       "    </tr>\n",
       "  </tbody>\n",
       "</table>\n",
       "</div>"
      ],
      "text/plain": [
       "                                             rouge-1  \\\n",
       "0  {'r': 0.23214285714285715, 'p': 0.166666666666...   \n",
       "1  {'r': 0.42857142857142855, 'p': 0.233766233766...   \n",
       "2  {'r': 0.39285714285714285, 'p': 0.301369863013...   \n",
       "3  {'r': 0.3157894736842105, 'p': 0.3478260869565...   \n",
       "4  {'r': 0.30952380952380953, 'p': 0.351351351351...   \n",
       "\n",
       "                                             rouge-2  \\\n",
       "0  {'r': 0.058823529411764705, 'p': 0.03773584905...   \n",
       "1  {'r': 0.13725490196078433, 'p': 0.064220183486...   \n",
       "2  {'r': 0.14754098360655737, 'p': 0.101123595505...   \n",
       "3  {'r': 0.07954545454545454, 'p': 0.07, 'f': 0.0...   \n",
       "4  {'r': 0.1111111111111111, 'p': 0.1145833333333...   \n",
       "\n",
       "                                             rouge-l  \n",
       "0  {'r': 0.21428571428571427, 'p': 0.153846153846...  \n",
       "1  {'r': 0.40476190476190477, 'p': 0.220779220779...  \n",
       "2  {'r': 0.3392857142857143, 'p': 0.2602739726027...  \n",
       "3  {'r': 0.2894736842105263, 'p': 0.3188405797101...  \n",
       "4  {'r': 0.2976190476190476, 'p': 0.3378378378378...  "
      ]
     },
     "execution_count": 40,
     "metadata": {},
     "output_type": "execute_result"
    }
   ],
   "source": [
    "rouge = Rouge()\n",
    "scores1 = rouge.get_scores(text_data[\"summary\"], text_data[\"Sumy_LexRank\"])\n",
    "df_result1 = pd.DataFrame(scores1)\n",
    "df_result1.head()"
   ]
  },
  {
   "cell_type": "code",
   "execution_count": 41,
   "id": "7f9ffc2a",
   "metadata": {},
   "outputs": [],
   "source": [
    "scores2 = rouge.get_scores(text_data[\"summary\"], text_data[\"Sumy_Lsa\"])\n",
    "df_result2 = pd.DataFrame(scores2)"
   ]
  },
  {
   "cell_type": "code",
   "execution_count": 42,
   "id": "6592a22f",
   "metadata": {},
   "outputs": [],
   "source": [
    "scores3 = rouge.get_scores(text_data[\"summary\"], text_data[\"Sumy_TextRank\"])\n",
    "df_result3 = pd.DataFrame(scores3)"
   ]
  },
  {
   "cell_type": "code",
   "execution_count": 45,
   "id": "a1eefb1e",
   "metadata": {},
   "outputs": [],
   "source": [
    "scores4 = rouge.get_scores(text_data[\"summary\"], text_data[\"Sumy_Luhn\"])\n",
    "df_result4 = pd.DataFrame(scores4)"
   ]
  },
  {
   "cell_type": "code",
   "execution_count": 47,
   "id": "bdcb5454",
   "metadata": {},
   "outputs": [
    {
     "name": "stdout",
     "output_type": "stream",
     "text": [
      "Sumy_LexRank: {'r': 0.2440944881889764, 'p': 0.3924050632911392, 'f': 0.30097086905787546} \n",
      " Sumy_Lsa: {'r': 0.28205128205128205, 'p': 0.27848101265822783, 'f': 0.28025477207026656} \n",
      " Sumy_TextRank: {'r': 0.23134328358208955, 'p': 0.3924050632911392, 'f': 0.2910798075399502} \n",
      " Sumy_Luhn: {'r': 0.21341463414634146, 'p': 0.4430379746835443, 'f': 0.28806583923317924}\n"
     ]
    }
   ],
   "source": [
    "print('Sumy_LexRank:',df_result1['rouge-1'][20],'\\n','Sumy_Lsa:', df_result2['rouge-1'][20] ,'\\n','Sumy_TextRank:', df_result3['rouge-1'][20],'\\n','Sumy_Luhn:', df_result4['rouge-1'][20])"
   ]
  },
  {
   "cell_type": "code",
   "execution_count": 70,
   "id": "52420f84",
   "metadata": {},
   "outputs": [
    {
     "data": {
      "text/plain": [
       "0.19402984588104266"
      ]
     },
     "execution_count": 70,
     "metadata": {},
     "output_type": "execute_result"
    }
   ],
   "source": [
    "df_result1['rouge-1'][0]['f']"
   ]
  },
  {
   "cell_type": "code",
   "execution_count": 94,
   "id": "39ecfdd7",
   "metadata": {},
   "outputs": [
    {
     "name": "stdout",
     "output_type": "stream",
     "text": [
      "result for Sumy_LexRank\n",
      "mean_rouge_1 =  0.29401606039048134\n",
      "mean_rouge_2 =  0.09588269689366793\n",
      "mean_rouge_l =  0.26702224418029985\n"
     ]
    }
   ],
   "source": [
    "f_rouge_1 = []\n",
    "f_rouge_2 = []\n",
    "f_rouge_l = []\n",
    "\n",
    "for i in range(len(df_result1)):\n",
    "    r = df_result1['rouge-1'][i]['f']\n",
    "    f_rouge_1.append(r)\n",
    "    k = df_result1['rouge-2'][i]['f']\n",
    "    f_rouge_2.append(k)\n",
    "    h = df_result1['rouge-l'][i]['f']\n",
    "    f_rouge_l.append(h)\n",
    "\n",
    "print('result for Sumy_LexRank')\n",
    "print('mean_rouge_1 = ', np.mean(f_rouge_1))\n",
    "print('mean_rouge_2 = ', np.mean(f_rouge_2))\n",
    "print('mean_rouge_l = ', np.mean(f_rouge_l))"
   ]
  },
  {
   "cell_type": "code",
   "execution_count": 95,
   "id": "1af7ca9f",
   "metadata": {},
   "outputs": [
    {
     "name": "stdout",
     "output_type": "stream",
     "text": [
      "result for Sumy_Lsa\n",
      "mean_rouge_1 =  0.27094191264626183\n",
      "mean_rouge_2 =  0.0723606201385509\n",
      "mean_rouge_l =  0.24089593290018835\n"
     ]
    }
   ],
   "source": [
    "f_rouge_1 = []\n",
    "f_rouge_2 = []\n",
    "f_rouge_l = []\n",
    "\n",
    "for i in range(len(df_result2)):\n",
    "    r = df_result2['rouge-1'][i]['f']\n",
    "    f_rouge_1.append(r)\n",
    "    k = df_result2['rouge-2'][i]['f']\n",
    "    f_rouge_2.append(k)\n",
    "    h = df_result2['rouge-l'][i]['f']\n",
    "    f_rouge_l.append(h)\n",
    "\n",
    "print('result for Sumy_Lsa')\n",
    "print('mean_rouge_1 = ', np.mean(f_rouge_1))\n",
    "print('mean_rouge_2 = ', np.mean(f_rouge_2))\n",
    "print('mean_rouge_l = ', np.mean(f_rouge_l))"
   ]
  },
  {
   "cell_type": "code",
   "execution_count": 96,
   "id": "7a788819",
   "metadata": {},
   "outputs": [
    {
     "name": "stdout",
     "output_type": "stream",
     "text": [
      "result for Sumy_TextRank\n",
      "mean_rouge_1 =  0.32637613770511437\n",
      "mean_rouge_2 =  0.1286421375264844\n",
      "mean_rouge_l =  0.28723770724255904\n"
     ]
    }
   ],
   "source": [
    "f_rouge_1 = []\n",
    "f_rouge_2 = []\n",
    "f_rouge_l = []\n",
    "\n",
    "for i in range(len(df_result3)):\n",
    "    r = df_result3['rouge-1'][i]['f']\n",
    "    f_rouge_1.append(r)\n",
    "    k = df_result3['rouge-2'][i]['f']\n",
    "    f_rouge_2.append(k)\n",
    "    h = df_result3['rouge-l'][i]['f']\n",
    "    f_rouge_l.append(h)\n",
    "\n",
    "print('result for Sumy_TextRank')\n",
    "print('mean_rouge_1 = ', np.mean(f_rouge_1))\n",
    "print('mean_rouge_2 = ', np.mean(f_rouge_2))\n",
    "print('mean_rouge_l = ', np.mean(f_rouge_l))"
   ]
  },
  {
   "cell_type": "code",
   "execution_count": 103,
   "id": "69f32170",
   "metadata": {},
   "outputs": [
    {
     "name": "stdout",
     "output_type": "stream",
     "text": [
      "result for Sumy_Luhn\n",
      "mean_rouge_1 =  0.31995125829339166 0.06883703553076331\n",
      "mean_rouge_2 =  0.12612490297098547 0.07354543199235249\n",
      "mean_rouge_l =  0.2804113203176847 0.06755262539872184\n"
     ]
    }
   ],
   "source": [
    "f_rouge_1 = []\n",
    "f_rouge_2 = []\n",
    "f_rouge_l = []\n",
    "\n",
    "for i in range(len(df_result4)):\n",
    "    r = df_result4['rouge-1'][i]['f']\n",
    "    f_rouge_1.append(r)\n",
    "    k = df_result4['rouge-2'][i]['f']\n",
    "    f_rouge_2.append(k)\n",
    "    h = df_result4['rouge-l'][i]['f']\n",
    "    f_rouge_l.append(h)\n",
    "\n",
    "print('result for Sumy_Luhn')\n",
    "print('mean_rouge_1 = ', np.mean(f_rouge_1), statistics.stdev(f_rouge_1))\n",
    "print('mean_rouge_2 = ', np.mean(f_rouge_2), statistics.stdev(f_rouge_2))\n",
    "print('mean_rouge_l = ', np.mean(f_rouge_l), statistics.stdev(f_rouge_l))"
   ]
  },
  {
   "cell_type": "code",
   "execution_count": null,
   "id": "f49c6ecb",
   "metadata": {},
   "outputs": [],
   "source": []
  },
  {
   "cell_type": "code",
   "execution_count": null,
   "id": "80e6a6b6",
   "metadata": {},
   "outputs": [],
   "source": []
  }
 ],
 "metadata": {
  "kernelspec": {
   "display_name": "Python 3 (ipykernel)",
   "language": "python",
   "name": "python3"
  },
  "language_info": {
   "codemirror_mode": {
    "name": "ipython",
    "version": 3
   },
   "file_extension": ".py",
   "mimetype": "text/x-python",
   "name": "python",
   "nbconvert_exporter": "python",
   "pygments_lexer": "ipython3",
   "version": "3.9.9"
  }
 },
 "nbformat": 4,
 "nbformat_minor": 5
}
