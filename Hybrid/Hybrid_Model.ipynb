{
 "cells": [
  {
   "cell_type": "code",
   "execution_count": 1,
   "id": "eacfc1a1",
   "metadata": {},
   "outputs": [],
   "source": [
    "import os               # import os to walk file path\n",
    "import pandas as pd     # import pandas for dataframes\n",
    "import numpy as np      \n",
    "import json\n",
    "import statistics\n",
    "import time\n",
    "\n",
    "from rouge import Rouge\n",
    "import transformers\n",
    "from tqdm.auto import tqdm"
   ]
  },
  {
   "cell_type": "code",
   "execution_count": 2,
   "id": "f4975901",
   "metadata": {},
   "outputs": [],
   "source": [
    "# blogs = ['DZone','DavidWalsh','DeveloperDotCom','GeeksForGeeks','SCAND','SDTimes']"
   ]
  },
  {
   "cell_type": "code",
   "execution_count": 3,
   "id": "95e8e8f5",
   "metadata": {},
   "outputs": [
    {
     "name": "stdout",
     "output_type": "stream",
     "text": [
      "5-web-design-trends-.json\n",
      "locate-empty-directo.json\n",
      "overview-of-spiral-s.json\n",
      "Files not read in:  0\n",
      "Files read in:  27\n",
      "                                     header_title  \\\n",
      "0   Convert Fahrenheit to Celsius with JavaScript   \n",
      "1     Create a Thumbnail From a Video with ffmpeg   \n",
      "2                      CSS ::file-selector-button   \n",
      "3                Customizing HTML Form Validation   \n",
      "4  Detect Browser Bars Visibility with JavaScript   \n",
      "\n",
      "                              date  \\\n",
      "0  Wed, 26 Oct 2022 10:19:49 +0000   \n",
      "1  Tue, 25 Oct 2022 09:28:58 +0000   \n",
      "2  Mon, 20 Feb 2023 09:50:57 +0000   \n",
      "3  Mon, 09 Jan 2023 10:57:00 +0000   \n",
      "4  Fri, 30 Dec 2022 01:36:35 +0000   \n",
      "\n",
      "                                                text  \\\n",
      "0  The United States is one of the last bodies th...   \n",
      "1  Creating a thumbnail to represent a video is a...   \n",
      "2  We all love beautifully styled form controls b...   \n",
      "3  Form validation has always been my least favor...   \n",
      "4  It's one thing to know about what's in the bro...   \n",
      "\n",
      "                                             summary  \\\n",
      "0  The article discusses the importance of provid...   \n",
      "1  The article discusses several topics related t...   \n",
      "2  This article discusses various web development...   \n",
      "3  The article discusses how to control native fo...   \n",
      "4  The article discusses how developers can gain ...   \n",
      "\n",
      "                                                 url  \n",
      "0  https://davidwalsh.name/fahrenheit-celsius-jav...  \n",
      "1    https://davidwalsh.name/create-thumbnail-ffmpeg  \n",
      "2   https://davidwalsh.name/css-file-selector-button  \n",
      "3           https://davidwalsh.name/html5-validation  \n",
      "4        https://davidwalsh.name/detect-browser-bars  \n"
     ]
    }
   ],
   "source": [
    "# Relative path\n",
    "path_to_data = 'rssDevData/'\n",
    "\n",
    "# Names of 5 blog categories to import \n",
    "blogs = ['DavidWalsh','DeveloperDotCom']\n",
    "\n",
    "# Identify key to blog text in JSON file\n",
    "key = 'text'\n",
    "\n",
    "# Initialize empty data frame\n",
    "text_data = pd.DataFrame()\n",
    "\n",
    "#Initialize counter to keep track of files that fail\n",
    "files_not_read = 0\n",
    "\n",
    "category_sizes = [] # To store number of blog articles by category\n",
    "labels = [] # To store \"true\" labels ->  [0, 1, 2, 3, 4]\n",
    "label = 0\n",
    "\n",
    "for blog in blogs :\n",
    "    current_blog_category_count = 0\n",
    "    \n",
    "    path_to_blogs = path_to_data + blog \n",
    "    \n",
    "    for root, dir, files in os.walk(path_to_blogs) :\n",
    "        # get list of only json files\n",
    "        json_files = [pos_json for pos_json in files if pos_json.endswith('.json')]\n",
    "\n",
    "        for j in json_files :\n",
    "            with open(root + '/' + j, 'r') as f:\n",
    "                try:\n",
    "                    data = json.load(f)\n",
    "                    if len(data[key]) > 200 :\n",
    "                        try : # fails when there is more than one json object in the file \n",
    "                            text_data = pd.concat([text_data, pd.DataFrame(data, index=[0])], ignore_index=True) \n",
    "                            current_blog_category_count += 1 \n",
    "                            labels.append(label) \n",
    "                        except : \n",
    "                            files_not_read += 1\n",
    "                except:\n",
    "                    print(j)\n",
    "print('Files not read in: ', str(files_not_read))\n",
    "print('Files read in: ', str(len(text_data)))\n",
    "print(text_data.head())"
   ]
  },
  {
   "cell_type": "code",
   "execution_count": 4,
   "id": "cee00553",
   "metadata": {},
   "outputs": [
    {
     "data": {
      "text/html": [
       "<div>\n",
       "<style scoped>\n",
       "    .dataframe tbody tr th:only-of-type {\n",
       "        vertical-align: middle;\n",
       "    }\n",
       "\n",
       "    .dataframe tbody tr th {\n",
       "        vertical-align: top;\n",
       "    }\n",
       "\n",
       "    .dataframe thead th {\n",
       "        text-align: right;\n",
       "    }\n",
       "</style>\n",
       "<table border=\"1\" class=\"dataframe\">\n",
       "  <thead>\n",
       "    <tr style=\"text-align: right;\">\n",
       "      <th></th>\n",
       "      <th>header_title</th>\n",
       "      <th>date</th>\n",
       "      <th>text</th>\n",
       "      <th>summary</th>\n",
       "      <th>url</th>\n",
       "    </tr>\n",
       "  </thead>\n",
       "  <tbody>\n",
       "    <tr>\n",
       "      <th>0</th>\n",
       "      <td>Convert Fahrenheit to Celsius with JavaScript</td>\n",
       "      <td>Wed, 26 Oct 2022 10:19:49 +0000</td>\n",
       "      <td>The United States is one of the last bodies th...</td>\n",
       "      <td>The article discusses the importance of provid...</td>\n",
       "      <td>https://davidwalsh.name/fahrenheit-celsius-jav...</td>\n",
       "    </tr>\n",
       "    <tr>\n",
       "      <th>1</th>\n",
       "      <td>Create a Thumbnail From a Video with ffmpeg</td>\n",
       "      <td>Tue, 25 Oct 2022 09:28:58 +0000</td>\n",
       "      <td>Creating a thumbnail to represent a video is a...</td>\n",
       "      <td>The article discusses several topics related t...</td>\n",
       "      <td>https://davidwalsh.name/create-thumbnail-ffmpeg</td>\n",
       "    </tr>\n",
       "    <tr>\n",
       "      <th>2</th>\n",
       "      <td>CSS ::file-selector-button</td>\n",
       "      <td>Mon, 20 Feb 2023 09:50:57 +0000</td>\n",
       "      <td>We all love beautifully styled form controls b...</td>\n",
       "      <td>This article discusses various web development...</td>\n",
       "      <td>https://davidwalsh.name/css-file-selector-button</td>\n",
       "    </tr>\n",
       "    <tr>\n",
       "      <th>3</th>\n",
       "      <td>Customizing HTML Form Validation</td>\n",
       "      <td>Mon, 09 Jan 2023 10:57:00 +0000</td>\n",
       "      <td>Form validation has always been my least favor...</td>\n",
       "      <td>The article discusses how to control native fo...</td>\n",
       "      <td>https://davidwalsh.name/html5-validation</td>\n",
       "    </tr>\n",
       "    <tr>\n",
       "      <th>4</th>\n",
       "      <td>Detect Browser Bars Visibility with JavaScript</td>\n",
       "      <td>Fri, 30 Dec 2022 01:36:35 +0000</td>\n",
       "      <td>It's one thing to know about what's in the bro...</td>\n",
       "      <td>The article discusses how developers can gain ...</td>\n",
       "      <td>https://davidwalsh.name/detect-browser-bars</td>\n",
       "    </tr>\n",
       "  </tbody>\n",
       "</table>\n",
       "</div>"
      ],
      "text/plain": [
       "                                     header_title  \\\n",
       "0   Convert Fahrenheit to Celsius with JavaScript   \n",
       "1     Create a Thumbnail From a Video with ffmpeg   \n",
       "2                      CSS ::file-selector-button   \n",
       "3                Customizing HTML Form Validation   \n",
       "4  Detect Browser Bars Visibility with JavaScript   \n",
       "\n",
       "                              date  \\\n",
       "0  Wed, 26 Oct 2022 10:19:49 +0000   \n",
       "1  Tue, 25 Oct 2022 09:28:58 +0000   \n",
       "2  Mon, 20 Feb 2023 09:50:57 +0000   \n",
       "3  Mon, 09 Jan 2023 10:57:00 +0000   \n",
       "4  Fri, 30 Dec 2022 01:36:35 +0000   \n",
       "\n",
       "                                                text  \\\n",
       "0  The United States is one of the last bodies th...   \n",
       "1  Creating a thumbnail to represent a video is a...   \n",
       "2  We all love beautifully styled form controls b...   \n",
       "3  Form validation has always been my least favor...   \n",
       "4  It's one thing to know about what's in the bro...   \n",
       "\n",
       "                                             summary  \\\n",
       "0  The article discusses the importance of provid...   \n",
       "1  The article discusses several topics related t...   \n",
       "2  This article discusses various web development...   \n",
       "3  The article discusses how to control native fo...   \n",
       "4  The article discusses how developers can gain ...   \n",
       "\n",
       "                                                 url  \n",
       "0  https://davidwalsh.name/fahrenheit-celsius-jav...  \n",
       "1    https://davidwalsh.name/create-thumbnail-ffmpeg  \n",
       "2   https://davidwalsh.name/css-file-selector-button  \n",
       "3           https://davidwalsh.name/html5-validation  \n",
       "4        https://davidwalsh.name/detect-browser-bars  "
      ]
     },
     "execution_count": 4,
     "metadata": {},
     "output_type": "execute_result"
    }
   ],
   "source": [
    "text_data.head()"
   ]
  },
  {
   "cell_type": "code",
   "execution_count": 5,
   "id": "fce152d3",
   "metadata": {},
   "outputs": [
    {
     "data": {
      "text/plain": [
       "header_title    0\n",
       "date            0\n",
       "text            0\n",
       "summary         0\n",
       "url             0\n",
       "dtype: int64"
      ]
     },
     "execution_count": 5,
     "metadata": {},
     "output_type": "execute_result"
    }
   ],
   "source": [
    "text_data.isnull().sum()"
   ]
  },
  {
   "cell_type": "code",
   "execution_count": 6,
   "id": "c06c0fdf",
   "metadata": {},
   "outputs": [],
   "source": [
    "text_data = text_data.dropna()\n",
    "text_data.reset_index(drop=True, inplace=True)"
   ]
  },
  {
   "cell_type": "code",
   "execution_count": 7,
   "id": "357e9a53",
   "metadata": {},
   "outputs": [
    {
     "data": {
      "text/plain": [
       "header_title    0\n",
       "date            0\n",
       "text            0\n",
       "summary         0\n",
       "url             0\n",
       "dtype: int64"
      ]
     },
     "execution_count": 7,
     "metadata": {},
     "output_type": "execute_result"
    }
   ],
   "source": [
    "text_data.isnull().sum()"
   ]
  },
  {
   "cell_type": "code",
   "execution_count": 8,
   "id": "e473894f",
   "metadata": {},
   "outputs": [
    {
     "data": {
      "text/html": [
       "<div>\n",
       "<style scoped>\n",
       "    .dataframe tbody tr th:only-of-type {\n",
       "        vertical-align: middle;\n",
       "    }\n",
       "\n",
       "    .dataframe tbody tr th {\n",
       "        vertical-align: top;\n",
       "    }\n",
       "\n",
       "    .dataframe thead th {\n",
       "        text-align: right;\n",
       "    }\n",
       "</style>\n",
       "<table border=\"1\" class=\"dataframe\">\n",
       "  <thead>\n",
       "    <tr style=\"text-align: right;\">\n",
       "      <th></th>\n",
       "      <th>header_title</th>\n",
       "      <th>date</th>\n",
       "      <th>text</th>\n",
       "      <th>summary</th>\n",
       "      <th>url</th>\n",
       "    </tr>\n",
       "  </thead>\n",
       "  <tbody>\n",
       "    <tr>\n",
       "      <th>0</th>\n",
       "      <td>Convert Fahrenheit to Celsius with JavaScript</td>\n",
       "      <td>Wed, 26 Oct 2022 10:19:49 +0000</td>\n",
       "      <td>The United States is one of the last bodies th...</td>\n",
       "      <td>The article discusses the importance of provid...</td>\n",
       "      <td>https://davidwalsh.name/fahrenheit-celsius-jav...</td>\n",
       "    </tr>\n",
       "    <tr>\n",
       "      <th>1</th>\n",
       "      <td>Create a Thumbnail From a Video with ffmpeg</td>\n",
       "      <td>Tue, 25 Oct 2022 09:28:58 +0000</td>\n",
       "      <td>Creating a thumbnail to represent a video is a...</td>\n",
       "      <td>The article discusses several topics related t...</td>\n",
       "      <td>https://davidwalsh.name/create-thumbnail-ffmpeg</td>\n",
       "    </tr>\n",
       "    <tr>\n",
       "      <th>2</th>\n",
       "      <td>CSS ::file-selector-button</td>\n",
       "      <td>Mon, 20 Feb 2023 09:50:57 +0000</td>\n",
       "      <td>We all love beautifully styled form controls b...</td>\n",
       "      <td>This article discusses various web development...</td>\n",
       "      <td>https://davidwalsh.name/css-file-selector-button</td>\n",
       "    </tr>\n",
       "    <tr>\n",
       "      <th>3</th>\n",
       "      <td>Customizing HTML Form Validation</td>\n",
       "      <td>Mon, 09 Jan 2023 10:57:00 +0000</td>\n",
       "      <td>Form validation has always been my least favor...</td>\n",
       "      <td>The article discusses how to control native fo...</td>\n",
       "      <td>https://davidwalsh.name/html5-validation</td>\n",
       "    </tr>\n",
       "    <tr>\n",
       "      <th>4</th>\n",
       "      <td>Detect Browser Bars Visibility with JavaScript</td>\n",
       "      <td>Fri, 30 Dec 2022 01:36:35 +0000</td>\n",
       "      <td>It's one thing to know about what's in the bro...</td>\n",
       "      <td>The article discusses how developers can gain ...</td>\n",
       "      <td>https://davidwalsh.name/detect-browser-bars</td>\n",
       "    </tr>\n",
       "  </tbody>\n",
       "</table>\n",
       "</div>"
      ],
      "text/plain": [
       "                                     header_title  \\\n",
       "0   Convert Fahrenheit to Celsius with JavaScript   \n",
       "1     Create a Thumbnail From a Video with ffmpeg   \n",
       "2                      CSS ::file-selector-button   \n",
       "3                Customizing HTML Form Validation   \n",
       "4  Detect Browser Bars Visibility with JavaScript   \n",
       "\n",
       "                              date  \\\n",
       "0  Wed, 26 Oct 2022 10:19:49 +0000   \n",
       "1  Tue, 25 Oct 2022 09:28:58 +0000   \n",
       "2  Mon, 20 Feb 2023 09:50:57 +0000   \n",
       "3  Mon, 09 Jan 2023 10:57:00 +0000   \n",
       "4  Fri, 30 Dec 2022 01:36:35 +0000   \n",
       "\n",
       "                                                text  \\\n",
       "0  The United States is one of the last bodies th...   \n",
       "1  Creating a thumbnail to represent a video is a...   \n",
       "2  We all love beautifully styled form controls b...   \n",
       "3  Form validation has always been my least favor...   \n",
       "4  It's one thing to know about what's in the bro...   \n",
       "\n",
       "                                             summary  \\\n",
       "0  The article discusses the importance of provid...   \n",
       "1  The article discusses several topics related t...   \n",
       "2  This article discusses various web development...   \n",
       "3  The article discusses how to control native fo...   \n",
       "4  The article discusses how developers can gain ...   \n",
       "\n",
       "                                                 url  \n",
       "0  https://davidwalsh.name/fahrenheit-celsius-jav...  \n",
       "1    https://davidwalsh.name/create-thumbnail-ffmpeg  \n",
       "2   https://davidwalsh.name/css-file-selector-button  \n",
       "3           https://davidwalsh.name/html5-validation  \n",
       "4        https://davidwalsh.name/detect-browser-bars  "
      ]
     },
     "execution_count": 8,
     "metadata": {},
     "output_type": "execute_result"
    }
   ],
   "source": [
    "text_data.head()"
   ]
  },
  {
   "cell_type": "code",
   "execution_count": 9,
   "id": "662bf1c8",
   "metadata": {},
   "outputs": [
    {
     "data": {
      "text/plain": [
       "'The United States is one of the last bodies that refuses to implement the Celsius temperature standard. Why? Because we\\'re arrogant and feel like we don\\'t need to change. With that said, if you code for users outside the US, it\\'s important to provide localized weather data to users. Let\\'s took at how you can convert between Fahrenheit and Celsius.The formula to convert Fahrenheit to Celsius is:The following function converts Fahrenheit to Celsius:The formula to convert Celsius to Fahrenheit is:The following function converts Celsius to Fahrenheit:Temperature conversion is one of those things that\\'s difficult to do in your head due to the somewhat complex formula.  If you have a site that reflects weather data, keep these handy functions nearby!You\\'ve probably heard the talk around the water cooler about how promises are the future. All of the cool kids are using them, but you don\\'t see what makes them so special. Can\\'t you just use a callback? What\\'s the big deal? In this article, we\\'ll...\\r\\rCSS animations are a lot of fun;  the beauty of them is that through many simple properties, you can create anything from an elegant fade in to a WTF-Pixar-would-be-proud effect.  One CSS effect somewhere in between is the CSS flip effect, whereby there\\'s...Every UI framework has the same set of widgets which have become almost essential toÂ\\xa0modern sites: modals, tooltips, button varieties, and notifications. Â\\xa0One problem I find is each site having their own widget colors, styles, and more -- users don\\'t get a consistent experience. Â\\xa0Apparently the...The administrative control panel I build for my customers features FCKEditor, a powerful WYSIWYG editor that allows the customer to add links, bold text, create ordered lists, and so on.  I provide training and documentation to the customers but many times they simply forget to...The reason the US (and a few other countries) don’t convert to Celsius and other metric systems has nothing to do with arrogance. Do you think that Russia is not arrogant? China? North Korea?The reason has to do with cost-benefit analysis. How many mental, economic, medical, social, and legal changes would have to be made, as well as the corresponding costs to time and money, to allow a complete change over. Many efforts have been made to switch the US systems officially to something else and they usually fail because the general public and industry collectively decide, often subconsciously, that it isn’t worth the change.To that note, the US is not unique. There are lots of countries that are officially on metric standards, yet still use other units in various places and contexts.Additionally, consider time. Time is represented in base 10 units at the low levels, but then it’s base 60 for seconds, base 60 for minutes, base 24 or 12 * 2 for hours, days are sometimes base 30 (but not always), and years are base 12-ish (their size changes from year to year). There have been attempts to use decimal time all around the world, but to date, no country officially uses it. Is the world just arrogant?Wrap your code in <pre class=\"{language}\"></pre> tags, link to a GitHub gist, JSFiddle fiddle,  or CodePen pen to embed!© David Walsh 2007-2023.  All code MIT license.Hosting by Media Temple.'"
      ]
     },
     "execution_count": 9,
     "metadata": {},
     "output_type": "execute_result"
    }
   ],
   "source": [
    "text_data['text'][0]"
   ]
  },
  {
   "cell_type": "code",
   "execution_count": 10,
   "id": "959130bb",
   "metadata": {},
   "outputs": [],
   "source": [
    "import sumy\n",
    "from sumy.parsers.html import HtmlParser\n",
    "from sumy.parsers.plaintext import PlaintextParser\n",
    "from sumy.nlp.tokenizers import Tokenizer\n",
    "from sumy.summarizers.lsa import LsaSummarizer \n",
    "from sumy.summarizers.luhn import LuhnSummarizer\n",
    "from sumy.summarizers.text_rank import TextRankSummarizer\n",
    "from sumy.summarizers.lex_rank import LexRankSummarizer\n",
    "\n",
    "from sumy.nlp.stemmers import Stemmer\n",
    "from sumy.utils import get_stop_words"
   ]
  },
  {
   "cell_type": "code",
   "execution_count": 11,
   "id": "651bb158",
   "metadata": {},
   "outputs": [
    {
     "name": "stderr",
     "output_type": "stream",
     "text": [
      "[nltk_data] Downloading package punkt to\n",
      "[nltk_data]     C:\\Users\\msalehi\\AppData\\Roaming\\nltk_data...\n",
      "[nltk_data]   Package punkt is already up-to-date!\n"
     ]
    },
    {
     "data": {
      "text/plain": [
       "True"
      ]
     },
     "execution_count": 11,
     "metadata": {},
     "output_type": "execute_result"
    }
   ],
   "source": [
    "import math\n",
    "import nltk\n",
    "nltk.download('punkt')"
   ]
  },
  {
   "cell_type": "code",
   "execution_count": 12,
   "id": "4fc2722c",
   "metadata": {},
   "outputs": [],
   "source": [
    "# def count_sentences(text):\n",
    "#     # Tokenize the text into sentences\n",
    "#     sentences = nltk.sent_tokenize(text)\n",
    "#     # Return the count of sentences\n",
    "#     return len(sentences)"
   ]
  },
  {
   "cell_type": "code",
   "execution_count": 13,
   "id": "dd6b39f1",
   "metadata": {},
   "outputs": [],
   "source": [
    "# numSentences = count_sentences(text_data['text'][0])"
   ]
  },
  {
   "cell_type": "code",
   "execution_count": 14,
   "id": "969c4b44",
   "metadata": {},
   "outputs": [],
   "source": [
    "# if numSentences > 40 :\n",
    "#     numSentences = math.ceil(numSentences*0.1)\n",
    "# elif numSentences > 10 :\n",
    "#     numSentences = math.ceil(numSentences*0.5)\n",
    "# else :\n",
    "#     numSentences = min(numSentences, math.ceil(numSentences*0.8))"
   ]
  },
  {
   "cell_type": "code",
   "execution_count": 15,
   "id": "d7efe99c",
   "metadata": {},
   "outputs": [],
   "source": [
    "def numSentences(text):\n",
    "    # Tokenize the text into sentences\n",
    "    sentences = nltk.sent_tokenize(text)\n",
    "    # Return the count of sentences\n",
    "    numSentences = len(sentences)\n",
    "\n",
    "\n",
    "    if numSentences > 40 :\n",
    "        numSentences = math.ceil(numSentences*0.1)\n",
    "    elif numSentences > 10 :\n",
    "        numSentences = math.ceil(numSentences*0.5)\n",
    "    else :\n",
    "        numSentences = min(numSentences, math.ceil(numSentences*0.8))\n",
    "    return numSentences"
   ]
  },
  {
   "cell_type": "code",
   "execution_count": 16,
   "id": "a3b0b5e2",
   "metadata": {},
   "outputs": [],
   "source": [
    "def summarizator_LexRank(text):\n",
    "    start = time.time()\n",
    "    SENTENCES_COUNT = numSentences(text)\n",
    "    language = 'english'\n",
    "\n",
    "    sumario_summy = []\n",
    "    parser = PlaintextParser.from_string(text, Tokenizer(language))\n",
    "    stemmer = Stemmer(language)\n",
    "    summarizer = LexRankSummarizer(stemmer)\n",
    "    summarizer.stop_words = get_stop_words(language)\n",
    "    summary = []\n",
    "        \n",
    "    for sentence in summarizer(parser.document, SENTENCES_COUNT):\n",
    "        summary.append(str(sentence))\n",
    "\n",
    "    summary = ' '.join(summary)\n",
    "    sumario_summy.append(summary)\n",
    "    end = time.time()\n",
    "    LexRank_time = (end - start)\n",
    "        \n",
    "#     return \" \".join(sumario_summy)\n",
    "    return (LexRank_time,sumario_summy)"
   ]
  },
  {
   "cell_type": "code",
   "execution_count": 17,
   "id": "2b78c1c1",
   "metadata": {},
   "outputs": [
    {
     "data": {
      "text/plain": [
       "[\"Let's view how we can create a preview thumbnail from a video!Developers can use `ffmpeg, an incredible open source media utility, to create a thumbnail. To create a thumbnail from the first frame of a video, execute the following command:Providing a video thumbnail is a great tool convert images into video views. You don't need fancy software and manual labor to create thumbnails -- use ffmpeg!Firefox OS is all over the tech news and for good reason: Â\\xa0Mozilla's finally givenÂ\\xa0web developers the platform that they need to create apps the way they've been creating them for years -- with CSS, HTML, and JavaScript. CSS filters provide a method for modifying the rendering of a basic DOM element, image, or video. CSS filters allow for blurring, warping, and modifying the color intensity of elements. Â\\xa0The element is almost unstylable, looks different across platforms, has had inconsistent value access, and disaster that is the result of multiple=true is, well, a disaster. Â\\xa0Needless to say, whenever a developer goes...\"]"
      ]
     },
     "execution_count": 17,
     "metadata": {},
     "output_type": "execute_result"
    }
   ],
   "source": [
    "summarizator_LexRank(text_data['text'][1])[1]"
   ]
  },
  {
   "cell_type": "code",
   "execution_count": 18,
   "id": "4bacd7b6",
   "metadata": {},
   "outputs": [],
   "source": [
    "def summarizator_LexRank(text):\n",
    "    start = time.time()\n",
    "    SENTENCES_COUNT = numSentences(text)\n",
    "    language = 'english'\n",
    "\n",
    "    sumario_summy = []\n",
    "    parser = PlaintextParser.from_string(text, Tokenizer(language))\n",
    "    stemmer = Stemmer(language)\n",
    "    summarizer = LexRankSummarizer(stemmer)\n",
    "    summarizer.stop_words = get_stop_words(language)\n",
    "    summary = []\n",
    "        \n",
    "    for sentence in summarizer(parser.document, SENTENCES_COUNT):\n",
    "        summary.append(str(sentence))\n",
    "\n",
    "    summary = ' '.join(summary)\n",
    "    sumario_summy.append(summary)\n",
    "    end = time.time()\n",
    "    LexRank_time = (end - start)\n",
    "        \n",
    "#     return \" \".join(sumario_summy)\n",
    "    return (LexRank_time,sumario_summy)"
   ]
  },
  {
   "cell_type": "code",
   "execution_count": 19,
   "id": "36881485",
   "metadata": {},
   "outputs": [],
   "source": [
    "# summarizator_LexRank(text_data['text'][0])[0]"
   ]
  },
  {
   "cell_type": "code",
   "execution_count": 20,
   "id": "3e78e13a",
   "metadata": {},
   "outputs": [],
   "source": [
    "text_data[\"Sumy_LexRank\"] = text_data[\"text\"].apply(summarizator_LexRank)"
   ]
  },
  {
   "cell_type": "code",
   "execution_count": 21,
   "id": "bf0b537f",
   "metadata": {},
   "outputs": [],
   "source": [
    "def summarizator_Luhn(text):\n",
    "    start = time.time()\n",
    "    SENTENCES_COUNT = numSentences(text)\n",
    "    language = 'english'\n",
    "\n",
    "    sumario_summy = []\n",
    "    parser = PlaintextParser.from_string(text, Tokenizer(language))\n",
    "    stemmer = Stemmer(language)\n",
    "    summarizer = LuhnSummarizer(stemmer)\n",
    "    summarizer.stop_words = get_stop_words(language)\n",
    "    summary = []\n",
    "        \n",
    "    for sentence in summarizer(parser.document, SENTENCES_COUNT):\n",
    "        summary.append(str(sentence))\n",
    "\n",
    "    summary = ' '.join(summary)\n",
    "    sumario_summy.append(summary)\n",
    "    end = time.time()\n",
    "    Luhn_time = (end - start)\n",
    "        \n",
    "#     return \" \".join(sumario_summy)\n",
    "    return (Luhn_time,sumario_summy)"
   ]
  },
  {
   "cell_type": "code",
   "execution_count": 22,
   "id": "2168999e",
   "metadata": {},
   "outputs": [],
   "source": [
    "text_data[\"Sumy_Luhn\"] = text_data[\"text\"].apply(summarizator_Luhn)"
   ]
  },
  {
   "cell_type": "code",
   "execution_count": 23,
   "id": "156575d7",
   "metadata": {},
   "outputs": [],
   "source": [
    "def summarizator_Lsa(text):\n",
    "    start = time.time()\n",
    "    SENTENCES_COUNT = numSentences(text)\n",
    "    language = 'english'\n",
    "\n",
    "    sumario_summy = []\n",
    "    parser = PlaintextParser.from_string(text, Tokenizer(language))\n",
    "    stemmer = Stemmer(language)\n",
    "    summarizer = LsaSummarizer(stemmer)\n",
    "    summarizer.stop_words = get_stop_words(language)\n",
    "    summary = []\n",
    "        \n",
    "    for sentence in summarizer(parser.document, SENTENCES_COUNT):\n",
    "        summary.append(str(sentence))\n",
    "\n",
    "    summary = ' '.join(summary)\n",
    "    sumario_summy.append(summary)\n",
    "    end = time.time()\n",
    "    Lsa_time = (end - start)\n",
    "        \n",
    "#     return \" \".join(sumario_summy)\n",
    "    return (Lsa_time,sumario_summy)"
   ]
  },
  {
   "cell_type": "code",
   "execution_count": 24,
   "id": "64964dce",
   "metadata": {},
   "outputs": [],
   "source": [
    "text_data[\"Sumy_Lsa\"] = text_data[\"text\"].apply(summarizator_Lsa)"
   ]
  },
  {
   "cell_type": "code",
   "execution_count": 25,
   "id": "a2f85824",
   "metadata": {},
   "outputs": [],
   "source": [
    "def summarizator_TextRank(text):\n",
    "    start = time.time()\n",
    "    SENTENCES_COUNT = numSentences(text)\n",
    "    language = 'english'\n",
    "\n",
    "    sumario_summy = []\n",
    "    parser = PlaintextParser.from_string(text, Tokenizer(language))\n",
    "    stemmer = Stemmer(language)\n",
    "    summarizer = TextRankSummarizer(stemmer)\n",
    "    summarizer.stop_words = get_stop_words(language)\n",
    "    summary = []\n",
    "        \n",
    "    for sentence in summarizer(parser.document, SENTENCES_COUNT):\n",
    "        summary.append(str(sentence))\n",
    "\n",
    "    summary = ' '.join(summary)\n",
    "    sumario_summy.append(summary)\n",
    "    end = time.time()\n",
    "    TextRank_time = (end - start)\n",
    "        \n",
    "#     return \" \".join(sumario_summy)\n",
    "    return (TextRank_time,sumario_summy)"
   ]
  },
  {
   "cell_type": "code",
   "execution_count": 26,
   "id": "4866713a",
   "metadata": {},
   "outputs": [],
   "source": [
    "text_data[\"Sumy_TextRank\"] = text_data[\"text\"].apply(summarizator_TextRank)"
   ]
  },
  {
   "cell_type": "code",
   "execution_count": 27,
   "id": "742b589d",
   "metadata": {},
   "outputs": [
    {
     "data": {
      "text/html": [
       "<div>\n",
       "<style scoped>\n",
       "    .dataframe tbody tr th:only-of-type {\n",
       "        vertical-align: middle;\n",
       "    }\n",
       "\n",
       "    .dataframe tbody tr th {\n",
       "        vertical-align: top;\n",
       "    }\n",
       "\n",
       "    .dataframe thead th {\n",
       "        text-align: right;\n",
       "    }\n",
       "</style>\n",
       "<table border=\"1\" class=\"dataframe\">\n",
       "  <thead>\n",
       "    <tr style=\"text-align: right;\">\n",
       "      <th></th>\n",
       "      <th>header_title</th>\n",
       "      <th>date</th>\n",
       "      <th>text</th>\n",
       "      <th>summary</th>\n",
       "      <th>url</th>\n",
       "      <th>Sumy_LexRank</th>\n",
       "      <th>Sumy_Luhn</th>\n",
       "      <th>Sumy_Lsa</th>\n",
       "      <th>Sumy_TextRank</th>\n",
       "    </tr>\n",
       "  </thead>\n",
       "  <tbody>\n",
       "    <tr>\n",
       "      <th>0</th>\n",
       "      <td>Convert Fahrenheit to Celsius with JavaScript</td>\n",
       "      <td>Wed, 26 Oct 2022 10:19:49 +0000</td>\n",
       "      <td>The United States is one of the last bodies th...</td>\n",
       "      <td>The article discusses the importance of provid...</td>\n",
       "      <td>https://davidwalsh.name/fahrenheit-celsius-jav...</td>\n",
       "      <td>(0.0, [Because we're arrogant and feel like we...</td>\n",
       "      <td>(0.0, [The United States is one of the last bo...</td>\n",
       "      <td>(0.0, [The United States is one of the last bo...</td>\n",
       "      <td>(0.008727312088012695, [Because we're arrogant...</td>\n",
       "    </tr>\n",
       "    <tr>\n",
       "      <th>1</th>\n",
       "      <td>Create a Thumbnail From a Video with ffmpeg</td>\n",
       "      <td>Tue, 25 Oct 2022 09:28:58 +0000</td>\n",
       "      <td>Creating a thumbnail to represent a video is a...</td>\n",
       "      <td>The article discusses several topics related t...</td>\n",
       "      <td>https://davidwalsh.name/create-thumbnail-ffmpeg</td>\n",
       "      <td>(0.0, [Let's view how we can create a preview ...</td>\n",
       "      <td>(0.012937545776367188, [I previously created a...</td>\n",
       "      <td>(0.0, [Creating a thumbnail to represent a vid...</td>\n",
       "      <td>(0.0015697479248046875, [Creating a thumbnail ...</td>\n",
       "    </tr>\n",
       "    <tr>\n",
       "      <th>2</th>\n",
       "      <td>CSS ::file-selector-button</td>\n",
       "      <td>Mon, 20 Feb 2023 09:50:57 +0000</td>\n",
       "      <td>We all love beautifully styled form controls b...</td>\n",
       "      <td>This article discusses various web development...</td>\n",
       "      <td>https://davidwalsh.name/css-file-selector-button</td>\n",
       "      <td>(0.015638113021850586, [We all love beautifull...</td>\n",
       "      <td>(0.0019676685333251953, [We all love beautiful...</td>\n",
       "      <td>(0.017915010452270508, [We all love beautifull...</td>\n",
       "      <td>(0.0, [We all love beautifully styled form con...</td>\n",
       "    </tr>\n",
       "    <tr>\n",
       "      <th>3</th>\n",
       "      <td>Customizing HTML Form Validation</td>\n",
       "      <td>Mon, 09 Jan 2023 10:57:00 +0000</td>\n",
       "      <td>Form validation has always been my least favor...</td>\n",
       "      <td>The article discusses how to control native fo...</td>\n",
       "      <td>https://davidwalsh.name/html5-validation</td>\n",
       "      <td>(0.0019567012786865234, [You need to duplicate...</td>\n",
       "      <td>(0.0, [You need to duplicate validation on bot...</td>\n",
       "      <td>(0.006000995635986328, [You need to duplicate ...</td>\n",
       "      <td>(0.00857686996459961, [Form validation has alw...</td>\n",
       "    </tr>\n",
       "    <tr>\n",
       "      <th>4</th>\n",
       "      <td>Detect Browser Bars Visibility with JavaScript</td>\n",
       "      <td>Fri, 30 Dec 2022 01:36:35 +0000</td>\n",
       "      <td>It's one thing to know about what's in the bro...</td>\n",
       "      <td>The article discusses how developers can gain ...</td>\n",
       "      <td>https://davidwalsh.name/detect-browser-bars</td>\n",
       "      <td>(0.0, [We've gotten past detecting which brows...</td>\n",
       "      <td>(0.0, [It's one thing to know about what's in ...</td>\n",
       "      <td>(0.00499415397644043, [We've gotten past detec...</td>\n",
       "      <td>(0.006668806076049805, [It's one thing to know...</td>\n",
       "    </tr>\n",
       "  </tbody>\n",
       "</table>\n",
       "</div>"
      ],
      "text/plain": [
       "                                     header_title  \\\n",
       "0   Convert Fahrenheit to Celsius with JavaScript   \n",
       "1     Create a Thumbnail From a Video with ffmpeg   \n",
       "2                      CSS ::file-selector-button   \n",
       "3                Customizing HTML Form Validation   \n",
       "4  Detect Browser Bars Visibility with JavaScript   \n",
       "\n",
       "                              date  \\\n",
       "0  Wed, 26 Oct 2022 10:19:49 +0000   \n",
       "1  Tue, 25 Oct 2022 09:28:58 +0000   \n",
       "2  Mon, 20 Feb 2023 09:50:57 +0000   \n",
       "3  Mon, 09 Jan 2023 10:57:00 +0000   \n",
       "4  Fri, 30 Dec 2022 01:36:35 +0000   \n",
       "\n",
       "                                                text  \\\n",
       "0  The United States is one of the last bodies th...   \n",
       "1  Creating a thumbnail to represent a video is a...   \n",
       "2  We all love beautifully styled form controls b...   \n",
       "3  Form validation has always been my least favor...   \n",
       "4  It's one thing to know about what's in the bro...   \n",
       "\n",
       "                                             summary  \\\n",
       "0  The article discusses the importance of provid...   \n",
       "1  The article discusses several topics related t...   \n",
       "2  This article discusses various web development...   \n",
       "3  The article discusses how to control native fo...   \n",
       "4  The article discusses how developers can gain ...   \n",
       "\n",
       "                                                 url  \\\n",
       "0  https://davidwalsh.name/fahrenheit-celsius-jav...   \n",
       "1    https://davidwalsh.name/create-thumbnail-ffmpeg   \n",
       "2   https://davidwalsh.name/css-file-selector-button   \n",
       "3           https://davidwalsh.name/html5-validation   \n",
       "4        https://davidwalsh.name/detect-browser-bars   \n",
       "\n",
       "                                        Sumy_LexRank  \\\n",
       "0  (0.0, [Because we're arrogant and feel like we...   \n",
       "1  (0.0, [Let's view how we can create a preview ...   \n",
       "2  (0.015638113021850586, [We all love beautifull...   \n",
       "3  (0.0019567012786865234, [You need to duplicate...   \n",
       "4  (0.0, [We've gotten past detecting which brows...   \n",
       "\n",
       "                                           Sumy_Luhn  \\\n",
       "0  (0.0, [The United States is one of the last bo...   \n",
       "1  (0.012937545776367188, [I previously created a...   \n",
       "2  (0.0019676685333251953, [We all love beautiful...   \n",
       "3  (0.0, [You need to duplicate validation on bot...   \n",
       "4  (0.0, [It's one thing to know about what's in ...   \n",
       "\n",
       "                                            Sumy_Lsa  \\\n",
       "0  (0.0, [The United States is one of the last bo...   \n",
       "1  (0.0, [Creating a thumbnail to represent a vid...   \n",
       "2  (0.017915010452270508, [We all love beautifull...   \n",
       "3  (0.006000995635986328, [You need to duplicate ...   \n",
       "4  (0.00499415397644043, [We've gotten past detec...   \n",
       "\n",
       "                                       Sumy_TextRank  \n",
       "0  (0.008727312088012695, [Because we're arrogant...  \n",
       "1  (0.0015697479248046875, [Creating a thumbnail ...  \n",
       "2  (0.0, [We all love beautifully styled form con...  \n",
       "3  (0.00857686996459961, [Form validation has alw...  \n",
       "4  (0.006668806076049805, [It's one thing to know...  "
      ]
     },
     "execution_count": 27,
     "metadata": {},
     "output_type": "execute_result"
    }
   ],
   "source": [
    "text_data.head()"
   ]
  },
  {
   "cell_type": "code",
   "execution_count": 28,
   "id": "75b87385",
   "metadata": {},
   "outputs": [
    {
     "data": {
      "text/plain": [
       "header_title     0\n",
       "date             0\n",
       "text             0\n",
       "summary          0\n",
       "url              0\n",
       "Sumy_LexRank     0\n",
       "Sumy_Luhn        0\n",
       "Sumy_Lsa         0\n",
       "Sumy_TextRank    0\n",
       "dtype: int64"
      ]
     },
     "execution_count": 28,
     "metadata": {},
     "output_type": "execute_result"
    }
   ],
   "source": [
    "text_data.isnull().sum()"
   ]
  },
  {
   "cell_type": "code",
   "execution_count": 29,
   "id": "9d1f2e20",
   "metadata": {},
   "outputs": [
    {
     "data": {
      "text/plain": [
       "1829"
      ]
     },
     "execution_count": 29,
     "metadata": {},
     "output_type": "execute_result"
    }
   ],
   "source": [
    "len(text_data['Sumy_TextRank'][0][1][0])"
   ]
  },
  {
   "cell_type": "code",
   "execution_count": 30,
   "id": "bf419b81",
   "metadata": {},
   "outputs": [
    {
     "data": {
      "text/plain": [
       "1280"
      ]
     },
     "execution_count": 30,
     "metadata": {},
     "output_type": "execute_result"
    }
   ],
   "source": [
    "len(text_data['Sumy_TextRank'][1][1][0])"
   ]
  },
  {
   "cell_type": "code",
   "execution_count": 31,
   "id": "be75eda0",
   "metadata": {},
   "outputs": [
    {
     "data": {
      "text/plain": [
       "1219"
      ]
     },
     "execution_count": 31,
     "metadata": {},
     "output_type": "execute_result"
    }
   ],
   "source": [
    "len(text_data['Sumy_TextRank'][2][1][0])"
   ]
  },
  {
   "cell_type": "code",
   "execution_count": 32,
   "id": "c92d5139",
   "metadata": {},
   "outputs": [],
   "source": [
    "from transformers import AutoModelForSeq2SeqLM, AutoTokenizer, AutoModelWithLMHead\n",
    "import torch\n",
    "import time"
   ]
  },
  {
   "cell_type": "code",
   "execution_count": 33,
   "id": "26df6fd5",
   "metadata": {},
   "outputs": [
    {
     "name": "stdout",
     "output_type": "stream",
     "text": [
      "4.30.1\n"
     ]
    }
   ],
   "source": [
    "import transformers\n",
    "print(transformers.__version__)"
   ]
  },
  {
   "cell_type": "markdown",
   "id": "9b88a7f3",
   "metadata": {},
   "source": [
    "# T5"
   ]
  },
  {
   "cell_type": "code",
   "execution_count": 34,
   "id": "b88d8bf1",
   "metadata": {},
   "outputs": [],
   "source": [
    "model = AutoModelForSeq2SeqLM.from_pretrained('t5-base')"
   ]
  },
  {
   "cell_type": "code",
   "execution_count": 35,
   "id": "5394903b",
   "metadata": {},
   "outputs": [
    {
     "name": "stderr",
     "output_type": "stream",
     "text": [
      "C:\\Users\\msalehi\\AppData\\Local\\Programs\\Python\\Python311\\Lib\\site-packages\\transformers\\models\\t5\\tokenization_t5_fast.py:155: FutureWarning: This tokenizer was incorrectly instantiated with a model max length of 512 which will be corrected in Transformers v5.\n",
      "For now, this behavior is kept to avoid breaking backwards compatibility when padding/encoding with `truncation is True`.\n",
      "- Be aware that you SHOULD NOT rely on t5-base automatically truncating your input to 512 when padding/encoding.\n",
      "- If you want to encode/pad to sequences longer than 512 you can either instantiate this tokenizer with `model_max_length` or pass `max_length` when encoding/padding.\n",
      "- To avoid this warning, please instantiate this tokenizer with `model_max_length` set to your preferred value.\n",
      "  warnings.warn(\n"
     ]
    }
   ],
   "source": [
    "tokenizer = AutoTokenizer.from_pretrained(\"t5-base\")"
   ]
  },
  {
   "cell_type": "code",
   "execution_count": 36,
   "id": "23f7acb8",
   "metadata": {},
   "outputs": [],
   "source": [
    "def T5(text):\n",
    "    start = time.time()\n",
    "    inputs = tokenizer.encode(\"summarize: \" + text, return_tensors=\"pt\", max_length=512)\n",
    "    outputs = model.generate(inputs, max_length=150, min_length=40, length_penalty=2.0, num_beams=4, early_stopping=True)\n",
    "    decoded_T5 = tokenizer.decode(outputs[0])\n",
    "    end = time.time()\n",
    "    t5_time = (end - start)\n",
    "#     print(t5_time)\n",
    "    return(t5_time, decoded_T5)"
   ]
  },
  {
   "cell_type": "code",
   "execution_count": 37,
   "id": "03098c3a",
   "metadata": {},
   "outputs": [
    {
     "name": "stderr",
     "output_type": "stream",
     "text": [
      "Truncation was not explicitly activated but `max_length` is provided a specific value, please use `truncation=True` to explicitly truncate examples to max length. Defaulting to 'longest_first' truncation strategy. If you encode pairs of sequences (GLUE-style) with the tokenizer you can select this strategy more precisely by providing a specific strategy to `truncation`.\n"
     ]
    },
    {
     "data": {
      "text/plain": [
       "(3.272739887237549,\n",
       " \"<pad> if you code for users outside the us, it's important to provide localized weather data. if you code for users outside the us, it's important to provide localized weather data.</s>\")"
      ]
     },
     "execution_count": 37,
     "metadata": {},
     "output_type": "execute_result"
    }
   ],
   "source": [
    "T5(text_data['Sumy_TextRank'][0][1][0])"
   ]
  },
  {
   "cell_type": "code",
   "execution_count": 38,
   "id": "983b223f",
   "metadata": {},
   "outputs": [],
   "source": [
    "df_Hyb = pd.DataFrame()\n",
    "df_Hyb['Sumy_TextRank'] = text_data['Sumy_TextRank']"
   ]
  },
  {
   "cell_type": "code",
   "execution_count": 39,
   "id": "9e51ee4d",
   "metadata": {},
   "outputs": [
    {
     "data": {
      "text/html": [
       "<div>\n",
       "<style scoped>\n",
       "    .dataframe tbody tr th:only-of-type {\n",
       "        vertical-align: middle;\n",
       "    }\n",
       "\n",
       "    .dataframe tbody tr th {\n",
       "        vertical-align: top;\n",
       "    }\n",
       "\n",
       "    .dataframe thead th {\n",
       "        text-align: right;\n",
       "    }\n",
       "</style>\n",
       "<table border=\"1\" class=\"dataframe\">\n",
       "  <thead>\n",
       "    <tr style=\"text-align: right;\">\n",
       "      <th></th>\n",
       "      <th>Sumy_TextRank</th>\n",
       "    </tr>\n",
       "  </thead>\n",
       "  <tbody>\n",
       "    <tr>\n",
       "      <th>0</th>\n",
       "      <td>(0.008727312088012695, [Because we're arrogant...</td>\n",
       "    </tr>\n",
       "    <tr>\n",
       "      <th>1</th>\n",
       "      <td>(0.0015697479248046875, [Creating a thumbnail ...</td>\n",
       "    </tr>\n",
       "    <tr>\n",
       "      <th>2</th>\n",
       "      <td>(0.0, [We all love beautifully styled form con...</td>\n",
       "    </tr>\n",
       "    <tr>\n",
       "      <th>3</th>\n",
       "      <td>(0.00857686996459961, [Form validation has alw...</td>\n",
       "    </tr>\n",
       "    <tr>\n",
       "      <th>4</th>\n",
       "      <td>(0.006668806076049805, [It's one thing to know...</td>\n",
       "    </tr>\n",
       "  </tbody>\n",
       "</table>\n",
       "</div>"
      ],
      "text/plain": [
       "                                       Sumy_TextRank\n",
       "0  (0.008727312088012695, [Because we're arrogant...\n",
       "1  (0.0015697479248046875, [Creating a thumbnail ...\n",
       "2  (0.0, [We all love beautifully styled form con...\n",
       "3  (0.00857686996459961, [Form validation has alw...\n",
       "4  (0.006668806076049805, [It's one thing to know..."
      ]
     },
     "execution_count": 39,
     "metadata": {},
     "output_type": "execute_result"
    }
   ],
   "source": [
    "df_Hyb.head()"
   ]
  },
  {
   "cell_type": "code",
   "execution_count": 40,
   "id": "ce5d4442",
   "metadata": {},
   "outputs": [],
   "source": [
    "df_Hyb['List_Sumy_TextRank'] = [x[1][0] for x in text_data['Sumy_TextRank']]"
   ]
  },
  {
   "cell_type": "code",
   "execution_count": 41,
   "id": "82f9f869",
   "metadata": {},
   "outputs": [
    {
     "data": {
      "text/plain": [
       "'Because we\\'re arrogant and feel like we don\\'t need to change. With that said, if you code for users outside the US, it\\'s important to provide localized weather data to users. Let\\'s took at how you can convert between Fahrenheit and Celsius.The formula to convert Fahrenheit to Celsius is:The following function converts Fahrenheit to Celsius:The formula to convert Celsius to Fahrenheit is:The following function converts Celsius to Fahrenheit:Temperature conversion is one of those things that\\'s difficult to do in your head due to the somewhat complex formula. What\\'s the big deal? In this article, we\\'ll... One CSS effect somewhere in between is the CSS flip effect, whereby there\\'s...Every UI framework has the same set of widgets which have become almost essential toÂ\\xa0modern sites: modals, tooltips, button varieties, and notifications. Â\\xa0One problem I find is each site having their own widget colors, styles, and more -- users don\\'t get a consistent experience. Â\\xa0Apparently the...The administrative control panel I build for my customers features FCKEditor, a powerful WYSIWYG editor that allows the customer to add links, bold text, create ordered lists, and so on. I provide training and documentation to the customers but many times they simply forget to...The reason the US (and a few other countries) don’t convert to Celsius and other metric systems has nothing to do with arrogance. China? Time is represented in base 10 units at the low levels, but then it’s base 60 for seconds, base 60 for minutes, base 24 or 12 * 2 for hours, days are sometimes base 30 (but not always), and years are base 12-ish (their size changes from year to year). Is the world just arrogant?Wrap your code in <pre class=\"{language}\"></pre> tags, link to a GitHub gist, JSFiddle fiddle,  or CodePen pen to embed!© David Walsh 2007-2023.'"
      ]
     },
     "execution_count": 41,
     "metadata": {},
     "output_type": "execute_result"
    }
   ],
   "source": [
    "df_Hyb['List_Sumy_TextRank'][0] "
   ]
  },
  {
   "cell_type": "code",
   "execution_count": 42,
   "id": "2e8c27b0",
   "metadata": {},
   "outputs": [],
   "source": [
    "df_Hyb['T5']= df_Hyb['List_Sumy_TextRank'].apply(lambda x:T5(x))"
   ]
  },
  {
   "cell_type": "markdown",
   "id": "cf3b08a0",
   "metadata": {},
   "source": [
    "# BERT"
   ]
  },
  {
   "cell_type": "code",
   "execution_count": 43,
   "id": "45ea6524",
   "metadata": {},
   "outputs": [
    {
     "name": "stderr",
     "output_type": "stream",
     "text": [
      "C:\\Users\\msalehi\\AppData\\Local\\Programs\\Python\\Python311\\Lib\\site-packages\\transformers\\models\\auto\\modeling_auto.py:1362: FutureWarning: The class `AutoModelWithLMHead` is deprecated and will be removed in a future version. Please use `AutoModelForCausalLM` for causal language models, `AutoModelForMaskedLM` for masked language models and `AutoModelForSeq2SeqLM` for encoder-decoder models.\n",
      "  warnings.warn(\n",
      "Some weights of the model checkpoint at bert-base-cased were not used when initializing BertForMaskedLM: ['cls.seq_relationship.bias', 'cls.seq_relationship.weight']\n",
      "- This IS expected if you are initializing BertForMaskedLM from the checkpoint of a model trained on another task or with another architecture (e.g. initializing a BertForSequenceClassification model from a BertForPreTraining model).\n",
      "- This IS NOT expected if you are initializing BertForMaskedLM from the checkpoint of a model that you expect to be exactly identical (initializing a BertForSequenceClassification model from a BertForSequenceClassification model).\n"
     ]
    }
   ],
   "source": [
    "model = AutoModelWithLMHead.from_pretrained('bert-base-cased')\n",
    "tokenizer = AutoTokenizer.from_pretrained(\"bert-base-cased\")"
   ]
  },
  {
   "cell_type": "code",
   "execution_count": 44,
   "id": "99176979",
   "metadata": {},
   "outputs": [],
   "source": [
    "def BERT(text):\n",
    "    start = time.time()\n",
    "    inputs = tokenizer.encode(\"summarize: \" + text, return_tensors=\"pt\", max_length=100)\n",
    "    outputs = model.generate(inputs, max_length=150, min_length=40, length_penalty=2.0, num_beams=4, early_stopping=True)\n",
    "    decoded_BERT = tokenizer.decode(outputs[0])\n",
    "    end = time.time()\n",
    "    BERT_time = (end-start)\n",
    "    return(BERT_time, decoded_BERT)"
   ]
  },
  {
   "cell_type": "code",
   "execution_count": 45,
   "id": "ecc1d10d",
   "metadata": {},
   "outputs": [
    {
     "name": "stderr",
     "output_type": "stream",
     "text": [
      "Truncation was not explicitly activated but `max_length` is provided a specific value, please use `truncation=True` to explicitly truncate examples to max length. Defaulting to 'longest_first' truncation strategy. If you encode pairs of sequences (GLUE-style) with the tokenizer you can select this strategy more precisely by providing a specific strategy to `truncation`.\n"
     ]
    }
   ],
   "source": [
    "df_Hyb['BERT']= df_Hyb['List_Sumy_TextRank'].apply(lambda x:BERT(x))"
   ]
  },
  {
   "cell_type": "markdown",
   "id": "77cad0ce",
   "metadata": {},
   "source": [
    "# GPT"
   ]
  },
  {
   "cell_type": "code",
   "execution_count": 46,
   "id": "f84621ab",
   "metadata": {},
   "outputs": [
    {
     "name": "stderr",
     "output_type": "stream",
     "text": [
      "C:\\Users\\msalehi\\AppData\\Local\\Programs\\Python\\Python311\\Lib\\site-packages\\transformers\\models\\auto\\modeling_auto.py:1362: FutureWarning: The class `AutoModelWithLMHead` is deprecated and will be removed in a future version. Please use `AutoModelForCausalLM` for causal language models, `AutoModelForMaskedLM` for masked language models and `AutoModelForSeq2SeqLM` for encoder-decoder models.\n",
      "  warnings.warn(\n",
      "Some weights of OpenAIGPTLMHeadModel were not initialized from the model checkpoint at openai-gpt and are newly initialized: ['position_ids']\n",
      "You should probably TRAIN this model on a down-stream task to be able to use it for predictions and inference.\n"
     ]
    }
   ],
   "source": [
    "model = AutoModelWithLMHead.from_pretrained('openai-gpt')\n",
    "tokenizer = AutoTokenizer.from_pretrained(\"openai-gpt\")"
   ]
  },
  {
   "cell_type": "code",
   "execution_count": 47,
   "id": "1be8b433",
   "metadata": {},
   "outputs": [],
   "source": [
    "def GPT(text):\n",
    "    start = time.time()\n",
    "    inputs = tokenizer.encode(\"summarize: \" + text, return_tensors=\"pt\", max_length=149)\n",
    "    outputs = model.generate(inputs, max_length=150, min_length=40, length_penalty=2.0, num_beams=4, early_stopping=True)\n",
    "    decoded_GPT = tokenizer.decode(outputs[0])\n",
    "    end = time.time()\n",
    "    GPT_time = (end - start)\n",
    "    return(GPT_time, decoded_GPT)"
   ]
  },
  {
   "cell_type": "code",
   "execution_count": 48,
   "id": "767272b5",
   "metadata": {},
   "outputs": [
    {
     "name": "stderr",
     "output_type": "stream",
     "text": [
      "Truncation was not explicitly activated but `max_length` is provided a specific value, please use `truncation=True` to explicitly truncate examples to max length. Defaulting to 'longest_first' truncation strategy. If you encode pairs of sequences (GLUE-style) with the tokenizer you can select this strategy more precisely by providing a specific strategy to `truncation`.\n"
     ]
    }
   ],
   "source": [
    "df_Hyb['GPT']= df_Hyb['List_Sumy_TextRank'].apply(lambda x:GPT(x))"
   ]
  },
  {
   "cell_type": "markdown",
   "id": "d39819d6",
   "metadata": {},
   "source": [
    "# DistilBERT"
   ]
  },
  {
   "cell_type": "code",
   "execution_count": 49,
   "id": "271cd428",
   "metadata": {},
   "outputs": [
    {
     "name": "stderr",
     "output_type": "stream",
     "text": [
      "C:\\Users\\msalehi\\AppData\\Local\\Programs\\Python\\Python311\\Lib\\site-packages\\transformers\\models\\auto\\modeling_auto.py:1362: FutureWarning: The class `AutoModelWithLMHead` is deprecated and will be removed in a future version. Please use `AutoModelForCausalLM` for causal language models, `AutoModelForMaskedLM` for masked language models and `AutoModelForSeq2SeqLM` for encoder-decoder models.\n",
      "  warnings.warn(\n"
     ]
    }
   ],
   "source": [
    "model = AutoModelWithLMHead.from_pretrained('distilgpt2')\n",
    "tokenizer = AutoTokenizer.from_pretrained(\"distilgpt2\")"
   ]
  },
  {
   "cell_type": "code",
   "execution_count": 50,
   "id": "9ae4cf57",
   "metadata": {},
   "outputs": [],
   "source": [
    "def DistilBERT(text):\n",
    "    start = time.time()\n",
    "    inputs = tokenizer.encode(\"summarize: \" + text, return_tensors=\"pt\", max_length=149)\n",
    "    outputs = model.generate(inputs, max_length=150, min_length=40, length_penalty=2.0, num_beams=4, early_stopping=True)\n",
    "    decoded_DistilBERT = tokenizer.decode(outputs[0])\n",
    "    end = time.time()\n",
    "    DistilBERT_time = (end - start)\n",
    "    return(DistilBERT_time, decoded_DistilBERT)"
   ]
  },
  {
   "cell_type": "code",
   "execution_count": 51,
   "id": "3ba919bd",
   "metadata": {},
   "outputs": [
    {
     "name": "stderr",
     "output_type": "stream",
     "text": [
      "Truncation was not explicitly activated but `max_length` is provided a specific value, please use `truncation=True` to explicitly truncate examples to max length. Defaulting to 'longest_first' truncation strategy. If you encode pairs of sequences (GLUE-style) with the tokenizer you can select this strategy more precisely by providing a specific strategy to `truncation`.\n",
      "The attention mask and the pad token id were not set. As a consequence, you may observe unexpected behavior. Please pass your input's `attention_mask` to obtain reliable results.\n",
      "Setting `pad_token_id` to `eos_token_id`:50256 for open-end generation.\n",
      "The attention mask and the pad token id were not set. As a consequence, you may observe unexpected behavior. Please pass your input's `attention_mask` to obtain reliable results.\n",
      "Setting `pad_token_id` to `eos_token_id`:50256 for open-end generation.\n",
      "The attention mask and the pad token id were not set. As a consequence, you may observe unexpected behavior. Please pass your input's `attention_mask` to obtain reliable results.\n",
      "Setting `pad_token_id` to `eos_token_id`:50256 for open-end generation.\n",
      "The attention mask and the pad token id were not set. As a consequence, you may observe unexpected behavior. Please pass your input's `attention_mask` to obtain reliable results.\n",
      "Setting `pad_token_id` to `eos_token_id`:50256 for open-end generation.\n",
      "The attention mask and the pad token id were not set. As a consequence, you may observe unexpected behavior. Please pass your input's `attention_mask` to obtain reliable results.\n",
      "Setting `pad_token_id` to `eos_token_id`:50256 for open-end generation.\n",
      "The attention mask and the pad token id were not set. As a consequence, you may observe unexpected behavior. Please pass your input's `attention_mask` to obtain reliable results.\n",
      "Setting `pad_token_id` to `eos_token_id`:50256 for open-end generation.\n",
      "The attention mask and the pad token id were not set. As a consequence, you may observe unexpected behavior. Please pass your input's `attention_mask` to obtain reliable results.\n",
      "Setting `pad_token_id` to `eos_token_id`:50256 for open-end generation.\n",
      "The attention mask and the pad token id were not set. As a consequence, you may observe unexpected behavior. Please pass your input's `attention_mask` to obtain reliable results.\n",
      "Setting `pad_token_id` to `eos_token_id`:50256 for open-end generation.\n",
      "The attention mask and the pad token id were not set. As a consequence, you may observe unexpected behavior. Please pass your input's `attention_mask` to obtain reliable results.\n",
      "Setting `pad_token_id` to `eos_token_id`:50256 for open-end generation.\n",
      "The attention mask and the pad token id were not set. As a consequence, you may observe unexpected behavior. Please pass your input's `attention_mask` to obtain reliable results.\n",
      "Setting `pad_token_id` to `eos_token_id`:50256 for open-end generation.\n",
      "The attention mask and the pad token id were not set. As a consequence, you may observe unexpected behavior. Please pass your input's `attention_mask` to obtain reliable results.\n",
      "Setting `pad_token_id` to `eos_token_id`:50256 for open-end generation.\n",
      "The attention mask and the pad token id were not set. As a consequence, you may observe unexpected behavior. Please pass your input's `attention_mask` to obtain reliable results.\n",
      "Setting `pad_token_id` to `eos_token_id`:50256 for open-end generation.\n",
      "The attention mask and the pad token id were not set. As a consequence, you may observe unexpected behavior. Please pass your input's `attention_mask` to obtain reliable results.\n",
      "Setting `pad_token_id` to `eos_token_id`:50256 for open-end generation.\n",
      "The attention mask and the pad token id were not set. As a consequence, you may observe unexpected behavior. Please pass your input's `attention_mask` to obtain reliable results.\n",
      "Setting `pad_token_id` to `eos_token_id`:50256 for open-end generation.\n",
      "The attention mask and the pad token id were not set. As a consequence, you may observe unexpected behavior. Please pass your input's `attention_mask` to obtain reliable results.\n",
      "Setting `pad_token_id` to `eos_token_id`:50256 for open-end generation.\n",
      "The attention mask and the pad token id were not set. As a consequence, you may observe unexpected behavior. Please pass your input's `attention_mask` to obtain reliable results.\n",
      "Setting `pad_token_id` to `eos_token_id`:50256 for open-end generation.\n",
      "The attention mask and the pad token id were not set. As a consequence, you may observe unexpected behavior. Please pass your input's `attention_mask` to obtain reliable results.\n",
      "Setting `pad_token_id` to `eos_token_id`:50256 for open-end generation.\n",
      "The attention mask and the pad token id were not set. As a consequence, you may observe unexpected behavior. Please pass your input's `attention_mask` to obtain reliable results.\n",
      "Setting `pad_token_id` to `eos_token_id`:50256 for open-end generation.\n",
      "The attention mask and the pad token id were not set. As a consequence, you may observe unexpected behavior. Please pass your input's `attention_mask` to obtain reliable results.\n",
      "Setting `pad_token_id` to `eos_token_id`:50256 for open-end generation.\n",
      "The attention mask and the pad token id were not set. As a consequence, you may observe unexpected behavior. Please pass your input's `attention_mask` to obtain reliable results.\n",
      "Setting `pad_token_id` to `eos_token_id`:50256 for open-end generation.\n",
      "The attention mask and the pad token id were not set. As a consequence, you may observe unexpected behavior. Please pass your input's `attention_mask` to obtain reliable results.\n",
      "Setting `pad_token_id` to `eos_token_id`:50256 for open-end generation.\n",
      "The attention mask and the pad token id were not set. As a consequence, you may observe unexpected behavior. Please pass your input's `attention_mask` to obtain reliable results.\n",
      "Setting `pad_token_id` to `eos_token_id`:50256 for open-end generation.\n",
      "The attention mask and the pad token id were not set. As a consequence, you may observe unexpected behavior. Please pass your input's `attention_mask` to obtain reliable results.\n",
      "Setting `pad_token_id` to `eos_token_id`:50256 for open-end generation.\n",
      "The attention mask and the pad token id were not set. As a consequence, you may observe unexpected behavior. Please pass your input's `attention_mask` to obtain reliable results.\n",
      "Setting `pad_token_id` to `eos_token_id`:50256 for open-end generation.\n",
      "The attention mask and the pad token id were not set. As a consequence, you may observe unexpected behavior. Please pass your input's `attention_mask` to obtain reliable results.\n",
      "Setting `pad_token_id` to `eos_token_id`:50256 for open-end generation.\n",
      "The attention mask and the pad token id were not set. As a consequence, you may observe unexpected behavior. Please pass your input's `attention_mask` to obtain reliable results.\n",
      "Setting `pad_token_id` to `eos_token_id`:50256 for open-end generation.\n",
      "The attention mask and the pad token id were not set. As a consequence, you may observe unexpected behavior. Please pass your input's `attention_mask` to obtain reliable results.\n",
      "Setting `pad_token_id` to `eos_token_id`:50256 for open-end generation.\n"
     ]
    }
   ],
   "source": [
    "df_Hyb['DistilBERT']= df_Hyb['List_Sumy_TextRank'].apply(lambda x:DistilBERT(x))"
   ]
  },
  {
   "cell_type": "markdown",
   "id": "f68492c4",
   "metadata": {},
   "source": [
    "# GPT2"
   ]
  },
  {
   "cell_type": "code",
   "execution_count": 52,
   "id": "3141853e",
   "metadata": {},
   "outputs": [
    {
     "name": "stderr",
     "output_type": "stream",
     "text": [
      "C:\\Users\\msalehi\\AppData\\Local\\Programs\\Python\\Python311\\Lib\\site-packages\\transformers\\models\\auto\\modeling_auto.py:1362: FutureWarning: The class `AutoModelWithLMHead` is deprecated and will be removed in a future version. Please use `AutoModelForCausalLM` for causal language models, `AutoModelForMaskedLM` for masked language models and `AutoModelForSeq2SeqLM` for encoder-decoder models.\n",
      "  warnings.warn(\n"
     ]
    }
   ],
   "source": [
    "model = AutoModelWithLMHead.from_pretrained('gpt2')\n",
    "tokenizer = AutoTokenizer.from_pretrained(\"gpt2\")"
   ]
  },
  {
   "cell_type": "code",
   "execution_count": 53,
   "id": "29754e62",
   "metadata": {},
   "outputs": [],
   "source": [
    "def GPT2(text):\n",
    "    start = time.time()\n",
    "    inputs = tokenizer.encode(\"summarize: \" + text_data.iloc[20]['text'], return_tensors=\"pt\", max_length=149)\n",
    "    outputs = model.generate(inputs, max_length=150, min_length=40, length_penalty=2.0, num_beams=4, early_stopping=True)\n",
    "    decoded_GPT2 = tokenizer.decode(outputs[0])\n",
    "    end = time.time()\n",
    "    GPT2_time = (end - start)\n",
    "    return(GPT2_time, decoded_GPT2)"
   ]
  },
  {
   "cell_type": "code",
   "execution_count": 54,
   "id": "00695c76",
   "metadata": {},
   "outputs": [
    {
     "name": "stderr",
     "output_type": "stream",
     "text": [
      "Truncation was not explicitly activated but `max_length` is provided a specific value, please use `truncation=True` to explicitly truncate examples to max length. Defaulting to 'longest_first' truncation strategy. If you encode pairs of sequences (GLUE-style) with the tokenizer you can select this strategy more precisely by providing a specific strategy to `truncation`.\n",
      "The attention mask and the pad token id were not set. As a consequence, you may observe unexpected behavior. Please pass your input's `attention_mask` to obtain reliable results.\n",
      "Setting `pad_token_id` to `eos_token_id`:50256 for open-end generation.\n",
      "The attention mask and the pad token id were not set. As a consequence, you may observe unexpected behavior. Please pass your input's `attention_mask` to obtain reliable results.\n",
      "Setting `pad_token_id` to `eos_token_id`:50256 for open-end generation.\n",
      "The attention mask and the pad token id were not set. As a consequence, you may observe unexpected behavior. Please pass your input's `attention_mask` to obtain reliable results.\n",
      "Setting `pad_token_id` to `eos_token_id`:50256 for open-end generation.\n",
      "The attention mask and the pad token id were not set. As a consequence, you may observe unexpected behavior. Please pass your input's `attention_mask` to obtain reliable results.\n",
      "Setting `pad_token_id` to `eos_token_id`:50256 for open-end generation.\n",
      "The attention mask and the pad token id were not set. As a consequence, you may observe unexpected behavior. Please pass your input's `attention_mask` to obtain reliable results.\n",
      "Setting `pad_token_id` to `eos_token_id`:50256 for open-end generation.\n",
      "The attention mask and the pad token id were not set. As a consequence, you may observe unexpected behavior. Please pass your input's `attention_mask` to obtain reliable results.\n",
      "Setting `pad_token_id` to `eos_token_id`:50256 for open-end generation.\n",
      "The attention mask and the pad token id were not set. As a consequence, you may observe unexpected behavior. Please pass your input's `attention_mask` to obtain reliable results.\n",
      "Setting `pad_token_id` to `eos_token_id`:50256 for open-end generation.\n",
      "The attention mask and the pad token id were not set. As a consequence, you may observe unexpected behavior. Please pass your input's `attention_mask` to obtain reliable results.\n",
      "Setting `pad_token_id` to `eos_token_id`:50256 for open-end generation.\n",
      "The attention mask and the pad token id were not set. As a consequence, you may observe unexpected behavior. Please pass your input's `attention_mask` to obtain reliable results.\n",
      "Setting `pad_token_id` to `eos_token_id`:50256 for open-end generation.\n",
      "The attention mask and the pad token id were not set. As a consequence, you may observe unexpected behavior. Please pass your input's `attention_mask` to obtain reliable results.\n",
      "Setting `pad_token_id` to `eos_token_id`:50256 for open-end generation.\n",
      "The attention mask and the pad token id were not set. As a consequence, you may observe unexpected behavior. Please pass your input's `attention_mask` to obtain reliable results.\n",
      "Setting `pad_token_id` to `eos_token_id`:50256 for open-end generation.\n",
      "The attention mask and the pad token id were not set. As a consequence, you may observe unexpected behavior. Please pass your input's `attention_mask` to obtain reliable results.\n",
      "Setting `pad_token_id` to `eos_token_id`:50256 for open-end generation.\n",
      "The attention mask and the pad token id were not set. As a consequence, you may observe unexpected behavior. Please pass your input's `attention_mask` to obtain reliable results.\n",
      "Setting `pad_token_id` to `eos_token_id`:50256 for open-end generation.\n",
      "The attention mask and the pad token id were not set. As a consequence, you may observe unexpected behavior. Please pass your input's `attention_mask` to obtain reliable results.\n",
      "Setting `pad_token_id` to `eos_token_id`:50256 for open-end generation.\n",
      "The attention mask and the pad token id were not set. As a consequence, you may observe unexpected behavior. Please pass your input's `attention_mask` to obtain reliable results.\n",
      "Setting `pad_token_id` to `eos_token_id`:50256 for open-end generation.\n",
      "The attention mask and the pad token id were not set. As a consequence, you may observe unexpected behavior. Please pass your input's `attention_mask` to obtain reliable results.\n",
      "Setting `pad_token_id` to `eos_token_id`:50256 for open-end generation.\n",
      "The attention mask and the pad token id were not set. As a consequence, you may observe unexpected behavior. Please pass your input's `attention_mask` to obtain reliable results.\n",
      "Setting `pad_token_id` to `eos_token_id`:50256 for open-end generation.\n",
      "The attention mask and the pad token id were not set. As a consequence, you may observe unexpected behavior. Please pass your input's `attention_mask` to obtain reliable results.\n",
      "Setting `pad_token_id` to `eos_token_id`:50256 for open-end generation.\n",
      "The attention mask and the pad token id were not set. As a consequence, you may observe unexpected behavior. Please pass your input's `attention_mask` to obtain reliable results.\n",
      "Setting `pad_token_id` to `eos_token_id`:50256 for open-end generation.\n",
      "The attention mask and the pad token id were not set. As a consequence, you may observe unexpected behavior. Please pass your input's `attention_mask` to obtain reliable results.\n",
      "Setting `pad_token_id` to `eos_token_id`:50256 for open-end generation.\n",
      "The attention mask and the pad token id were not set. As a consequence, you may observe unexpected behavior. Please pass your input's `attention_mask` to obtain reliable results.\n",
      "Setting `pad_token_id` to `eos_token_id`:50256 for open-end generation.\n",
      "The attention mask and the pad token id were not set. As a consequence, you may observe unexpected behavior. Please pass your input's `attention_mask` to obtain reliable results.\n",
      "Setting `pad_token_id` to `eos_token_id`:50256 for open-end generation.\n",
      "The attention mask and the pad token id were not set. As a consequence, you may observe unexpected behavior. Please pass your input's `attention_mask` to obtain reliable results.\n",
      "Setting `pad_token_id` to `eos_token_id`:50256 for open-end generation.\n",
      "The attention mask and the pad token id were not set. As a consequence, you may observe unexpected behavior. Please pass your input's `attention_mask` to obtain reliable results.\n",
      "Setting `pad_token_id` to `eos_token_id`:50256 for open-end generation.\n",
      "The attention mask and the pad token id were not set. As a consequence, you may observe unexpected behavior. Please pass your input's `attention_mask` to obtain reliable results.\n",
      "Setting `pad_token_id` to `eos_token_id`:50256 for open-end generation.\n",
      "The attention mask and the pad token id were not set. As a consequence, you may observe unexpected behavior. Please pass your input's `attention_mask` to obtain reliable results.\n",
      "Setting `pad_token_id` to `eos_token_id`:50256 for open-end generation.\n",
      "The attention mask and the pad token id were not set. As a consequence, you may observe unexpected behavior. Please pass your input's `attention_mask` to obtain reliable results.\n",
      "Setting `pad_token_id` to `eos_token_id`:50256 for open-end generation.\n"
     ]
    }
   ],
   "source": [
    "df_Hyb['GPT2']= df_Hyb['List_Sumy_TextRank'].apply(lambda x:GPT2(x))"
   ]
  },
  {
   "cell_type": "markdown",
   "id": "4168d0c0",
   "metadata": {},
   "source": [
    "## Rouge Score"
   ]
  },
  {
   "cell_type": "code",
   "execution_count": 55,
   "id": "48786c99",
   "metadata": {},
   "outputs": [],
   "source": [
    "df_Hyb['summary'] = text_data['summary']"
   ]
  },
  {
   "cell_type": "code",
   "execution_count": 56,
   "id": "2859a939",
   "metadata": {},
   "outputs": [
    {
     "data": {
      "text/html": [
       "<div>\n",
       "<style scoped>\n",
       "    .dataframe tbody tr th:only-of-type {\n",
       "        vertical-align: middle;\n",
       "    }\n",
       "\n",
       "    .dataframe tbody tr th {\n",
       "        vertical-align: top;\n",
       "    }\n",
       "\n",
       "    .dataframe thead th {\n",
       "        text-align: right;\n",
       "    }\n",
       "</style>\n",
       "<table border=\"1\" class=\"dataframe\">\n",
       "  <thead>\n",
       "    <tr style=\"text-align: right;\">\n",
       "      <th></th>\n",
       "      <th>Sumy_TextRank</th>\n",
       "      <th>List_Sumy_TextRank</th>\n",
       "      <th>T5</th>\n",
       "      <th>BERT</th>\n",
       "      <th>GPT</th>\n",
       "      <th>DistilBERT</th>\n",
       "      <th>GPT2</th>\n",
       "      <th>summary</th>\n",
       "    </tr>\n",
       "  </thead>\n",
       "  <tbody>\n",
       "    <tr>\n",
       "      <th>0</th>\n",
       "      <td>(0.008727312088012695, [Because we're arrogant...</td>\n",
       "      <td>Because we're arrogant and feel like we don't ...</td>\n",
       "      <td>(3.3088467121124268, &lt;pad&gt; if you code for use...</td>\n",
       "      <td>(12.936628103256226, [CLS] summarize : Because...</td>\n",
       "      <td>(0.3818371295928955, summarize : because we're...</td>\n",
       "      <td>(0.25107693672180176, summarize: Because we're...</td>\n",
       "      <td>(0.4311544895172119, summarize: Machine Vision...</td>\n",
       "      <td>The article discusses the importance of provid...</td>\n",
       "    </tr>\n",
       "    <tr>\n",
       "      <th>1</th>\n",
       "      <td>(0.0015697479248046875, [Creating a thumbnail ...</td>\n",
       "      <td>Creating a thumbnail to represent a video is a...</td>\n",
       "      <td>(2.8515841960906982, &lt;pad&gt; developers can use ...</td>\n",
       "      <td>(12.982860326766968, [CLS] summarize : Creatin...</td>\n",
       "      <td>(0.41689205169677734, summarize : creating a t...</td>\n",
       "      <td>(0.2378535270690918, summarize: Creating a thu...</td>\n",
       "      <td>(0.4167289733886719, summarize: Machine Vision...</td>\n",
       "      <td>The article discusses several topics related t...</td>\n",
       "    </tr>\n",
       "    <tr>\n",
       "      <th>2</th>\n",
       "      <td>(0.0, [We all love beautifully styled form con...</td>\n",
       "      <td>We all love beautifully styled form controls b...</td>\n",
       "      <td>(4.611579895019531, &lt;pad&gt; the jQuery JavaScrip...</td>\n",
       "      <td>(12.915395021438599, [CLS] summarize : We all ...</td>\n",
       "      <td>(0.3918273448944092, summarize : we all love b...</td>\n",
       "      <td>(0.2474985122680664, summarize: We all love be...</td>\n",
       "      <td>(0.4450044631958008, summarize: Machine Vision...</td>\n",
       "      <td>This article discusses various web development...</td>\n",
       "    </tr>\n",
       "    <tr>\n",
       "      <th>3</th>\n",
       "      <td>(0.00857686996459961, [Form validation has alw...</td>\n",
       "      <td>Form validation has always been my least favor...</td>\n",
       "      <td>(3.538940191268921, &lt;pad&gt; to aid form validati...</td>\n",
       "      <td>(12.96420168876648, [CLS] summarize : Form val...</td>\n",
       "      <td>(0.4256575107574463, summarize : form validati...</td>\n",
       "      <td>(0.25385451316833496, summarize: Form validati...</td>\n",
       "      <td>(0.42593979835510254, summarize: Machine Visio...</td>\n",
       "      <td>The article discusses how to control native fo...</td>\n",
       "    </tr>\n",
       "    <tr>\n",
       "      <th>4</th>\n",
       "      <td>(0.006668806076049805, [It's one thing to know...</td>\n",
       "      <td>It's one thing to know about what's in the bro...</td>\n",
       "      <td>(5.1151275634765625, &lt;pad&gt; we've gotten past d...</td>\n",
       "      <td>(12.949451208114624, [CLS] summarize : It's on...</td>\n",
       "      <td>(0.4005093574523926, summarize : it's one thin...</td>\n",
       "      <td>(0.25842881202697754, summarize: It's one thin...</td>\n",
       "      <td>(0.45431089401245117, summarize: Machine Visio...</td>\n",
       "      <td>The article discusses how developers can gain ...</td>\n",
       "    </tr>\n",
       "  </tbody>\n",
       "</table>\n",
       "</div>"
      ],
      "text/plain": [
       "                                       Sumy_TextRank  \\\n",
       "0  (0.008727312088012695, [Because we're arrogant...   \n",
       "1  (0.0015697479248046875, [Creating a thumbnail ...   \n",
       "2  (0.0, [We all love beautifully styled form con...   \n",
       "3  (0.00857686996459961, [Form validation has alw...   \n",
       "4  (0.006668806076049805, [It's one thing to know...   \n",
       "\n",
       "                                  List_Sumy_TextRank  \\\n",
       "0  Because we're arrogant and feel like we don't ...   \n",
       "1  Creating a thumbnail to represent a video is a...   \n",
       "2  We all love beautifully styled form controls b...   \n",
       "3  Form validation has always been my least favor...   \n",
       "4  It's one thing to know about what's in the bro...   \n",
       "\n",
       "                                                  T5  \\\n",
       "0  (3.3088467121124268, <pad> if you code for use...   \n",
       "1  (2.8515841960906982, <pad> developers can use ...   \n",
       "2  (4.611579895019531, <pad> the jQuery JavaScrip...   \n",
       "3  (3.538940191268921, <pad> to aid form validati...   \n",
       "4  (5.1151275634765625, <pad> we've gotten past d...   \n",
       "\n",
       "                                                BERT  \\\n",
       "0  (12.936628103256226, [CLS] summarize : Because...   \n",
       "1  (12.982860326766968, [CLS] summarize : Creatin...   \n",
       "2  (12.915395021438599, [CLS] summarize : We all ...   \n",
       "3  (12.96420168876648, [CLS] summarize : Form val...   \n",
       "4  (12.949451208114624, [CLS] summarize : It's on...   \n",
       "\n",
       "                                                 GPT  \\\n",
       "0  (0.3818371295928955, summarize : because we're...   \n",
       "1  (0.41689205169677734, summarize : creating a t...   \n",
       "2  (0.3918273448944092, summarize : we all love b...   \n",
       "3  (0.4256575107574463, summarize : form validati...   \n",
       "4  (0.4005093574523926, summarize : it's one thin...   \n",
       "\n",
       "                                          DistilBERT  \\\n",
       "0  (0.25107693672180176, summarize: Because we're...   \n",
       "1  (0.2378535270690918, summarize: Creating a thu...   \n",
       "2  (0.2474985122680664, summarize: We all love be...   \n",
       "3  (0.25385451316833496, summarize: Form validati...   \n",
       "4  (0.25842881202697754, summarize: It's one thin...   \n",
       "\n",
       "                                                GPT2  \\\n",
       "0  (0.4311544895172119, summarize: Machine Vision...   \n",
       "1  (0.4167289733886719, summarize: Machine Vision...   \n",
       "2  (0.4450044631958008, summarize: Machine Vision...   \n",
       "3  (0.42593979835510254, summarize: Machine Visio...   \n",
       "4  (0.45431089401245117, summarize: Machine Visio...   \n",
       "\n",
       "                                             summary  \n",
       "0  The article discusses the importance of provid...  \n",
       "1  The article discusses several topics related t...  \n",
       "2  This article discusses various web development...  \n",
       "3  The article discusses how to control native fo...  \n",
       "4  The article discusses how developers can gain ...  "
      ]
     },
     "execution_count": 56,
     "metadata": {},
     "output_type": "execute_result"
    }
   ],
   "source": [
    "df_Hyb.head()"
   ]
  },
  {
   "cell_type": "code",
   "execution_count": 57,
   "id": "c9eb0cf4",
   "metadata": {},
   "outputs": [],
   "source": [
    "from rouge import Rouge"
   ]
  },
  {
   "cell_type": "code",
   "execution_count": 58,
   "id": "06741804",
   "metadata": {},
   "outputs": [],
   "source": [
    "df_Hyb['T5_list'] = [x[1] for x in df_Hyb['T5']]"
   ]
  },
  {
   "cell_type": "code",
   "execution_count": 59,
   "id": "fd732c04",
   "metadata": {},
   "outputs": [
    {
     "data": {
      "text/html": [
       "<div>\n",
       "<style scoped>\n",
       "    .dataframe tbody tr th:only-of-type {\n",
       "        vertical-align: middle;\n",
       "    }\n",
       "\n",
       "    .dataframe tbody tr th {\n",
       "        vertical-align: top;\n",
       "    }\n",
       "\n",
       "    .dataframe thead th {\n",
       "        text-align: right;\n",
       "    }\n",
       "</style>\n",
       "<table border=\"1\" class=\"dataframe\">\n",
       "  <thead>\n",
       "    <tr style=\"text-align: right;\">\n",
       "      <th></th>\n",
       "      <th>rouge-1</th>\n",
       "      <th>rouge-2</th>\n",
       "      <th>rouge-l</th>\n",
       "    </tr>\n",
       "  </thead>\n",
       "  <tbody>\n",
       "    <tr>\n",
       "      <th>0</th>\n",
       "      <td>{'r': 0.35294117647058826, 'p': 0.076923076923...</td>\n",
       "      <td>{'r': 0.11764705882352941, 'p': 0.018867924528...</td>\n",
       "      <td>{'r': 0.35294117647058826, 'p': 0.076923076923...</td>\n",
       "    </tr>\n",
       "    <tr>\n",
       "      <th>1</th>\n",
       "      <td>{'r': 0.5416666666666666, 'p': 0.1688311688311...</td>\n",
       "      <td>{'r': 0.19230769230769232, 'p': 0.045871559633...</td>\n",
       "      <td>{'r': 0.375, 'p': 0.11688311688311688, 'f': 0....</td>\n",
       "    </tr>\n",
       "    <tr>\n",
       "      <th>2</th>\n",
       "      <td>{'r': 0.37142857142857144, 'p': 0.178082191780...</td>\n",
       "      <td>{'r': 0.02631578947368421, 'p': 0.011235955056...</td>\n",
       "      <td>{'r': 0.2857142857142857, 'p': 0.1369863013698...</td>\n",
       "    </tr>\n",
       "    <tr>\n",
       "      <th>3</th>\n",
       "      <td>{'r': 0.6666666666666666, 'p': 0.2898550724637...</td>\n",
       "      <td>{'r': 0.24242424242424243, 'p': 0.08, 'f': 0.1...</td>\n",
       "      <td>{'r': 0.6, 'p': 0.2608695652173913, 'f': 0.363...</td>\n",
       "    </tr>\n",
       "    <tr>\n",
       "      <th>4</th>\n",
       "      <td>{'r': 0.43243243243243246, 'p': 0.216216216216...</td>\n",
       "      <td>{'r': 0.23255813953488372, 'p': 0.104166666666...</td>\n",
       "      <td>{'r': 0.40540540540540543, 'p': 0.202702702702...</td>\n",
       "    </tr>\n",
       "  </tbody>\n",
       "</table>\n",
       "</div>"
      ],
      "text/plain": [
       "                                             rouge-1  \\\n",
       "0  {'r': 0.35294117647058826, 'p': 0.076923076923...   \n",
       "1  {'r': 0.5416666666666666, 'p': 0.1688311688311...   \n",
       "2  {'r': 0.37142857142857144, 'p': 0.178082191780...   \n",
       "3  {'r': 0.6666666666666666, 'p': 0.2898550724637...   \n",
       "4  {'r': 0.43243243243243246, 'p': 0.216216216216...   \n",
       "\n",
       "                                             rouge-2  \\\n",
       "0  {'r': 0.11764705882352941, 'p': 0.018867924528...   \n",
       "1  {'r': 0.19230769230769232, 'p': 0.045871559633...   \n",
       "2  {'r': 0.02631578947368421, 'p': 0.011235955056...   \n",
       "3  {'r': 0.24242424242424243, 'p': 0.08, 'f': 0.1...   \n",
       "4  {'r': 0.23255813953488372, 'p': 0.104166666666...   \n",
       "\n",
       "                                             rouge-l  \n",
       "0  {'r': 0.35294117647058826, 'p': 0.076923076923...  \n",
       "1  {'r': 0.375, 'p': 0.11688311688311688, 'f': 0....  \n",
       "2  {'r': 0.2857142857142857, 'p': 0.1369863013698...  \n",
       "3  {'r': 0.6, 'p': 0.2608695652173913, 'f': 0.363...  \n",
       "4  {'r': 0.40540540540540543, 'p': 0.202702702702...  "
      ]
     },
     "execution_count": 59,
     "metadata": {},
     "output_type": "execute_result"
    }
   ],
   "source": [
    "rouge = Rouge()\n",
    "\n",
    "# Compare chatgpt summary with T5 using Rouge measure\n",
    "\n",
    "scores1 = rouge.get_scores(df_Hyb[\"summary\"], df_Hyb['T5_list'])\n",
    "df_result1 = pd.DataFrame(scores1)\n",
    "df_result1.head()"
   ]
  },
  {
   "cell_type": "code",
   "execution_count": 60,
   "id": "48b05abd",
   "metadata": {},
   "outputs": [],
   "source": [
    "df_Hyb['BERT_list'] = [x[1] for x in df_Hyb['BERT']]"
   ]
  },
  {
   "cell_type": "code",
   "execution_count": 61,
   "id": "252078c7",
   "metadata": {},
   "outputs": [],
   "source": [
    "# Compare chatgpt summary with BERT using Rouge measure\n",
    "\n",
    "scores2 = rouge.get_scores(df_Hyb[\"summary\"], df_Hyb[\"BERT_list\"])\n",
    "df_result2 = pd.DataFrame(scores2)\n",
    "# df_result2.head()"
   ]
  },
  {
   "cell_type": "code",
   "execution_count": 62,
   "id": "f13f2da8",
   "metadata": {},
   "outputs": [],
   "source": [
    "df_Hyb['DistilBERT_list'] = [x[1] for x in df_Hyb['DistilBERT']]"
   ]
  },
  {
   "cell_type": "code",
   "execution_count": 63,
   "id": "225dcdf0",
   "metadata": {},
   "outputs": [],
   "source": [
    "# Compare chatgpt summary with DistilBERT using Rouge measure\n",
    "\n",
    "scores3 = rouge.get_scores(df_Hyb[\"summary\"], df_Hyb[\"DistilBERT_list\"])\n",
    "df_result3 = pd.DataFrame(scores3)\n",
    "# df_result3.head()"
   ]
  },
  {
   "cell_type": "code",
   "execution_count": 64,
   "id": "8dde0cbb",
   "metadata": {},
   "outputs": [],
   "source": [
    "df_Hyb['GPT_list'] = [x[1] for x in df_Hyb['GPT']]"
   ]
  },
  {
   "cell_type": "code",
   "execution_count": 65,
   "id": "1c836fea",
   "metadata": {},
   "outputs": [],
   "source": [
    "# # Compare chatgpt summary with GPT using Rouge measure\n",
    "\n",
    "scores4 = rouge.get_scores(df_Hyb[\"summary\"], df_Hyb[\"GPT_list\"])\n",
    "df_result4 = pd.DataFrame(scores4)\n",
    "# df_result4.head()"
   ]
  },
  {
   "cell_type": "code",
   "execution_count": 66,
   "id": "b66c05d2",
   "metadata": {},
   "outputs": [],
   "source": [
    "df_Hyb['GPT2_list'] = [x[1] for x in df_Hyb['GPT2']]"
   ]
  },
  {
   "cell_type": "code",
   "execution_count": 67,
   "id": "cf5224b7",
   "metadata": {},
   "outputs": [],
   "source": [
    "# Compare chatgpt summary with GPT2 using Rouge measure\n",
    "\n",
    "scores5 = rouge.get_scores(df_Hyb[\"summary\"], df_Hyb[\"GPT2_list\"])\n",
    "df_result5 = pd.DataFrame(scores5)\n",
    "# df_result5.head()"
   ]
  },
  {
   "cell_type": "code",
   "execution_count": 68,
   "id": "e31e8613",
   "metadata": {},
   "outputs": [],
   "source": [
    "# Create a dataframe and Calculate the mean value of Rouge measure for T5\n",
    "\n",
    "f_rouge_1_T5 = []\n",
    "f_rouge_2 = []\n",
    "f_rouge_l = []\n",
    "\n",
    "for i in range(len(df_result1)):\n",
    "    r = df_result1['rouge-1'][i]['f']\n",
    "    f_rouge_1_T5.append(r)\n",
    "    k = df_result1['rouge-2'][i]['f']\n",
    "    f_rouge_2.append(k)\n",
    "    h = df_result1['rouge-l'][i]['f']\n",
    "    f_rouge_l.append(h)"
   ]
  },
  {
   "cell_type": "code",
   "execution_count": 69,
   "id": "1f3f6b6d",
   "metadata": {},
   "outputs": [],
   "source": [
    "# Create a dataframe and Calculate the mean value of Rouge measure for BERT\n",
    "\n",
    "f_rouge_1_BERT = []\n",
    "f_rouge_2 = []\n",
    "f_rouge_l = []\n",
    "\n",
    "for i in range(len(df_result2)):\n",
    "    r = df_result2['rouge-1'][i]['f']\n",
    "    f_rouge_1_BERT.append(r)\n",
    "    k = df_result2['rouge-2'][i]['f']\n",
    "    f_rouge_2.append(k)\n",
    "    h = df_result2['rouge-l'][i]['f']\n",
    "    f_rouge_l.append(h)"
   ]
  },
  {
   "cell_type": "code",
   "execution_count": 70,
   "id": "17071727",
   "metadata": {},
   "outputs": [],
   "source": [
    "# Create a dataframe and Calculate the mean value of Rouge measure for T5\n",
    "\n",
    "f_rouge_1_T5 = []\n",
    "f_rouge_2 = []\n",
    "f_rouge_l = []\n",
    "\n",
    "for i in range(len(df_result1)):\n",
    "    r = df_result1['rouge-1'][i]['f']\n",
    "    f_rouge_1_T5.append(r)\n",
    "    k = df_result1['rouge-2'][i]['f']\n",
    "    f_rouge_2.append(k)\n",
    "    h = df_result1['rouge-l'][i]['f']\n",
    "    f_rouge_l.append(h)"
   ]
  },
  {
   "cell_type": "code",
   "execution_count": 71,
   "id": "56a1e4fe",
   "metadata": {},
   "outputs": [],
   "source": [
    "# Create a dataframe and Calculate the mean value of Rouge measure for BERT\n",
    "\n",
    "f_rouge_1_BERT = []\n",
    "f_rouge_2 = []\n",
    "f_rouge_l = []\n",
    "\n",
    "for i in range(len(df_result2)):\n",
    "    r = df_result2['rouge-1'][i]['f']\n",
    "    f_rouge_1_BERT.append(r)\n",
    "    k = df_result2['rouge-2'][i]['f']\n",
    "    f_rouge_2.append(k)\n",
    "    h = df_result2['rouge-l'][i]['f']\n",
    "    f_rouge_l.append(h)"
   ]
  },
  {
   "cell_type": "code",
   "execution_count": 72,
   "id": "604b5110",
   "metadata": {},
   "outputs": [],
   "source": [
    "# Create a dataframe and Calculate the mean value of Rouge measure for DistilBERT\n",
    "\n",
    "f_rouge_1_DistilBERT = []\n",
    "f_rouge_2_DistilBERT = []\n",
    "f_rouge_l_DistilBERT = []\n",
    "\n",
    "for i in range(len(df_result3)):\n",
    "    r = df_result3['rouge-1'][i]['f']\n",
    "    f_rouge_1_DistilBERT.append(r)\n",
    "    k = df_result3['rouge-2'][i]['f']\n",
    "    f_rouge_2_DistilBERT.append(k)\n",
    "    h = df_result3['rouge-l'][i]['f']\n",
    "    f_rouge_l_DistilBERT.append(h)"
   ]
  },
  {
   "cell_type": "code",
   "execution_count": 73,
   "id": "38a136cf",
   "metadata": {},
   "outputs": [],
   "source": [
    "# Create a dataframe and Calculate the mean value of Rouge measure for GPT\n",
    "\n",
    "f_rouge_1_GPT = []\n",
    "f_rouge_2 = []\n",
    "f_rouge_l = []\n",
    "\n",
    "for i in range(len(df_result4)):\n",
    "    r = df_result4['rouge-1'][i]['f']\n",
    "    f_rouge_1_GPT.append(r)\n",
    "    k = df_result4['rouge-2'][i]['f']\n",
    "    f_rouge_2.append(k)\n",
    "    h = df_result4['rouge-l'][i]['f']\n",
    "    f_rouge_l.append(h)"
   ]
  },
  {
   "cell_type": "code",
   "execution_count": 74,
   "id": "57e6eaf3",
   "metadata": {},
   "outputs": [],
   "source": [
    "# Create a dataframe and Calculate the mean value of Rouge measure for GPT2\n",
    "\n",
    "f_rouge_1_GPT2 = []\n",
    "f_rouge_2 = []\n",
    "f_rouge_l = []\n",
    "\n",
    "for i in range(len(df_result5)):\n",
    "    r = df_result5['rouge-1'][i]['f']\n",
    "    f_rouge_1_GPT2.append(r)\n",
    "    k = df_result5['rouge-2'][i]['f']\n",
    "    f_rouge_2.append(k)\n",
    "    h = df_result5['rouge-l'][i]['f']\n",
    "    f_rouge_l.append(h)"
   ]
  },
  {
   "cell_type": "code",
   "execution_count": 75,
   "id": "7fd204e7",
   "metadata": {},
   "outputs": [
    {
     "data": {
      "text/html": [
       "<div>\n",
       "<style scoped>\n",
       "    .dataframe tbody tr th:only-of-type {\n",
       "        vertical-align: middle;\n",
       "    }\n",
       "\n",
       "    .dataframe tbody tr th {\n",
       "        vertical-align: top;\n",
       "    }\n",
       "\n",
       "    .dataframe thead th {\n",
       "        text-align: right;\n",
       "    }\n",
       "</style>\n",
       "<table border=\"1\" class=\"dataframe\">\n",
       "  <thead>\n",
       "    <tr style=\"text-align: right;\">\n",
       "      <th></th>\n",
       "      <th>f_rouge_1_T5</th>\n",
       "      <th>f_rouge_1_BERT</th>\n",
       "      <th>f_rouge_1_GPT</th>\n",
       "      <th>f_rouge_1_DistilBERT</th>\n",
       "      <th>f_rouge_1_GPT2</th>\n",
       "    </tr>\n",
       "  </thead>\n",
       "  <tbody>\n",
       "    <tr>\n",
       "      <th>0</th>\n",
       "      <td>0.126316</td>\n",
       "      <td>0.192000</td>\n",
       "      <td>0.197183</td>\n",
       "      <td>0.248447</td>\n",
       "      <td>0.141935</td>\n",
       "    </tr>\n",
       "    <tr>\n",
       "      <th>1</th>\n",
       "      <td>0.257426</td>\n",
       "      <td>0.210526</td>\n",
       "      <td>0.226415</td>\n",
       "      <td>0.217949</td>\n",
       "      <td>0.168831</td>\n",
       "    </tr>\n",
       "    <tr>\n",
       "      <th>2</th>\n",
       "      <td>0.240741</td>\n",
       "      <td>0.232258</td>\n",
       "      <td>0.246914</td>\n",
       "      <td>0.283951</td>\n",
       "      <td>0.173333</td>\n",
       "    </tr>\n",
       "    <tr>\n",
       "      <th>3</th>\n",
       "      <td>0.404040</td>\n",
       "      <td>0.246575</td>\n",
       "      <td>0.293333</td>\n",
       "      <td>0.309677</td>\n",
       "      <td>0.205479</td>\n",
       "    </tr>\n",
       "    <tr>\n",
       "      <th>4</th>\n",
       "      <td>0.288288</td>\n",
       "      <td>0.323077</td>\n",
       "      <td>0.303797</td>\n",
       "      <td>0.310559</td>\n",
       "      <td>0.211921</td>\n",
       "    </tr>\n",
       "  </tbody>\n",
       "</table>\n",
       "</div>"
      ],
      "text/plain": [
       "   f_rouge_1_T5  f_rouge_1_BERT  f_rouge_1_GPT  f_rouge_1_DistilBERT  \\\n",
       "0      0.126316        0.192000       0.197183              0.248447   \n",
       "1      0.257426        0.210526       0.226415              0.217949   \n",
       "2      0.240741        0.232258       0.246914              0.283951   \n",
       "3      0.404040        0.246575       0.293333              0.309677   \n",
       "4      0.288288        0.323077       0.303797              0.310559   \n",
       "\n",
       "   f_rouge_1_GPT2  \n",
       "0        0.141935  \n",
       "1        0.168831  \n",
       "2        0.173333  \n",
       "3        0.205479  \n",
       "4        0.211921  "
      ]
     },
     "execution_count": 75,
     "metadata": {},
     "output_type": "execute_result"
    }
   ],
   "source": [
    "# Create a dataframe of f_rouge for all methods for each row\n",
    "\n",
    "data = {'f_rouge_1_T5':f_rouge_1_T5,'f_rouge_1_BERT':f_rouge_1_BERT\n",
    "        ,'f_rouge_1_GPT':f_rouge_1_GPT, 'f_rouge_1_DistilBERT':f_rouge_1_DistilBERT,'f_rouge_1_GPT2': f_rouge_1_GPT2}\n",
    "# columns = ['f_rouge_1_LexRank','f_rouge_1_Lsa','f_rouge_1_TextRank','f_rouge_1_Luhn']\n",
    "df =pd.DataFrame(data)\n",
    "df.head()"
   ]
  },
  {
   "cell_type": "code",
   "execution_count": 76,
   "id": "e78ab61f",
   "metadata": {},
   "outputs": [
    {
     "data": {
      "text/html": [
       "<div>\n",
       "<style scoped>\n",
       "    .dataframe tbody tr th:only-of-type {\n",
       "        vertical-align: middle;\n",
       "    }\n",
       "\n",
       "    .dataframe tbody tr th {\n",
       "        vertical-align: top;\n",
       "    }\n",
       "\n",
       "    .dataframe thead th {\n",
       "        text-align: right;\n",
       "    }\n",
       "</style>\n",
       "<table border=\"1\" class=\"dataframe\">\n",
       "  <thead>\n",
       "    <tr style=\"text-align: right;\">\n",
       "      <th></th>\n",
       "      <th>f_rouge_1_T5</th>\n",
       "      <th>f_rouge_1_BERT</th>\n",
       "      <th>f_rouge_1_GPT</th>\n",
       "      <th>f_rouge_1_DistilBERT</th>\n",
       "      <th>f_rouge_1_GPT2</th>\n",
       "    </tr>\n",
       "  </thead>\n",
       "  <tbody>\n",
       "    <tr>\n",
       "      <th>count</th>\n",
       "      <td>27.000000</td>\n",
       "      <td>27.000000</td>\n",
       "      <td>27.000000</td>\n",
       "      <td>27.000000</td>\n",
       "      <td>27.000000</td>\n",
       "    </tr>\n",
       "    <tr>\n",
       "      <th>mean</th>\n",
       "      <td>0.286788</td>\n",
       "      <td>0.296742</td>\n",
       "      <td>0.307851</td>\n",
       "      <td>0.338024</td>\n",
       "      <td>0.174475</td>\n",
       "    </tr>\n",
       "    <tr>\n",
       "      <th>std</th>\n",
       "      <td>0.079145</td>\n",
       "      <td>0.083674</td>\n",
       "      <td>0.078272</td>\n",
       "      <td>0.088610</td>\n",
       "      <td>0.045971</td>\n",
       "    </tr>\n",
       "    <tr>\n",
       "      <th>min</th>\n",
       "      <td>0.126316</td>\n",
       "      <td>0.148148</td>\n",
       "      <td>0.197183</td>\n",
       "      <td>0.217949</td>\n",
       "      <td>0.112676</td>\n",
       "    </tr>\n",
       "    <tr>\n",
       "      <th>25%</th>\n",
       "      <td>0.246244</td>\n",
       "      <td>0.233012</td>\n",
       "      <td>0.247640</td>\n",
       "      <td>0.278359</td>\n",
       "      <td>0.148360</td>\n",
       "    </tr>\n",
       "    <tr>\n",
       "      <th>50%</th>\n",
       "      <td>0.280255</td>\n",
       "      <td>0.285714</td>\n",
       "      <td>0.293333</td>\n",
       "      <td>0.305882</td>\n",
       "      <td>0.166667</td>\n",
       "    </tr>\n",
       "    <tr>\n",
       "      <th>75%</th>\n",
       "      <td>0.336992</td>\n",
       "      <td>0.346656</td>\n",
       "      <td>0.360689</td>\n",
       "      <td>0.413484</td>\n",
       "      <td>0.188799</td>\n",
       "    </tr>\n",
       "    <tr>\n",
       "      <th>max</th>\n",
       "      <td>0.470588</td>\n",
       "      <td>0.459259</td>\n",
       "      <td>0.490323</td>\n",
       "      <td>0.509804</td>\n",
       "      <td>0.358974</td>\n",
       "    </tr>\n",
       "  </tbody>\n",
       "</table>\n",
       "</div>"
      ],
      "text/plain": [
       "       f_rouge_1_T5  f_rouge_1_BERT  f_rouge_1_GPT  f_rouge_1_DistilBERT  \\\n",
       "count     27.000000       27.000000      27.000000             27.000000   \n",
       "mean       0.286788        0.296742       0.307851              0.338024   \n",
       "std        0.079145        0.083674       0.078272              0.088610   \n",
       "min        0.126316        0.148148       0.197183              0.217949   \n",
       "25%        0.246244        0.233012       0.247640              0.278359   \n",
       "50%        0.280255        0.285714       0.293333              0.305882   \n",
       "75%        0.336992        0.346656       0.360689              0.413484   \n",
       "max        0.470588        0.459259       0.490323              0.509804   \n",
       "\n",
       "       f_rouge_1_GPT2  \n",
       "count       27.000000  \n",
       "mean         0.174475  \n",
       "std          0.045971  \n",
       "min          0.112676  \n",
       "25%          0.148360  \n",
       "50%          0.166667  \n",
       "75%          0.188799  \n",
       "max          0.358974  "
      ]
     },
     "execution_count": 76,
     "metadata": {},
     "output_type": "execute_result"
    }
   ],
   "source": [
    "# Statistical info of df\n",
    "\n",
    "df.describe()"
   ]
  },
  {
   "cell_type": "code",
   "execution_count": 77,
   "id": "cbf22d08",
   "metadata": {},
   "outputs": [],
   "source": [
    "# Import libraries for visualization\n",
    "\n",
    "import seaborn as sns\n",
    "import matplotlib.pyplot as plt"
   ]
  },
  {
   "cell_type": "code",
   "execution_count": 78,
   "id": "4ed3aa4b",
   "metadata": {},
   "outputs": [
    {
     "data": {
      "text/plain": [
       "(array([0, 1, 2, 3, 4]),\n",
       " [Text(0, 0, 'f_rouge_1_T5'),\n",
       "  Text(1, 0, 'f_rouge_1_BERT'),\n",
       "  Text(2, 0, 'f_rouge_1_GPT'),\n",
       "  Text(3, 0, 'f_rouge_1_DistilBERT'),\n",
       "  Text(4, 0, 'f_rouge_1_GPT2')])"
      ]
     },
     "execution_count": 78,
     "metadata": {},
     "output_type": "execute_result"
    },
    {
     "data": {
      "image/png": "[encoded data removed]",
      "text/plain": [
       "<Figure size 1000x300 with 1 Axes>"
      ]
     },
     "metadata": {},
     "output_type": "display_data"
    }
   ],
   "source": [
    "# Create a boxplot for different methods\n",
    "\n",
    "plt.figure(figsize=(10, 3))\n",
    "sns.boxplot(data=df, palette='rainbow')\n",
    "plt.xticks(rotation=45)"
   ]
  },
  {
   "cell_type": "code",
   "execution_count": 79,
   "id": "82c0132c",
   "metadata": {},
   "outputs": [],
   "source": [
    "# df.to_csv('df_Hybrid.csv',index=False)"
   ]
  },
  {
   "cell_type": "code",
   "execution_count": 80,
   "id": "1e91a45e",
   "metadata": {},
   "outputs": [],
   "source": [
    "df1 = pd.read_csv('df_Ex.csv')\n",
    "df2 = pd.read_csv('df_Abs.csv')\n",
    "df3 = pd.read_csv('df_Hybrid.csv')"
   ]
  },
  {
   "cell_type": "code",
   "execution_count": 81,
   "id": "014adfdd",
   "metadata": {},
   "outputs": [
    {
     "data": {
      "text/plain": [
       "Index(['f_rouge_1_LexRank', 'f_rouge_1_Lsa', 'f_rouge_1_TextRank',\n",
       "       'f_rouge_1_Luhn'],\n",
       "      dtype='object')"
      ]
     },
     "execution_count": 81,
     "metadata": {},
     "output_type": "execute_result"
    }
   ],
   "source": [
    "df1.columns"
   ]
  },
  {
   "cell_type": "code",
   "execution_count": 82,
   "id": "50f78dd2",
   "metadata": {},
   "outputs": [
    {
     "data": {
      "image/png": "[encoded data removed]",
      "text/plain": [
       "<Figure size 1000x500 with 3 Axes>"
      ]
     },
     "metadata": {},
     "output_type": "display_data"
    }
   ],
   "source": [
    "# Create a figure and subplots with a 1-row, 3-column grid\n",
    "fig, axes = plt.subplots(nrows=1, ncols=3, figsize=(10, 5))\n",
    "\n",
    "\n",
    "# Set the y-axis limits for all subplots\n",
    "ymin = 0  # Specify the desired minimum y-axis value\n",
    "ymax = 0.5   # Specify the desired maximum y-axis value \n",
    "\n",
    "# Plot the boxplots on each subplot\n",
    "x1labels =['LexRank','LSA','TextRank','Luhn']\n",
    "axes[0].boxplot(df1,labels=x1labels)\n",
    "axes[0].set_title('Extractive')\n",
    "axes[0].set_ylim(ymin, ymax)  # Set the y-axis limits\n",
    "\n",
    "x2labels =['T5','BERT','GPT','DistilBERT','GPT2']\n",
    "axes[1].boxplot(df2,labels=x2labels)\n",
    "axes[1].set_title('Abstractive')\n",
    "axes[1].set_ylim(ymin, ymax)  # Set the y-axis limits\n",
    "\n",
    "x3labels =['T5','BERT','GPT','DistilBERT','GPT2']\n",
    "axes[2].boxplot(df3,labels=x3labels)\n",
    "axes[2].set_title('Hybrid')\n",
    "axes[2].set_ylim(ymin, ymax)  # Set the y-axis limits\n",
    "\n",
    "\n",
    "# Adjust spacing between subplots\n",
    "plt.tight_layout()\n",
    "\n",
    "# Display the plot\n",
    "plt.show()\n"
   ]
  },
  {
   "cell_type": "code",
   "execution_count": null,
   "id": "dc76dea2",
   "metadata": {},
   "outputs": [],
   "source": []
  }
 ],
 "metadata": {
  "kernelspec": {
   "display_name": "Python 3 (ipykernel)",
   "language": "python",
   "name": "python3"
  },
  "language_info": {
   "codemirror_mode": {
    "name": "ipython",
    "version": 3
   },
   "file_extension": ".py",
   "mimetype": "text/x-python",
   "name": "python",
   "nbconvert_exporter": "python",
   "pygments_lexer": "ipython3",
   "version": "3.11.3"
  }
 },
 "nbformat": 4,
 "nbformat_minor": 5
}
